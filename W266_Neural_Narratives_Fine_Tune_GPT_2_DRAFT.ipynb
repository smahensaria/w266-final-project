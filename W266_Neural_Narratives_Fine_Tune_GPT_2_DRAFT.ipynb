{
  "nbformat": 4,
  "nbformat_minor": 0,
  "metadata": {
    "colab": {
      "name": "W266-Neural-Narratives-Fine-Tune-GPT-2-DRAFT",
      "provenance": [],
      "collapsed_sections": [],
      "include_colab_link": true
    },
    "kernelspec": {
      "name": "python3",
      "display_name": "Python 3"
    },
    "accelerator": "GPU"
  },
  "cells": [
    {
      "cell_type": "markdown",
      "metadata": {
        "id": "view-in-github",
        "colab_type": "text"
      },
      "source": [
        "<a href=\"https://colab.research.google.com/github/smahensaria/w266-final-project/blob/main/W266_Neural_Narratives_Fine_Tune_GPT_2_DRAFT.ipynb\" target=\"_parent\"><img src=\"https://colab.research.google.com/assets/colab-badge.svg\" alt=\"Open In Colab\"/></a>"
      ]
    },
    {
      "cell_type": "markdown",
      "metadata": {
        "id": "H7LoMj4GA4n_"
      },
      "source": [
        "#  Fine-tune a GPT-2 Model\n",
        "\n",
        "Sample Code Credit [gpt-2-simple](https://colab.research.google.com/drive/1VLG8e7YSEwypxU-noRNhsv5dW4NfTGce) by [Max Woolf](https://minimaxir.com/2019/09/howto-gpt2/) \n",
        "\n"
      ]
    },
    {
      "cell_type": "code",
      "metadata": {
        "id": "KBkpRgBCBS2_",
        "colab": {
          "base_uri": "https://localhost:8080/"
        },
        "outputId": "d5fab209-ecd3-45a4-f08a-1c0fd4ccc7ca"
      },
      "source": [
        "%tensorflow_version 1.x\n",
        "!pip install -q gpt-2-simple\n",
        "import gpt_2_simple as gpt2\n",
        "from datetime import datetime\n",
        "from google.colab import files"
      ],
      "execution_count": 1,
      "outputs": [
        {
          "output_type": "stream",
          "text": [
            "TensorFlow 1.x selected.\n",
            "  Building wheel for gpt-2-simple (setup.py) ... \u001b[?25l\u001b[?25hdone\n",
            "WARNING:tensorflow:\n",
            "The TensorFlow contrib module will not be included in TensorFlow 2.0.\n",
            "For more information, please see:\n",
            "  * https://github.com/tensorflow/community/blob/master/rfcs/20180907-contrib-sunset.md\n",
            "  * https://github.com/tensorflow/addons\n",
            "  * https://github.com/tensorflow/io (for I/O related ops)\n",
            "If you depend on functionality not listed there, please file an issue.\n",
            "\n"
          ],
          "name": "stdout"
        }
      ]
    },
    {
      "cell_type": "markdown",
      "metadata": {
        "id": "Bj2IJLHP3KwE"
      },
      "source": [
        "## GPU\n",
        "\n",
        "Colaboratory uses either a Nvidia T4 GPU or an Nvidia K80 GPU. The T4 is slightly faster than the old K80 for training GPT-2, and has more memory allowing you to train the larger GPT-2 models and generate more text.\n",
        "\n",
        "You can verify which GPU is active by running the cell below."
      ]
    },
    {
      "cell_type": "code",
      "metadata": {
        "id": "sUmTooTW3osf",
        "colab": {
          "base_uri": "https://localhost:8080/"
        },
        "outputId": "683c8d03-3eaa-40ff-f11d-80063b820675"
      },
      "source": [
        "!nvidia-smi"
      ],
      "execution_count": 2,
      "outputs": [
        {
          "output_type": "stream",
          "text": [
            "Mon Jul 12 02:28:48 2021       \n",
            "+-----------------------------------------------------------------------------+\n",
            "| NVIDIA-SMI 470.42.01    Driver Version: 460.32.03    CUDA Version: 11.2     |\n",
            "|-------------------------------+----------------------+----------------------+\n",
            "| GPU  Name        Persistence-M| Bus-Id        Disp.A | Volatile Uncorr. ECC |\n",
            "| Fan  Temp  Perf  Pwr:Usage/Cap|         Memory-Usage | GPU-Util  Compute M. |\n",
            "|                               |                      |               MIG M. |\n",
            "|===============================+======================+======================|\n",
            "|   0  Tesla T4            Off  | 00000000:00:04.0 Off |                    0 |\n",
            "| N/A   55C    P8    11W /  70W |      0MiB / 15109MiB |      0%      Default |\n",
            "|                               |                      |                  N/A |\n",
            "+-------------------------------+----------------------+----------------------+\n",
            "                                                                               \n",
            "+-----------------------------------------------------------------------------+\n",
            "| Processes:                                                                  |\n",
            "|  GPU   GI   CI        PID   Type   Process name                  GPU Memory |\n",
            "|        ID   ID                                                   Usage      |\n",
            "|=============================================================================|\n",
            "|  No running processes found                                                 |\n",
            "+-----------------------------------------------------------------------------+\n"
          ],
          "name": "stdout"
        }
      ]
    },
    {
      "cell_type": "markdown",
      "metadata": {
        "id": "0wXB05bPDYxS"
      },
      "source": [
        "## Downloading GPT-2\n",
        "\n",
        "If you're retraining a model on new text, you need to download the GPT-2 model first. \n",
        "\n",
        "There are three released sizes of GPT-2:\n",
        "\n",
        "* `124M` (default): the \"small\" model, 500MB on disk.\n",
        "* `355M`: the \"medium\" model, 1.5GB on disk.\n",
        "* `774M`: the \"large\" model, cannot currently be finetuned with Colaboratory but can be used to generate text from the pretrained model (see later in Notebook)\n",
        "* `1558M`: the \"extra large\", true model. Will not work if a K80/P4 GPU is attached to the notebook. (like `774M`, it cannot be finetuned).\n",
        "\n",
        "Larger models have more knowledge, but take longer to finetune and longer to generate text. You can specify which base model to use by changing `model_name` in the cells below.\n",
        "\n",
        "The next cell downloads it from Google Cloud Storage and saves it in the Colaboratory VM at `/models/<model_name>`.\n",
        "\n",
        "This model isn't permanently saved in the Colaboratory VM; you'll have to redownload it if you want to retrain it at a later time."
      ]
    },
    {
      "cell_type": "code",
      "metadata": {
        "id": "P8wSlgXoDPCR",
        "colab": {
          "base_uri": "https://localhost:8080/"
        },
        "outputId": "2ef081bb-a7c4-4cdd-ee15-498cfdcab63e"
      },
      "source": [
        "gpt2.download_gpt2(model_name=\"124M\")"
      ],
      "execution_count": 3,
      "outputs": [
        {
          "output_type": "stream",
          "text": [
            "Fetching checkpoint: 1.05Mit [00:00, 483Mit/s]                                                      \n",
            "Fetching encoder.json: 1.05Mit [00:00, 3.53Mit/s]\n",
            "Fetching hparams.json: 1.05Mit [00:00, 291Mit/s]                                                    \n",
            "Fetching model.ckpt.data-00000-of-00001: 498Mit [00:14, 33.7Mit/s]                                  \n",
            "Fetching model.ckpt.index: 1.05Mit [00:00, 309Mit/s]                                                \n",
            "Fetching model.ckpt.meta: 1.05Mit [00:00, 4.15Mit/s]\n",
            "Fetching vocab.bpe: 1.05Mit [00:00, 3.89Mit/s]\n"
          ],
          "name": "stderr"
        }
      ]
    },
    {
      "cell_type": "markdown",
      "metadata": {
        "id": "N8KXuKWzQSsN"
      },
      "source": [
        "## Mounting Google Drive\n",
        "\n",
        "The best way to get input text to-be-trained into the Colaboratory VM, and to get the trained model *out* of Colaboratory, is to route it through Google Drive *first*.\n",
        "\n",
        "Running this cell (which will only work in Colaboratory) will mount your personal Google Drive in the VM, which later cells can use to get data in/out. (it will ask for an auth code; that auth is not saved anywhere)"
      ]
    },
    {
      "cell_type": "code",
      "metadata": {
        "id": "puq4iC6vUAHc",
        "colab": {
          "base_uri": "https://localhost:8080/"
        },
        "outputId": "4f1b4ed1-4689-47c5-f727-6d49f76e5371"
      },
      "source": [
        "gpt2.mount_gdrive()"
      ],
      "execution_count": null,
      "outputs": [
        {
          "output_type": "stream",
          "text": [
            "Mounted at /content/drive\n"
          ],
          "name": "stdout"
        }
      ]
    },
    {
      "cell_type": "markdown",
      "metadata": {
        "id": "BT__brhBCvJu"
      },
      "source": [
        "## Uploading a Text File to be Trained to Colaboratory\n",
        "\n",
        "In the Colaboratory Notebook sidebar on the left of the screen, select *Files*. From there you can upload files:\n",
        "\n",
        "Using \"VIST_sis_train.txt\" generated in [W266-Neural-Narratives-Using-GPT-2-DRAFT.ipynb](https://github.com/smahensaria/w266-final-project/blob/main/W266-Neural-Narratives-Using-GPT-2-DRAFT.ipynb) "
      ]
    },
    {
      "cell_type": "code",
      "metadata": {
        "id": "6OFnPCLADfll"
      },
      "source": [
        "file_name = \"VIST_sis_train.txt\" "
      ],
      "execution_count": null,
      "outputs": []
    },
    {
      "cell_type": "markdown",
      "metadata": {
        "id": "HeeSKtNWUedE"
      },
      "source": [
        "If your text file is larger than 10MB, it is recommended to upload that file to Google Drive first, then copy that file from Google Drive to the Colaboratory VM."
      ]
    },
    {
      "cell_type": "code",
      "metadata": {
        "id": "-Z6okFD8VKtS"
      },
      "source": [
        "gpt2.copy_file_from_gdrive(file_name)"
      ],
      "execution_count": null,
      "outputs": []
    },
    {
      "cell_type": "markdown",
      "metadata": {
        "id": "LdpZQXknFNY3"
      },
      "source": [
        "## Finetune GPT-2\n",
        "\n",
        "The next cell will start the actual finetuning of GPT-2. It creates a persistent TensorFlow session which stores the training config, then runs the training for the specified number of `steps`. (to have the finetuning run indefinitely, set `steps = -1`)\n",
        "\n",
        "The model checkpoints will be saved in `/checkpoint/run1` by default. The checkpoints are saved every 500 steps (can be changed) and when the cell is stopped.\n",
        "\n",
        "The training might time out after 4ish hours; make sure you end training and save the results so you don't lose them!\n",
        "\n",
        "**IMPORTANT NOTE:** If you want to rerun this cell, **restart the VM first** (Runtime -> Restart Runtime). You will need to rerun imports but not recopy files.\n",
        "\n",
        "Other optional-but-helpful parameters for `gpt2.finetune`:\n",
        "\n",
        "\n",
        "*  **`restore_from`**: Set to `fresh` to start training from the base GPT-2, or set to `latest` to restart training from an existing checkpoint.\n",
        "* **`sample_every`**: Number of steps to print example output\n",
        "* **`print_every`**: Number of steps to print training progress.\n",
        "* **`learning_rate`**:  Learning rate for the training. (default `1e-4`, can lower to `1e-5` if you have <1MB input data)\n",
        "*  **`run_name`**: subfolder within `checkpoint` to save the model. This is useful if you want to work with multiple models (will also need to specify  `run_name` when loading the model)\n",
        "* **`overwrite`**: Set to `True` if you want to continue finetuning an existing model (w/ `restore_from='latest'`) without creating duplicate copies. "
      ]
    },
    {
      "cell_type": "code",
      "metadata": {
        "id": "aeXshJM-Cuaf",
        "colab": {
          "base_uri": "https://localhost:8080/"
        },
        "outputId": "4e7e056d-94cb-43bc-b968-14d73732e008"
      },
      "source": [
        "sess = gpt2.start_tf_sess()\n",
        "\n",
        "gpt2.finetune(sess,\n",
        "              dataset=file_name,\n",
        "              model_name='124M',\n",
        "              steps=1000,\n",
        "              restore_from='fresh',\n",
        "              run_name='run1',\n",
        "              print_every=10,\n",
        "              sample_every=200,\n",
        "              save_every=500\n",
        "              )"
      ],
      "execution_count": null,
      "outputs": [
        {
          "output_type": "stream",
          "text": [
            "WARNING:tensorflow:From /usr/local/lib/python3.7/dist-packages/gpt_2_simple/src/sample.py:17: where (from tensorflow.python.ops.array_ops) is deprecated and will be removed in a future version.\n",
            "Instructions for updating:\n",
            "Use tf.where in 2.0, which has the same broadcast rule as np.where\n",
            "Loading checkpoint models/124M/model.ckpt\n",
            "INFO:tensorflow:Restoring parameters from models/124M/model.ckpt\n"
          ],
          "name": "stdout"
        },
        {
          "output_type": "stream",
          "text": [
            "\r  0%|          | 0/1 [00:00<?, ?it/s]"
          ],
          "name": "stderr"
        },
        {
          "output_type": "stream",
          "text": [
            "Loading dataset...\n"
          ],
          "name": "stdout"
        },
        {
          "output_type": "stream",
          "text": [
            "100%|██████████| 1/1 [00:11<00:00, 11.19s/it]\n"
          ],
          "name": "stderr"
        },
        {
          "output_type": "stream",
          "text": [
            "dataset has 2402710 tokens\n",
            "Training...\n",
            "[10 | 27.96] loss=3.31 avg=3.31\n",
            "[20 | 50.10] loss=3.29 avg=3.30\n",
            "[30 | 72.70] loss=3.22 avg=3.27\n",
            "[40 | 95.87] loss=3.14 avg=3.24\n",
            "[50 | 119.68] loss=3.27 avg=3.25\n",
            "[60 | 143.25] loss=3.21 avg=3.24\n",
            "[70 | 166.55] loss=3.26 avg=3.24\n",
            "[80 | 189.97] loss=3.14 avg=3.23\n",
            "[90 | 213.54] loss=3.14 avg=3.22\n",
            "[100 | 237.08] loss=3.18 avg=3.21\n",
            "[110 | 260.56] loss=3.26 avg=3.22\n",
            "[120 | 284.01] loss=3.04 avg=3.20\n",
            "[130 | 307.49] loss=3.22 avg=3.20\n",
            "[140 | 331.03] loss=3.14 avg=3.20\n",
            "[150 | 354.54] loss=3.15 avg=3.20\n",
            "[160 | 378.07] loss=2.93 avg=3.18\n",
            "[170 | 401.61] loss=3.01 avg=3.17\n",
            "[180 | 425.18] loss=3.11 avg=3.16\n",
            "[190 | 448.72] loss=3.16 avg=3.16\n",
            "[200 | 472.25] loss=3.09 avg=3.16\n",
            "======== SAMPLE 1 ========\n",
            " .the band played their first set and we all relaxed .my friend really liked it in the end .my girlfriend was even more so than me .i went to the show to catch my friends dancing as they danced .they were getting pretty silly though so i played a few of my first shows .[female] was the happiest when she danced with her boyfriend .at the end of the night it was my friend's turn .they have a show together and i was going to take care of them there . i ca n't wait ![female] is excited to meet her new friend .as the band plays , the guy in the lead sings to her .[female] is excited to meet her next new friend .after their show everyone is dancing together .somebody in the audience is dancing and talking and dancing .this little sister of mine was very happy to see my new friends .i got to meet all of my new friends today .my friends all had a great time watching the show .there was a lot of dancing too .[female] was nervous to be there .my first dance party and it was [female] 's turn .there was dancing all night long .i got so excited for my upcoming dance party that i forgot my shirt .we ended up dancing around the table .the party was exciting and fun .the ladies were really funny .the night was a bit wild for some people though .i was really nervous .here 's the party going on my birthday today .my friends and i get together every year .[female] is doing a good job .it 's my birthday party and it is such an awesome day .[female] is very sad .[male] is the best guy in the room .these are my friends that i hang out with .after we get to the party i go in my clothes and do some dancing .this is my best friend . she wears a mask !we had great dancing tonight .i ended up taking all of the food in the food truck .finally , i got home from my day of having dinner and i take off on this hot day . i wanted to head back home .[female] 's birthday was so much fun .we had a great time together .my friends and i went to a birthday party for our parents .the first girl to arrive had a very big smile on her face .next up was my best friend .then my best friend , i went in the shower .my parents and i decided to get married .it was a big day for us .here they are outside and we get dressed in costumes .i put on a great costume .it was a little overwhelming looking from here , but this guy was a very nice guy .my great great aunt and uncle just sat there .this group of friends decided to see the big show .they had fun .then they went down to the beach .then on their honeymoon they went camping .today we had a birthday party for everyone .we had dinner with some of the kids .then the kids all gathered for some fun dancing .it was a great day for the family .the birthday cake we got was very cute .i love my birthday cake : it looks delicious .it was an amazing cake !the boys came over .they were all smiling ![female] was excited .even my brother was happy .it was a very happy day . i wish [male] everything his life .there was a party for my brother [male] .one of the guys was dressed as a robot .while [male] was in a robot , his sister was dressed as a dog .i came early next year to attend the opening rehearsal .i went to get all of the materials for the lighting and for the costume .the room looked like it had been set in a big building .the floor had a lovely design .the lighting seemed to be coming from a small building .after the lighting i went to my mom's house to get some food .we were all ready for it to start .it was a big party .there were a lot of kids .the food was very good .we ended up having a lot of fun .we were all together to make sure everything was safe .at one point it became quite impossible to get the food out after all , since it had fallen into the water .and i had to go back into the water to make some more food while the rain was still going on .when the rain stops raining , our house gets wet for everyone .we all started our trip from another city .people were coming from all over the world , looking for new places to stay .we arrived early .after a couple more hours we headed back to the hotel . we were having a lot of fun but still had a lot of rain .it was snowing in the valley .there 's some very cool snow everywhere and snow really did n't stop us .[male] and [male] decided to snow pack , because they were feeling the cold .but they are ready for it and ready to go .\n",
            "\n",
            "[210 | 505.87] loss=3.09 avg=3.16\n",
            "[220 | 529.41] loss=3.06 avg=3.15\n",
            "[230 | 552.94] loss=3.05 avg=3.15\n",
            "[240 | 576.49] loss=3.19 avg=3.15\n",
            "[250 | 600.03] loss=2.99 avg=3.14\n",
            "[260 | 623.59] loss=3.04 avg=3.14\n",
            "[270 | 647.13] loss=3.01 avg=3.13\n",
            "[280 | 670.67] loss=3.05 avg=3.13\n",
            "[290 | 694.19] loss=2.95 avg=3.12\n",
            "[300 | 717.71] loss=3.11 avg=3.12\n",
            "[310 | 741.22] loss=3.07 avg=3.12\n",
            "[320 | 764.75] loss=3.00 avg=3.12\n",
            "[330 | 788.22] loss=3.05 avg=3.11\n",
            "[340 | 811.77] loss=2.88 avg=3.10\n",
            "[350 | 835.34] loss=2.92 avg=3.10\n",
            "[360 | 858.86] loss=2.88 avg=3.09\n",
            "[370 | 882.32] loss=3.06 avg=3.09\n",
            "[380 | 905.78] loss=2.96 avg=3.09\n",
            "[390 | 929.32] loss=3.02 avg=3.08\n",
            "[400 | 952.87] loss=3.01 avg=3.08\n",
            "======== SAMPLE 1 ========\n",
            " the whole family was there .we even got ready for the barbecue tonight .we had a great meal and lots of fun .we got ready for the end of the night , so we made some food .we had our first night of the barbecue party .i saw a little bit of meat , but there was nothing i wanted .this is the best dish .we are ready to go out to eat .the entire family went out for [male] 's birthday party .he started off with a burger .next up was [male] 's favorite burger .there were some really big burgers , but they looked delicious .the party was taking place in the dining area .there was a little burger , but no cheese !the party is getting started on a nice day .a bunch of people are ready to go outside .two folks wait on the grill .the cook out with the family starts and the kids had fun .we get ready to go out the back door .everyone is having some fun .we got the kids together for the birthday and we took them outside .they had so much fun being so much fun .[male] is getting ready for his family reunion .the family gets ready for the party after a long day .everyone has gathered out for a night of fun .they all gathered together at the kitchen table and made a dinner .they had fun hanging out together .they talked and smoked a bit of chips .the two girls had fun laughing .the girls are getting ready for their [male] 's birthday party .they start off having a good time with food .they look at the pictures on the wall .then they do some poses .then they go to their favorite snack .they decide to go outside to eat and all get started .[male] was going out to do something for his friends tonight . he took one picture of a hamburger .this is the best picture . he 's done for this . the best picture . i guess he 's been doing everything since he 's been a little older .dad took a picture of [male] posing with a burger .the guys got a little silly about going out . they just hung out and enjoyed each other 's company .[male] wanted to take a picture with [male] .so he took a lot of pictures of all the others . [male] enjoyed posing with his friend .the girls went to the house together so they could make a wish .they all took the chance to try on different outfits and were really excited to try on all the outfits .they even got a photo in the bathroom to remember the day of the party .we went out to a restaurant with [male] .we took him out to the party .we bought the steak they wanted .the girls were so excited for her .they made her a cake .she had so much fun .we ended up winning her a little cake .we are always going for the best .the boys went with the girl , which was a little too big .she got so little cake and ate it all .there were many people on our way up because all the people were not having fun .we met some of the new friends and they helped us through the day .the boys enjoyed going out to try a dress up .it was a nice night out with friends .then we drank a bit of orange .we went to the bar to get some food .we all had fun drinking and having a good time .we did find some of the guys at their table .later , we had a lot of pictures .the birthday party was a good one .the girls all looked like they were going to be so drunk .here 's the last picture of all of the characters . it was fun for us .we had a great time playing music .we got some food just for the party .the girls had fun having fun with each other .it was a nice party party with a great food for everyone .my friends and i did n't arrive till it was time to cook the food for the party .we set the table so the rest of us could get our drinks .everybody had a great time .the party started with some friends and some drinks .the girls dressed up at the entrance and headed to look out the window .they made the best impression for each other after the party that they had been waiting for .[female] and i 's date was having a drink and the drinks began .she began laughing as the drinks were poured .the party ended with their favorite drink , orange .[male] had a great time and did not give up until .the night started to get darker when it became dark .she did her best .the night was almost over after the party ended .they got to the party and took pictures .[male] , [female] , and [male] were drinking .she posed on her birthday cake that night .she had made a wish for her friends to come .[female] wanted to take a picture with her friends .the birthday party party was fun and all the\n",
            "\n",
            "[410 | 985.45] loss=2.89 avg=3.08\n",
            "[420 | 1008.95] loss=2.82 avg=3.07\n",
            "[430 | 1032.41] loss=2.95 avg=3.07\n",
            "[440 | 1055.94] loss=2.90 avg=3.06\n",
            "[450 | 1079.47] loss=2.86 avg=3.05\n",
            "[460 | 1103.04] loss=3.02 avg=3.05\n",
            "[470 | 1126.58] loss=2.89 avg=3.05\n",
            "[480 | 1150.11] loss=2.95 avg=3.05\n",
            "[490 | 1173.63] loss=3.06 avg=3.05\n",
            "[500 | 1197.15] loss=3.06 avg=3.05\n",
            "Saving checkpoint/run1/model-500\n",
            "[510 | 1223.48] loss=3.05 avg=3.05\n",
            "[520 | 1247.04] loss=2.74 avg=3.04\n",
            "[530 | 1270.59] loss=3.01 avg=3.04\n",
            "[540 | 1294.09] loss=2.99 avg=3.04\n",
            "[550 | 1317.55] loss=2.89 avg=3.03\n",
            "[560 | 1341.05] loss=2.92 avg=3.03\n",
            "[570 | 1364.59] loss=2.99 avg=3.03\n",
            "[580 | 1388.13] loss=2.88 avg=3.03\n",
            "[590 | 1411.67] loss=2.84 avg=3.02\n",
            "[600 | 1435.21] loss=2.89 avg=3.02\n",
            "======== SAMPLE 1 ========\n",
            " done .we all got to hang out and drink .there was a lot of food so we all had a good time .[male] was getting tired and had to go back to work .i went back to work late last week because my team had a hard time .i took out all my documents .i spent most of the time taking pictures at my desk .one of my coworkers was getting ready to leave for work .[male] looked a bit annoyed by my work . he did n't want to be known .our team went to the store to get some beer and drinks .everyone got together to have a few beers .the first drink was a black and white , a red one .others were vodka , but this was what everyone ate .we enjoyed this beer as much as the next drink .we had to go home . we had to drink so much .there was a huge crowd outside during our work daywe all got to hang out together .all of us enjoyed some food .i was glad i could get out of that time wasted .the night was finally over and we were off to our first day at work .the crowd gathered to cheer us on .there was nothing better than a job well done .a lot of the food was good and the drinks were good .people enjoyed it .there were also snacks and drinks for everyone to enjoy it .we ended the night with a photo nap .we were n't sure what we were eating , but we were happy that we ate all of it .we loved our day at the office today .we spent a lot of time at the cafeteria .there were many employees there and people were hungry .it was good to see everyone had a good time .we got to go to the cafeteria to eat today and everyone loved it .we were very busy , it was all around us ,but everyone was glad everyone had a good day .the people were getting restlessas a crowd gathered .they tried a variety of foodsbefore they relaxed to eat .everyone enjoyed it as well and they enjoyed it the most .at the office , we all had a good time .i got to sit at my desk and talk with my coworkers .they were really nice .here was our favorite co at the office .they had the best work day of my life .we all decided to eat our dessert while on vacation .we went to location location , location ,and my first stop was this restaurant .after eating we noticed that this was the second drive in , location location .we had to stop and look around because we were too busy .the food in the restaurant was delicious .my favorite was my steak .after the food we went out to lunch .we went to the town yesterday and decided to spend the night at a hotel .there was nothing but a large window near the hotel 's entrance .in the morning we were very hungry , so we began to leave the hotel early .by the time we arrived we were still hungry but decided to wait until sunday because it might be the best day yet .overall it looks pretty clean inside , but there are some noticeable signs of a few people inside .you can see a lot of windows but not all are as well painted as we were .my husband had a great work day .we went to location .we decided to go to a restaurant .our first stop was their fried tofu .they had many other things , such as this .we went to lunch with a few of our family members .after lunch we went back to the hotel to watch the news .it is time to eat .today was the day we went to a conference .even the chairs were empty .the tables were set up to be used .the speaker set the pace for the party .when i finished i felt well rested and ready to go .my coworkers and we went to an upcoming conference .there were lots of interesting questions asked .the speaker was very interesting .the questions were very intelligent .i was really tired .last night i met up with friends and we went to the german conference .everyone listened attentively .at the end of the conference , people were having a blast .here is [male] [male] [male] ... i 'm glad i got off my computer .[male] [male] [male] was at a conference .at the end of the conference everyone was having a lot of fun .[male] [male] was giving his first presentation .his co-worker [female] was also at the event .[female] [female] was the presenter from the meeting to the presenter , .there is much that is going on at the conference on laptops .one day we will see new information on laptops and gadgets , what a wonderful experience .finally it is time for a break , and we just relaxed and watched tv .we were having a great time at the cafe yesterday .we had a lot of fun talking with eachother .everyone was very excited to meet new people .some people were not so happy about being there .some people were having a good\n",
            "\n",
            "[610 | 1467.83] loss=2.83 avg=3.02\n",
            "[620 | 1491.31] loss=2.91 avg=3.01\n",
            "[630 | 1514.77] loss=2.93 avg=3.01\n",
            "[640 | 1538.28] loss=2.85 avg=3.01\n",
            "[650 | 1561.83] loss=2.86 avg=3.01\n",
            "[660 | 1585.35] loss=2.78 avg=3.00\n",
            "[670 | 1608.89] loss=2.87 avg=3.00\n",
            "[680 | 1632.46] loss=2.83 avg=3.00\n",
            "[690 | 1656.01] loss=2.98 avg=2.99\n",
            "[700 | 1679.55] loss=2.78 avg=2.99\n",
            "[710 | 1703.11] loss=2.86 avg=2.99\n",
            "[720 | 1726.64] loss=2.96 avg=2.99\n",
            "[730 | 1750.16] loss=2.86 avg=2.98\n",
            "[740 | 1773.66] loss=2.90 avg=2.98\n",
            "[750 | 1797.14] loss=2.92 avg=2.98\n",
            "[760 | 1820.64] loss=2.79 avg=2.98\n",
            "[770 | 1844.10] loss=2.80 avg=2.98\n",
            "[780 | 1867.57] loss=3.01 avg=2.98\n",
            "[790 | 1891.11] loss=2.70 avg=2.97\n",
            "[800 | 1914.63] loss=2.89 avg=2.97\n",
            "======== SAMPLE 1 ========\n",
            " spring .even one of the children in the family had a great time .the children 's teacher was very gracious and kind .they even had a beautiful view .afterward they had a party , where they enjoyed themselves .they 're siblings are in their 30s and both are having a great time .this is my son .he enjoys his family , especially his wife .it was a good day of photos .we had a great time . he is happy now .i met her and talked to her about the night .a lot of family is coming to see our son .he is an amazing person .the whole family came out to see him .the kids are very excited .afterwards we all enjoyed ourselves and had a great time .the family is getting ready for a special day .my daughter is all dressed up and happy for her birthday .the boys are having a lot of fun playing on the merry-go-round .the two of them even pose for a picture .the girls pose on a nice picnic towel to get a picture .after that they decide to pose on the car to get pictures with the family .our family gathering started with a party that my cousin was having .the food , drinks , and jokes were great .i had a great meal that was delicious !they ended the night with a lovely game of chess .it was my uncle [male] 's birthday .he was excited to be celebrating with his buddies and having his cake .he was really interested in the food and thought he was an expert on it .his wife took a picture with him , and he wanted the picture for his birthday party .everyone wanted to give as well , but after dinner , he decided to eat a cake .we had a big family dinner at a local restaurant .everybody was really eager to eat , all of a sudden they all exploded !i really like the way he gave my aunt a toast .she looked around as he ate .all of my friends sat at the table .at the end of the dinner , we all enjoyed some delicious food .grandma is a long time friend of mine .all of the family had a nice time and enjoyed the meal .everyone was having a great time .everyone was enjoying eating .afterward everyone tried to leave .the family decided to spend the day outside .everybody had a great time and all had a great time .the day was long but it was delicious .afterwards the food was eaten .the family was out for pizza today .here is my dad .his girlfriend is very happy for him .his daughter is still very happy to be there .these ladies are having a good time .a pizza is getting made and ready to eat .look at her friends .these ladies like it great and they want to go after the food .what a wonderful meal these women had tonight .here is a picture of our guests .[female] was really excited for her surprise dinner .we had a lot of fun posing for pictures too .she did the best she could with her new face .she really did have a great time .we decided to have a party .i invited all of my friends to the party for some wine .everyone arrived early for the evening .i told them to get on the bed .my sister , i had no idea who they were .they were all very happy to see me .i took a nap .now i can barely contain myself .i took a picture with my friends outside the party .we went to the city to see the location .the architecture was very impressive .there was a lot of seating to get around the venue .my brother had a great time too .the organization is a tourist destination for many people visiting for vacation .the view of location at night makes for great pictures .the location organization is very popular for visiting location .this is a view of an outdoor park .the organization organization is a very popular tourist destination .the new location location is beautiful and exciting .the building has been in the process of renovation .the ceiling beams are well maintained .the walls have been covered with a beautiful paint .the windows are lined with hardwood .location was very beautiful that day .the entrance leading to the famous location and hotel .the view of the city from the hotel where the reception would be held .the lovely white castle that looked like a house would be seen day .on the way back he saw the beautiful view of the city .my apartment was so different than i planned .i wanted to travel the world and buy a lot of furniture and tools .i was really happy that i did .this city was just amazing .i could not be happier .my dream house had just finished renovation .the ceiling on this building is old and sturdy .this has been painted a gold color .the roofline on the building has been completely redone .the staircase leading to the home had been painted a silver color .i did something amazing when i rented this house from a guy i knew .i spent hours decorating this building and it still looked good .i spent hours and hours in the\n",
            "\n",
            "[810 | 1947.21] loss=2.77 avg=2.97\n",
            "[820 | 1970.76] loss=2.87 avg=2.96\n",
            "[830 | 1994.31] loss=2.98 avg=2.96\n",
            "[840 | 2017.83] loss=2.83 avg=2.96\n",
            "[850 | 2041.39] loss=2.88 avg=2.96\n",
            "[860 | 2064.94] loss=2.84 avg=2.96\n",
            "[870 | 2088.48] loss=2.65 avg=2.95\n",
            "[880 | 2112.02] loss=2.72 avg=2.95\n",
            "[890 | 2135.56] loss=2.74 avg=2.95\n",
            "[900 | 2159.10] loss=2.71 avg=2.94\n",
            "[910 | 2182.65] loss=2.69 avg=2.94\n",
            "[920 | 2206.20] loss=2.88 avg=2.94\n",
            "[930 | 2229.75] loss=2.71 avg=2.93\n",
            "[940 | 2253.28] loss=2.65 avg=2.93\n",
            "[950 | 2276.76] loss=2.91 avg=2.93\n",
            "[960 | 2300.25] loss=2.90 avg=2.93\n",
            "[970 | 2323.74] loss=2.80 avg=2.93\n",
            "[980 | 2347.26] loss=2.74 avg=2.92\n",
            "[990 | 2370.77] loss=2.69 avg=2.92\n",
            "[1000 | 2394.32] loss=2.67 avg=2.91\n",
            "Saving checkpoint/run1/model-1000\n",
            "WARNING:tensorflow:From /tensorflow-1.15.2/python3.7/tensorflow_core/python/training/saver.py:963: remove_checkpoint (from tensorflow.python.training.checkpoint_management) is deprecated and will be removed in a future version.\n",
            "Instructions for updating:\n",
            "Use standard file APIs to delete files with this prefix.\n"
          ],
          "name": "stdout"
        }
      ]
    },
    {
      "cell_type": "markdown",
      "metadata": {
        "id": "IXSuTNERaw6K"
      },
      "source": [
        "After the model is trained, you can copy the checkpoint folder to your own Google Drive.\n",
        "\n",
        "If you want to download it to your personal computer, it's strongly recommended you copy it there first, then download from Google Drive. The checkpoint folder is copied as a `.rar` compressed file; you can download it and uncompress it locally."
      ]
    },
    {
      "cell_type": "code",
      "metadata": {
        "id": "VHdTL8NDbAh3"
      },
      "source": [
        "gpt2.copy_checkpoint_to_gdrive(run_name='run1')"
      ],
      "execution_count": null,
      "outputs": []
    },
    {
      "cell_type": "markdown",
      "metadata": {
        "id": "qQJgV_b4bmzd"
      },
      "source": [
        "You're done! Feel free to go to the **Generate Text From The Trained Model** section to generate text based on your retrained model."
      ]
    },
    {
      "cell_type": "markdown",
      "metadata": {
        "id": "pel-uBULXO2L"
      },
      "source": [
        "## Load a Trained Model Checkpoint\n",
        "\n",
        "Running the next cell will copy the `.rar` checkpoint file from your Google Drive into the Colaboratory VM."
      ]
    },
    {
      "cell_type": "code",
      "metadata": {
        "id": "DCcx5u7sbPTD"
      },
      "source": [
        "gpt2.copy_checkpoint_from_gdrive(run_name='run1')"
      ],
      "execution_count": null,
      "outputs": []
    },
    {
      "cell_type": "markdown",
      "metadata": {
        "id": "RTa6zf3e_9gV"
      },
      "source": [
        "The next cell will allow you to load the retrained model checkpoint + metadata necessary to generate text.\n",
        "\n",
        "**IMPORTANT NOTE:** If you want to rerun this cell, **restart the VM first** (Runtime -> Restart Runtime). You will need to rerun imports but not recopy files."
      ]
    },
    {
      "cell_type": "code",
      "metadata": {
        "id": "-fxL77nvAMAX",
        "colab": {
          "base_uri": "https://localhost:8080/"
        },
        "outputId": "59dda419-5965-419f-d425-43a7988cacd3"
      },
      "source": [
        "sess = gpt2.start_tf_sess()\n",
        "gpt2.load_gpt2(sess, run_name='run1')"
      ],
      "execution_count": null,
      "outputs": [
        {
          "output_type": "stream",
          "text": [
            "Loading checkpoint checkpoint/run1/model-1000\n",
            "INFO:tensorflow:Restoring parameters from checkpoint/run1/model-1000\n"
          ],
          "name": "stdout"
        }
      ]
    },
    {
      "cell_type": "markdown",
      "metadata": {
        "id": "ClJwpF_ACONp"
      },
      "source": [
        "## Generate Text From The Trained Model\n",
        "\n",
        "After you've trained the model or loaded a retrained model from checkpoint, you can now generate text. `generate` generates a single text from the loaded model."
      ]
    },
    {
      "cell_type": "code",
      "metadata": {
        "id": "4RNY6RBI9LmL",
        "colab": {
          "base_uri": "https://localhost:8080/"
        },
        "outputId": "a0dcc6e9-8432-4e53-acd8-e7697ce9170e"
      },
      "source": [
        "gpt2.generate(sess, run_name='run1')"
      ],
      "execution_count": null,
      "outputs": [
        {
          "output_type": "stream",
          "text": [
            "[male] and [female] had just gotten married .they had brought in almost all of their friends that night .[male] was the first to arrive and get the wedding started .[female] was the last to arrive .[male] and [female] are the guests and will be watching from the front .[male] and [female] are the guests and will be watching from the back .it was [male] 's wedding day .[male] and [female] were both there .[male] was drunk but happy .[female] was a little drunk and pregnant .they were happy to be together .i invited all of my friends to my wedding .i had a great time with them .everyone was happy with me .we danced the night away .the friends had a great time that day .the woman was having a good time at the wedding .the bride was having her wedding pictures taken .the bride was having fun with her friend .the couple would be together for the wedding .the guests were waiting in the reception area .the bride and groom were so happy to be there .the wedding was going to start and it was a blast .the family was having fun dancing together .the bride and groom were having a great time .the guests were getting ready to leave the church .the wedding was set for the day .the bride and groom were so happy to be there .it was [male] 's wedding day .the bride was so excited to meet him .the groom was so happy to meet his bride .the bride and groom were so happy to be with each other .it was all very touching when the wedding party arrived .[male] and [female] were thrilled to meet the bride and groom .the bride looked so happy to be there .the wedding was going to be a very special day .the bride and groom met for the most part .the wedding party met and the bride was very happy to meet them .the bridesmaids were so beautiful in their costumes .the ceremony was beautiful .the wedding reception was very pretty and beautiful .we were ready for the ceremony to start .we arrived just in time .the bride and groom were so happy to meet !the wedding party was so excited to be there .the bride was so happy to meet them .they were so happy to be married .the bride is the bride of this wedding .the groomsmaids are going to be there .the wedding party is so pretty .this is a picture of a wedding .this is a picture of a bride .this is a picture of a wedding .this is a picture of a reception .the bride and groom met at the reception .the bridesmaids were so cute .the bride and groom danced the night away .the bride and groom are so happy to be together .the grooms party is going to be a very successful event .the wedding is about to begin .the bride and groom are exchanging vows .the bride and groom are smiling .the grooms and groom are getting ready to dance .the bride and groom are singing happy birthday .the wedding is underway and the banquet is ready .the bride and groom are smiling .the groom and the bride are smiling .the reception is turning into a fun night .the bride and groom are on stage with their friends .the bride and groom are happy to be together .the grooms ladies are in town .the groom is getting ready to walk down the aisle .the bride and groom are happy to be together .my friends and i decided to go to a farm for my farm .we got to ride across country .we had a drink driving accident .we had to fight with our legal team .we ended up getting a little drunk .today is farm day . we are off .we are off to see the farm .we are off to eat .it was so nice to take a tour of our farm !we saw all these great things .we even got to ride in the horses !it was a lot of fun , but we made it through the day !we got to see the horses and we got to take some pictures .we had a lot of fun , and we took plenty of pictures !we all got to walk the field and have some fun !the farm was filled with many people .the family was all together .the horses were very fast .there were even a lot of people that could not ride their horses .the family decided to have a cookout for the day .they brought in a lot of food for everyone .they even had a little steak .the whole group had a great time .the whole family prepared for the family reunion .they all had such a good time .they played games and enjoyed themselves .the food was delicious !we had a great time .we were so glad to be together .the family reunion was held at a nice restaurant .the food and drinks were amazing .afterward we all got to play games .we enjoyed the great food .everyone had a great time .the family reunion was a big success .\n"
          ],
          "name": "stdout"
        }
      ]
    },
    {
      "cell_type": "markdown",
      "metadata": {
        "id": "oF4-PqF0Fl7R"
      },
      "source": [
        "If you're creating an API based on your model and need to pass the generated text elsewhere, you can do `text = gpt2.generate(sess, return_as_list=True)[0]`\n",
        "\n",
        "You can also pass in a `prefix` to the generate function to force the text to start with a given character sequence and generate text from there (good if you add an indicator when the text starts).\n",
        "\n",
        "You can also generate multiple texts at a time by specifing `nsamples`. Unique to GPT-2, you can pass a `batch_size` to generate multiple samples in parallel, giving a massive speedup (in Colaboratory, set a maximum of 20 for `batch_size`).\n",
        "\n",
        "Other optional-but-helpful parameters for `gpt2.generate` and friends:\n",
        "\n",
        "*  **`length`**: Number of tokens to generate (default 1023, the maximum)\n",
        "* **`temperature`**: The higher the temperature, the crazier the text (default 0.7, recommended to keep between 0.7 and 1.0)\n",
        "* **`top_k`**: Limits the generated guesses to the top *k* guesses (default 0 which disables the behavior; if the generated output is super crazy, you may want to set `top_k=40`)\n",
        "* **`top_p`**: Nucleus sampling: limits the generated guesses to a cumulative probability. (gets good results on a dataset with `top_p=0.9`)\n",
        "* **`truncate`**: Truncates the input text until a given sequence, excluding that sequence (e.g. if `truncate='<|endoftext|>'`, the returned text will include everything before the first `<|endoftext|>`). It may be useful to combine this with a smaller `length` if the input texts are short.\n",
        "*  **`include_prefix`**: If using `truncate` and `include_prefix=False`, the specified `prefix` will not be included in the returned text."
      ]
    },
    {
      "cell_type": "code",
      "metadata": {
        "id": "yHi4rRIX1ciR"
      },
      "source": [
        "prefix_dii_1 = \"Six or seven bottle rockets next to a specialty firework.\"\n",
        "prefix_dii_2 = \"the burgers are being grilled on the grill.\"\n",
        "prefix_dii_3 = \"A woman has big forks with meat on them.\"\n",
        "prefix_dii_4 = \" An older man stands in the entry of a garage, manning his station at the grill.\"\n",
        "prefix_dii_5 = \" A man is standing in front of some saw horses at dusk.\"\n",
        "\n",
        "text_full = prefix_dii_1 + prefix_dii_2 + prefix_dii_3 + prefix_dii_4 + prefix_dii_5"
      ],
      "execution_count": null,
      "outputs": []
    },
    {
      "cell_type": "markdown",
      "metadata": {
        "id": "jewNwsn2kGRS"
      },
      "source": [
        "#### Generate text of max length 250"
      ]
    },
    {
      "cell_type": "code",
      "metadata": {
        "colab": {
          "base_uri": "https://localhost:8080/"
        },
        "id": "7bK_s3VJ1b1H",
        "outputId": "579db3cd-0838-48a6-8252-9b4bdabe753b"
      },
      "source": [
        "gen_text_full = gpt2.generate(sess,\n",
        "              length=250,\n",
        "              temperature=0.7,\n",
        "              prefix = text_full,\n",
        "              nsamples=5,\n",
        "              batch_size=5\n",
        "              )"
      ],
      "execution_count": null,
      "outputs": [
        {
          "output_type": "stream",
          "text": [
            "Six or seven bottle rockets next to a specialty firework.the burgers are being grilled on the grill.A woman has big forks with meat on them. An older man stands in the entry of a garage, manning his station at the grill. A man is standing in front of some saw horses at dusk.[male] [male] was excited to go to the carnival .he started off with a ride on a couple of rides .afterwards he took a picture of a truck .he was really excited to go .he was so excited to see all the animals .he had a great time .there were so many rides and games at the carnival , i had to take a picture .i was excited to see all the animals .the food was really good , i got to ride in one .we took a picture with the trucks on the way home .the park is a great place to go .the kids need to have fun .the carnival is great for everyone .the kids all love to play .the food is really good .the carnival is a great place to enjoy the night .the kids are having a great time at the carnival .the children are having fun at the carnival .the kids are having fun with their friends .the kids are having fun at the rodeo .the kids are having fun at the rodeo .a group of friends gets together for a party .a man gets in a car and drives away .a woman is seen walking around with a man in a blue dress .a man is\n",
            "====================\n",
            "Six or seven bottle rockets next to a specialty firework.the burgers are being grilled on the grill.A woman has big forks with meat on them. An older man stands in the entry of a garage, manning his station at the grill. A man is standing in front of some saw horses at dusk.a man is eating a burger at a restaurant .a man is in a garage at the garage .a sign is posted outside of the garage .it was a night out on the town .they were always having fun .they drove the hot 4x4 in the dirt .they played in the mud .as they drove off to the next destination , they were glad they had done it .the family was getting ready to go out for a night out .they drove through a long dirt road .it was very bumpy , but they had fun .the day was a good start to a good vacation .the weather was nice , but they had to stop for a moment .they enjoyed a good dinner .the family got together to take pictures .they got some snacks before heading out .the family got ready to go out for the night .the kids had fun playing in the mud .a couple of men were talking .the couple took the kids to the beach .they had fun at the beach .we went to a fireworks show .we had a great time .there were a lot of participants .some people had huge buckets .we had a great time watching them .we had a great time at the fireworks show .the people started in late afternoon\n",
            "====================\n",
            "Six or seven bottle rockets next to a specialty firework.the burgers are being grilled on the grill.A woman has big forks with meat on them. An older man stands in the entry of a garage, manning his station at the grill. A man is standing in front of some saw horses at dusk.a young couple is sitting in the garage waiting for the burgers to be done .the couple are finished eating and ready to go .the burgers are to be served .the husband and wife were having their first dinner .they were starting the burgers .they had a great time .everyone had a great time .they had a great time .the wedding was very peaceful .the family was looking forward to the reception .the girls had along with her brother .the priest was very happy for them .the bride and groom got along very well .the couple enjoyed a good meal together .the wedding was beautiful .the groom looked amazing .the bride looked so happy to be with her family .the wedding party was ready for the wedding .even the bride 's brother was in attendance .they were very happy to be there .they were so happy that they were able to celebrate with each other .the wedding reception had fun and lots of laughter .the guests were happy to be there .the bride and groom looked great together .they were so happy together .the bridesmaid looked beautiful .the guests were happy to see each other .the bride and groom had a great time .the bride and groom were happy to be together .we had a wonderful wedding .\n",
            "====================\n",
            "Six or seven bottle rockets next to a specialty firework.the burgers are being grilled on the grill.A woman has big forks with meat on them. An older man stands in the entry of a garage, manning his station at the grill. A man is standing in front of some saw horses at dusk.a firework is seen in the background .the neighborhood had an indoor firework show .they highlighted the area with a giant yellow firework .they waited until dusk to light the firework .the firework was spectacular .once it started , it was spectacular .the sky was lit up , the firework lit up the night sky .the sky was full of light and colorful light .the bright firework lit up the night sky .once it was dark , it was time to light more .sadly , the night sky was lit up again .the family was in the city for a christmas party .the family was standing outside during the christmas party .the family was ready to light the christmas tree .the family was very excited to be outside of the building .the entire family had such a great time .they set the christmas tree on the table .the family then drove out to the city .there was a christmas party at the house .the family was still going to the party because it was so hot .they had such a nice christmas tree there .everyone got in the car to get a nice christmas treat .everyone arrived in the car and headed to see the decorations .there was a christmas\n",
            "====================\n",
            "Six or seven bottle rockets next to a specialty firework.the burgers are being grilled on the grill.A woman has big forks with meat on them. An older man stands in the entry of a garage, manning his station at the grill. A man is standing in front of some saw horses at dusk.it 's time for a picture to remember this one .this one was the first one i saw of the rocket .the other ones were really big .i wonder if this one will just be eaten with a spoon .the man looks tired but smiling on the side of the truck .the man stands in front of the car with his big chain .the man is ready to go in the rocket .the wings are all set for the big rocket .the rocket is waiting for the crew to arrive .the rocket is ready and about to go .the man is ready to go in the rocket .we went on a trip to the location location location location .there were a lot of unique things to see .we saw different types of buildings and we saw some interesting looking vehicles .we saw many different kinds of cars .we also took several pictures of the city .the trip was a success , the city was very vibrant .we enjoyed the city , many interesting buildings .the city had a ton of different uses .we took many photos in the city .we saw many different vehicles .the city was very vibrant and was very long .we had a great time and were able to see a lot in the city .the city was surrounded by fences and other\n",
            "====================\n"
          ],
          "name": "stdout"
        }
      ]
    },
    {
      "cell_type": "markdown",
      "metadata": {
        "id": "vSN-XqAykoqz"
      },
      "source": [
        "#### Image Caption 1 with text length = 15"
      ]
    },
    {
      "cell_type": "code",
      "metadata": {
        "colab": {
          "base_uri": "https://localhost:8080/"
        },
        "id": "XfmAVnp_dCdU",
        "outputId": "1f053076-20eb-41eb-a815-1ae2d0e6b68a"
      },
      "source": [
        "gen_text_1 = gpt2.generate(sess,\n",
        "              length=15,\n",
        "              temperature=0.7,\n",
        "              prefix = prefix_dii_1,\n",
        "              nsamples=5,\n",
        "              batch_size=5\n",
        "              )"
      ],
      "execution_count": null,
      "outputs": [
        {
          "output_type": "stream",
          "text": [
            "Six or seven bottle rockets next to a specialty firework.i got a lot of cool rockets for the party .they were all different\n",
            "====================\n",
            "Six or seven bottle rockets next to a specialty firework.a cool picture of the props we used to show off .the nice red\n",
            "====================\n",
            "Six or seven bottle rockets next to a specialty firework.i had a great time at the party last weekend .the food was very\n",
            "====================\n",
            "Six or seven bottle rockets next to a specialty firework.a cool ceramics set for the firework show .our first fire\n",
            "====================\n",
            "Six or seven bottle rockets next to a specialty firework.the firework was labeled `` jenga '' .i never get tired\n",
            "====================\n"
          ],
          "name": "stdout"
        }
      ]
    },
    {
      "cell_type": "markdown",
      "metadata": {
        "id": "rNhaMBIskuGB"
      },
      "source": [
        "#### Image Caption 2 with text length = 15"
      ]
    },
    {
      "cell_type": "code",
      "metadata": {
        "colab": {
          "base_uri": "https://localhost:8080/"
        },
        "id": "wt4eJpMNHbiI",
        "outputId": "95a0ad10-8505-4c2e-d1b3-12f592a5bc4c"
      },
      "source": [
        "gen_text_2 = gpt2.generate(sess,\n",
        "              length=15,\n",
        "              temperature=0.7,\n",
        "              prefix = prefix_dii_2,\n",
        "              nsamples=5,\n",
        "              batch_size=5\n",
        "              )"
      ],
      "execution_count": null,
      "outputs": [
        {
          "output_type": "stream",
          "text": [
            "the burgers are being grilled on the grill.the food is being served and will be eaten .the food is served and\n",
            "====================\n",
            "the burgers are being grilled on the grill.the burgers are being grilled on the grill rack .the burgers are being grilled\n",
            "====================\n",
            "the burgers are being grilled on the grill.the burger is done for the kids .the kids are having fun playing in\n",
            "====================\n",
            "the burgers are being grilled on the grill.the burgers are lined up nicely .the burgers are ready to go .we\n",
            "====================\n",
            "the burgers are being grilled on the grill.look at the enthusiasm on their faces .a great family meal and a fun\n",
            "====================\n"
          ],
          "name": "stdout"
        }
      ]
    },
    {
      "cell_type": "markdown",
      "metadata": {
        "id": "LD2L1Uuckz-w"
      },
      "source": [
        "#### Image Caption 3 with text length = 15"
      ]
    },
    {
      "cell_type": "code",
      "metadata": {
        "colab": {
          "base_uri": "https://localhost:8080/"
        },
        "id": "1c9tNa1fpGkt",
        "outputId": "9f273f3b-6610-40e4-a146-3988f2c1f2ce"
      },
      "source": [
        "gen_text_3 = gpt2.generate(sess,\n",
        "              length=15,\n",
        "              temperature=0.7,\n",
        "              prefix = prefix_dii_3,\n",
        "              nsamples=5,\n",
        "              batch_size=5\n",
        "              )"
      ],
      "execution_count": null,
      "outputs": [
        {
          "output_type": "stream",
          "text": [
            "A woman has big forks with meat on them.her husband is taking a picture .the woman is eating the meat .they\n",
            "====================\n",
            "A woman has big forks with meat on them.she just has to get a hula hoop .she is so expensive .\n",
            "====================\n",
            "A woman has big forks with meat on them.next , she has a large wheelbarrow .the bellies of the\n",
            "====================\n",
            "A woman has big forks with meat on them.this is a picture of a fork .this is a picture of a man\n",
            "====================\n",
            "A woman has big forks with meat on them.she is very busy .her family is very happy .someone is helping her\n",
            "====================\n"
          ],
          "name": "stdout"
        }
      ]
    },
    {
      "cell_type": "markdown",
      "metadata": {
        "id": "bResZeVdk4uB"
      },
      "source": [
        "#### Image Caption 4 with text length = 15"
      ]
    },
    {
      "cell_type": "code",
      "metadata": {
        "colab": {
          "base_uri": "https://localhost:8080/"
        },
        "id": "In3BNpDEpGZ6",
        "outputId": "540d1e6e-dd63-4f2c-99c2-74815a94cb10"
      },
      "source": [
        "gen_text_4 = gpt2.generate(sess,\n",
        "              length=15,\n",
        "              temperature=0.7,\n",
        "              prefix = prefix_dii_4,\n",
        "              nsamples=5,\n",
        "              batch_size=5\n",
        "              )"
      ],
      "execution_count": null,
      "outputs": [
        {
          "output_type": "stream",
          "text": [
            " An older man stands in the entry of a garage, manning his station at the grill.the man is working on his grill and is checking his workstation .the\n",
            "====================\n",
            " An older man stands in the entry of a garage, manning his station at the grill.tourists are at the grill at the time of the show/i\n",
            "====================\n",
            " An older man stands in the entry of a garage, manning his station at the grill.there was a long line for food at the restaurant .as the sun set\n",
            "====================\n",
            " An older man stands in the entry of a garage, manning his station at the grill.next to the grill , a man stands in the entryway , making sure\n",
            "====================\n",
            " An older man stands in the entry of a garage, manning his station at the grill.the people were really enjoying the evening .we got some new cathedrals\n",
            "====================\n"
          ],
          "name": "stdout"
        }
      ]
    },
    {
      "cell_type": "markdown",
      "metadata": {
        "id": "_bfblWq9k9C7"
      },
      "source": [
        "#### Image Caption 5 with text length = 15"
      ]
    },
    {
      "cell_type": "code",
      "metadata": {
        "colab": {
          "base_uri": "https://localhost:8080/"
        },
        "id": "Z-2RTegkpGMG",
        "outputId": "c213458e-bde4-45fa-c020-2bdf7a85a638"
      },
      "source": [
        "gen_text_5 = gpt2.generate(sess,\n",
        "              length=15,\n",
        "              temperature=0.7,\n",
        "              prefix = prefix_dii_5,\n",
        "              nsamples=5,\n",
        "              batch_size=5\n",
        "              )"
      ],
      "execution_count": null,
      "outputs": [
        {
          "output_type": "stream",
          "text": [
            " A man is standing in front of some saw horses at dusk.the man has seen a lot of horses .the man looks around .the\n",
            "====================\n",
            " A man is standing in front of some saw horses at dusk.they are all looking at the sun .this horse is quite large .this\n",
            "====================\n",
            " A man is standing in front of some saw horses at dusk.the view from the side is amazing .the horses are lined up to go\n",
            "====================\n",
            " A man is standing in front of some saw horses at dusk.he is looking at the buildings in the distance .this is a view of\n",
            "====================\n",
            " A man is standing in front of some saw horses at dusk.a horse is riding down the street .a man is standing in front of\n",
            "====================\n"
          ],
          "name": "stdout"
        }
      ]
    },
    {
      "cell_type": "code",
      "metadata": {
        "id": "rIHiVP53FnsX"
      },
      "source": [
        "!kill -9 -1"
      ],
      "execution_count": null,
      "outputs": []
    },
    {
      "cell_type": "markdown",
      "metadata": {
        "id": "wmTXWNUygS5E"
      },
      "source": [
        "# LICENSE\n",
        "\n",
        "MIT License\n",
        "\n",
        "Copyright (c) 2019 Max Woolf\n",
        "\n",
        "Permission is hereby granted, free of charge, to any person obtaining a copy\n",
        "of this software and associated documentation files (the \"Software\"), to deal\n",
        "in the Software without restriction, including without limitation the rights\n",
        "to use, copy, modify, merge, publish, distribute, sublicense, and/or sell\n",
        "copies of the Software, and to permit persons to whom the Software is\n",
        "furnished to do so, subject to the following conditions:\n",
        "\n",
        "The above copyright notice and this permission notice shall be included in all\n",
        "copies or substantial portions of the Software.\n",
        "\n",
        "THE SOFTWARE IS PROVIDED \"AS IS\", WITHOUT WARRANTY OF ANY KIND, EXPRESS OR\n",
        "IMPLIED, INCLUDING BUT NOT LIMITED TO THE WARRANTIES OF MERCHANTABILITY,\n",
        "FITNESS FOR A PARTICULAR PURPOSE AND NONINFRINGEMENT. IN NO EVENT SHALL THE\n",
        "AUTHORS OR COPYRIGHT HOLDERS BE LIABLE FOR ANY CLAIM, DAMAGES OR OTHER\n",
        "LIABILITY, WHETHER IN AN ACTION OF CONTRACT, TORT OR OTHERWISE, ARISING FROM,\n",
        "OUT OF OR IN CONNECTION WITH THE SOFTWARE OR THE USE OR OTHER DEALINGS IN THE\n",
        "SOFTWARE."
      ]
    }
  ]
}