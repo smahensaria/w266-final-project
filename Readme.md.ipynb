{
 "cells": [
  {
   "cell_type": "markdown",
   "metadata": {},
   "source": [
    "## W266-Section 3- Final Project\n",
    "### Submitted by: Sundeep Kumar Mahensaria, Eric Lee\n",
    "\n",
    "#### Files\n",
    "1. `BeamSearch_GPT-2M-GenText2.ipynb`: Generate texts using Fine-tuned GPT-2 Medium model - Beam Search (Size=5) Decoder\n",
    "\n",
    "2. `KPSampling_GPT-2M-GenText2.ipynb`: Generate texts using Fine-tuned GPT-2 Medium model - KP Sampling (P = 0.95) Decoder\n",
    "\n",
    "3. `GPT-2M-FineTune2.ipynb`: Fine-tune and generate texts - GPT-2 Medium - HINTS: Unique Nouns of Longest DII \n",
    "\n",
    "4. `GPT-2M-FineTune3.ipynb`: Fine-tune and generate texts - GPT-2 Medium - HINTS: Nouns of All DIIs\n",
    "\n",
    "5. `GPT-2L-FineTune2.ipynb`: Fine-tune and generate texts - GPT-2 LARGE - HINTS: Unique Nouns of Longest DIIs\n",
    "\n",
    "6. `Baseline_BS5_GPT-2M-GenText2.ipynb`: Generate baseline texts using Vanilla GPT-2 Medium model - Beam Search (Size=5) Decoder\n",
    "\n",
    "7. `Baseline_KPSampling_GPT-2M-GenText2.ipynb`: Generate baseline texts using Vanilla GPT-2 Medium model - KP Sampling Decoder\n",
    "\n",
    "8. `Exploration_FineTune_GPT-2L-GenText2.ipynb`: Fine-tune and generate texts - GPT-2 Large model (hperparamerter tuning)\n",
    "\n",
    "9. `Exploration_FineTune_GPT-2M-GenText2.ipynb`: Fine-tune and generate texts - GPT-2 Medium model (hperparamerter tuning)\n",
    "\n",
    "10. `Exploration_FineTune_GPT-2M-GenText3.ipynb`: Fine-tune and generate texts - GPT-2 Medium model (hperparamerter tuning)\n",
    "\n",
    "11. `W266 Section 3 Final Project-Final Report-EricL-SundeepM.pdf` - Final Project Paper\n",
    "\n",
    "\n"
   ]
  },
  {
   "cell_type": "code",
   "execution_count": null,
   "metadata": {},
   "outputs": [],
   "source": []
  }
 ],
 "metadata": {
  "kernelspec": {
   "display_name": "Python 3",
   "language": "python",
   "name": "python3"
  },
  "language_info": {
   "codemirror_mode": {
    "name": "ipython",
    "version": 3
   },
   "file_extension": ".py",
   "mimetype": "text/x-python",
   "name": "python",
   "nbconvert_exporter": "python",
   "pygments_lexer": "ipython3",
   "version": "3.6.12"
  }
 },
 "nbformat": 4,
 "nbformat_minor": 4
}
