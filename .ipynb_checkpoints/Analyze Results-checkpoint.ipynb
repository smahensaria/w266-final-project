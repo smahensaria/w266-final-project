{
 "cells": [
  {
   "cell_type": "code",
   "execution_count": 1,
   "metadata": {},
   "outputs": [],
   "source": [
    "import json\n",
    "import pandas as pd"
   ]
  },
  {
   "cell_type": "code",
   "execution_count": 2,
   "metadata": {},
   "outputs": [
    {
     "data": {
      "text/plain": [
       "'C:\\\\Users\\\\sundeepm\\\\source\\\\MIDS\\\\w266\\\\w266-final-project'"
      ]
     },
     "execution_count": 2,
     "metadata": {},
     "output_type": "execute_result"
    }
   ],
   "source": [
    "import os\n",
    "\n",
    "os.getcwd()"
   ]
  },
  {
   "cell_type": "code",
   "execution_count": 13,
   "metadata": {},
   "outputs": [],
   "source": [
    "#filename = \".\\\\data\\\\baseline_beamsearch_results.json\"\n",
    "\n",
    "#filename_BL = \".\\\\data\\\\baseline_kpsampling_results.json\"\n",
    "#filename_FT = \".\\\\data\\\\kpsampling_results.json\"\n",
    "\n",
    "#filename_BL = \".\\\\data\\\\BL_KP_P95_results.json\"\n",
    "#filename_FT = \".\\\\data\\\\FT_KP_P95_results.json\"\n",
    "\n",
    "#filename_BL = \".\\\\data\\\\BL_BS_B1_results.json\"\n",
    "#filename_FT = \".\\\\data\\\\FT_BS_B1_results.json\"\n",
    "\n",
    "\n",
    "#filename_BL = \".\\\\data\\\\BL_KP_P95_553_results.json\"\n",
    "#filename_FT = \".\\\\data\\\\FT_BS_B1_results.json\"\n",
    "\n",
    "#filename_BL = \".\\\\data\\\\BL_KP_TestSet_results.json\"\n",
    "#filename_FT = \".\\\\data\\\\FT_KP_P95_TestSet_results.json\"\n",
    "\n",
    "filename_BL = \".\\\\data\\\\BL_BS_B5_TestSet_results.json\"\n",
    "filename_FT = \".\\\\data\\\\FT_BS_B5_TestSet_results.json\"\n",
    "\n",
    "with open (filename_BL) as f_BL:\n",
    "    data_BL = json.load(f_BL)\n",
    "\n",
    "with open (filename_FT) as f_FT:\n",
    "    data_FT = json.load(f_FT)"
   ]
  },
  {
   "cell_type": "code",
   "execution_count": 14,
   "metadata": {},
   "outputs": [
    {
     "name": "stdout",
     "output_type": "stream",
     "text": [
      "#Baseline data rows: 3385\n",
      "#Fine Tuned data rows: 3385\n"
     ]
    }
   ],
   "source": [
    "print(\"#Baseline data rows:\", len(data_BL))\n",
    "print(\"#Fine Tuned data rows:\", len(data_FT))"
   ]
  },
  {
   "cell_type": "code",
   "execution_count": 15,
   "metadata": {},
   "outputs": [],
   "source": [
    "df_BL = pd.DataFrame.from_dict(data_BL)\n",
    "df_FT = pd.DataFrame.from_dict(data_FT)"
   ]
  },
  {
   "cell_type": "code",
   "execution_count": 16,
   "metadata": {},
   "outputs": [
    {
     "data": {
      "text/html": [
       "<div>\n",
       "<style scoped>\n",
       "    .dataframe tbody tr th:only-of-type {\n",
       "        vertical-align: middle;\n",
       "    }\n",
       "\n",
       "    .dataframe tbody tr th {\n",
       "        vertical-align: top;\n",
       "    }\n",
       "\n",
       "    .dataframe thead th {\n",
       "        text-align: right;\n",
       "    }\n",
       "</style>\n",
       "<table border=\"1\" class=\"dataframe\">\n",
       "  <thead>\n",
       "    <tr style=\"text-align: right;\">\n",
       "      <th></th>\n",
       "      <th>story_id</th>\n",
       "      <th>reference</th>\n",
       "      <th>prefix</th>\n",
       "      <th>hints</th>\n",
       "      <th>urls</th>\n",
       "      <th>BL_BS_B5_TestSet</th>\n",
       "    </tr>\n",
       "  </thead>\n",
       "  <tbody>\n",
       "    <tr>\n",
       "      <th>0</th>\n",
       "      <td>45530</td>\n",
       "      <td>the local parish holds a craft show each year ...</td>\n",
       "      <td>the sign is describing when the services will ...</td>\n",
       "      <td>the sign is describing when the services will ...</td>\n",
       "      <td>[https://farm1.staticflickr.com/2/1741642_8183...</td>\n",
       "      <td>{'text': 'a woman in a white dress has a broom...</td>\n",
       "    </tr>\n",
       "    <tr>\n",
       "      <th>1</th>\n",
       "      <td>45532</td>\n",
       "      <td>the church is old , but it has a nice history ...</td>\n",
       "      <td>the sign is describing when the services will ...</td>\n",
       "      <td>the sign is describing when the services will ...</td>\n",
       "      <td>[https://farm1.staticflickr.com/2/1741642_8183...</td>\n",
       "      <td>{'text': 'a woman in a white dress has a broom...</td>\n",
       "    </tr>\n",
       "    <tr>\n",
       "      <th>2</th>\n",
       "      <td>45534</td>\n",
       "      <td>the annual victorian craft fair was hosted at ...</td>\n",
       "      <td>the sign is describing when the services will ...</td>\n",
       "      <td>the sign is describing when the services will ...</td>\n",
       "      <td>[https://farm1.staticflickr.com/2/1741642_8183...</td>\n",
       "      <td>{'text': 'a woman in a white dress has a broom...</td>\n",
       "    </tr>\n",
       "    <tr>\n",
       "      <th>3</th>\n",
       "      <td>45536</td>\n",
       "      <td>mom decided to take her daughter to the carniv...</td>\n",
       "      <td>two girls smiling while sitting in a cart for ...</td>\n",
       "      <td>two girls smiling while sitting in a cart for ...</td>\n",
       "      <td>[https://farm1.staticflickr.com/1/355204_8e8b8...</td>\n",
       "      <td>{'text': 'one of the girls looks at the other ...</td>\n",
       "    </tr>\n",
       "    <tr>\n",
       "      <th>4</th>\n",
       "      <td>45537</td>\n",
       "      <td>we had an exciting day at the fair ! the light...</td>\n",
       "      <td>two girls smiling while sitting in a cart for ...</td>\n",
       "      <td>two girls smiling while sitting in a cart for ...</td>\n",
       "      <td>[https://farm1.staticflickr.com/1/355204_8e8b8...</td>\n",
       "      <td>{'text': 'one of the girls looks at the other ...</td>\n",
       "    </tr>\n",
       "    <tr>\n",
       "      <th>...</th>\n",
       "      <td>...</td>\n",
       "      <td>...</td>\n",
       "      <td>...</td>\n",
       "      <td>...</td>\n",
       "      <td>...</td>\n",
       "      <td>...</td>\n",
       "    </tr>\n",
       "    <tr>\n",
       "      <th>3380</th>\n",
       "      <td>50578</td>\n",
       "      <td>this was quite a scene today as a group of men...</td>\n",
       "      <td>street artists perform for a crowd of people ....</td>\n",
       "      <td>street artists perform for a crowd of people ....</td>\n",
       "      <td>[https://farm7.staticflickr.com/6120/623042807...</td>\n",
       "      <td>{'text': '. a large crowd of protesters is sta...</td>\n",
       "    </tr>\n",
       "    <tr>\n",
       "      <th>3381</th>\n",
       "      <td>50579</td>\n",
       "      <td>many people gathered around the reporters as t...</td>\n",
       "      <td>street artists perform for a crowd of people ....</td>\n",
       "      <td>street artists perform for a crowd of people ....</td>\n",
       "      <td>[https://farm7.staticflickr.com/6120/623042807...</td>\n",
       "      <td>{'text': '. a large crowd of protesters is sta...</td>\n",
       "    </tr>\n",
       "    <tr>\n",
       "      <th>3382</th>\n",
       "      <td>50580</td>\n",
       "      <td>there was a parade going on in town . the firs...</td>\n",
       "      <td>protesters are setting up tents to continue th...</td>\n",
       "      <td>protesters are setting up tents to continue th...</td>\n",
       "      <td>[https://farm7.staticflickr.com/6172/623055363...</td>\n",
       "      <td>{'text': 'one of them is holding a sign that s...</td>\n",
       "    </tr>\n",
       "    <tr>\n",
       "      <th>3383</th>\n",
       "      <td>50583</td>\n",
       "      <td>crowds gathered to protest the war . local rel...</td>\n",
       "      <td>protesters are setting up tents to continue th...</td>\n",
       "      <td>protesters are setting up tents to continue th...</td>\n",
       "      <td>[https://farm7.staticflickr.com/6172/623055363...</td>\n",
       "      <td>{'text': 'one of them is holding a sign that s...</td>\n",
       "    </tr>\n",
       "    <tr>\n",
       "      <th>3384</th>\n",
       "      <td>50584</td>\n",
       "      <td>the crowd growing despite the weather . a few ...</td>\n",
       "      <td>protesters are setting up tents to continue th...</td>\n",
       "      <td>protesters are setting up tents to continue th...</td>\n",
       "      <td>[https://farm7.staticflickr.com/6172/623055363...</td>\n",
       "      <td>{'text': 'one of them is holding a sign that s...</td>\n",
       "    </tr>\n",
       "  </tbody>\n",
       "</table>\n",
       "<p>3385 rows × 6 columns</p>\n",
       "</div>"
      ],
      "text/plain": [
       "     story_id                                          reference  \\\n",
       "0       45530  the local parish holds a craft show each year ...   \n",
       "1       45532  the church is old , but it has a nice history ...   \n",
       "2       45534  the annual victorian craft fair was hosted at ...   \n",
       "3       45536  mom decided to take her daughter to the carniv...   \n",
       "4       45537  we had an exciting day at the fair ! the light...   \n",
       "...       ...                                                ...   \n",
       "3380    50578  this was quite a scene today as a group of men...   \n",
       "3381    50579  many people gathered around the reporters as t...   \n",
       "3382    50580  there was a parade going on in town . the firs...   \n",
       "3383    50583  crowds gathered to protest the war . local rel...   \n",
       "3384    50584  the crowd growing despite the weather . a few ...   \n",
       "\n",
       "                                                 prefix  \\\n",
       "0     the sign is describing when the services will ...   \n",
       "1     the sign is describing when the services will ...   \n",
       "2     the sign is describing when the services will ...   \n",
       "3     two girls smiling while sitting in a cart for ...   \n",
       "4     two girls smiling while sitting in a cart for ...   \n",
       "...                                                 ...   \n",
       "3380  street artists perform for a crowd of people ....   \n",
       "3381  street artists perform for a crowd of people ....   \n",
       "3382  protesters are setting up tents to continue th...   \n",
       "3383  protesters are setting up tents to continue th...   \n",
       "3384  protesters are setting up tents to continue th...   \n",
       "\n",
       "                                                  hints  \\\n",
       "0     the sign is describing when the services will ...   \n",
       "1     the sign is describing when the services will ...   \n",
       "2     the sign is describing when the services will ...   \n",
       "3     two girls smiling while sitting in a cart for ...   \n",
       "4     two girls smiling while sitting in a cart for ...   \n",
       "...                                                 ...   \n",
       "3380  street artists perform for a crowd of people ....   \n",
       "3381  street artists perform for a crowd of people ....   \n",
       "3382  protesters are setting up tents to continue th...   \n",
       "3383  protesters are setting up tents to continue th...   \n",
       "3384  protesters are setting up tents to continue th...   \n",
       "\n",
       "                                                   urls  \\\n",
       "0     [https://farm1.staticflickr.com/2/1741642_8183...   \n",
       "1     [https://farm1.staticflickr.com/2/1741642_8183...   \n",
       "2     [https://farm1.staticflickr.com/2/1741642_8183...   \n",
       "3     [https://farm1.staticflickr.com/1/355204_8e8b8...   \n",
       "4     [https://farm1.staticflickr.com/1/355204_8e8b8...   \n",
       "...                                                 ...   \n",
       "3380  [https://farm7.staticflickr.com/6120/623042807...   \n",
       "3381  [https://farm7.staticflickr.com/6120/623042807...   \n",
       "3382  [https://farm7.staticflickr.com/6172/623055363...   \n",
       "3383  [https://farm7.staticflickr.com/6172/623055363...   \n",
       "3384  [https://farm7.staticflickr.com/6172/623055363...   \n",
       "\n",
       "                                       BL_BS_B5_TestSet  \n",
       "0     {'text': 'a woman in a white dress has a broom...  \n",
       "1     {'text': 'a woman in a white dress has a broom...  \n",
       "2     {'text': 'a woman in a white dress has a broom...  \n",
       "3     {'text': 'one of the girls looks at the other ...  \n",
       "4     {'text': 'one of the girls looks at the other ...  \n",
       "...                                                 ...  \n",
       "3380  {'text': '. a large crowd of protesters is sta...  \n",
       "3381  {'text': '. a large crowd of protesters is sta...  \n",
       "3382  {'text': 'one of them is holding a sign that s...  \n",
       "3383  {'text': 'one of them is holding a sign that s...  \n",
       "3384  {'text': 'one of them is holding a sign that s...  \n",
       "\n",
       "[3385 rows x 6 columns]"
      ]
     },
     "execution_count": 16,
     "metadata": {},
     "output_type": "execute_result"
    }
   ],
   "source": [
    "df_BL"
   ]
  },
  {
   "cell_type": "code",
   "execution_count": 17,
   "metadata": {},
   "outputs": [
    {
     "data": {
      "text/html": [
       "<div>\n",
       "<style scoped>\n",
       "    .dataframe tbody tr th:only-of-type {\n",
       "        vertical-align: middle;\n",
       "    }\n",
       "\n",
       "    .dataframe tbody tr th {\n",
       "        vertical-align: top;\n",
       "    }\n",
       "\n",
       "    .dataframe thead th {\n",
       "        text-align: right;\n",
       "    }\n",
       "</style>\n",
       "<table border=\"1\" class=\"dataframe\">\n",
       "  <thead>\n",
       "    <tr style=\"text-align: right;\">\n",
       "      <th></th>\n",
       "      <th>story_id</th>\n",
       "      <th>reference</th>\n",
       "      <th>base_prefix</th>\n",
       "      <th>prefix</th>\n",
       "      <th>urls</th>\n",
       "      <th>FT_BS_B5_TestSet</th>\n",
       "    </tr>\n",
       "  </thead>\n",
       "  <tbody>\n",
       "    <tr>\n",
       "      <th>0</th>\n",
       "      <td>45530</td>\n",
       "      <td>the local parish holds a craft show each year ...</td>\n",
       "      <td>the sign is describing when the services will ...</td>\n",
       "      <td>&lt;BOS&gt; &lt;HINT&gt; sign services someone something c...</td>\n",
       "      <td>[https://farm1.staticflickr.com/2/1741642_8183...</td>\n",
       "      <td>{'text': 'i went to the library yesterday . th...</td>\n",
       "    </tr>\n",
       "    <tr>\n",
       "      <th>1</th>\n",
       "      <td>45532</td>\n",
       "      <td>the church is old , but it has a nice history ...</td>\n",
       "      <td>the sign is describing when the services will ...</td>\n",
       "      <td>&lt;BOS&gt; &lt;HINT&gt; sign services someone something c...</td>\n",
       "      <td>[https://farm1.staticflickr.com/2/1741642_8183...</td>\n",
       "      <td>{'text': 'i went to the library yesterday . th...</td>\n",
       "    </tr>\n",
       "    <tr>\n",
       "      <th>2</th>\n",
       "      <td>45534</td>\n",
       "      <td>the annual victorian craft fair was hosted at ...</td>\n",
       "      <td>the sign is describing when the services will ...</td>\n",
       "      <td>&lt;BOS&gt; &lt;HINT&gt; sign services someone something c...</td>\n",
       "      <td>[https://farm1.staticflickr.com/2/1741642_8183...</td>\n",
       "      <td>{'text': 'i went to the library yesterday . th...</td>\n",
       "    </tr>\n",
       "    <tr>\n",
       "      <th>3</th>\n",
       "      <td>45536</td>\n",
       "      <td>mom decided to take her daughter to the carniv...</td>\n",
       "      <td>two girls smiling while sitting in a cart for ...</td>\n",
       "      <td>&lt;BOS&gt; &lt;HINT&gt; girls cart carnival ride sort car...</td>\n",
       "      <td>[https://farm1.staticflickr.com/1/355204_8e8b8...</td>\n",
       "      <td>{'text': 'we went to the carnival last weekend...</td>\n",
       "    </tr>\n",
       "    <tr>\n",
       "      <th>4</th>\n",
       "      <td>45537</td>\n",
       "      <td>we had an exciting day at the fair ! the light...</td>\n",
       "      <td>two girls smiling while sitting in a cart for ...</td>\n",
       "      <td>&lt;BOS&gt; &lt;HINT&gt; girls cart carnival ride sort car...</td>\n",
       "      <td>[https://farm1.staticflickr.com/1/355204_8e8b8...</td>\n",
       "      <td>{'text': 'we went to the carnival last weekend...</td>\n",
       "    </tr>\n",
       "    <tr>\n",
       "      <th>...</th>\n",
       "      <td>...</td>\n",
       "      <td>...</td>\n",
       "      <td>...</td>\n",
       "      <td>...</td>\n",
       "      <td>...</td>\n",
       "      <td>...</td>\n",
       "    </tr>\n",
       "    <tr>\n",
       "      <th>3380</th>\n",
       "      <td>50578</td>\n",
       "      <td>this was quite a scene today as a group of men...</td>\n",
       "      <td>street artists perform for a crowd of people ....</td>\n",
       "      <td>&lt;BOS&gt; &lt;HINT&gt; street artists crowd people group...</td>\n",
       "      <td>[https://farm7.staticflickr.com/6120/623042807...</td>\n",
       "      <td>{'text': 'i went to the protest today . there ...</td>\n",
       "    </tr>\n",
       "    <tr>\n",
       "      <th>3381</th>\n",
       "      <td>50579</td>\n",
       "      <td>many people gathered around the reporters as t...</td>\n",
       "      <td>street artists perform for a crowd of people ....</td>\n",
       "      <td>&lt;BOS&gt; &lt;HINT&gt; street artists crowd people group...</td>\n",
       "      <td>[https://farm7.staticflickr.com/6120/623042807...</td>\n",
       "      <td>{'text': 'i went to the protest today . there ...</td>\n",
       "    </tr>\n",
       "    <tr>\n",
       "      <th>3382</th>\n",
       "      <td>50580</td>\n",
       "      <td>there was a parade going on in town . the firs...</td>\n",
       "      <td>protesters are setting up tents to continue th...</td>\n",
       "      <td>&lt;BOS&gt; &lt;HINT&gt; protesters tents protest people b...</td>\n",
       "      <td>[https://farm7.staticflickr.com/6172/623055363...</td>\n",
       "      <td>{'text': 'there were a lot of people at the pr...</td>\n",
       "    </tr>\n",
       "    <tr>\n",
       "      <th>3383</th>\n",
       "      <td>50583</td>\n",
       "      <td>crowds gathered to protest the war . local rel...</td>\n",
       "      <td>protesters are setting up tents to continue th...</td>\n",
       "      <td>&lt;BOS&gt; &lt;HINT&gt; protesters tents protest people b...</td>\n",
       "      <td>[https://farm7.staticflickr.com/6172/623055363...</td>\n",
       "      <td>{'text': 'there were a lot of people at the pr...</td>\n",
       "    </tr>\n",
       "    <tr>\n",
       "      <th>3384</th>\n",
       "      <td>50584</td>\n",
       "      <td>the crowd growing despite the weather . a few ...</td>\n",
       "      <td>protesters are setting up tents to continue th...</td>\n",
       "      <td>&lt;BOS&gt; &lt;HINT&gt; protesters tents protest people b...</td>\n",
       "      <td>[https://farm7.staticflickr.com/6172/623055363...</td>\n",
       "      <td>{'text': 'there were a lot of people at the pr...</td>\n",
       "    </tr>\n",
       "  </tbody>\n",
       "</table>\n",
       "<p>3385 rows × 6 columns</p>\n",
       "</div>"
      ],
      "text/plain": [
       "     story_id                                          reference  \\\n",
       "0       45530  the local parish holds a craft show each year ...   \n",
       "1       45532  the church is old , but it has a nice history ...   \n",
       "2       45534  the annual victorian craft fair was hosted at ...   \n",
       "3       45536  mom decided to take her daughter to the carniv...   \n",
       "4       45537  we had an exciting day at the fair ! the light...   \n",
       "...       ...                                                ...   \n",
       "3380    50578  this was quite a scene today as a group of men...   \n",
       "3381    50579  many people gathered around the reporters as t...   \n",
       "3382    50580  there was a parade going on in town . the firs...   \n",
       "3383    50583  crowds gathered to protest the war . local rel...   \n",
       "3384    50584  the crowd growing despite the weather . a few ...   \n",
       "\n",
       "                                            base_prefix  \\\n",
       "0     the sign is describing when the services will ...   \n",
       "1     the sign is describing when the services will ...   \n",
       "2     the sign is describing when the services will ...   \n",
       "3     two girls smiling while sitting in a cart for ...   \n",
       "4     two girls smiling while sitting in a cart for ...   \n",
       "...                                                 ...   \n",
       "3380  street artists perform for a crowd of people ....   \n",
       "3381  street artists perform for a crowd of people ....   \n",
       "3382  protesters are setting up tents to continue th...   \n",
       "3383  protesters are setting up tents to continue th...   \n",
       "3384  protesters are setting up tents to continue th...   \n",
       "\n",
       "                                                 prefix  \\\n",
       "0     <BOS> <HINT> sign services someone something c...   \n",
       "1     <BOS> <HINT> sign services someone something c...   \n",
       "2     <BOS> <HINT> sign services someone something c...   \n",
       "3     <BOS> <HINT> girls cart carnival ride sort car...   \n",
       "4     <BOS> <HINT> girls cart carnival ride sort car...   \n",
       "...                                                 ...   \n",
       "3380  <BOS> <HINT> street artists crowd people group...   \n",
       "3381  <BOS> <HINT> street artists crowd people group...   \n",
       "3382  <BOS> <HINT> protesters tents protest people b...   \n",
       "3383  <BOS> <HINT> protesters tents protest people b...   \n",
       "3384  <BOS> <HINT> protesters tents protest people b...   \n",
       "\n",
       "                                                   urls  \\\n",
       "0     [https://farm1.staticflickr.com/2/1741642_8183...   \n",
       "1     [https://farm1.staticflickr.com/2/1741642_8183...   \n",
       "2     [https://farm1.staticflickr.com/2/1741642_8183...   \n",
       "3     [https://farm1.staticflickr.com/1/355204_8e8b8...   \n",
       "4     [https://farm1.staticflickr.com/1/355204_8e8b8...   \n",
       "...                                                 ...   \n",
       "3380  [https://farm7.staticflickr.com/6120/623042807...   \n",
       "3381  [https://farm7.staticflickr.com/6120/623042807...   \n",
       "3382  [https://farm7.staticflickr.com/6172/623055363...   \n",
       "3383  [https://farm7.staticflickr.com/6172/623055363...   \n",
       "3384  [https://farm7.staticflickr.com/6172/623055363...   \n",
       "\n",
       "                                       FT_BS_B5_TestSet  \n",
       "0     {'text': 'i went to the library yesterday . th...  \n",
       "1     {'text': 'i went to the library yesterday . th...  \n",
       "2     {'text': 'i went to the library yesterday . th...  \n",
       "3     {'text': 'we went to the carnival last weekend...  \n",
       "4     {'text': 'we went to the carnival last weekend...  \n",
       "...                                                 ...  \n",
       "3380  {'text': 'i went to the protest today . there ...  \n",
       "3381  {'text': 'i went to the protest today . there ...  \n",
       "3382  {'text': 'there were a lot of people at the pr...  \n",
       "3383  {'text': 'there were a lot of people at the pr...  \n",
       "3384  {'text': 'there were a lot of people at the pr...  \n",
       "\n",
       "[3385 rows x 6 columns]"
      ]
     },
     "execution_count": 17,
     "metadata": {},
     "output_type": "execute_result"
    }
   ],
   "source": [
    "df_FT"
   ]
  },
  {
   "cell_type": "code",
   "execution_count": 144,
   "metadata": {},
   "outputs": [
    {
     "name": "stdout",
     "output_type": "stream",
     "text": [
      "#Baseline records with scores: 553\n",
      "#Fine Tuned records with METEOR score: 0\n"
     ]
    }
   ],
   "source": [
    "print(\"#Baseline records with scores:\", len([d for d in data_BL if \"BL_KP_P95_553\" in d]))\n",
    "\n",
    "print(\"#Fine Tuned records with METEOR score:\", len([d for d in data_FT if \"sampling\" in d]))"
   ]
  },
  {
   "cell_type": "code",
   "execution_count": 145,
   "metadata": {},
   "outputs": [],
   "source": [
    "model_type_BL = \"BL_KP_P95_553\" #\"BL_BS_B1\" #\"BL_KP_P95\" #\"base_sampling\"\n",
    "meteor_scores_BL = []\n",
    "for m in data_BL:\n",
    "    if model_type_BL in m:\n",
    "        #print(m[model_type_BL][\"scores\"])\n",
    "        if m[model_type_BL][\"scores\"][\"meteor\"] != -100:\n",
    "            meteor_scores_BL.append(m[model_type_BL][\"scores\"][\"meteor\"])"
   ]
  },
  {
   "cell_type": "code",
   "execution_count": 146,
   "metadata": {},
   "outputs": [
    {
     "data": {
      "text/plain": [
       "542"
      ]
     },
     "execution_count": 146,
     "metadata": {},
     "output_type": "execute_result"
    }
   ],
   "source": [
    "len(meteor_scores_BL)"
   ]
  },
  {
   "cell_type": "code",
   "execution_count": 119,
   "metadata": {},
   "outputs": [
    {
     "name": "stdout",
     "output_type": "stream",
     "text": [
      "{'meteor': 0.15214703425229742, 'rouge1': {'precision': 0.25, 'recall': 0.12307692307692308, 'fmeasure': 0.16494845360824742}, 'rougeL': {'precision': 0.21875, 'recall': 0.1076923076923077, 'fmeasure': 0.14432989690721648}, 'bleu': 0.11561925293959618, 'bert_score': {'precision': 0.29516640305519104, 'recall': 0.13602328300476074, 'f1': 0.21563822031021118}}\n",
      "{'meteor': 0.2032786480209517, 'rouge1': {'precision': 0.34375, 'recall': 0.3055555555555556, 'fmeasure': 0.3235294117647059}, 'rougeL': {'precision': 0.21875, 'recall': 0.19444444444444445, 'fmeasure': 0.2058823529411765}, 'bleu': 0.3274923012311928, 'bert_score': {'precision': 0.3297673165798187, 'recall': 0.33596670627593994, 'f1': 0.3339492380619049}}\n",
      "{'meteor': 0.24154589371980678, 'rouge1': {'precision': 0.3902439024390244, 'recall': 0.4444444444444444, 'fmeasure': 0.4155844155844156}, 'rougeL': {'precision': 0.21951219512195122, 'recall': 0.25, 'fmeasure': 0.2337662337662338}, 'bleu': 0.4, 'bert_score': {'precision': 0.327602356672287, 'recall': 0.38613542914390564, 'f1': 0.3577534258365631}}\n",
      "{'meteor': 0.13645224171539957, 'rouge1': {'precision': 0.2682926829268293, 'recall': 0.23404255319148937, 'fmeasure': 0.25}, 'rougeL': {'precision': 0.12195121951219512, 'recall': 0.10638297872340426, 'fmeasure': 0.11363636363636365}, 'bleu': 0.22825053957660407, 'bert_score': {'precision': 0.2886761724948883, 'recall': 0.2157088965177536, 'f1': 0.25314968824386597}}\n",
      "{'meteor': 0.12805934589560322, 'rouge1': {'precision': 0.2727272727272727, 'recall': 0.13953488372093023, 'fmeasure': 0.18461538461538457}, 'rougeL': {'precision': 0.18181818181818182, 'recall': 0.09302325581395349, 'fmeasure': 0.12307692307692308}, 'bleu': 0.12262648039048077, 'bert_score': {'precision': 0.33661553263664246, 'recall': 0.10612155497074127, 'f1': 0.22005628049373627}}\n",
      "{'meteor': 0.15027322404371585, 'rouge1': {'precision': 0.36363636363636365, 'recall': 0.24242424242424243, 'fmeasure': 0.2909090909090909}, 'rougeL': {'precision': 0.22727272727272727, 'recall': 0.15151515151515152, 'fmeasure': 0.18181818181818182}, 'bleu': 0.20926317966376767, 'bert_score': {'precision': 0.3546004891395569, 'recall': 0.2756864130496979, 'f1': 0.3159584701061249}}\n",
      "{'meteor': 0.13636363636363635, 'rouge1': {'precision': 0.2727272727272727, 'recall': 0.20689655172413793, 'fmeasure': 0.23529411764705882}, 'rougeL': {'precision': 0.2727272727272727, 'recall': 0.20689655172413793, 'fmeasure': 0.23529411764705882}, 'bleu': 0.19227851714179608, 'bert_score': {'precision': 0.37552472949028015, 'recall': 0.3184283375740051, 'f1': 0.3478821814060211}}\n",
      "{'meteor': 0.06666666666666667, 'rouge1': {'precision': 0.2727272727272727, 'recall': 0.1016949152542373, 'fmeasure': 0.14814814814814817}, 'rougeL': {'precision': 0.18181818181818182, 'recall': 0.06779661016949153, 'fmeasure': 0.09876543209876544}, 'bleu': 0.06295853427918728, 'bert_score': {'precision': 0.2992974817752838, 'recall': 0.0706479549407959, 'f1': 0.18374274671077728}}\n",
      "{'meteor': 0.13349514563106796, 'rouge1': {'precision': 0.22580645161290322, 'recall': 0.1891891891891892, 'fmeasure': 0.2058823529411765}, 'rougeL': {'precision': 0.12903225806451613, 'recall': 0.10810810810810811, 'fmeasure': 0.11764705882352941}, 'bleu': 0.23245245970044065, 'bert_score': {'precision': 0.19749878346920013, 'recall': 0.18642689287662506, 'f1': 0.1932692974805832}}\n",
      "{'meteor': 0.14583333333333331, 'rouge1': {'precision': 0.2571428571428571, 'recall': 0.20454545454545456, 'fmeasure': 0.22784810126582275}, 'rougeL': {'precision': 0.11428571428571428, 'recall': 0.09090909090909091, 'fmeasure': 0.10126582278481013}, 'bleu': 0.2579414790754122, 'bert_score': {'precision': 0.33401796221733093, 'recall': 0.26001888513565063, 'f1': 0.2978981137275696}}\n",
      "{'meteor': 0.22516048672990321, 'rouge1': {'precision': 0.3142857142857143, 'recall': 0.2894736842105263, 'fmeasure': 0.3013698630136986}, 'rougeL': {'precision': 0.2, 'recall': 0.18421052631578946, 'fmeasure': 0.1917808219178082}, 'bleu': 0.32398164401205903, 'bert_score': {'precision': 0.24066995084285736, 'recall': 0.16537144780158997, 'f1': 0.2040386199951172}}\n",
      "{'meteor': 0.10903426791277258, 'rouge1': {'precision': 0.2857142857142857, 'recall': 0.1694915254237288, 'fmeasure': 0.21276595744680848}, 'rougeL': {'precision': 0.22857142857142856, 'recall': 0.13559322033898305, 'fmeasure': 0.1702127659574468}, 'bleu': 0.1625839156314942, 'bert_score': {'precision': 0.2652845084667206, 'recall': 0.10646926611661911, 'f1': 0.18596626818180084}}\n",
      "{'meteor': 0.19869863140105407, 'rouge1': {'precision': 0.3611111111111111, 'recall': 0.19402985074626866, 'fmeasure': 0.25242718446601947}, 'rougeL': {'precision': 0.2777777777777778, 'recall': 0.14925373134328357, 'fmeasure': 0.1941747572815534}, 'bleu': 0.20619253210076965, 'bert_score': {'precision': 0.25514501333236694, 'recall': 0.144514799118042, 'f1': 0.20053277909755707}}\n",
      "{'meteor': 0.18666666666666665, 'rouge1': {'precision': 0.19444444444444445, 'recall': 0.21875, 'fmeasure': 0.2058823529411765}, 'rougeL': {'precision': 0.1111111111111111, 'recall': 0.125, 'fmeasure': 0.11764705882352941}, 'bleu': 0.2857142857142857, 'bert_score': {'precision': 0.29875871539115906, 'recall': 0.3754020035266876, 'f1': 0.3378806412220001}}\n",
      "{'meteor': 0.2783963804187912, 'rouge1': {'precision': 0.5277777777777778, 'recall': 0.2878787878787879, 'fmeasure': 0.37254901960784315}, 'rougeL': {'precision': 0.3888888888888889, 'recall': 0.21212121212121213, 'fmeasure': 0.27450980392156865}, 'bleu': 0.26672941808667505, 'bert_score': {'precision': 0.3652692139148712, 'recall': 0.253298819065094, 'f1': 0.30980709195137024}}\n",
      "{'meteor': 0.25819815944670205, 'rouge1': {'precision': 0.4166666666666667, 'recall': 0.32608695652173914, 'fmeasure': 0.3658536585365854}, 'rougeL': {'precision': 0.2222222222222222, 'recall': 0.17391304347826086, 'fmeasure': 0.1951219512195122}, 'bleu': 0.36512469507386663, 'bert_score': {'precision': 0.28212013840675354, 'recall': 0.24991758167743683, 'f1': 0.2671610116958618}}\n",
      "{'meteor': 0.1810273932537102, 'rouge1': {'precision': 0.4411764705882353, 'recall': 0.2459016393442623, 'fmeasure': 0.3157894736842105}, 'rougeL': {'precision': 0.2647058823529412, 'recall': 0.14754098360655737, 'fmeasure': 0.18947368421052632}, 'bleu': 0.20950579571027114, 'bert_score': {'precision': 0.19416116178035736, 'recall': 0.05245307832956314, 'f1': 0.12373700737953186}}\n",
      "{'meteor': 0.2144738461538462, 'rouge1': {'precision': 0.5882352941176471, 'recall': 0.31746031746031744, 'fmeasure': 0.41237113402061853}, 'rougeL': {'precision': 0.3235294117647059, 'recall': 0.1746031746031746, 'fmeasure': 0.2268041237113402}, 'bleu': 0.2748401486366727, 'bert_score': {'precision': 0.30796751379966736, 'recall': 0.1937231570482254, 'f1': 0.25143155455589294}}\n",
      "{'meteor': 0.1749271137026239, 'rouge1': {'precision': 0.5882352941176471, 'recall': 0.29411764705882354, 'fmeasure': 0.3921568627450981}, 'rougeL': {'precision': 0.2647058823529412, 'recall': 0.1323529411764706, 'fmeasure': 0.17647058823529413}, 'bleu': 0.2366245553771487, 'bert_score': {'precision': 0.2812647819519043, 'recall': 0.09572205692529678, 'f1': 0.1881304383277893}}\n",
      "{'meteor': 0.1013024602026049, 'rouge1': {'precision': 0.5217391304347826, 'recall': 0.17647058823529413, 'fmeasure': 0.26373626373626374}, 'rougeL': {'precision': 0.30434782608695654, 'recall': 0.10294117647058823, 'fmeasure': 0.15384615384615385}, 'bleu': 0.07888071571578521, 'bert_score': {'precision': 0.2681286633014679, 'recall': 0.02276569977402687, 'f1': 0.14387182891368866}}\n",
      "{'meteor': 0.19855595667870035, 'rouge1': {'precision': 0.34782608695652173, 'recall': 0.32, 'fmeasure': 0.3333333333333333}, 'rougeL': {'precision': 0.2608695652173913, 'recall': 0.24, 'fmeasure': 0.24999999999999994}, 'bleu': 0.35476817468686295, 'bert_score': {'precision': 0.2680342197418213, 'recall': 0.1421048790216446, 'f1': 0.20558829605579376}}\n",
      "{'meteor': 0.1081081081081081, 'rouge1': {'precision': 0.3142857142857143, 'recall': 0.15492957746478872, 'fmeasure': 0.20754716981132074}, 'rougeL': {'precision': 0.22857142857142856, 'recall': 0.11267605633802817, 'fmeasure': 0.1509433962264151}, 'bleu': 0.12858560507995997, 'bert_score': {'precision': 0.19842277467250824, 'recall': 0.10489235818386078, 'f1': 0.15260446071624756}}\n",
      "{'meteor': 0.19818025036424725, 'rouge1': {'precision': 0.2571428571428571, 'recall': 0.25, 'fmeasure': 0.2535211267605634}, 'rougeL': {'precision': 0.14285714285714285, 'recall': 0.1388888888888889, 'fmeasure': 0.14084507042253522}, 'bleu': 0.2995987831630854, 'bert_score': {'precision': 0.24176551401615143, 'recall': 0.254239022731781, 'f1': 0.24921686947345734}}\n",
      "{'meteor': 0.1177476600738472, 'rouge1': {'precision': 0.3142857142857143, 'recall': 0.15714285714285714, 'fmeasure': 0.2095238095238095}, 'rougeL': {'precision': 0.2, 'recall': 0.1, 'fmeasure': 0.13333333333333333}, 'bleu': 0.129209389930849, 'bert_score': {'precision': 0.21805937588214874, 'recall': 0.078280970454216, 'f1': 0.14859183132648468}}\n",
      "{'meteor': 0.07487520798668885, 'rouge1': {'precision': 0.2413793103448276, 'recall': 0.11864406779661017, 'fmeasure': 0.15909090909090912}, 'rougeL': {'precision': 0.1724137931034483, 'recall': 0.0847457627118644, 'fmeasure': 0.11363636363636363}, 'bleu': 0.08773875683940345, 'bert_score': {'precision': 0.0478091798722744, 'recall': -0.14243347942829132, 'f1': -0.04746390879154205}}\n",
      "{'meteor': 0.1861702127659574, 'rouge1': {'precision': 0.3103448275862069, 'recall': 0.28125, 'fmeasure': 0.2950819672131148}, 'rougeL': {'precision': 0.2413793103448276, 'recall': 0.21875, 'fmeasure': 0.22950819672131145}, 'bleu': 0.3399154985363554, 'bert_score': {'precision': 0.3740333318710327, 'recall': 0.37376073002815247, 'f1': 0.3749142587184906}}\n",
      "{'meteor': 0.09386733416770965, 'rouge1': {'precision': 0.2413793103448276, 'recall': 0.08974358974358974, 'fmeasure': 0.13084112149532712}, 'rougeL': {'precision': 0.1724137931034483, 'recall': 0.0641025641025641, 'fmeasure': 0.09345794392523364}, 'bleu': 0.07875182122885759, 'bert_score': {'precision': 0.12943145632743835, 'recall': 0.02153332345187664, 'f1': 0.07640200108289719}}\n",
      "{'meteor': 0.1452282157676349, 'rouge1': {'precision': 0.3793103448275862, 'recall': 0.2391304347826087, 'fmeasure': 0.29333333333333333}, 'rougeL': {'precision': 0.27586206896551724, 'recall': 0.17391304347826086, 'fmeasure': 0.21333333333333332}, 'bleu': 0.2492799858197788, 'bert_score': {'precision': 0.21992753446102142, 'recall': 0.11311185359954834, 'f1': 0.16731330752372742}}\n",
      "{'meteor': 0.11016949152542374, 'rouge1': {'precision': 0.3448275862068966, 'recall': 0.18181818181818182, 'fmeasure': 0.23809523809523808}, 'rougeL': {'precision': 0.27586206896551724, 'recall': 0.14545454545454545, 'fmeasure': 0.19047619047619047}, 'bleu': 0.1590897858374496, 'bert_score': {'precision': 0.3107936382293701, 'recall': 0.10425636172294617, 'f1': 0.20673713088035583}}\n",
      "{'meteor': 0.17996273712737126, 'rouge1': {'precision': 0.27586206896551724, 'recall': 0.21052631578947367, 'fmeasure': 0.23880597014925373}, 'rougeL': {'precision': 0.13793103448275862, 'recall': 0.10526315789473684, 'fmeasure': 0.11940298507462686}, 'bleu': 0.2514928724504081, 'bert_score': {'precision': 0.2006789892911911, 'recall': 0.020038839429616928, 'f1': 0.11018547415733337}}\n",
      "{'meteor': 0.15398584293814624, 'rouge1': {'precision': 0.27586206896551724, 'recall': 0.1951219512195122, 'fmeasure': 0.2285714285714286}, 'rougeL': {'precision': 0.20689655172413793, 'recall': 0.14634146341463414, 'fmeasure': 0.1714285714285714}, 'bleu': 0.22194168095958786, 'bert_score': {'precision': 0.3259361982345581, 'recall': 0.13197703659534454, 'f1': 0.22838667035102844}}\n",
      "{'meteor': 0.11551155115511551, 'rouge1': {'precision': 0.39285714285714285, 'recall': 0.19298245614035087, 'fmeasure': 0.2588235294117647}, 'rougeL': {'precision': 0.25, 'recall': 0.12280701754385964, 'fmeasure': 0.16470588235294117}, 'bleu': 0.12878330861507037, 'bert_score': {'precision': 0.26583001017570496, 'recall': 0.13783293962478638, 'f1': 0.20232896506786346}}\n",
      "{'meteor': 0.10344827586206895, 'rouge1': {'precision': 0.25, 'recall': 0.175, 'fmeasure': 0.20588235294117646}, 'rougeL': {'precision': 0.17857142857142858, 'recall': 0.125, 'fmeasure': 0.14705882352941174}, 'bleu': 0.18195919791379003, 'bert_score': {'precision': 0.21096459031105042, 'recall': 0.19327782094478607, 'f1': 0.20340222120285034}}\n",
      "{'meteor': 0.1406308389387145, 'rouge1': {'precision': 0.42857142857142855, 'recall': 0.1875, 'fmeasure': 0.26086956521739124}, 'rougeL': {'precision': 0.35714285714285715, 'recall': 0.15625, 'fmeasure': 0.21739130434782608}, 'bleu': 0.11048067161148765, 'bert_score': {'precision': 0.27649977803230286, 'recall': -0.0025369110517203808, 'f1': 0.13454551994800568}}\n",
      "{'meteor': 0.1547070441079658, 'rouge1': {'precision': 0.30434782608695654, 'recall': 0.11475409836065574, 'fmeasure': 0.16666666666666669}, 'rougeL': {'precision': 0.21739130434782608, 'recall': 0.08196721311475409, 'fmeasure': 0.11904761904761903}, 'bleu': 0.06606497610513762, 'bert_score': {'precision': 0.23117993772029877, 'recall': 0.10189878940582275, 'f1': 0.16707316040992737}}\n",
      "{'meteor': 0.08559201141226819, 'rouge1': {'precision': 0.391304347826087, 'recall': 0.1323529411764706, 'fmeasure': 0.1978021978021978}, 'rougeL': {'precision': 0.17391304347826086, 'recall': 0.058823529411764705, 'fmeasure': 0.0879120879120879}, 'bleu': 0.07010190759365481, 'bert_score': {'precision': 0.16902516782283783, 'recall': 0.03811946138739586, 'f1': 0.10417677462100983}}\n",
      "{'meteor': 0.07331378299120234, 'rouge1': {'precision': 0.13043478260869565, 'recall': 0.1, 'fmeasure': 0.11320754716981132}, 'rougeL': {'precision': 0.13043478260869565, 'recall': 0.1, 'fmeasure': 0.11320754716981132}, 'bleu': 0.13603916296231955, 'bert_score': {'precision': 0.16126073896884918, 'recall': 0.16492398083209991, 'f1': 0.16445162892341614}}\n",
      "{'meteor': 0.10835913312693499, 'rouge1': {'precision': 0.2608695652173913, 'recall': 0.18181818181818182, 'fmeasure': 0.21428571428571427}, 'rougeL': {'precision': 0.21739130434782608, 'recall': 0.15151515151515152, 'fmeasure': 0.17857142857142858}, 'bleu': 0.1763000619790016, 'bert_score': {'precision': 0.16889746487140656, 'recall': 0.040880631655454636, 'f1': 0.10552868247032166}}\n",
      "{'meteor': 0.27287412022614516, 'rouge1': {'precision': 0.3611111111111111, 'recall': 0.35135135135135137, 'fmeasure': 0.3561643835616438}, 'rougeL': {'precision': 0.25, 'recall': 0.24324324324324326, 'fmeasure': 0.24657534246575344}, 'bleu': 0.39489348429717286, 'bert_score': {'precision': 0.3738776743412018, 'recall': 0.33011186122894287, 'f1': 0.3529564142227173}}\n",
      "{'meteor': 0.1818989873337354, 'rouge1': {'precision': 0.3333333333333333, 'recall': 0.23529411764705882, 'fmeasure': 0.27586206896551724}, 'rougeL': {'precision': 0.25, 'recall': 0.17647058823529413, 'fmeasure': 0.20689655172413793}, 'bleu': 0.27067484755156923, 'bert_score': {'precision': 0.32522374391555786, 'recall': 0.23277220129966736, 'f1': 0.2797583043575287}}\n",
      "{'meteor': 0.2152906893592677, 'rouge1': {'precision': 0.2777777777777778, 'recall': 0.2631578947368421, 'fmeasure': 0.27027027027027023}, 'rougeL': {'precision': 0.19444444444444445, 'recall': 0.18421052631578946, 'fmeasure': 0.18918918918918917}, 'bleu': 0.3400398041110252, 'bert_score': {'precision': 0.317831814289093, 'recall': 0.23832038044929504, 'f1': 0.27894461154937744}}\n",
      "{'meteor': 0.19137814748201437, 'rouge1': {'precision': 0.4375, 'recall': 0.2641509433962264, 'fmeasure': 0.3294117647058824}, 'rougeL': {'precision': 0.28125, 'recall': 0.16981132075471697, 'fmeasure': 0.21176470588235294}, 'bleu': 0.21779681840696927, 'bert_score': {'precision': 0.27101385593414307, 'recall': 0.1504891961812973, 'f1': 0.21132682263851166}}\n",
      "{'meteor': 0.09039483239689641, 'rouge1': {'precision': 0.1875, 'recall': 0.09836065573770492, 'fmeasure': 0.12903225806451613}, 'rougeL': {'precision': 0.09375, 'recall': 0.04918032786885246, 'fmeasure': 0.06451612903225806}, 'bleu': 0.08655986851092762, 'bert_score': {'precision': 0.1388740837574005, 'recall': 0.0020271942485123873, 'f1': 0.07102369517087936}}\n",
      "{'meteor': 0.18633540372670807, 'rouge1': {'precision': 0.34375, 'recall': 0.4074074074074074, 'fmeasure': 0.37288135593220334}, 'rougeL': {'precision': 0.25, 'recall': 0.2962962962962963, 'fmeasure': 0.2711864406779661}, 'bleu': 0.32352941176470584, 'bert_score': {'precision': 0.30713656544685364, 'recall': 0.3484213352203369, 'f1': 0.32879096269607544}}\n",
      "{'meteor': 0.08465608465608465, 'rouge1': {'precision': 0.36363636363636365, 'recall': 0.13636363636363635, 'fmeasure': 0.1983471074380165}, 'rougeL': {'precision': 0.24242424242424243, 'recall': 0.09090909090909091, 'fmeasure': 0.13223140495867766}, 'bleu': 0.06849296135675725, 'bert_score': {'precision': 0.1370929479598999, 'recall': -0.05318174883723259, 'f1': 0.04169182851910591}}\n",
      "{'meteor': 0.2017772981314648, 'rouge1': {'precision': 0.5757575757575758, 'recall': 0.3114754098360656, 'fmeasure': 0.4042553191489362}, 'rougeL': {'precision': 0.2727272727272727, 'recall': 0.14754098360655737, 'fmeasure': 0.19148936170212766}, 'bleu': 0.22685574566038005, 'bert_score': {'precision': 0.3644690215587616, 'recall': 0.1625787913799286, 'f1': 0.26275885105133057}}\n",
      "{'meteor': 0.11544011544011545, 'rouge1': {'precision': 0.3333333333333333, 'recall': 0.16923076923076924, 'fmeasure': 0.22448979591836735}, 'rougeL': {'precision': 0.21212121212121213, 'recall': 0.1076923076923077, 'fmeasure': 0.14285714285714288}, 'bleu': 0.1292059858275352, 'bert_score': {'precision': 0.2253996729850769, 'recall': 0.08540250360965729, 'f1': 0.15580905973911285}}\n",
      "{'meteor': 0.10185185185185185, 'rouge1': {'precision': 0.24242424242424243, 'recall': 0.1568627450980392, 'fmeasure': 0.1904761904761905}, 'rougeL': {'precision': 0.18181818181818182, 'recall': 0.11764705882352941, 'fmeasure': 0.14285714285714285}, 'bleu': 0.1753135452253267, 'bert_score': {'precision': 0.301950603723526, 'recall': 0.21046528220176697, 'f1': 0.25701186060905457}}\n",
      "{'meteor': 0.1418143270821842, 'rouge1': {'precision': 0.32142857142857145, 'recall': 0.15789473684210525, 'fmeasure': 0.21176470588235294}, 'rougeL': {'precision': 0.21428571428571427, 'recall': 0.10526315789473684, 'fmeasure': 0.1411764705882353}, 'bleu': 0.1807152652082873, 'bert_score': {'precision': 0.2857488989830017, 'recall': 0.20070356130599976, 'f1': 0.24410519003868103}}\n",
      "{'meteor': 0.1394849785407725, 'rouge1': {'precision': 0.2857142857142857, 'recall': 0.18604651162790697, 'fmeasure': 0.22535211267605632}, 'rougeL': {'precision': 0.21428571428571427, 'recall': 0.13953488372093023, 'fmeasure': 0.16901408450704225}, 'bleu': 0.2533012282388541, 'bert_score': {'precision': 0.27198028564453125, 'recall': 0.16719771921634674, 'f1': 0.22032292187213898}}\n",
      "{'meteor': 0.13975155279503104, 'rouge1': {'precision': 0.14285714285714285, 'recall': 0.14814814814814814, 'fmeasure': 0.14545454545454545}, 'rougeL': {'precision': 0.10714285714285714, 'recall': 0.1111111111111111, 'fmeasure': 0.10909090909090909}, 'bleu': 0.2647058823529412, 'bert_score': {'precision': 0.2127382904291153, 'recall': 0.1598154902458191, 'f1': 0.18746119737625122}}\n",
      "{'meteor': 0.18213653630320298, 'rouge1': {'precision': 0.32432432432432434, 'recall': 0.2222222222222222, 'fmeasure': 0.26373626373626374}, 'rougeL': {'precision': 0.24324324324324326, 'recall': 0.16666666666666666, 'fmeasure': 0.1978021978021978}, 'bleu': 0.2044059933341782, 'bert_score': {'precision': 0.22649170458316803, 'recall': 0.11835086345672607, 'f1': 0.17319168150424957}}\n",
      "{'meteor': 0.25043960142803856, 'rouge1': {'precision': 0.1891891891891892, 'recall': 0.21875, 'fmeasure': 0.20289855072463767}, 'rougeL': {'precision': 0.16216216216216217, 'recall': 0.1875, 'fmeasure': 0.17391304347826086}, 'bleu': 0.24390243902439027, 'bert_score': {'precision': 0.31878232955932617, 'recall': 0.34837108850479126, 'f1': 0.33461883664131165}}\n",
      "{'meteor': 0.1881640625, 'rouge1': {'precision': 0.24324324324324326, 'recall': 0.2, 'fmeasure': 0.21951219512195122}, 'rougeL': {'precision': 0.16216216216216217, 'recall': 0.13333333333333333, 'fmeasure': 0.14634146341463417}, 'bleu': 0.22933582706623454, 'bert_score': {'precision': 0.28106242418289185, 'recall': 0.22168081998825073, 'f1': 0.25241684913635254}}\n",
      "{'meteor': 0.17935037230098846, 'rouge1': {'precision': 0.4482758620689655, 'recall': 0.22413793103448276, 'fmeasure': 0.2988505747126437}, 'rougeL': {'precision': 0.3103448275862069, 'recall': 0.15517241379310345, 'fmeasure': 0.20689655172413793}, 'bleu': 0.18951013394245195, 'bert_score': {'precision': 0.4201420545578003, 'recall': 0.2667792737483978, 'f1': 0.3434118628501892}}\n",
      "{'meteor': 0.07984031936127745, 'rouge1': {'precision': 0.13793103448275862, 'recall': 0.08695652173913043, 'fmeasure': 0.10666666666666666}, 'rougeL': {'precision': 0.13793103448275862, 'recall': 0.08695652173913043, 'fmeasure': 0.10666666666666666}, 'bleu': 0.13630999725405762, 'bert_score': {'precision': 0.21217335760593414, 'recall': 0.06821043789386749, 'f1': 0.14056622982025146}}\n",
      "{'meteor': 0.11737089201877934, 'rouge1': {'precision': 0.10344827586206896, 'recall': 0.16666666666666666, 'fmeasure': 0.1276595744680851}, 'rougeL': {'precision': 0.10344827586206896, 'recall': 0.16666666666666666, 'fmeasure': 0.1276595744680851}, 'bleu': 0.15151515151515155, 'bert_score': {'precision': 0.17801959812641144, 'recall': 0.18222889304161072, 'f1': 0.18145567178726196}}\n",
      "{'meteor': 0.16828397395505146, 'rouge1': {'precision': 0.23684210526315788, 'recall': 0.1836734693877551, 'fmeasure': 0.20689655172413793}, 'rougeL': {'precision': 0.18421052631578946, 'recall': 0.14285714285714285, 'fmeasure': 0.16091954022988508}, 'bleu': 0.23408646771739278, 'bert_score': {'precision': 0.224516361951828, 'recall': 0.19979625940322876, 'f1': 0.21340589225292206}}\n",
      "{'meteor': 0.15495867768595042, 'rouge1': {'precision': 0.23684210526315788, 'recall': 0.20930232558139536, 'fmeasure': 0.2222222222222222}, 'rougeL': {'precision': 0.13157894736842105, 'recall': 0.11627906976744186, 'fmeasure': 0.12345679012345678}, 'bleu': 0.26295150854685434, 'bert_score': {'precision': 0.1545950472354889, 'recall': 0.17567332088947296, 'f1': 0.1664692461490631}}\n",
      "{'meteor': 0.19480519480519481, 'rouge1': {'precision': 0.2631578947368421, 'recall': 0.30303030303030304, 'fmeasure': 0.28169014084507044}, 'rougeL': {'precision': 0.21052631578947367, 'recall': 0.24242424242424243, 'fmeasure': 0.22535211267605634}, 'bleu': 0.32558139534883723, 'bert_score': {'precision': 0.251181960105896, 'recall': 0.26538312435150146, 'f1': 0.2594783306121826}}\n",
      "{'meteor': 0.17772133206973312, 'rouge1': {'precision': 0.2894736842105263, 'recall': 0.18333333333333332, 'fmeasure': 0.22448979591836732}, 'rougeL': {'precision': 0.13157894736842105, 'recall': 0.08333333333333333, 'fmeasure': 0.1020408163265306}, 'bleu': 0.19519217496911473, 'bert_score': {'precision': 0.1568409949541092, 'recall': 0.07930853962898254, 'f1': 0.11920876055955887}}\n",
      "{'meteor': 0.1808972503617945, 'rouge1': {'precision': 0.4473684210526316, 'recall': 0.2698412698412698, 'fmeasure': 0.3366336633663366}, 'rougeL': {'precision': 0.21052631578947367, 'recall': 0.12698412698412698, 'fmeasure': 0.15841584158415842}, 'bleu': 0.26065013052876, 'bert_score': {'precision': 0.3537861704826355, 'recall': 0.21967096626758575, 'f1': 0.28702497482299805}}\n",
      "{'meteor': 0.2030192876046505, 'rouge1': {'precision': 0.3157894736842105, 'recall': 0.25, 'fmeasure': 0.27906976744186046}, 'rougeL': {'precision': 0.23684210526315788, 'recall': 0.1875, 'fmeasure': 0.20930232558139536}, 'bleu': 0.29907630452192624, 'bert_score': {'precision': 0.2960139811038971, 'recall': 0.21554653346538544, 'f1': 0.2566763460636139}}\n",
      "{'meteor': 0.15957446808510636, 'rouge1': {'precision': 0.13157894736842105, 'recall': 0.15625, 'fmeasure': 0.14285714285714285}, 'rougeL': {'precision': 0.13157894736842105, 'recall': 0.15625, 'fmeasure': 0.14285714285714285}, 'bleu': 0.20930232558139536, 'bert_score': {'precision': 0.21892359852790833, 'recall': 0.16821220517158508, 'f1': 0.19475151598453522}}\n",
      "{'meteor': 0.20304568527918782, 'rouge1': {'precision': 0.21052631578947367, 'recall': 0.23529411764705882, 'fmeasure': 0.2222222222222222}, 'rougeL': {'precision': 0.10526315789473684, 'recall': 0.11764705882352941, 'fmeasure': 0.1111111111111111}, 'bleu': 0.27906976744186046, 'bert_score': {'precision': 0.3778272867202759, 'recall': 0.31918954849243164, 'f1': 0.34940290451049805}}\n",
      "{'meteor': 0.1395348837209302, 'rouge1': {'precision': 0.2, 'recall': 0.15789473684210525, 'fmeasure': 0.17647058823529413}, 'rougeL': {'precision': 0.1, 'recall': 0.07894736842105263, 'fmeasure': 0.08823529411764706}, 'bleu': 0.21917318147455309, 'bert_score': {'precision': 0.27328914403915405, 'recall': 0.14490848779678345, 'f1': 0.20958149433135986}}\n",
      "{'meteor': 0.21701388888888892, 'rouge1': {'precision': 0.3, 'recall': 0.3103448275862069, 'fmeasure': 0.3050847457627119}, 'rougeL': {'precision': 0.16666666666666666, 'recall': 0.1724137931034483, 'fmeasure': 0.16949152542372883}, 'bleu': 0.35294117647058826, 'bert_score': {'precision': 0.3239729106426239, 'recall': 0.2674499452114105, 'f1': 0.29670196771621704}}\n",
      "{'meteor': 0.1777213320697331, 'rouge1': {'precision': 0.3333333333333333, 'recall': 0.16129032258064516, 'fmeasure': 0.21739130434782605}, 'rougeL': {'precision': 0.2, 'recall': 0.0967741935483871, 'fmeasure': 0.13043478260869568}, 'bleu': 0.16065763552751985, 'bert_score': {'precision': 0.2415352314710617, 'recall': 0.019062913954257965, 'f1': 0.1292678713798523}}\n",
      "{'meteor': 0.3005826271186441, 'rouge1': {'precision': 0.48148148148148145, 'recall': 0.43333333333333335, 'fmeasure': 0.456140350877193}, 'rougeL': {'precision': 0.3333333333333333, 'recall': 0.3, 'fmeasure': 0.3157894736842105}, 'bleu': 0.40936537653899097, 'bert_score': {'precision': 0.4472339153289795, 'recall': 0.36925992369651794, 'f1': 0.4089227020740509}}\n",
      "{'meteor': 0.22823925672759177, 'rouge1': {'precision': 0.5185185185185185, 'recall': 0.3181818181818182, 'fmeasure': 0.39436619718309857}, 'rougeL': {'precision': 0.37037037037037035, 'recall': 0.22727272727272727, 'fmeasure': 0.2816901408450704}, 'bleu': 0.28139833881513204, 'bert_score': {'precision': 0.4108140468597412, 'recall': 0.27964669466018677, 'f1': 0.34547820687294006}}\n",
      "{'meteor': 0.06555423122765196, 'rouge1': {'precision': 0.23076923076923078, 'recall': 0.0759493670886076, 'fmeasure': 0.11428571428571428}, 'rougeL': {'precision': 0.19230769230769232, 'recall': 0.06329113924050633, 'fmeasure': 0.09523809523809526}, 'bleu': 0.03787289748985986, 'bert_score': {'precision': 0.057994674891233444, 'recall': -0.17219266295433044, 'f1': -0.05809831991791725}}\n",
      "{'meteor': 0.07713884992987377, 'rouge1': {'precision': 0.4230769230769231, 'recall': 0.14285714285714285, 'fmeasure': 0.21359223300970873}, 'rougeL': {'precision': 0.3076923076923077, 'recall': 0.1038961038961039, 'fmeasure': 0.15533980582524273}, 'bleu': 0.07501327265568226, 'bert_score': {'precision': 0.24223247170448303, 'recall': -0.04126053303480148, 'f1': 0.09795723855495453}}\n",
      "{'meteor': 0.10114949594295547, 'rouge1': {'precision': 0.38461538461538464, 'recall': 0.11904761904761904, 'fmeasure': 0.18181818181818182}, 'rougeL': {'precision': 0.2692307692307692, 'recall': 0.08333333333333333, 'fmeasure': 0.12727272727272726}, 'bleu': 0.0392016371161128, 'bert_score': {'precision': 0.23313263058662415, 'recall': -0.06884431093931198, 'f1': 0.07909132540225983}}\n",
      "{'meteor': 0.2823349326134931, 'rouge1': {'precision': 0.55, 'recall': 0.2894736842105263, 'fmeasure': 0.37931034482758624}, 'rougeL': {'precision': 0.3, 'recall': 0.15789473684210525, 'fmeasure': 0.20689655172413793}, 'bleu': 0.2625923743489783, 'bert_score': {'precision': 0.3446336090564728, 'recall': 0.2565191388130188, 'f1': 0.30134040117263794}}\n",
      "{'meteor': 0.23462917501769037, 'rouge1': {'precision': 0.475, 'recall': 0.2878787878787879, 'fmeasure': 0.3584905660377358}, 'rougeL': {'precision': 0.25, 'recall': 0.15151515151515152, 'fmeasure': 0.18867924528301888}, 'bleu': 0.2841183018164923, 'bert_score': {'precision': 0.3170652389526367, 'recall': 0.23835787177085876, 'f1': 0.27858686447143555}}\n",
      "{'meteor': 0.2197306732081168, 'rouge1': {'precision': 0.5, 'recall': 0.31746031746031744, 'fmeasure': 0.3883495145631068}, 'rougeL': {'precision': 0.25, 'recall': 0.15873015873015872, 'fmeasure': 0.1941747572815534}, 'bleu': 0.3142704430375238, 'bert_score': {'precision': 0.2915779650211334, 'recall': 0.19619958102703094, 'f1': 0.2446766197681427}}\n",
      "{'meteor': 0.27339944417667383, 'rouge1': {'precision': 0.4, 'recall': 0.3076923076923077, 'fmeasure': 0.34782608695652173}, 'rougeL': {'precision': 0.25, 'recall': 0.19230769230769232, 'fmeasure': 0.2173913043478261}, 'bleu': 0.3441327983399196, 'bert_score': {'precision': 0.3247631788253784, 'recall': 0.2282077521085739, 'f1': 0.27721235156059265}}\n",
      "{'meteor': 0.09169363538295577, 'rouge1': {'precision': 0.4583333333333333, 'recall': 0.12222222222222222, 'fmeasure': 0.1929824561403509}, 'rougeL': {'precision': 0.2916666666666667, 'recall': 0.07777777777777778, 'fmeasure': 0.12280701754385966}, 'bleu': 0.029758695025745432, 'bert_score': {'precision': 0.2164059579372406, 'recall': -0.018646933138370514, 'f1': 0.09759842604398727}}\n",
      "{'meteor': 0.17527942143326758, 'rouge1': {'precision': 0.375, 'recall': 0.21951219512195122, 'fmeasure': 0.27692307692307694}, 'rougeL': {'precision': 0.20833333333333334, 'recall': 0.12195121951219512, 'fmeasure': 0.15384615384615383}, 'bleu': 0.21189361274176435, 'bert_score': {'precision': 0.32773077487945557, 'recall': 0.17114882171154022, 'f1': 0.2494753748178482}}\n",
      "{'meteor': 0.20818472793781434, 'rouge1': {'precision': 0.5, 'recall': 0.2608695652173913, 'fmeasure': 0.3428571428571428}, 'rougeL': {'precision': 0.4166666666666667, 'recall': 0.21739130434782608, 'fmeasure': 0.2857142857142857}, 'bleu': 0.2283957169484375, 'bert_score': {'precision': 0.40230318903923035, 'recall': 0.23857682943344116, 'f1': 0.3202674090862274}}\n",
      "{'meteor': 0.1266245373485868, 'rouge1': {'precision': 0.41379310344827586, 'recall': 0.16216216216216217, 'fmeasure': 0.23300970873786403}, 'rougeL': {'precision': 0.3448275862068966, 'recall': 0.13513513513513514, 'fmeasure': 0.1941747572815534}, 'bleu': 0.10791237738157569, 'bert_score': {'precision': 0.3172396421432495, 'recall': 0.04480484873056412, 'f1': 0.17872537672519684}}\n",
      "{'meteor': 0.15648191508782514, 'rouge1': {'precision': 0.4827586206896552, 'recall': 0.2028985507246377, 'fmeasure': 0.2857142857142857}, 'rougeL': {'precision': 0.3103448275862069, 'recall': 0.13043478260869565, 'fmeasure': 0.18367346938775508}, 'bleu': 0.13457317436459193, 'bert_score': {'precision': 0.3323981463909149, 'recall': 0.14223256707191467, 'f1': 0.23680533468723297}}\n",
      "{'meteor': 0.12635379061371843, 'rouge1': {'precision': 0.3103448275862069, 'recall': 0.16981132075471697, 'fmeasure': 0.2195121951219512}, 'rougeL': {'precision': 0.2413793103448276, 'recall': 0.1320754716981132, 'fmeasure': 0.17073170731707316}, 'bleu': 0.16640524128040496, 'bert_score': {'precision': 0.33207055926322937, 'recall': 0.14201821386814117, 'f1': 0.2365369349718094}}\n",
      "{'meteor': 0.189375, 'rouge1': {'precision': 0.27586206896551724, 'recall': 0.1702127659574468, 'fmeasure': 0.21052631578947364}, 'rougeL': {'precision': 0.2413793103448276, 'recall': 0.14893617021276595, 'fmeasure': 0.18421052631578946}, 'bleu': 0.16726919641218446, 'bert_score': {'precision': 0.3743846118450165, 'recall': 0.17726613581180573, 'f1': 0.27513647079467773}}\n",
      "{'meteor': 0.21045442605726294, 'rouge1': {'precision': 0.3225806451612903, 'recall': 0.2631578947368421, 'fmeasure': 0.2898550724637681}, 'rougeL': {'precision': 0.25806451612903225, 'recall': 0.21052631578947367, 'fmeasure': 0.23188405797101447}, 'bleu': 0.2972998583481985, 'bert_score': {'precision': 0.25422313809394836, 'recall': 0.2132597118616104, 'f1': 0.23490461707115173}}\n",
      "{'meteor': 0.15602326907131012, 'rouge1': {'precision': 0.2903225806451613, 'recall': 0.16666666666666666, 'fmeasure': 0.2117647058823529}, 'rougeL': {'precision': 0.1935483870967742, 'recall': 0.1111111111111111, 'fmeasure': 0.1411764705882353}, 'bleu': 0.1574555175803382, 'bert_score': {'precision': 0.27258023619651794, 'recall': 0.048576612025499344, 'f1': 0.15947946906089783}}\n",
      "{'meteor': 0.1903720671942246, 'rouge1': {'precision': 0.3333333333333333, 'recall': 0.28205128205128205, 'fmeasure': 0.3055555555555555}, 'rougeL': {'precision': 0.18181818181818182, 'recall': 0.15384615384615385, 'fmeasure': 0.16666666666666669}, 'bleu': 0.30286697119443523, 'bert_score': {'precision': 0.25274625420570374, 'recall': 0.2427426427602768, 'f1': 0.24896152317523956}}\n",
      "{'meteor': 0.1851851851851852, 'rouge1': {'precision': 0.2727272727272727, 'recall': 0.3333333333333333, 'fmeasure': 0.3}, 'rougeL': {'precision': 0.15151515151515152, 'recall': 0.18518518518518517, 'fmeasure': 0.16666666666666666}, 'bleu': 0.3333333333333333, 'bert_score': {'precision': 0.24186988174915314, 'recall': 0.23979045450687408, 'f1': 0.24206356704235077}}\n",
      "{'meteor': 0.1798428731762065, 'rouge1': {'precision': 0.3333333333333333, 'recall': 0.2391304347826087, 'fmeasure': 0.27848101265822783}, 'rougeL': {'precision': 0.24242424242424243, 'recall': 0.17391304347826086, 'fmeasure': 0.20253164556962025}, 'bleu': 0.25637135618906143, 'bert_score': {'precision': 0.22416119277477264, 'recall': 0.14494280517101288, 'f1': 0.18556930124759674}}\n",
      "{'meteor': 0.1088929219600726, 'rouge1': {'precision': 0.37037037037037035, 'recall': 0.19230769230769232, 'fmeasure': 0.25316455696202533}, 'rougeL': {'precision': 0.14814814814814814, 'recall': 0.07692307692307693, 'fmeasure': 0.10126582278481014}, 'bleu': 0.12685497971429047, 'bert_score': {'precision': 0.17504209280014038, 'recall': 0.07928378134965897, 'f1': 0.1281268149614334}}\n",
      "{'meteor': 0.11220760233918128, 'rouge1': {'precision': 0.14814814814814814, 'recall': 0.11764705882352941, 'fmeasure': 0.13114754098360654}, 'rougeL': {'precision': 0.1111111111111111, 'recall': 0.08823529411764706, 'fmeasure': 0.09836065573770492}, 'bleu': 0.09770240978653258, 'bert_score': {'precision': 0.15537257492542267, 'recall': 0.12889857590198517, 'f1': 0.14349429309368134}}\n",
      "{'meteor': 0.18128924378924377, 'rouge1': {'precision': 0.4074074074074074, 'recall': 0.2972972972972973, 'fmeasure': 0.34375}, 'rougeL': {'precision': 0.18518518518518517, 'recall': 0.13513513513513514, 'fmeasure': 0.15625}, 'bleu': 0.2643014312159824, 'bert_score': {'precision': 0.2264626920223236, 'recall': 0.17737366259098053, 'f1': 0.2030963897705078}}\n",
      "{'meteor': 0.20897247788004092, 'rouge1': {'precision': 0.3125, 'recall': 0.23809523809523808, 'fmeasure': 0.27027027027027023}, 'rougeL': {'precision': 0.25, 'recall': 0.19047619047619047, 'fmeasure': 0.2162162162162162}, 'bleu': 0.2864998792204886, 'bert_score': {'precision': 0.2802523374557495, 'recall': 0.22860321402549744, 'f1': 0.25550949573516846}}\n",
      "{'meteor': 0.1754385964912281, 'rouge1': {'precision': 0.25, 'recall': 0.27586206896551724, 'fmeasure': 0.26229508196721313}, 'rougeL': {'precision': 0.1875, 'recall': 0.20689655172413793, 'fmeasure': 0.19672131147540986}, 'bleu': 0.3333333333333333, 'bert_score': {'precision': 0.2744009792804718, 'recall': 0.34531068801879883, 'f1': 0.3107394576072693}}\n",
      "{'meteor': 0.26922969305240774, 'rouge1': {'precision': 0.4375, 'recall': 0.30434782608695654, 'fmeasure': 0.358974358974359}, 'rougeL': {'precision': 0.28125, 'recall': 0.1956521739130435, 'fmeasure': 0.23076923076923078}, 'bleu': 0.2929958356446416, 'bert_score': {'precision': 0.26345211267471313, 'recall': 0.21058449149131775, 'f1': 0.23812156915664673}}\n",
      "{'meteor': 0.06821282401091404, 'rouge1': {'precision': 0.17857142857142858, 'recall': 0.07042253521126761, 'fmeasure': 0.10101010101010102}, 'rougeL': {'precision': 0.14285714285714285, 'recall': 0.056338028169014086, 'fmeasure': 0.0808080808080808}, 'bleu': 0.049578099371621956, 'bert_score': {'precision': 0.22470173239707947, 'recall': 0.02049408294260502, 'f1': 0.1219606027007103}}\n",
      "{'meteor': 0.0855513307984791, 'rouge1': {'precision': 0.17857142857142858, 'recall': 0.10416666666666667, 'fmeasure': 0.13157894736842105}, 'rougeL': {'precision': 0.10714285714285714, 'recall': 0.0625, 'fmeasure': 0.07894736842105263}, 'bleu': 0.10411381493915775, 'bert_score': {'precision': 0.26087185740470886, 'recall': 0.17791876196861267, 'f1': 0.22032856941223145}}\n",
      "{'meteor': 0.12721503831417627, 'rouge1': {'precision': 0.2857142857142857, 'recall': 0.14035087719298245, 'fmeasure': 0.18823529411764706}, 'rougeL': {'precision': 0.25, 'recall': 0.12280701754385964, 'fmeasure': 0.16470588235294117}, 'bleu': 0.1348174190826913, 'bert_score': {'precision': 0.279875248670578, 'recall': 0.0647687017917633, 'f1': 0.17140009999275208}}\n",
      "{'meteor': 0.0929368029739777, 'rouge1': {'precision': 0.25, 'recall': 0.16, 'fmeasure': 0.19512195121951217}, 'rougeL': {'precision': 0.125, 'recall': 0.08, 'fmeasure': 0.09756097560975609}, 'bleu': 0.13859562327749922, 'bert_score': {'precision': 0.1593289077281952, 'recall': 0.126009002327919, 'f1': 0.14400672912597656}}\n",
      "{'meteor': 0.13368484336409722, 'rouge1': {'precision': 0.28125, 'recall': 0.15517241379310345, 'fmeasure': 0.2}, 'rougeL': {'precision': 0.15625, 'recall': 0.08620689655172414, 'fmeasure': 0.11111111111111112}, 'bleu': 0.12623099934305132, 'bert_score': {'precision': 0.18874631822109222, 'recall': 0.07938069850206375, 'f1': 0.13487891852855682}}\n"
     ]
    }
   ],
   "source": [
    "model_type_FT = \"FT_BS_B1\" #\"FT_KP_P95\" #\"sampling\"\n",
    "meteor_scores_FT = []\n",
    "for m in data_FT:\n",
    "    if model_type_FT in m:\n",
    "        #print(m[model_type_FT][\"scores\"])\n",
    "        if m[model_type_FT][\"scores\"][\"meteor\"] != -100:\n",
    "            meteor_scores_FT.append(m[model_type_FT][\"scores\"][\"meteor\"])"
   ]
  },
  {
   "cell_type": "code",
   "execution_count": 138,
   "metadata": {},
   "outputs": [
    {
     "data": {
      "text/plain": [
       "100"
      ]
     },
     "execution_count": 138,
     "metadata": {},
     "output_type": "execute_result"
    }
   ],
   "source": [
    "len(meteor_scores_FT)"
   ]
  },
  {
   "cell_type": "code",
   "execution_count": 147,
   "metadata": {},
   "outputs": [
    {
     "name": "stdout",
     "output_type": "stream",
     "text": [
      "0.0\n",
      "0.2256830151415405\n",
      "0.07291964523560175\n"
     ]
    }
   ],
   "source": [
    "import statistics\n",
    "\n",
    "print(min(meteor_scores_BL))\n",
    "print(max(meteor_scores_BL))\n",
    "print(statistics.mean(meteor_scores_BL))"
   ]
  },
  {
   "cell_type": "code",
   "execution_count": 148,
   "metadata": {},
   "outputs": [
    {
     "data": {
      "text/plain": [
       "list"
      ]
     },
     "execution_count": 148,
     "metadata": {},
     "output_type": "execute_result"
    }
   ],
   "source": [
    "type(meteor_scores_BL)"
   ]
  },
  {
   "cell_type": "code",
   "execution_count": 131,
   "metadata": {},
   "outputs": [
    {
     "name": "stdout",
     "output_type": "stream",
     "text": [
      "97\n",
      "100\n"
     ]
    }
   ],
   "source": [
    "if -100 in meteor_scores_BL: \n",
    "    print(\"found -100\")\n",
    "    meteor_scores_BL.remove(-100)\n",
    "if -100 in meteor_scores_FT: \n",
    "    print(\"found -100\")\n",
    "    meteor_scores_FT.remove(-100)\n",
    "    \n",
    "print(len(meteor_scores_BL))\n",
    "print(len(meteor_scores_FT))\n"
   ]
  },
  {
   "cell_type": "code",
   "execution_count": 149,
   "metadata": {},
   "outputs": [
    {
     "data": {
      "text/html": [
       "<div>\n",
       "<style scoped>\n",
       "    .dataframe tbody tr th:only-of-type {\n",
       "        vertical-align: middle;\n",
       "    }\n",
       "\n",
       "    .dataframe tbody tr th {\n",
       "        vertical-align: top;\n",
       "    }\n",
       "\n",
       "    .dataframe thead th {\n",
       "        text-align: right;\n",
       "    }\n",
       "</style>\n",
       "<table border=\"1\" class=\"dataframe\">\n",
       "  <thead>\n",
       "    <tr style=\"text-align: right;\">\n",
       "      <th></th>\n",
       "      <th>0</th>\n",
       "    </tr>\n",
       "  </thead>\n",
       "  <tbody>\n",
       "    <tr>\n",
       "      <th>count</th>\n",
       "      <td>542.000000</td>\n",
       "    </tr>\n",
       "    <tr>\n",
       "      <th>mean</th>\n",
       "      <td>0.072920</td>\n",
       "    </tr>\n",
       "    <tr>\n",
       "      <th>std</th>\n",
       "      <td>0.041748</td>\n",
       "    </tr>\n",
       "    <tr>\n",
       "      <th>min</th>\n",
       "      <td>0.000000</td>\n",
       "    </tr>\n",
       "    <tr>\n",
       "      <th>25%</th>\n",
       "      <td>0.041239</td>\n",
       "    </tr>\n",
       "    <tr>\n",
       "      <th>50%</th>\n",
       "      <td>0.070026</td>\n",
       "    </tr>\n",
       "    <tr>\n",
       "      <th>75%</th>\n",
       "      <td>0.099387</td>\n",
       "    </tr>\n",
       "    <tr>\n",
       "      <th>max</th>\n",
       "      <td>0.225683</td>\n",
       "    </tr>\n",
       "  </tbody>\n",
       "</table>\n",
       "</div>"
      ],
      "text/plain": [
       "                0\n",
       "count  542.000000\n",
       "mean     0.072920\n",
       "std      0.041748\n",
       "min      0.000000\n",
       "25%      0.041239\n",
       "50%      0.070026\n",
       "75%      0.099387\n",
       "max      0.225683"
      ]
     },
     "execution_count": 149,
     "metadata": {},
     "output_type": "execute_result"
    }
   ],
   "source": [
    "pd.DataFrame(meteor_scores_BL).describe()"
   ]
  },
  {
   "cell_type": "code",
   "execution_count": 103,
   "metadata": {},
   "outputs": [
    {
     "data": {
      "text/html": [
       "<div>\n",
       "<style scoped>\n",
       "    .dataframe tbody tr th:only-of-type {\n",
       "        vertical-align: middle;\n",
       "    }\n",
       "\n",
       "    .dataframe tbody tr th {\n",
       "        vertical-align: top;\n",
       "    }\n",
       "\n",
       "    .dataframe thead th {\n",
       "        text-align: right;\n",
       "    }\n",
       "</style>\n",
       "<table border=\"1\" class=\"dataframe\">\n",
       "  <thead>\n",
       "    <tr style=\"text-align: right;\">\n",
       "      <th></th>\n",
       "      <th>0</th>\n",
       "    </tr>\n",
       "  </thead>\n",
       "  <tbody>\n",
       "    <tr>\n",
       "      <th>count</th>\n",
       "      <td>100.000000</td>\n",
       "    </tr>\n",
       "    <tr>\n",
       "      <th>mean</th>\n",
       "      <td>0.151133</td>\n",
       "    </tr>\n",
       "    <tr>\n",
       "      <th>std</th>\n",
       "      <td>0.057134</td>\n",
       "    </tr>\n",
       "    <tr>\n",
       "      <th>min</th>\n",
       "      <td>0.064286</td>\n",
       "    </tr>\n",
       "    <tr>\n",
       "      <th>25%</th>\n",
       "      <td>0.106912</td>\n",
       "    </tr>\n",
       "    <tr>\n",
       "      <th>50%</th>\n",
       "      <td>0.144272</td>\n",
       "    </tr>\n",
       "    <tr>\n",
       "      <th>75%</th>\n",
       "      <td>0.184930</td>\n",
       "    </tr>\n",
       "    <tr>\n",
       "      <th>max</th>\n",
       "      <td>0.338182</td>\n",
       "    </tr>\n",
       "  </tbody>\n",
       "</table>\n",
       "</div>"
      ],
      "text/plain": [
       "                0\n",
       "count  100.000000\n",
       "mean     0.151133\n",
       "std      0.057134\n",
       "min      0.064286\n",
       "25%      0.106912\n",
       "50%      0.144272\n",
       "75%      0.184930\n",
       "max      0.338182"
      ]
     },
     "execution_count": 103,
     "metadata": {},
     "output_type": "execute_result"
    }
   ],
   "source": [
    "pd.DataFrame(meteor_scores_FT).describe()"
   ]
  },
  {
   "cell_type": "code",
   "execution_count": null,
   "metadata": {},
   "outputs": [],
   "source": []
  },
  {
   "cell_type": "code",
   "execution_count": 104,
   "metadata": {},
   "outputs": [
    {
     "data": {
      "image/png": "[encoded data removed]",
      "text/plain": [
       "<Figure size 432x288 with 1 Axes>"
      ]
     },
     "metadata": {
      "needs_background": "light"
     },
     "output_type": "display_data"
    }
   ],
   "source": [
    "from matplotlib import pyplot as plt\n",
    "import numpy as np\n",
    "import math #needed for definition of pi\n",
    "\n",
    "plt.plot(meteor_scores_BL, label=\"Baseline\")\n",
    "plt.plot(meteor_scores_FT, label=\"Fine Tuned\")\n",
    "plt.xlabel(\"# Examples\")\n",
    "plt.ylabel(\"METEOR Score\")\n",
    "plt.title(\"KP Sampling METEOR Scores - Baseline vs Fine Tuned\")\n",
    "plt.legend()\n",
    "plt.show()\n"
   ]
  },
  {
   "cell_type": "code",
   "execution_count": 105,
   "metadata": {},
   "outputs": [
    {
     "data": {
      "image/png": "[encoded data removed]",
      "text/plain": [
       "<Figure size 432x288 with 1 Axes>"
      ]
     },
     "metadata": {
      "needs_background": "light"
     },
     "output_type": "display_data"
    }
   ],
   "source": [
    "import statistics\n",
    "\n",
    "plt.hist(meteor_scores_BL, label=\"Baseline\")\n",
    "plt.hist(meteor_scores_FT, label=\"Fine Tuned\")\n",
    "\n",
    "#plt.vlines(x=statistics.mean(meteor_scores_BL), ymin=0, ymax=max([1,1200]), colors='purple', linestyles='dashed')\n",
    "#plt.vlines(x=statistics.mean(meteor_scores_FT), ymin=0, ymax=max([1,1200]), colors='black', linestyles='dashed')\n",
    "\n",
    "plt.vlines(x=statistics.mean(meteor_scores_BL), ymin=0, ymax=max([1,len(meteor_scores_BL)/2]), colors='purple', linestyles=\"dashed\")\n",
    "plt.text(statistics.mean(meteor_scores_BL), len(meteor_scores_BL)/2, round(statistics.mean(meteor_scores_BL), 4))\n",
    "\n",
    "plt.vlines(x=statistics.mean(meteor_scores_FT), ymin=0, ymax=max([1,len(meteor_scores_FT)/2]), colors='black', linestyles=\"dashed\")\n",
    "plt.text(statistics.mean(meteor_scores_FT), len(meteor_scores_FT)/2, round(statistics.mean(meteor_scores_FT), 4))\n",
    "\n",
    "plt.title(\"KP Sampling METEOR Scores - Baseline vs Fine Tuned\")\n",
    "plt.legend()\n",
    "plt.show()"
   ]
  },
  {
   "cell_type": "code",
   "execution_count": 106,
   "metadata": {},
   "outputs": [
    {
     "name": "stderr",
     "output_type": "stream",
     "text": [
      "C:\\Users\\sundeepm\\Anaconda3\\envs\\W203\\lib\\site-packages\\seaborn\\distributions.py:2557: FutureWarning: `distplot` is a deprecated function and will be removed in a future version. Please adapt your code to use either `displot` (a figure-level function with similar flexibility) or `kdeplot` (an axes-level function for kernel density plots).\n",
      "  warnings.warn(msg, FutureWarning)\n",
      "C:\\Users\\sundeepm\\Anaconda3\\envs\\W203\\lib\\site-packages\\seaborn\\distributions.py:2557: FutureWarning: `distplot` is a deprecated function and will be removed in a future version. Please adapt your code to use either `displot` (a figure-level function with similar flexibility) or `kdeplot` (an axes-level function for kernel density plots).\n",
      "  warnings.warn(msg, FutureWarning)\n"
     ]
    },
    {
     "data": {
      "image/png": "[encoded data removed]",
      "text/plain": [
       "<Figure size 432x288 with 1 Axes>"
      ]
     },
     "metadata": {
      "needs_background": "light"
     },
     "output_type": "display_data"
    }
   ],
   "source": [
    "import pandas as pd\n",
    "import seaborn as sb\n",
    "from matplotlib import pyplot as plt\n",
    "\n",
    "sb.distplot(meteor_scores_BL, hist=False, label=\"Baseline\")\n",
    "sb.distplot(meteor_scores_FT, hist=False, label=\"Fine Tuned\")\n",
    "\n",
    "plt.vlines(x=statistics.mean(meteor_scores_BL), ymin=0, ymax=max([1,12]), colors='purple', linestyles=\"dashed\")\n",
    "plt.text(statistics.mean(meteor_scores_BL), 12, round(statistics.mean(meteor_scores_BL), 4))\n",
    "\n",
    "plt.vlines(x=statistics.mean(meteor_scores_FT), ymin=0, ymax=max([1,12]), colors='black', linestyles=\"dashed\")\n",
    "plt.text(statistics.mean(meteor_scores_FT), 12, round(statistics.mean(meteor_scores_FT), 4))\n",
    "\n",
    "plt.xlabel(\"METEOR Score\")\n",
    "plt.title(\"KP Sampling METEOR Scores - Baseline vs Fine Tuned\")\n",
    "plt.legend()\n",
    "plt.show()"
   ]
  },
  {
   "cell_type": "code",
   "execution_count": null,
   "metadata": {},
   "outputs": [],
   "source": []
  }
 ],
 "metadata": {
  "kernelspec": {
   "display_name": "Python 3",
   "language": "python",
   "name": "python3"
  },
  "language_info": {
   "codemirror_mode": {
    "name": "ipython",
    "version": 3
   },
   "file_extension": ".py",
   "mimetype": "text/x-python",
   "name": "python",
   "nbconvert_exporter": "python",
   "pygments_lexer": "ipython3",
   "version": "3.6.12"
  }
 },
 "nbformat": 4,
 "nbformat_minor": 4
}
