{
 "cells": [
  {
   "cell_type": "markdown",
   "metadata": {},
   "source": [
    "## W266-Section 3- Final Project\n",
    "### Submitted by: Sundeep Kumar Mahensaria, Eric Lee\n",
    "\n",
    "#### Files\n",
    "1. `Baseline_BS5_GPT-2M-GenText2.ipynb`: Generate baseline texts using Vanilla GPT-2 Medium model - Beam Search (Size=5) Decoder\n",
    "\n",
    "2. `Baseline_KPSampling_GPT-2M-GenText2.ipynb`: Generate baseline texts using Vanilla GPT-2 Medium model - KP Sampling Decoder\n",
    "\n",
    "3. `Exploration_FineTune_GPT-2L-GenText2.ipynb`: Fine-tune and generate texts - GPT-2 Large model\n",
    "\n",
    "4. `Exploration_FineTune_GPT-2M-GenText2.ipynb`: Fine-tune and generate texts - GPT-2 Medium model\n",
    "\n",
    "5. `Exploration_FineTune_GPT-2M-GenText3.ipynb`: Fine-tune and generate texts - GPT-2 Medium model - Hyper parameter tuning\n",
    "\n",
    "6. `Full_BS5_FineTune_GPT-2M-GenText2.ipynb`: Run Fine-tuned model to generate texts on Test Data Set - GPT-2 Medium model - Beam Search (Size=5)\n",
    "\n",
    "7. `Full_P95_FineTune_GPT-2M-GenText2.ipynb`: Run Fine-tuned model to generate texts on Test Data Set - GPT-2 Medium model - KP Sampling (P = 0.95)\n",
    "\n",
    "\n"
   ]
  },
  {
   "cell_type": "code",
   "execution_count": null,
   "metadata": {},
   "outputs": [],
   "source": []
  }
 ],
 "metadata": {
  "kernelspec": {
   "display_name": "Python 3",
   "language": "python",
   "name": "python3"
  },
  "language_info": {
   "codemirror_mode": {
    "name": "ipython",
    "version": 3
   },
   "file_extension": ".py",
   "mimetype": "text/x-python",
   "name": "python",
   "nbconvert_exporter": "python",
   "pygments_lexer": "ipython3",
   "version": "3.6.12"
  }
 },
 "nbformat": 4,
 "nbformat_minor": 4
}
