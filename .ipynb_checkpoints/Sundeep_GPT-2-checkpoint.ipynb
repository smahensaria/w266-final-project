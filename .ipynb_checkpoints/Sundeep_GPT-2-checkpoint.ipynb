{
 "cells": [
  {
   "cell_type": "markdown",
   "metadata": {},
   "source": [
    "### GPT2 [https://huggingface.co/gpt2]"
   ]
  },
  {
   "cell_type": "markdown",
   "metadata": {},
   "source": [
    "### Read from json file"
   ]
  },
  {
   "cell_type": "code",
   "execution_count": 4,
   "metadata": {},
   "outputs": [
    {
     "data": {
      "text/plain": [
       "'C:\\\\Users\\\\sundeepm\\\\source\\\\MIDS\\\\w266\\\\w266-final-project'"
      ]
     },
     "execution_count": 4,
     "metadata": {},
     "output_type": "execute_result"
    }
   ],
   "source": [
    "import os\n",
    "\n",
    "os.getcwd()"
   ]
  },
  {
   "cell_type": "code",
   "execution_count": 59,
   "metadata": {},
   "outputs": [],
   "source": [
    "# Python program to read\n",
    "# json file\n",
    "\n",
    "\n",
    "import json\n",
    "\n",
    "# Opening JSON file\n",
    "#f_dii_train = open('.\\\\VIST\\\\dii\\\\train.description-in-isolation.json',)\n",
    "f_dii_val = open('.\\\\VIST\\\\dii\\\\val.description-in-isolation.json',)\n",
    "#f_dii_test = open('.\\\\VIST\\\\dii\\\\test.description-in-isolation.json',)\n",
    "\n",
    "f_sis_train = open('.\\\\VIST\\\\sis\\\\train.story-in-sequence.json',)\n",
    "f_sis_val = open('.\\\\VIST\\\\sis\\\\val.story-in-sequence.json',)\n",
    "f_sis_test = open('.\\\\VIST\\\\sis\\\\test.story-in-sequence.json',)\n",
    "\n",
    "\n",
    "# returns JSON object as\n",
    "# a dictionary\n",
    "#data_dii_train = json.load(f_dii_train)\n",
    "data_dii_val = json.load(f_dii_val)\n",
    "#data_dii_test = json.load(f_dii_test)\n",
    "\n",
    "data_sis_train = json.load(f_sis_train)\n",
    "data_sis_val = json.load(f_sis_val)\n",
    "data_sis_test = json.load(f_sis_test)\n",
    "\n",
    "# Iterating through the json\n",
    "# list\n",
    "#for i in data_dii['images']:\n",
    "#    print(i)\n",
    "\n",
    "# Closing file\n",
    "#f_dii_train.close()\n",
    "f_dii_val.close()\n",
    "#f_dii_test.close()\n",
    "\n",
    "#f_sis_train.close()\n",
    "f_sis_val.close()\n",
    "#f_sis_test.close()\n"
   ]
  },
  {
   "cell_type": "code",
   "execution_count": 78,
   "metadata": {},
   "outputs": [
    {
     "name": "stdout",
     "output_type": "stream",
     "text": [
      "dii keys: dict_keys(['images', 'info', 'albums', 'type', 'annotations'])\n",
      "sis keys: dict_keys(['images', 'info', 'albums', 'type', 'annotations'])\n",
      "SIND v1.0\n"
     ]
    }
   ],
   "source": [
    "print('dii keys:', data_dii_val.keys())\n",
    "print('sis keys:', data_sis_val.keys())\n",
    "\n",
    "print(data_dii_val['info'])\n"
   ]
  },
  {
   "cell_type": "code",
   "execution_count": null,
   "metadata": {},
   "outputs": [],
   "source": [
    "print(data_dii_val['albums'])"
   ]
  },
  {
   "cell_type": "code",
   "execution_count": 79,
   "metadata": {},
   "outputs": [
    {
     "name": "stdout",
     "output_type": "stream",
     "text": [
      "description-in-isolation\n"
     ]
    }
   ],
   "source": [
    "print(data_dii_val['type'])"
   ]
  },
  {
   "cell_type": "code",
   "execution_count": 80,
   "metadata": {},
   "outputs": [
    {
     "name": "stdout",
     "output_type": "stream",
     "text": [
      "[{'original_text': 'Six or seven bottle rockets next to a specialty firework.', 'album_id': '72157600601428727', 'photo_flickr_id': '694227468', 'photo_order_in_story': 0, 'worker_id': 'WFCAHLMWB3LKKAX', 'text': 'six or seven bottle rockets next to a specialty firework .', 'tier': 'descriptions-in-isolation'}]\n",
      "[{'original_text': 'My sister arrived early to help me with the family Bar BQ.', 'album_id': '72157600601428727', 'photo_flickr_id': '693397887', 'setting': 'first-2-pick-and-tell', 'worker_id': 'AS2MDFCRUS236TU', 'story_id': '40470', 'tier': 'story-in-sequence', 'worker_arranged_photo_order': 0, 'text': 'my sister arrived early to help me with the family bar bq .', 'storylet_id': '202350'}]\n",
      "[{'original_text': 'the burgers are being grilled on the grill', 'album_id': '72157600601428727', 'photo_flickr_id': '694227412', 'photo_order_in_story': 1, 'worker_id': 'POC1IIAC4P24QW2', 'text': 'the burgers are being grilled on the grill', 'tier': 'descriptions-in-isolation'}]\n",
      "[{'original_text': 'Every one else arrived soon after.', 'album_id': '72157600601428727', 'photo_flickr_id': '695160730', 'setting': 'first-2-pick-and-tell', 'worker_id': 'AS2MDFCRUS236TU', 'story_id': '40470', 'tier': 'story-in-sequence', 'worker_arranged_photo_order': 1, 'text': 'every one else arrived soon after .', 'storylet_id': '202351'}]\n"
     ]
    }
   ],
   "source": [
    "print(data_dii_val['annotations'][0])\n",
    "print(data_sis_val['annotations'][0])\n",
    "print(data_dii_val['annotations'][1])\n",
    "print(data_sis_val['annotations'][1])\n",
    "\n",
    "#print(type(data_sis_val['annotations']), type(data_sis_val['annotations'][0]))\n",
    "#print(type(data_sis_val['annotations'][0][0]))\n",
    "\n",
    "#print(data_sis_val['annotations'][0][0])\n",
    "#print(data_sis_val['annotations'][0][0]['photo_flickr_id'])"
   ]
  },
  {
   "cell_type": "code",
   "execution_count": 68,
   "metadata": {},
   "outputs": [
    {
     "name": "stdout",
     "output_type": "stream",
     "text": [
      "dii: firecrackers and a chicken shaped firecracker sit on bricks .\n",
      "sis: we gathered up some fire works to set off at dark .\n",
      "dii: four meat patties sit on a grill and cook .\n",
      "sis: we grilled some burgers that were oddly shaped .\n",
      "dii: young woman standing near a shed while holding two pitch forks\n",
      "sis: our friends trickled in one by one !\n",
      "dii: a man grills food outside in front of his garage .\n",
      "sis: we got all the food on the grill to cook and ready to eat .\n",
      "dii: a view of the sunrise over a backdrop of mountains .\n",
      "sis: the sunset was amazing that night !\n",
      "dii: these fireworks are ready for someone to have lots of fun .\n",
      "sis: i took some pictures from my family 's bbq last weekend .\n",
      "dii: strangely shaped hamburgers are being cooked on a barbeque grill .\n",
      "sis: we made hamburgers into little star shapes .\n",
      "dii: one girl is holding two skewers with five hot dogs and one smile .\n",
      "sis: my wife is ready for the attack !\n",
      "dii: a man with a hat standing next to a grill cooking some food with a spatula in his hand .\n",
      "sis: my dad is trying to touch my food . do n't touch ! !\n",
      "dii: a shadowy figure of a person observing the sunset\n",
      "sis: the sunset afterwards was so beautiful .\n",
      "14970\n"
     ]
    }
   ],
   "source": [
    "count = 0\n",
    "for i, s in zip(data_dii_val['annotations'], data_sis_val['annotations']):\n",
    "    count += 1\n",
    "    for ii, ss in zip (i, s):\n",
    "        #print(ii['album_id'])\n",
    "        if ii['photo_flickr_id'] == ss['photo_flickr_id']:    #'72157600654289032': # s['tags']:\n",
    "            \n",
    "            print('dii:', ii['text'])\n",
    "            print('sis:', ss['text'])\n",
    "            \n",
    "print(count)"
   ]
  },
  {
   "cell_type": "code",
   "execution_count": 65,
   "metadata": {
    "scrolled": true
   },
   "outputs": [
    {
     "name": "stdout",
     "output_type": "stream",
     "text": [
      "dii: six or seven bottle rockets next to a specialty firework .\n",
      "sis: we ended the day shooting off some fireworks .\n",
      "dii: six or seven bottle rockets next to a specialty firework .\n",
      "sis: we gathered up some fire works to set off at dark .\n",
      "dii: six or seven bottle rockets next to a specialty firework .\n",
      "sis: i took some pictures from my family 's bbq last weekend .\n",
      "dii: six or seven bottle rockets next to a specialty firework .\n",
      "sis: but of course , everyone was most looking forward to setting off the fireworks when the sun went down .\n",
      "dii: six or seven bottle rockets next to a specialty firework .\n",
      "sis: the fireworks are a great addition ,\n",
      "dii: the burgers are being grilled on the grill\n",
      "sis: we grilled some burgers that were oddly shaped .\n",
      "dii: the burgers are being grilled on the grill\n",
      "sis: we made hamburgers into little star shapes .\n",
      "dii: the burgers are being grilled on the grill\n",
      "sis: to the annual celebration .\n",
      "dii: a woman has big forks with meat on them .\n",
      "sis: our friends trickled in one by one !\n",
      "dii: a woman has big forks with meat on them .\n",
      "sis: my wife is ready for the attack !\n",
      "dii: a woman has big forks with meat on them .\n",
      "sis: [female] is holding up her meat on sticks ,\n",
      "dii: an older man stands in the entry of a garage , manning his station at the grill .\n",
      "sis: dad manned the grill .\n",
      "dii: an older man stands in the entry of a garage , manning his station at the grill .\n",
      "sis: we got all the food on the grill to cook and ready to eat .\n",
      "dii: an older man stands in the entry of a garage , manning his station at the grill .\n",
      "sis: my dad is trying to touch my food . do n't touch ! !\n",
      "dii: an older man stands in the entry of a garage , manning his station at the grill .\n",
      "sis: dad enjoyed a glass of wine while he manned the grill .\n",
      "dii: an older man stands in the entry of a garage , manning his station at the grill .\n",
      "sis: while her uncle cooks on the grill .\n",
      "dii: a man is standing in front of some saw horses at dusk .\n",
      "sis: the sunset was amazing that night !\n",
      "dii: a man is standing in front of some saw horses at dusk .\n",
      "sis: the sunset afterwards was so beautiful .\n",
      "dii: a man is standing in front of some saw horses at dusk .\n",
      "sis: the view was breathtaking .\n",
      "dii: firecrackers and a chicken shaped firecracker sit on bricks .\n",
      "sis: we ended the day shooting off some fireworks .\n",
      "dii: firecrackers and a chicken shaped firecracker sit on bricks .\n",
      "sis: we gathered up some fire works to set off at dark .\n",
      "dii: firecrackers and a chicken shaped firecracker sit on bricks .\n",
      "sis: i took some pictures from my family 's bbq last weekend .\n",
      "dii: firecrackers and a chicken shaped firecracker sit on bricks .\n",
      "sis: but of course , everyone was most looking forward to setting off the fireworks when the sun went down .\n",
      "dii: firecrackers and a chicken shaped firecracker sit on bricks .\n",
      "sis: the fireworks are a great addition ,\n",
      "dii: four meat patties sit on a grill and cook .\n",
      "sis: we grilled some burgers that were oddly shaped .\n",
      "dii: four meat patties sit on a grill and cook .\n",
      "sis: we made hamburgers into little star shapes .\n",
      "dii: four meat patties sit on a grill and cook .\n",
      "sis: to the annual celebration .\n",
      "dii: young woman standing near a shed while holding two pitch forks\n",
      "sis: our friends trickled in one by one !\n",
      "dii: young woman standing near a shed while holding two pitch forks\n",
      "sis: my wife is ready for the attack !\n",
      "dii: young woman standing near a shed while holding two pitch forks\n",
      "sis: [female] is holding up her meat on sticks ,\n",
      "dii: a man grills food outside in front of his garage .\n",
      "sis: dad manned the grill .\n",
      "dii: a man grills food outside in front of his garage .\n",
      "sis: we got all the food on the grill to cook and ready to eat .\n",
      "dii: a man grills food outside in front of his garage .\n",
      "sis: my dad is trying to touch my food . do n't touch ! !\n",
      "dii: a man grills food outside in front of his garage .\n",
      "sis: dad enjoyed a glass of wine while he manned the grill .\n",
      "dii: a man grills food outside in front of his garage .\n",
      "sis: while her uncle cooks on the grill .\n",
      "dii: a view of the sunrise over a backdrop of mountains .\n",
      "sis: the sunset was amazing that night !\n",
      "dii: a view of the sunrise over a backdrop of mountains .\n",
      "sis: the sunset afterwards was so beautiful .\n",
      "dii: a view of the sunrise over a backdrop of mountains .\n",
      "sis: the view was breathtaking .\n",
      "10\n"
     ]
    }
   ],
   "source": [
    "count = 0\n",
    "for i in data_dii_val['annotations']:\n",
    "    #print(i)\n",
    "    count += 1\n",
    "    for s in data_sis_val['annotations']:\n",
    "        if i[0]['photo_flickr_id'] == s[0]['photo_flickr_id']:\n",
    "        #for ii, ss in zip (i, s):\n",
    "            #print(ii['album_id'])\n",
    "        #if ii['photo_flickr_id'] == ss['photo_flickr_id']:    #'72157600654289032': # s['tags']:\n",
    "            print('dii:', i[0]['text'])\n",
    "            print('sis:', s[0]['text'])\n",
    "    if count == 10:       \n",
    "        print(count)\n",
    "        break"
   ]
  },
  {
   "cell_type": "markdown",
   "metadata": {},
   "source": [
    "### Write annotations to file for fine tuning GPT-2 model"
   ]
  },
  {
   "cell_type": "code",
   "execution_count": 60,
   "metadata": {},
   "outputs": [
    {
     "name": "stdout",
     "output_type": "stream",
     "text": [
      "#Records: 200775\n"
     ]
    }
   ],
   "source": [
    "sis_file = open(\"VIST_sis_train.txt\", \"w\")\n",
    "\n",
    "count = 0\n",
    "for s in data_sis_train['annotations']:\n",
    "    count += 1\n",
    "    sis_file.write(s[0]['text'])\n",
    "    \n",
    "sis_file.close()\n",
    "print(\"#Records:\", count)"
   ]
  },
  {
   "cell_type": "code",
   "execution_count": null,
   "metadata": {},
   "outputs": [],
   "source": [
    "print(len(data_dii_val['images']))\n",
    "print(data_dii_val['images'][0])\n",
    "\n",
    "print(len(data_sis_val['images']))\n",
    "print(data_sis_val['images'][0])"
   ]
  },
  {
   "cell_type": "code",
   "execution_count": null,
   "metadata": {},
   "outputs": [],
   "source": [
    "print(len(data_dii_val['annotation']))\n",
    "print(data_dii_val[0][0])\n",
    "\n",
    "print(len(data_sis_val['images']))\n",
    "print(data_sis_val['images'][0])"
   ]
  },
  {
   "cell_type": "code",
   "execution_count": null,
   "metadata": {},
   "outputs": [],
   "source": [
    "print(len(data_dii_train['images']))\n",
    "print(data_dii_train['images'][0])\n",
    "\n",
    "print(len(data_sis_train['images']))\n",
    "print(data_sis_train['images'][0])"
   ]
  },
  {
   "cell_type": "code",
   "execution_count": null,
   "metadata": {},
   "outputs": [],
   "source": [
    "type(data_dii_train['images'][0])\n",
    "#print(data_dii_train['images']['id' == '72225123'])"
   ]
  },
  {
   "cell_type": "code",
   "execution_count": null,
   "metadata": {},
   "outputs": [],
   "source": [
    "print(len(data_sis_train['images']))\n",
    "print(len(data_sis_val['images']))\n",
    "print(len(data_sis_test['images']))\n",
    "#data_sis['images']"
   ]
  },
  {
   "cell_type": "code",
   "execution_count": null,
   "metadata": {},
   "outputs": [],
   "source": [
    "data_dii_val == data_sis_val"
   ]
  },
  {
   "cell_type": "code",
   "execution_count": null,
   "metadata": {},
   "outputs": [],
   "source": [
    "print(type(data_dii_val))\n",
    "print(type(data_dii_val['images']))"
   ]
  },
  {
   "cell_type": "code",
   "execution_count": null,
   "metadata": {},
   "outputs": [],
   "source": [
    "#print(type(data_dii['images'][0]))\n",
    "#print(data_dii['images'][0])\n",
    "\n",
    "count = 0\n",
    "for i, s in zip(data_dii_train['images'], data_sis_train['images']):\n",
    "    if i['album_id'] == '72157600654289032': # s['tags']:\n",
    "        count += 1\n",
    "        print('dii:', i['title'], \":\", i['text'], ':', i['tags'])\n",
    "        print('sis:', s['title'], \":\", s['text'], ':', s['tags'])\n",
    "\n",
    "print(count)"
   ]
  },
  {
   "cell_type": "code",
   "execution_count": null,
   "metadata": {},
   "outputs": [],
   "source": [
    "count = 0\n",
    "for i, s in zip(data_dii_val['images'], data_sis_val['images']):\n",
    "    if i != s:\n",
    "        count += 1\n",
    "        print('dii:', i['title'], \":\", i['text'], ':', i['tags'])\n",
    "        print('sis:', s['title'], \":\", s['text'], ':', s['tags'])"
   ]
  },
  {
   "cell_type": "code",
   "execution_count": null,
   "metadata": {},
   "outputs": [],
   "source": []
  },
  {
   "cell_type": "markdown",
   "metadata": {},
   "source": [
    "## GPT-2 Model"
   ]
  },
  {
   "cell_type": "code",
   "execution_count": 5,
   "metadata": {
    "scrolled": true
   },
   "outputs": [],
   "source": [
    "from transformers import pipeline, set_seed\n",
    "generator = pipeline('text-generation', model='gpt2')\n",
    "set_seed(42)\n",
    "#generator(\"Hello, I'm a language model,\", max_length=30, num_return_sequences=5)"
   ]
  },
  {
   "cell_type": "code",
   "execution_count": 6,
   "metadata": {},
   "outputs": [
    {
     "name": "stderr",
     "output_type": "stream",
     "text": [
      "All model checkpoint layers were used when initializing TFGPT2Model.\n",
      "\n",
      "All the layers of TFGPT2Model were initialized from the model checkpoint at gpt2.\n",
      "If your task is similar to the task the model of the checkpoint was trained on, you can already use TFGPT2Model for predictions without further training.\n"
     ]
    }
   ],
   "source": [
    "from transformers import GPT2Tokenizer, TFGPT2Model\n",
    "\n",
    "tokenizer = GPT2Tokenizer.from_pretrained('gpt2')\n",
    "model = TFGPT2Model.from_pretrained('gpt2')\n",
    "text = \"Replace me by any text you'd like.\"\n",
    "encoded_input = tokenizer(text, return_tensors='tf')\n",
    "\n",
    "output = model(encoded_input)\n"
   ]
  },
  {
   "cell_type": "code",
   "execution_count": 7,
   "metadata": {},
   "outputs": [
    {
     "name": "stdout",
     "output_type": "stream",
     "text": [
      "Model: \"tfgp_t2model\"\n",
      "_________________________________________________________________\n",
      "Layer (type)                 Output Shape              Param #   \n",
      "=================================================================\n",
      "transformer (TFGPT2MainLayer multiple                  124439808 \n",
      "=================================================================\n",
      "Total params: 124,439,808\n",
      "Trainable params: 124,439,808\n",
      "Non-trainable params: 0\n",
      "_________________________________________________________________\n"
     ]
    }
   ],
   "source": [
    "model.summary()"
   ]
  },
  {
   "cell_type": "code",
   "execution_count": 8,
   "metadata": {
    "scrolled": true
   },
   "outputs": [
    {
     "data": {
      "text/plain": [
       "TFBaseModelOutputWithPast(last_hidden_state=<tf.Tensor: shape=(1, 10, 768), dtype=float32, numpy=\n",
       "array([[[ 0.16212572, -0.21588519, -0.14169699, ..., -0.26142448,\n",
       "         -0.08208865,  0.0090347 ],\n",
       "        [ 0.4627184 ,  0.02478069, -0.07850035, ..., -0.0860274 ,\n",
       "          0.5116983 , -0.39420223],\n",
       "        [-0.06408694,  0.15478237, -0.63063264, ...,  0.24884976,\n",
       "          0.36889797,  0.08327581],\n",
       "        ...,\n",
       "        [-0.55880547, -0.44919202, -1.4540863 , ...,  0.1651334 ,\n",
       "         -0.1303169 , -0.37356   ],\n",
       "        [ 0.13995859, -0.38752723, -0.79088736, ..., -0.17763196,\n",
       "          0.18202348,  0.21815243],\n",
       "        [ 0.17187801, -0.24292184, -0.1124271 , ..., -0.10721985,\n",
       "          0.12059784, -0.3214077 ]]], dtype=float32)>, past_key_values=(<tf.Tensor: shape=(2, 1, 12, 10, 64), dtype=float32, numpy=\n",
       "array([[[[[-1.07186723e+00,  2.41698933e+00,  9.66034472e-01, ...,\n",
       "           -4.78705883e-01, -3.31557035e-01,  1.79252338e+00],\n",
       "          [-2.28969455e+00,  2.54237127e+00,  8.31744075e-01, ...,\n",
       "           -5.29929459e-01, -2.48278427e+00,  1.35369873e+00],\n",
       "          [-2.28563476e+00,  2.71245718e+00,  2.47251773e+00, ...,\n",
       "           -1.49111700e+00, -1.84272110e+00,  1.64933062e+00],\n",
       "          ...,\n",
       "          [-3.32033777e+00,  2.33251691e+00,  2.70611620e+00, ...,\n",
       "           -1.15692151e+00, -1.55861020e+00,  2.40759706e+00],\n",
       "          [-2.99168539e+00,  2.27005696e+00,  2.17415905e+00, ...,\n",
       "           -8.66990268e-01, -1.64104366e+00,  1.92371190e+00],\n",
       "          [-2.50655341e+00,  2.61395073e+00,  2.13473439e+00, ...,\n",
       "           -6.27138019e-02, -2.05424643e+00,  1.65676832e+00]],\n",
       "\n",
       "         [[ 4.79599535e-01, -1.13052711e-01, -1.48538721e+00, ...,\n",
       "            1.16065335e+00,  1.84115362e+00,  1.36818647e+00],\n",
       "          [-7.27268219e-01, -1.13618898e+00, -1.08502746e+00, ...,\n",
       "           -6.73588276e-01,  3.26177406e+00,  2.09915191e-01],\n",
       "          [-1.44409287e+00, -3.06469131e+00, -4.16120052e+00, ...,\n",
       "           -1.47875249e+00,  3.27183652e+00, -2.80251682e-01],\n",
       "          ...,\n",
       "          [ 8.51459503e-01, -1.59904465e-01,  1.15671307e-01, ...,\n",
       "           -8.95857334e-01,  4.11782932e+00,  7.13325858e-01],\n",
       "          [-7.69269168e-02, -1.76725781e+00, -1.12068987e+00, ...,\n",
       "           -1.62757242e+00,  3.10953712e+00,  1.02366281e+00],\n",
       "          [-9.11841750e-01, -3.26741219e-01, -2.04091954e+00, ...,\n",
       "           -3.52716357e-01,  1.16257930e+00,  3.73329818e-01]],\n",
       "\n",
       "         [[-2.33778894e-01, -8.68849158e-01,  1.65420091e+00, ...,\n",
       "           -1.59637415e+00, -1.56355333e+00,  1.09308243e+00],\n",
       "          [ 3.69761080e-01,  4.92904425e-01,  1.41548884e+00, ...,\n",
       "           -2.01616764e+00, -1.02462506e+00,  1.98224485e+00],\n",
       "          [ 4.50908393e-01,  1.01435339e+00,  1.18913502e-01, ...,\n",
       "           -3.18804622e+00,  4.52914804e-01,  1.37458682e+00],\n",
       "          ...,\n",
       "          [ 3.30323070e-01,  8.69499564e-01, -6.50727928e-01, ...,\n",
       "           -2.71959972e+00,  2.95022041e-01,  1.98272800e+00],\n",
       "          [ 5.77748239e-01,  4.36258137e-01,  1.10290265e+00, ...,\n",
       "           -3.23165870e+00,  9.62711811e-01,  2.17030454e+00],\n",
       "          [-2.86073774e-01, -2.03205988e-01,  7.28884220e-01, ...,\n",
       "           -2.30388474e+00,  1.26367056e+00,  1.95193255e+00]],\n",
       "\n",
       "         ...,\n",
       "\n",
       "         [[ 4.01162028e-01, -2.77958456e-02, -1.03123896e-01, ...,\n",
       "            2.61363745e-01,  9.76698339e-01,  5.99367261e-01],\n",
       "          [ 2.22203538e-01,  3.16707283e-01, -2.02432603e-01, ...,\n",
       "            9.61615324e-01,  3.65770280e-01,  1.01619053e+00],\n",
       "          [ 3.27637315e-01,  6.29488677e-02,  1.90472513e-01, ...,\n",
       "            1.08554626e+00,  8.70686054e-01,  9.39868018e-02],\n",
       "          ...,\n",
       "          [ 2.40345821e-01, -9.50531214e-02,  1.64614588e-01, ...,\n",
       "            3.34468663e-01,  2.68744409e-01,  2.15883076e-01],\n",
       "          [ 2.87323654e-01,  8.87418762e-02, -5.44451326e-02, ...,\n",
       "            1.03060710e+00,  3.19636256e-01,  5.26821852e-01],\n",
       "          [-5.52226044e-02, -4.60917205e-02,  7.65070915e-02, ...,\n",
       "            1.04650378e+00,  2.68999398e-01,  4.68668133e-01]],\n",
       "\n",
       "         [[ 9.75939453e-01,  1.31208658e+00, -6.61216319e-01, ...,\n",
       "           -3.22819531e-01,  1.14760184e+00, -1.23488426e+00],\n",
       "          [ 1.08620715e+00,  3.40585649e-01, -6.76660180e-01, ...,\n",
       "           -1.07482529e+00,  1.46113634e+00,  6.78855479e-01],\n",
       "          [ 6.56648695e-01,  1.32478625e-01, -5.03637969e-01, ...,\n",
       "           -1.92916882e+00,  1.41798556e+00,  7.19213709e-02],\n",
       "          ...,\n",
       "          [ 1.17459488e+00, -2.48750150e-02, -1.06660926e+00, ...,\n",
       "           -9.28255022e-01,  1.20439410e+00, -7.48458683e-01],\n",
       "          [ 1.29519749e+00,  1.45284310e-02, -4.90292788e-01, ...,\n",
       "           -1.06183815e+00,  9.24134672e-01,  9.27771106e-02],\n",
       "          [ 9.80988443e-01,  2.73926035e-02, -2.62389302e-01, ...,\n",
       "           -8.44688296e-01,  3.48375350e-01, -2.25128949e-01]],\n",
       "\n",
       "         [[ 6.92195833e-01,  4.42147970e-01,  2.78588623e-01, ...,\n",
       "           -2.21276656e-01,  2.48805493e-01,  1.87775147e+00],\n",
       "          [-1.20284438e-01, -2.79472649e-01, -2.87461970e-02, ...,\n",
       "           -2.25452468e-01,  5.68060517e-01,  1.28214705e+00],\n",
       "          [ 3.92294884e-01,  6.56865180e-01,  9.67099294e-02, ...,\n",
       "           -9.28210616e-02,  2.67556757e-01,  2.22444582e+00],\n",
       "          ...,\n",
       "          [ 4.98301387e-01, -2.78139025e-01,  9.78939176e-01, ...,\n",
       "            5.42435229e-01,  1.01693738e+00,  1.11593473e+00],\n",
       "          [-8.54972243e-01,  5.21509707e-01, -2.16797933e-01, ...,\n",
       "           -1.89336434e-01,  9.47299719e-01,  7.67349601e-01],\n",
       "          [-9.62250054e-01,  1.96752906e-01,  1.17196739e+00, ...,\n",
       "           -4.87782717e-01,  9.68482375e-01, -6.82339907e-01]]]],\n",
       "\n",
       "\n",
       "\n",
       "       [[[[ 3.58443670e-02,  4.50470075e-02, -3.23490091e-02, ...,\n",
       "            1.13021843e-01,  3.41112399e-03, -7.38233998e-02],\n",
       "          [ 2.42161192e-02, -2.31678665e-01,  7.98949152e-02, ...,\n",
       "           -3.96045409e-02,  1.34661153e-01, -8.89498517e-02],\n",
       "          [ 1.31816924e-01,  4.26612049e-02,  7.71609601e-03, ...,\n",
       "            1.16450921e-01,  1.43616483e-01, -3.02965250e-02],\n",
       "          ...,\n",
       "          [ 5.12708575e-02, -1.06831435e-02,  1.38316035e-01, ...,\n",
       "            4.63918597e-02, -7.19293058e-02,  3.31921488e-01],\n",
       "          [ 4.04268578e-02,  3.13255861e-02,  7.58045074e-03, ...,\n",
       "            6.67393804e-02, -9.51211825e-02,  2.27030907e-02],\n",
       "          [-2.54309028e-01,  9.78922322e-02, -3.14009964e-01, ...,\n",
       "           -5.97192682e-02,  8.71187970e-02, -1.52917236e-01]],\n",
       "\n",
       "         [[ 4.65106964e-01,  2.92985201e-01, -2.60038674e-01, ...,\n",
       "           -4.88955498e-01, -3.98319989e-01,  5.19916676e-02],\n",
       "          [ 3.62162292e-01, -2.10083231e-01,  2.31114581e-01, ...,\n",
       "            1.26950517e-02, -9.85099375e-03, -1.90513879e-01],\n",
       "          [ 5.05944431e-01, -2.86998779e-01, -3.72559465e-02, ...,\n",
       "            1.33793920e-01,  1.48181021e-01, -7.03812912e-02],\n",
       "          ...,\n",
       "          [ 4.55193877e-01,  2.24818066e-01,  2.70373058e-02, ...,\n",
       "           -7.62025192e-02,  1.30175933e-01,  1.11142531e-01],\n",
       "          [ 4.39455628e-01,  5.63576110e-02, -2.80748218e-01, ...,\n",
       "            3.83305848e-02,  2.80411661e-01, -1.02638602e-01],\n",
       "          [ 5.55925786e-01, -7.14065880e-02,  8.15848634e-03, ...,\n",
       "            7.49660283e-02,  5.58869600e-01, -1.07528657e-01]],\n",
       "\n",
       "         [[-3.52637097e-02,  5.70189953e-02, -7.38874674e-02, ...,\n",
       "           -1.21850576e-02, -8.90585333e-02, -1.07588567e-01],\n",
       "          [-1.45168051e-01, -1.10930897e-01, -3.12366456e-01, ...,\n",
       "            7.96322152e-03,  1.05145738e-01, -6.82056248e-02],\n",
       "          [-2.97228545e-01, -1.08705878e-01, -3.76473993e-01, ...,\n",
       "           -4.49979991e-01, -3.93533140e-01, -5.87287471e-02],\n",
       "          ...,\n",
       "          [ 3.69861990e-01,  3.63830775e-01,  8.83835927e-02, ...,\n",
       "           -2.84744650e-01, -2.12112933e-01, -4.27888811e-01],\n",
       "          [ 5.14846683e-01,  1.49548789e-02,  1.98484212e-01, ...,\n",
       "            1.87630020e-03, -4.48400863e-02, -1.95227891e-01],\n",
       "          [-3.15565705e-01, -7.72046372e-02,  1.22374617e-01, ...,\n",
       "           -9.90812294e-03, -9.14666355e-02, -1.17855757e-01]],\n",
       "\n",
       "         ...,\n",
       "\n",
       "         [[-1.69290602e-01, -1.68630168e-01, -1.30754739e-01, ...,\n",
       "           -4.55067009e-02,  1.64884925e-02, -4.92441747e-03],\n",
       "          [-1.82889432e-01, -7.30108023e-02,  8.90833437e-02, ...,\n",
       "            2.85794437e-01,  1.65197656e-01,  3.99014115e-01],\n",
       "          [ 1.81487985e-02,  1.48635715e-01,  1.39952824e-01, ...,\n",
       "           -2.01865003e-01, -3.11645061e-01,  1.88323572e-01],\n",
       "          ...,\n",
       "          [ 1.88285574e-01,  3.70856524e-01,  2.21898481e-02, ...,\n",
       "           -4.38158721e-01, -4.58727852e-02, -2.32473835e-01],\n",
       "          [-6.93248361e-02,  2.20890298e-01, -5.21577075e-02, ...,\n",
       "           -5.81031200e-05, -4.43766005e-02, -2.36297920e-02],\n",
       "          [-1.44911215e-01, -7.66872585e-01, -1.00799566e-02, ...,\n",
       "            1.44896671e-01, -1.42725691e-01,  1.19950213e-02]],\n",
       "\n",
       "         [[ 1.16631061e-01, -9.51743275e-02, -8.00967962e-02, ...,\n",
       "            1.17993265e-01,  1.44419238e-01,  8.05634484e-02],\n",
       "          [-4.09794718e-01,  1.79846868e-01,  6.20524660e-02, ...,\n",
       "           -4.60107893e-01, -1.59093142e-01,  1.65376693e-01],\n",
       "          [ 1.07074067e-01, -1.44394562e-01, -3.86153385e-02, ...,\n",
       "           -3.14684987e-01, -1.14215441e-01,  1.16936177e-01],\n",
       "          ...,\n",
       "          [-8.90470296e-02, -5.75360321e-02, -1.47548795e-01, ...,\n",
       "           -4.06986028e-01, -1.57109648e-01, -2.46465504e-01],\n",
       "          [-5.09146675e-02,  8.48271772e-02,  5.02688773e-02, ...,\n",
       "           -2.75161117e-02, -2.46822372e-01, -1.23995155e-01],\n",
       "          [-4.07857224e-02, -6.30046204e-02, -5.91783822e-02, ...,\n",
       "            1.90723658e-01,  2.56951541e-01,  1.34825706e-01]],\n",
       "\n",
       "         [[-1.40318945e-01, -2.17240810e-01,  2.11630434e-01, ...,\n",
       "            1.13250362e-02, -1.69402853e-01, -5.67001514e-02],\n",
       "          [ 1.65012404e-01,  1.47511065e-01,  1.23163819e-01, ...,\n",
       "            5.28096020e-01,  3.75201166e-01,  5.65962307e-02],\n",
       "          [-1.61672831e-01, -9.51731429e-02, -3.00065488e-01, ...,\n",
       "           -1.38990626e-01,  7.62652755e-02,  1.49999917e-01],\n",
       "          ...,\n",
       "          [ 1.90362483e-02, -4.13248092e-01, -5.34560867e-02, ...,\n",
       "            1.08497158e-01,  3.13215971e-01,  7.41043985e-02],\n",
       "          [ 4.74334806e-02,  8.38806406e-02, -5.86303584e-02, ...,\n",
       "            5.66557124e-02, -1.45533040e-01,  1.39666498e-01],\n",
       "          [ 1.15681857e-01, -1.15123488e-01, -3.71840447e-02, ...,\n",
       "            9.30720866e-02,  9.49804485e-02,  5.24952635e-03]]]]],\n",
       "      dtype=float32)>, <tf.Tensor: shape=(2, 1, 12, 10, 64), dtype=float32, numpy=\n",
       "array([[[[[-2.32317969e-01,  1.74713504e+00, -1.35060847e+00, ...,\n",
       "            1.30336070e+00, -1.14382386e+00,  1.30269814e+00],\n",
       "          [ 3.69837314e-01,  1.59530568e+00, -9.88855481e-01, ...,\n",
       "           -3.76720488e-01, -1.62310719e+00,  4.97292757e-01],\n",
       "          [ 1.54659867e+00,  1.73633671e+00, -1.15468144e+00, ...,\n",
       "            2.64909416e-02, -2.41711640e+00,  6.01780415e-02],\n",
       "          ...,\n",
       "          [ 1.16321456e+00,  2.75416106e-01, -3.87837291e-01, ...,\n",
       "            9.97962356e-01, -2.43585885e-01, -2.25121069e+00],\n",
       "          [ 9.12016779e-02,  1.35894930e+00,  5.50607964e-02, ...,\n",
       "            9.02583480e-01, -2.11438918e+00, -1.05174017e+00],\n",
       "          [-2.38397822e-01,  4.28787887e-01,  2.53238261e-01, ...,\n",
       "            6.81036711e-01, -7.00439811e-01, -1.35711730e-01]],\n",
       "\n",
       "         [[-1.47185850e+00, -7.00745463e-01, -8.40669870e-01, ...,\n",
       "           -3.48112226e-01,  9.08500910e-01, -5.79442501e-01],\n",
       "          [-6.78374052e-01, -8.54299605e-01, -1.98007834e+00, ...,\n",
       "           -1.31356919e+00, -2.72517920e-01,  1.94651067e-01],\n",
       "          [-8.64205360e-01,  1.65250581e-02, -1.59265113e+00, ...,\n",
       "           -1.55541047e-01,  4.36172932e-01,  3.44744712e-01],\n",
       "          ...,\n",
       "          [-8.97343576e-01,  3.89584303e-01, -1.83216500e+00, ...,\n",
       "           -3.96353483e-01, -9.17948365e-01, -5.63218474e-01],\n",
       "          [-5.75605154e-01,  9.92599010e-01, -1.63806498e+00, ...,\n",
       "           -2.27713183e-01,  3.73950690e-01, -1.22154593e+00],\n",
       "          [-5.39876044e-01,  1.23287368e+00, -1.47795689e+00, ...,\n",
       "           -1.94047689e-01, -7.11681008e-01, -6.10384226e-01]],\n",
       "\n",
       "         [[ 3.32978904e-01,  1.19896241e-01, -2.93293968e-02, ...,\n",
       "           -1.25583363e+00,  1.53056458e-01, -2.18842730e-01],\n",
       "          [ 3.33192021e-01,  6.09674752e-01, -3.21849525e-01, ...,\n",
       "           -1.24318457e+00, -7.93552920e-02,  7.92130753e-02],\n",
       "          [-1.39928490e-01,  2.98729777e-01, -1.10788092e-01, ...,\n",
       "           -8.77768517e-01, -2.19784662e-01,  5.73184371e-01],\n",
       "          ...,\n",
       "          [-1.19523399e-01, -1.20425135e-01,  8.91316980e-02, ...,\n",
       "           -1.05262160e+00,  2.71015793e-01,  2.81028241e-01],\n",
       "          [-1.63288623e-01, -2.12015823e-01, -2.80389518e-01, ...,\n",
       "           -1.11037993e+00, -1.14074402e-01,  3.40879858e-01],\n",
       "          [-1.90786257e-01, -2.26506993e-01, -1.95291474e-01, ...,\n",
       "           -1.35976517e+00,  7.84991123e-03,  5.48290983e-02]],\n",
       "\n",
       "         ...,\n",
       "\n",
       "         [[ 4.19375688e-01, -5.41737914e-01, -6.51325762e-01, ...,\n",
       "           -1.30125210e-01,  6.43006444e-01, -1.06510818e+00],\n",
       "          [-1.11306000e+00,  1.74781621e+00,  1.92258775e+00, ...,\n",
       "           -5.28638780e-01, -8.81046712e-01, -1.12780142e+00],\n",
       "          [-3.49664129e-02,  1.65057051e+00,  1.56995165e+00, ...,\n",
       "            1.87071109e+00,  4.49060231e-01,  1.74695432e-01],\n",
       "          ...,\n",
       "          [ 2.86360811e-02,  1.50482988e+00,  1.71668684e+00, ...,\n",
       "           -1.52664378e-01, -7.64442742e-01, -8.14081550e-01],\n",
       "          [-6.52924240e-01,  1.24586558e+00,  1.92178130e+00, ...,\n",
       "            6.94486320e-01, -1.34776509e+00, -1.14148116e+00],\n",
       "          [-4.93185431e-01,  1.43167007e+00,  1.65284741e+00, ...,\n",
       "            5.96370459e-01, -1.72590578e+00, -3.53315413e-01]],\n",
       "\n",
       "         [[-1.20176375e+00, -2.78113794e+00,  1.29146725e-01, ...,\n",
       "            1.67949629e+00,  1.59957027e+00, -1.56808376e+00],\n",
       "          [-2.48854011e-01,  9.62730587e-01, -6.08430922e-01, ...,\n",
       "           -6.40361011e-01,  7.30029464e-01,  1.52945518e-03],\n",
       "          [ 3.73464525e-01,  7.02883422e-01, -5.00083148e-01, ...,\n",
       "           -6.09137714e-01,  4.83769804e-01, -9.17274505e-02],\n",
       "          ...,\n",
       "          [-2.10294247e-01, -1.13110751e-01, -8.65059316e-01, ...,\n",
       "           -4.33706880e-01,  1.04297733e+00,  2.39550278e-01],\n",
       "          [-3.53895873e-01,  3.65171552e-01, -7.08608449e-01, ...,\n",
       "           -1.52743429e-01,  9.79759276e-01,  3.07144970e-01],\n",
       "          [-3.10857832e-01,  2.62715876e-01, -7.03252137e-01, ...,\n",
       "           -3.86174142e-01,  7.45922446e-01, -1.07825473e-01]],\n",
       "\n",
       "         [[ 1.24715531e+00,  1.83357537e+00,  1.48913813e+00, ...,\n",
       "           -2.80194670e-01,  8.35263431e-02, -4.64202791e-01],\n",
       "          [-7.66949262e-03,  2.59538150e+00,  5.70557237e-01, ...,\n",
       "            1.03885126e+00, -1.59951568e-01, -3.61030221e-01],\n",
       "          [ 7.71566033e-02,  2.81064200e+00,  1.56290901e+00, ...,\n",
       "            1.50777304e+00, -1.78160071e-02, -1.22939968e+00],\n",
       "          ...,\n",
       "          [-4.78598565e-01,  2.41962409e+00,  2.35579801e+00, ...,\n",
       "            1.77142847e+00, -1.67554486e+00, -2.52167606e+00],\n",
       "          [ 9.00844485e-02,  3.31234002e+00, -3.66405725e-01, ...,\n",
       "            2.44253612e+00, -1.61535633e+00, -2.18203211e+00],\n",
       "          [ 5.68507791e-01,  1.72113514e+00,  7.93314159e-01, ...,\n",
       "           -6.36965752e-01, -4.24926281e-01,  1.12741888e-02]]]],\n",
       "\n",
       "\n",
       "\n",
       "       [[[[ 1.81070715e-01, -1.34136647e-01, -2.14930654e-01, ...,\n",
       "            7.04540983e-02,  2.14367196e-01, -4.17396784e-01],\n",
       "          [-3.47191960e-01, -2.41693616e-01, -3.58602732e-01, ...,\n",
       "           -3.60223092e-03,  6.89458966e-01,  6.34046793e-01],\n",
       "          [ 1.89252764e-01,  1.13863707e-01, -3.74753416e-01, ...,\n",
       "           -6.18821025e-01,  1.55668870e-01, -3.39919448e-01],\n",
       "          ...,\n",
       "          [-9.80609953e-01, -3.10465991e-01, -4.38005701e-02, ...,\n",
       "            8.24057460e-01,  1.29799321e-02,  3.59420478e-03],\n",
       "          [ 3.30916166e-01, -8.14034119e-02,  1.07589282e-01, ...,\n",
       "           -2.89181828e-01,  4.14931148e-01,  4.98799145e-01],\n",
       "          [ 6.53759897e-01,  1.79195732e-01,  9.73563716e-02, ...,\n",
       "           -9.90621150e-02, -1.98523000e-01, -7.17075169e-02]],\n",
       "\n",
       "         [[-1.29688442e-01, -1.31205365e-01,  3.04771513e-01, ...,\n",
       "           -9.53507572e-02, -5.26227474e-01,  2.02517416e-02],\n",
       "          [-5.27995110e-01, -2.46936873e-01, -1.28218830e-01, ...,\n",
       "           -1.38540968e-01,  1.63561165e-01,  3.15474212e-01],\n",
       "          [ 3.39965597e-02,  2.97949463e-01, -1.80831283e-01, ...,\n",
       "            3.70860726e-01, -1.17914416e-02, -2.16526985e-01],\n",
       "          ...,\n",
       "          [-8.71977955e-03, -1.85793653e-01,  2.75536448e-01, ...,\n",
       "            4.46760863e-01, -1.51705027e-01, -5.93086958e-01],\n",
       "          [ 2.77474910e-01, -5.36632478e-01,  1.03171444e+00, ...,\n",
       "            1.05981231e-01, -1.02582276e-01, -2.02563345e-01],\n",
       "          [ 3.64491254e-01, -1.86647661e-02,  1.01328090e-01, ...,\n",
       "            1.89138740e-01,  2.61324257e-01, -4.45428342e-02]],\n",
       "\n",
       "         [[ 4.53419089e-02, -4.07982856e-01,  5.34056686e-02, ...,\n",
       "           -4.79665935e-01, -2.83183604e-01,  2.76253875e-02],\n",
       "          [ 8.44931662e-01,  9.47921574e-02,  2.37403195e-02, ...,\n",
       "           -7.55625427e-01, -4.64956909e-02,  1.80445358e-01],\n",
       "          [ 8.02498758e-01,  1.49486065e-01,  5.84382176e-01, ...,\n",
       "           -8.38282526e-01,  1.00493953e-01,  2.55894691e-01],\n",
       "          ...,\n",
       "          [ 9.64768469e-01, -9.73718539e-02,  2.91108396e-02, ...,\n",
       "           -3.49456966e-01,  1.69619650e-01, -1.44746840e-01],\n",
       "          [ 8.09845150e-01, -2.75575966e-02, -1.21914163e-01, ...,\n",
       "           -3.24771732e-01, -2.28767514e-01,  4.64209557e-01],\n",
       "          [ 4.82960105e-01,  1.97782487e-01,  2.53621966e-01, ...,\n",
       "           -9.56951976e-02, -1.10411242e-01, -3.04302245e-01]],\n",
       "\n",
       "         ...,\n",
       "\n",
       "         [[ 1.46649435e-01,  6.23807728e-01, -1.65129766e-01, ...,\n",
       "            1.26129121e-01, -9.40920770e-01, -9.99061242e-02],\n",
       "          [ 8.56447667e-02, -3.74482781e-01,  6.08333237e-02, ...,\n",
       "            2.13953465e-01, -6.84947908e-01, -1.32926881e-01],\n",
       "          [-2.71972716e-01,  7.60521218e-02,  5.07437050e-01, ...,\n",
       "            6.47715181e-02, -6.35187447e-01, -3.47599924e-01],\n",
       "          ...,\n",
       "          [-1.50790200e-01,  1.61305130e-01,  4.41990376e-01, ...,\n",
       "            5.54681540e-01,  9.68163610e-02,  1.38904369e-02],\n",
       "          [ 2.96449475e-02, -3.23399097e-01, -3.78388166e-01, ...,\n",
       "            2.10342079e-01, -5.27871490e-01,  7.22823501e-01],\n",
       "          [ 5.73848598e-02, -8.92805815e-01,  3.65032107e-01, ...,\n",
       "            2.47281760e-01, -7.73896992e-01, -2.88177222e-01]],\n",
       "\n",
       "         [[ 1.98239356e-01, -1.62359655e-01,  8.86730924e-02, ...,\n",
       "            3.80567014e-01, -3.51754069e+00, -4.87884432e-02],\n",
       "          [ 4.82792743e-02, -4.26934063e-01,  2.58162990e-03, ...,\n",
       "            4.17065531e-01,  3.33988219e-02, -1.35551885e-01],\n",
       "          [-2.33977690e-01,  4.38141599e-02,  1.95232302e-01, ...,\n",
       "            2.72018183e-02,  7.12566674e-02,  8.50628018e-02],\n",
       "          ...,\n",
       "          [-1.06059387e-03,  1.72463909e-01, -5.18324256e-01, ...,\n",
       "            2.24733427e-01, -1.58532038e-01,  1.51439860e-01],\n",
       "          [ 1.76013447e-02, -2.12425739e-03,  4.65682179e-01, ...,\n",
       "            6.51148558e-02,  3.48559916e-02,  1.80536851e-01],\n",
       "          [ 4.14034516e-01,  1.70874745e-01,  2.74696387e-02, ...,\n",
       "            1.41392156e-01, -1.54242620e-01,  7.81609416e-02]],\n",
       "\n",
       "         [[-5.08993044e-02, -5.98341003e-02, -5.62834367e-02, ...,\n",
       "           -2.02656463e-01,  1.23681724e-01, -3.37529406e-02],\n",
       "          [-1.11163240e-02, -7.66668916e-02,  2.37344056e-01, ...,\n",
       "            6.58258051e-02,  1.52556412e-02,  1.86992288e-01],\n",
       "          [ 1.53101534e-01, -1.31888732e-01,  1.39139652e-01, ...,\n",
       "            1.88089833e-01, -8.20105076e-02,  1.27570421e-01],\n",
       "          ...,\n",
       "          [ 3.97474617e-02,  2.46795714e-01,  1.95423186e-01, ...,\n",
       "           -9.59601253e-02,  1.75643936e-01, -6.69918209e-03],\n",
       "          [ 8.33226144e-02,  1.15986578e-01, -5.22184297e-02, ...,\n",
       "           -3.25036831e-02,  2.59827942e-01,  1.45639375e-01],\n",
       "          [ 1.24327607e-01, -1.17107034e-02,  5.01133144e-01, ...,\n",
       "           -1.07065402e-02,  1.10530682e-01,  1.81953728e-01]]]]],\n",
       "      dtype=float32)>, <tf.Tensor: shape=(2, 1, 12, 10, 64), dtype=float32, numpy=\n",
       "array([[[[[-1.32147118e-01, -1.15266657e+00,  3.08717251e-01, ...,\n",
       "           -6.20537162e-01, -1.06074825e-01, -1.80586502e-02],\n",
       "          [ 5.46029687e-01, -2.55081081e+00, -2.93837845e-01, ...,\n",
       "           -1.29093707e+00,  8.10963586e-02,  1.26179308e-01],\n",
       "          [ 9.46476102e-01, -2.58933616e+00,  3.36901426e-01, ...,\n",
       "            2.39145949e-01,  2.45355219e-02, -9.80251506e-02],\n",
       "          ...,\n",
       "          [-1.47184122e+00, -1.88565016e+00, -5.82251549e-01, ...,\n",
       "           -4.20693159e-01, -2.31823206e-01, -3.80007744e-01],\n",
       "          [-4.79602247e-01, -1.75408840e+00,  5.79606891e-01, ...,\n",
       "            1.05939806e+00,  7.75089204e-01, -1.00198019e+00],\n",
       "          [-2.16123015e-01, -2.24535441e+00, -5.55292547e-01, ...,\n",
       "            1.74154210e+00,  5.94927967e-02, -8.74250710e-01]],\n",
       "\n",
       "         [[-4.98102218e-01,  4.83976811e-01, -4.28815544e-01, ...,\n",
       "            1.29533422e+00, -4.98234272e-01, -4.56784666e-01],\n",
       "          [-1.45205998e+00, -2.44752496e-01, -9.14819181e-01, ...,\n",
       "            4.53033328e-01,  6.44390047e-01,  4.87245023e-01],\n",
       "          [-1.66398335e+00, -9.66702819e-01, -1.08576035e+00, ...,\n",
       "           -2.68800333e-02,  1.32678974e+00, -3.50908101e-01],\n",
       "          ...,\n",
       "          [-2.17576075e+00, -6.62635684e-01, -1.81160998e+00, ...,\n",
       "           -9.01035786e-01,  1.32760036e+00,  1.54425189e-01],\n",
       "          [-1.35927963e+00, -1.97950780e+00, -1.54684949e+00, ...,\n",
       "           -1.14113963e+00,  1.33388078e+00, -2.10277617e-01],\n",
       "          [-1.42810249e+00, -6.94362640e-01, -5.65369189e-01, ...,\n",
       "            1.19884109e+00,  8.45555782e-01, -3.24587822e-01]],\n",
       "\n",
       "         [[ 1.37474990e+00,  3.06477880e+00,  3.76587439e+00, ...,\n",
       "            6.80636346e-01,  1.62499225e+00, -7.11220205e-01],\n",
       "          [-3.61607790e+00,  2.67280054e+00, -2.50755429e+00, ...,\n",
       "           -3.20427847e+00,  2.94416237e+00, -3.15643460e-01],\n",
       "          [-3.19072437e+00,  1.54646373e+00, -3.16132617e+00, ...,\n",
       "           -2.92118788e+00,  3.47936082e+00,  1.23566628e+00],\n",
       "          ...,\n",
       "          [-4.68019390e+00, -1.48978376e+00, -4.81521034e+00, ...,\n",
       "           -3.42315507e+00,  1.82048595e+00,  7.45339096e-01],\n",
       "          [-4.99012423e+00, -1.40242505e+00, -5.55877733e+00, ...,\n",
       "           -3.73725009e+00,  2.94069433e+00,  6.38448536e-01],\n",
       "          [-3.32690263e+00, -1.91537189e+00, -4.68247223e+00, ...,\n",
       "           -3.43954945e+00,  3.44537306e+00,  7.96922505e-01]],\n",
       "\n",
       "         ...,\n",
       "\n",
       "         [[ 1.35711527e+00, -2.69407296e+00, -2.58631182e+00, ...,\n",
       "            9.74714816e-01,  4.72359896e-01,  2.72444105e+00],\n",
       "          [-3.27633858e+00,  1.48800302e+00,  4.60277915e-01, ...,\n",
       "            6.65091932e-01, -1.84333181e+00, -3.43878657e-01],\n",
       "          [-3.45832181e+00,  2.69497609e+00,  1.35586965e+00, ...,\n",
       "           -1.25320271e-01, -2.71292329e+00,  9.73912179e-02],\n",
       "          ...,\n",
       "          [-3.19635391e+00,  4.06830168e+00,  1.93728244e+00, ...,\n",
       "           -9.53957260e-01, -3.10444236e+00, -1.46834183e+00],\n",
       "          [-3.85089397e+00,  4.67089224e+00,  2.91150022e+00, ...,\n",
       "           -2.23612452e+00, -3.90306664e+00, -1.52455187e+00],\n",
       "          [-3.53287363e+00,  4.35633421e+00,  2.31673884e+00, ...,\n",
       "           -6.13368571e-01, -2.16280580e+00, -1.39649820e+00]],\n",
       "\n",
       "         [[ 1.71295643e+00,  4.49556619e-01,  9.46562707e-01, ...,\n",
       "            1.04544414e-02, -9.86544013e-01, -3.25638175e-01],\n",
       "          [ 2.16627502e+00,  8.87775183e-01,  1.47987032e+00, ...,\n",
       "            1.76656663e-01, -1.79948664e+00, -1.98943317e+00],\n",
       "          [ 2.07895231e+00,  1.02868605e+00,  1.19652462e+00, ...,\n",
       "           -7.34218359e-02, -1.50441349e+00, -1.43383062e+00],\n",
       "          ...,\n",
       "          [ 1.93429029e+00,  8.34448099e-01,  1.04736626e+00, ...,\n",
       "           -8.35558400e-02, -1.92336273e+00, -1.21014822e+00],\n",
       "          [ 2.24353075e+00,  3.00934464e-01,  1.03663111e+00, ...,\n",
       "           -2.99110532e-01, -1.81985855e+00, -1.27584112e+00],\n",
       "          [ 1.71046758e+00,  2.75505692e-01,  7.40782201e-01, ...,\n",
       "            5.41659072e-02, -1.99475026e+00, -9.99398649e-01]],\n",
       "\n",
       "         [[-2.53743440e-01,  1.16061643e-01, -5.58580399e-01, ...,\n",
       "            2.68068731e-01,  2.84329236e-01,  1.29616946e-01],\n",
       "          [-2.22303018e-01,  8.48029792e-01, -4.43898469e-01, ...,\n",
       "           -2.72188663e-01,  8.77306759e-01,  8.11469972e-01],\n",
       "          [-6.72440529e-01,  5.06865919e-01,  5.64215109e-02, ...,\n",
       "            7.92168379e-02,  3.22692394e-01,  3.84573489e-01],\n",
       "          ...,\n",
       "          [ 2.16718897e-01, -1.93406269e-01, -1.14344919e+00, ...,\n",
       "           -4.69382584e-01,  8.09322834e-01, -1.02909140e-01],\n",
       "          [-4.39531326e-01,  3.73636782e-01,  7.92587772e-02, ...,\n",
       "           -2.62681901e-01,  2.34786510e-01, -2.81513751e-01],\n",
       "          [-7.64222920e-01, -3.62219572e-01, -5.46250045e-01, ...,\n",
       "            6.69322908e-01,  6.86303139e-01,  8.58310521e-01]]]],\n",
       "\n",
       "\n",
       "\n",
       "       [[[[-2.61421632e-02, -6.31282479e-03, -1.29010946e-01, ...,\n",
       "           -2.75378190e-02,  3.08805294e-02, -5.46391428e-01],\n",
       "          [ 2.84549356e-01, -8.66224647e-01, -2.89928228e-01, ...,\n",
       "            2.33840585e-01, -8.49219203e-01,  1.33402705e+00],\n",
       "          [ 2.41591856e-01, -2.54082203e-01, -8.47085297e-01, ...,\n",
       "           -4.70533699e-01, -4.38174725e-01,  8.25192630e-01],\n",
       "          ...,\n",
       "          [ 5.81827104e-01, -8.38279128e-01,  1.40059106e-02, ...,\n",
       "            6.53854549e-01,  3.22415650e-01,  1.08868623e+00],\n",
       "          [ 2.38200668e-02, -4.31223869e-01, -1.31615102e-01, ...,\n",
       "           -2.29072362e-01,  4.72659349e-01,  6.58335030e-01],\n",
       "          [ 1.64677724e-01,  1.13772833e+00, -1.36550379e+00, ...,\n",
       "            3.67054552e-01,  5.68556905e-01, -9.98042524e-01]],\n",
       "\n",
       "         [[ 3.35657857e-02, -2.17507184e-02,  3.17772664e-02, ...,\n",
       "           -3.64506133e-02, -2.08231360e-02,  7.01691583e-02],\n",
       "          [-2.93534696e-02,  6.21209264e-01, -3.63328576e-01, ...,\n",
       "            4.92230058e-02, -1.80465132e-01,  3.84495586e-01],\n",
       "          [-4.79176342e-01,  1.91295035e-02, -1.42349398e+00, ...,\n",
       "           -4.29997146e-01,  4.58286881e-01,  1.05634086e-01],\n",
       "          ...,\n",
       "          [-1.12550032e+00, -6.72791153e-02, -1.25135410e+00, ...,\n",
       "            9.89404202e-01,  2.09743544e-01,  6.68094516e-01],\n",
       "          [-3.07253629e-01, -2.72317640e-02,  7.36055732e-01, ...,\n",
       "           -1.80207849e-01, -6.61747530e-02, -4.78527129e-01],\n",
       "          [-5.72879612e-02, -1.38806077e-02,  2.82410443e-01, ...,\n",
       "           -1.84213519e-01, -1.47062838e-01,  1.02444410e-01]],\n",
       "\n",
       "         [[ 6.98698498e-03, -7.20370591e-01, -1.48618221e-02, ...,\n",
       "            5.45077249e-02,  3.68405804e-02, -1.30265160e-02],\n",
       "          [ 7.31889963e-01, -1.30069172e+00,  2.52392292e-02, ...,\n",
       "           -2.06898034e-01,  2.14252278e-01, -1.99118495e-01],\n",
       "          [-5.90340555e-01, -1.30476058e+00,  1.90476254e-01, ...,\n",
       "           -1.82439670e-01, -3.14773247e-03,  3.46722573e-01],\n",
       "          ...,\n",
       "          [ 4.17047828e-01, -4.30948824e-01,  4.17471528e-01, ...,\n",
       "           -7.39593685e-01, -1.83949873e-01, -3.64119649e-01],\n",
       "          [-1.50129534e-02, -1.56448245e+00, -5.24192214e-01, ...,\n",
       "           -2.42901593e-01, -2.15356320e-01,  3.01363677e-01],\n",
       "          [ 1.05629735e-01, -1.45425701e+00, -1.05966702e-01, ...,\n",
       "           -1.07018232e-01,  3.95510755e-02, -1.48224115e-01]],\n",
       "\n",
       "         ...,\n",
       "\n",
       "         [[ 2.01236829e-02, -5.66882044e-02,  1.30516303e+00, ...,\n",
       "            1.10871531e-03,  1.92755491e-01, -2.08101794e-03],\n",
       "          [-2.66321450e-02,  3.28028262e-01,  1.92214012e+00, ...,\n",
       "            1.48364544e-01, -6.79202080e-02,  2.41265073e-01],\n",
       "          [-4.82681513e-01, -4.29622829e-01,  1.80583453e+00, ...,\n",
       "            3.62763047e-01, -3.12980950e-01,  3.77296925e-01],\n",
       "          ...,\n",
       "          [-1.08657622e+00, -7.84830868e-01,  2.21583319e+00, ...,\n",
       "           -2.18586937e-01,  1.48992598e-01,  3.86460312e-02],\n",
       "          [ 1.18644193e-01, -5.96208930e-01,  1.97210741e+00, ...,\n",
       "            4.63789821e-01, -2.09698603e-01,  1.86712041e-01],\n",
       "          [ 8.83261338e-02, -3.03670645e-01,  2.52380824e+00, ...,\n",
       "           -1.36084855e-01,  2.67747462e-01,  3.44899803e-01]],\n",
       "\n",
       "         [[-1.52964722e-02, -6.34566993e-02, -1.43137813e-01, ...,\n",
       "            1.61023691e-01,  1.13711692e-01,  1.89601839e-01],\n",
       "          [-9.15032983e-01,  2.22226009e-01,  1.41885445e-01, ...,\n",
       "            3.77197564e-02, -3.24423134e-01, -1.51464388e-01],\n",
       "          [ 3.72310907e-01, -4.91363406e-01,  1.72950581e-01, ...,\n",
       "           -1.48568526e-01, -6.33891821e-01, -2.00458139e-01],\n",
       "          ...,\n",
       "          [-4.84703690e-01,  2.73926407e-01,  4.10534590e-01, ...,\n",
       "            7.98058435e-02, -1.20104253e-02, -6.02295101e-01],\n",
       "          [ 1.95719972e-01,  2.16610655e-01,  3.46306771e-01, ...,\n",
       "            3.80869806e-01, -1.09089136e+00, -8.59336853e-02],\n",
       "          [ 6.83135927e-01,  6.90597594e-01,  2.15904847e-01, ...,\n",
       "            2.13584214e-01, -1.16230555e-01,  4.22215581e-01]],\n",
       "\n",
       "         [[ 2.29827911e-02,  2.47292090e-02,  1.45382248e-02, ...,\n",
       "           -1.33967344e-02,  2.27604628e-01, -6.33535068e-03],\n",
       "          [ 4.95448634e-02,  5.32718062e-01,  9.05070245e-01, ...,\n",
       "            1.12633497e-01, -2.02751088e+00,  9.84486938e-01],\n",
       "          [-4.79681641e-01, -7.54506886e-02, -1.96599275e-01, ...,\n",
       "           -6.49583638e-02, -1.96325588e+00,  1.05350532e-01],\n",
       "          ...,\n",
       "          [ 5.76674163e-01,  1.38073400e-01,  3.17996070e-02, ...,\n",
       "            1.82452112e-01, -2.12822771e+00, -1.77048996e-01],\n",
       "          [ 2.47193649e-01,  8.81261081e-02, -3.39238912e-01, ...,\n",
       "            8.78302753e-02, -2.27254295e+00, -1.87852979e-01],\n",
       "          [ 3.99977982e-01, -2.01059252e-01,  1.65353809e-02, ...,\n",
       "           -2.52829194e-01, -1.32519102e+00, -2.38749534e-01]]]]],\n",
       "      dtype=float32)>, <tf.Tensor: shape=(2, 1, 12, 10, 64), dtype=float32, numpy=\n",
       "array([[[[[ 5.13051450e-03, -1.87927783e-01,  1.47430062e-01, ...,\n",
       "           -8.80702019e-01,  7.58953154e-01, -1.19730580e+00],\n",
       "          [-2.56666803e+00,  1.76742852e+00, -3.91111302e+00, ...,\n",
       "            1.28264987e+00, -1.22515261e+00,  2.11636567e+00],\n",
       "          [-1.68162489e+00, -3.93362761e-01, -1.46732819e+00, ...,\n",
       "           -1.26792863e-01,  5.99879682e-01,  4.36198443e-01],\n",
       "          ...,\n",
       "          [-1.55715430e+00, -3.46569382e-02,  6.40882015e-01, ...,\n",
       "            1.77874279e+00, -1.65031922e+00,  2.04221654e+00],\n",
       "          [-6.51665390e-01, -5.52567601e-01,  1.02383375e+00, ...,\n",
       "           -5.60560107e-01, -1.90983284e+00,  1.29874337e+00],\n",
       "          [-1.09453574e-01, -8.81463349e-01,  1.45160481e-02, ...,\n",
       "            6.17958426e-01, -2.74759352e-01,  2.15111285e-01]],\n",
       "\n",
       "         [[ 8.04983914e-01,  2.03498334e-01,  1.79105587e-02, ...,\n",
       "           -1.62267566e-01, -1.08666444e+00, -2.06335634e-01],\n",
       "          [ 6.31275475e-01, -1.44803739e+00,  5.02827883e-01, ...,\n",
       "            3.46772641e-01,  5.04335022e+00,  2.11558676e+00],\n",
       "          [-1.11621749e+00, -1.32682550e+00,  6.30507648e-01, ...,\n",
       "            1.20593345e+00,  4.47669983e+00,  1.06702721e+00],\n",
       "          ...,\n",
       "          [ 2.28226453e-01, -2.36499214e+00,  7.81821966e-01, ...,\n",
       "            1.53580618e+00,  4.72018957e+00,  1.82688725e+00],\n",
       "          [-4.83953536e-01, -2.44436955e+00,  2.42422029e-01, ...,\n",
       "           -2.19118595e-01,  4.35085201e+00,  2.25235391e+00],\n",
       "          [-1.74623930e+00, -2.79845670e-02, -1.40729594e+00, ...,\n",
       "           -8.89489949e-02,  4.24718952e+00,  1.94052577e+00]],\n",
       "\n",
       "         [[ 3.32355678e-01, -3.52611601e-01, -3.35056603e-01, ...,\n",
       "            3.31757456e-01,  1.43019247e+00,  2.74234951e-01],\n",
       "          [-3.67094100e-01, -6.17890882e+00, -2.24314785e+00, ...,\n",
       "           -3.64053941e+00, -2.10480952e+00, -7.45414066e+00],\n",
       "          [-4.50589895e-01, -5.99703932e+00, -2.46409106e+00, ...,\n",
       "           -4.12645006e+00, -3.85413694e+00, -6.12289238e+00],\n",
       "          ...,\n",
       "          [-2.13076067e+00, -6.23604012e+00, -4.95092010e+00, ...,\n",
       "           -3.55771971e+00, -2.29969358e+00, -4.40231991e+00],\n",
       "          [-2.26098132e+00, -7.20149946e+00, -3.06693602e+00, ...,\n",
       "           -2.54872632e+00, -3.58523440e+00, -3.20538855e+00],\n",
       "          [-3.04249096e+00, -6.84858465e+00, -1.54553974e+00, ...,\n",
       "           -3.49366808e+00, -2.29151177e+00, -5.99668217e+00]],\n",
       "\n",
       "         ...,\n",
       "\n",
       "         [[ 2.34094232e-01,  1.80029142e+00,  5.38252115e-01, ...,\n",
       "            2.62363136e-01,  4.48600262e-01, -1.67089617e+00],\n",
       "          [ 1.35235584e+00, -5.11695480e+00,  2.91862512e+00, ...,\n",
       "           -8.62633109e-01, -1.63280678e+00,  5.95781660e+00],\n",
       "          [-8.90467986e-02, -6.23831129e+00,  4.51041847e-01, ...,\n",
       "           -1.88673973e+00, -2.14470983e+00,  7.14748859e+00],\n",
       "          ...,\n",
       "          [ 3.84667605e-01, -7.77855349e+00,  2.15189528e+00, ...,\n",
       "           -2.94065356e+00, -1.49380791e+00,  6.47812366e+00],\n",
       "          [ 5.75257838e-01, -6.53176165e+00,  3.46175671e-01, ...,\n",
       "           -4.89022827e+00, -1.10351658e+00,  6.26152039e+00],\n",
       "          [ 2.35773548e-02, -7.12908506e+00,  1.87746632e+00, ...,\n",
       "           -2.44422460e+00, -1.06705618e+00,  5.39377928e+00]],\n",
       "\n",
       "         [[ 7.01895952e-02, -5.02666086e-02,  1.64385378e-01, ...,\n",
       "           -8.45223367e-02, -8.53163153e-02, -1.41263157e-01],\n",
       "          [ 4.75730091e-01, -5.42034388e-01,  6.54667079e-01, ...,\n",
       "            4.41742331e-01, -1.15057957e+00, -1.42504311e+00],\n",
       "          [ 1.63463986e+00, -1.95567858e+00, -1.24420691e+00, ...,\n",
       "           -1.09995103e+00, -1.04940340e-01, -3.44134361e-01],\n",
       "          ...,\n",
       "          [-1.40560299e-01, -1.08666027e+00, -9.61550325e-02, ...,\n",
       "            9.98814464e-01,  1.21377432e+00,  1.02277064e+00],\n",
       "          [-5.31606078e-01, -5.16252041e-01, -7.89045513e-01, ...,\n",
       "           -4.33081120e-01, -5.08028150e-01, -1.43185616e-01],\n",
       "          [-1.62139803e-01, -6.80184543e-01,  3.94277275e-02, ...,\n",
       "           -7.96792507e-02, -2.05942258e-01,  3.01614255e-01]],\n",
       "\n",
       "         [[ 4.05417979e-01, -3.86747122e-02,  1.89521921e+00, ...,\n",
       "           -2.25267678e-01, -1.99018911e-01, -9.92873669e-01],\n",
       "          [ 3.79201984e+00,  9.77750897e-01, -1.57073569e+00, ...,\n",
       "            8.73546600e-01,  1.31220317e+00,  4.09435129e+00],\n",
       "          [ 2.64229202e+00,  2.85138750e+00, -1.18574226e+00, ...,\n",
       "            1.49690557e+00,  1.73418510e+00,  2.78766847e+00],\n",
       "          ...,\n",
       "          [ 3.71965766e+00,  4.22501922e-01, -4.06374073e+00, ...,\n",
       "            3.00528169e+00,  1.10354483e+00,  4.54045057e+00],\n",
       "          [ 4.28090239e+00,  3.59253377e-01, -3.05028677e+00, ...,\n",
       "            3.79889989e+00,  1.49726248e+00,  5.21234083e+00],\n",
       "          [ 2.64871955e+00,  1.53807294e+00, -3.01192093e+00, ...,\n",
       "           -5.33015251e-01,  6.62100852e-01,  4.24232244e+00]]]],\n",
       "\n",
       "\n",
       "\n",
       "       [[[[ 3.97649892e-02,  6.31795377e-02,  6.57733530e-04, ...,\n",
       "            1.90897062e-02,  9.90780517e-02,  3.45004424e-02],\n",
       "          [ 1.13878131e+00, -1.28712010e+00, -1.29037991e-01, ...,\n",
       "           -3.30238223e-01, -1.36393797e+00, -2.28945541e+00],\n",
       "          [-8.04747269e-02,  9.27225128e-02, -2.85081863e-01, ...,\n",
       "            2.15211436e-01, -9.66997206e-01,  2.98143625e-01],\n",
       "          ...,\n",
       "          [ 2.17727095e-01, -1.87645152e-01,  3.17518592e-01, ...,\n",
       "            7.92241544e-02, -1.30234206e+00,  2.11400181e-01],\n",
       "          [ 7.96966314e-01,  2.00998232e-01,  1.01616994e-01, ...,\n",
       "            2.60423422e-01, -7.77208328e-01, -7.36886561e-01],\n",
       "          [-2.09054381e-01, -6.67934537e-01,  1.70888171e-01, ...,\n",
       "            4.49422561e-02, -2.10393146e-01,  1.07078052e+00]],\n",
       "\n",
       "         [[-4.97565977e-02,  4.57798131e-03,  8.27159360e-02, ...,\n",
       "           -5.13875559e-02, -3.53671461e-02, -4.17124704e-02],\n",
       "          [ 9.30140674e-01,  4.86121863e-01,  1.36534227e-02, ...,\n",
       "            2.50209063e-01,  5.07527709e-01,  7.76945874e-02],\n",
       "          [ 5.35453558e-01,  3.64130646e-01,  5.92985272e-01, ...,\n",
       "            1.32785052e-01,  2.41493508e-01,  5.01087308e-01],\n",
       "          ...,\n",
       "          [ 9.94275391e-01,  8.47403526e-01, -1.39236348e-02, ...,\n",
       "           -2.27073252e-01, -3.34465742e-01,  7.20811605e-01],\n",
       "          [ 7.00308263e-01,  4.42340970e-02,  9.91307423e-02, ...,\n",
       "           -4.90451545e-01, -1.11476667e-01,  2.77984828e-01],\n",
       "          [-2.63922095e-01,  3.35893035e-02,  4.07461338e-02, ...,\n",
       "            2.15336457e-01,  2.03270718e-01, -5.93030006e-02]],\n",
       "\n",
       "         [[ 2.87211984e-02, -1.13230139e-01, -6.54510632e-02, ...,\n",
       "           -2.86449827e-02,  7.84393176e-02, -1.61036015e-01],\n",
       "          [-4.57999110e-01,  4.77835387e-01,  7.09794238e-02, ...,\n",
       "            5.36139488e-01, -4.55308676e-01, -2.34766260e-01],\n",
       "          [-3.37259859e-01, -4.31253798e-02,  5.99417925e-01, ...,\n",
       "            2.55821645e-01,  7.78910816e-02, -4.09428149e-01],\n",
       "          ...,\n",
       "          [ 7.57904112e-01, -5.65286949e-02, -7.40411043e-01, ...,\n",
       "            5.32423668e-02, -4.39006746e-01,  1.12017202e+00],\n",
       "          [-8.57151926e-01,  1.01667559e+00, -1.62701118e+00, ...,\n",
       "           -5.24437189e-01, -5.17576396e-01,  2.80744940e-01],\n",
       "          [ 3.09245676e-01,  9.30681676e-02, -5.19893289e-01, ...,\n",
       "           -2.16621473e-01, -2.49320939e-01, -6.80414513e-02]],\n",
       "\n",
       "         ...,\n",
       "\n",
       "         [[-2.04477794e-02,  1.25738412e-01, -8.22593085e-03, ...,\n",
       "           -3.04534100e-02,  6.61285296e-02, -3.38184386e-02],\n",
       "          [-7.74826944e-01,  4.66021568e-01, -8.64200354e-01, ...,\n",
       "            1.15655458e+00,  1.98119178e-01, -3.07791352e-01],\n",
       "          [-2.86915107e-04,  6.39424324e-01, -1.90130651e-01, ...,\n",
       "            2.01612204e-01, -1.81835368e-02,  5.54221034e-01],\n",
       "          ...,\n",
       "          [ 7.86684215e-01, -5.65787330e-02,  4.78693008e-01, ...,\n",
       "           -4.24520761e-01, -1.58169612e-01, -4.82392728e-01],\n",
       "          [ 6.41488016e-01, -9.53390226e-02, -9.32747871e-03, ...,\n",
       "            1.51057197e-02,  3.45834255e-01,  1.42159224e-01],\n",
       "          [ 1.32077917e-01,  2.33567193e-01,  8.07950273e-02, ...,\n",
       "            4.10498232e-01,  2.28829488e-01,  5.46604097e-02]],\n",
       "\n",
       "         [[-1.76265672e-01, -1.09179623e-01, -8.43545347e-02, ...,\n",
       "           -2.30400741e-01, -1.74736269e-02, -4.54671979e-02],\n",
       "          [-7.31911778e-01,  3.08197260e-01, -6.82223380e-01, ...,\n",
       "            1.18984115e+00,  6.08844519e-01, -5.95946789e-01],\n",
       "          [ 3.28379184e-01, -8.16804707e-01, -6.77969217e-01, ...,\n",
       "           -1.40927389e-01,  5.15535116e-01,  1.70356679e+00],\n",
       "          ...,\n",
       "          [ 7.00346172e-01,  2.15878069e-01,  2.25414252e+00, ...,\n",
       "            7.28657961e-01,  1.52479395e-01, -1.66501716e-01],\n",
       "          [-1.24708280e-01,  1.93972094e-03,  1.75796673e-01, ...,\n",
       "            1.31906897e-01,  1.50606140e-01, -2.05324925e-02],\n",
       "          [ 3.28937560e-01,  4.06761825e-01,  6.34195328e-01, ...,\n",
       "           -9.95113969e-01,  2.80458719e-01,  1.72486737e-01]],\n",
       "\n",
       "         [[ 1.24766059e-01, -6.55549616e-02, -2.68112905e-02, ...,\n",
       "           -8.96184705e-03, -9.24757868e-02, -8.64591151e-02],\n",
       "          [-3.62928420e-01, -4.08856779e-01,  4.66176867e-02, ...,\n",
       "            7.59226799e-01,  2.65589476e-01, -2.37322405e-01],\n",
       "          [-3.18045884e-01,  4.73834515e-01,  2.46729434e-01, ...,\n",
       "            9.84029658e-03,  2.05970481e-01, -6.89329326e-01],\n",
       "          ...,\n",
       "          [-5.89752384e-02,  5.29543936e-01, -5.85121214e-01, ...,\n",
       "            2.42465824e-01,  7.37262815e-02,  4.38789040e-01],\n",
       "          [-2.82350063e-01, -2.90836215e-01, -5.93545973e-01, ...,\n",
       "           -1.39872625e-01,  3.10981125e-01, -5.71844101e-01],\n",
       "          [ 4.72093195e-01, -1.11657560e-01,  2.88852081e-02, ...,\n",
       "           -8.44976082e-02, -4.16038871e-01,  1.12946384e-01]]]]],\n",
       "      dtype=float32)>, <tf.Tensor: shape=(2, 1, 12, 10, 64), dtype=float32, numpy=\n",
       "array([[[[[-8.94078195e-01, -1.41098201e-01,  3.34485769e-01, ...,\n",
       "           -9.89055455e-01,  2.41879374e-02, -2.96897626e+00],\n",
       "          [ 2.07377219e+00, -6.63341105e-01, -9.63236392e-01, ...,\n",
       "           -2.27017784e+00, -2.52704859e+00,  5.52880144e+00],\n",
       "          [ 1.45556247e+00,  9.12593484e-01, -1.28173220e+00, ...,\n",
       "           -1.78391027e+00, -2.59274292e+00,  7.05141830e+00],\n",
       "          ...,\n",
       "          [-7.20092729e-02, -1.29214251e+00, -4.23590994e+00, ...,\n",
       "           -1.11488199e+00, -4.18850571e-01,  7.93849850e+00],\n",
       "          [ 6.15826190e-01,  1.45869017e+00, -3.61364508e+00, ...,\n",
       "            1.96703359e-01, -5.27628720e-01,  7.98498440e+00],\n",
       "          [ 4.44188684e-01, -2.19933733e-01, -2.20332885e+00, ...,\n",
       "           -2.18602204e+00, -1.83913505e+00,  8.63547516e+00]],\n",
       "\n",
       "         [[ 3.32341075e-01, -5.21171466e-02,  4.48252112e-01, ...,\n",
       "           -1.35049343e-01, -6.78678751e-02, -2.21255922e+00],\n",
       "          [-1.93255949e+00,  1.94774806e-01,  3.70250964e+00, ...,\n",
       "           -7.54234672e-01, -1.44377100e+00,  5.92250538e+00],\n",
       "          [-2.36883307e+00,  6.85875475e-01,  3.68881607e+00, ...,\n",
       "            4.40370679e-01, -1.13745892e+00,  6.40744209e+00],\n",
       "          ...,\n",
       "          [-1.45071304e+00,  3.67073983e-01,  2.47377920e+00, ...,\n",
       "           -7.02701211e-01, -9.40161407e-01,  6.82354641e+00],\n",
       "          [-2.44329834e+00,  5.68701088e-01,  2.14129186e+00, ...,\n",
       "           -1.50795504e-02, -2.83527303e+00,  6.60833025e+00],\n",
       "          [-1.74244094e+00,  1.07770361e-01,  2.95800447e+00, ...,\n",
       "           -5.28919995e-01, -4.28282320e-01,  6.43864107e+00]],\n",
       "\n",
       "         [[ 1.38739616e-01, -6.59657061e-01, -2.32609242e-01, ...,\n",
       "            1.48599714e-01,  2.74512351e-01, -1.60598487e-01],\n",
       "          [ 8.65268111e-02,  1.56128526e+00,  8.80181134e-01, ...,\n",
       "           -5.67381158e-02,  6.40661299e-01, -2.13974360e-02],\n",
       "          [-1.36982465e+00,  1.87638092e+00,  1.01436329e+00, ...,\n",
       "           -7.24610746e-01, -1.00695622e+00, -1.20607339e-01],\n",
       "          ...,\n",
       "          [-1.44135249e+00,  2.33505678e+00, -7.49406517e-02, ...,\n",
       "            1.29534721e-01, -3.47372353e-01,  1.00695574e+00],\n",
       "          [ 3.46378297e-01,  2.04212832e+00,  1.09532642e+00, ...,\n",
       "           -1.92797601e-01,  5.62990904e-01,  8.55973601e-01],\n",
       "          [ 3.77033889e-01,  2.71639466e+00,  1.54363465e+00, ...,\n",
       "           -6.21160865e-01,  2.90608197e-01, -1.24703825e+00]],\n",
       "\n",
       "         ...,\n",
       "\n",
       "         [[-3.85527432e-01,  3.36509645e-02, -8.29890370e-04, ...,\n",
       "            1.23884475e+00,  4.40217815e-02,  1.77862000e+00],\n",
       "          [-3.40596259e-01, -1.16517520e+00, -1.61299860e+00, ...,\n",
       "           -2.20891452e+00, -1.22880793e+00, -8.40401411e-01],\n",
       "          [ 1.14596748e+00, -1.95991254e+00, -2.77778339e+00, ...,\n",
       "           -2.54600382e+00, -2.18706822e+00, -6.88093364e-01],\n",
       "          ...,\n",
       "          [ 2.73067951e+00, -5.49446583e-01,  6.49775207e-01, ...,\n",
       "           -2.99470711e+00, -1.23655057e+00, -2.93173265e+00],\n",
       "          [ 9.05728579e-01, -2.57219821e-01,  1.09493089e+00, ...,\n",
       "           -4.27888489e+00, -7.97841728e-01, -2.44831109e+00],\n",
       "          [ 5.29796541e-01, -4.75229174e-01, -1.03709590e+00, ...,\n",
       "           -4.29657507e+00, -1.31850374e+00, -6.75946057e-01]],\n",
       "\n",
       "         [[-3.52795482e-01, -1.61167681e-01,  2.19992101e-01, ...,\n",
       "            2.51495183e-01, -2.54468024e-02,  2.54171416e-02],\n",
       "          [-5.86568534e-01, -1.67954969e+00, -9.59082618e-02, ...,\n",
       "            1.31535661e+00, -4.32819575e-01, -3.62790406e-01],\n",
       "          [-1.42439079e+00, -4.49874640e-01,  4.20153856e-01, ...,\n",
       "            8.08571875e-01,  2.05891109e+00,  5.58933854e-01],\n",
       "          ...,\n",
       "          [ 2.32801914e+00,  3.68862510e-01, -1.25583395e-01, ...,\n",
       "            1.60168660e+00,  7.91506946e-01,  8.74209523e-01],\n",
       "          [ 1.07039750e+00,  6.89302087e-01,  1.03913736e+00, ...,\n",
       "            1.15588903e+00, -4.64684904e-01,  5.04678607e-01],\n",
       "          [-5.41068614e-01,  2.25148916e-01,  1.12827134e+00, ...,\n",
       "            4.95897561e-01,  4.43669379e-01,  1.21710670e+00]],\n",
       "\n",
       "         [[ 3.42880487e+00,  2.10742617e+00, -2.17538643e+00, ...,\n",
       "           -2.83833218e+00, -3.91702485e+00, -1.19873083e+00],\n",
       "          [-2.36818576e+00,  6.42601967e-01,  2.70159698e+00, ...,\n",
       "            9.61589217e-01,  5.64622784e+00, -3.81715822e+00],\n",
       "          [-1.72090840e+00, -6.44732594e-01,  3.37536883e+00, ...,\n",
       "            1.03007197e-01,  1.09147291e+01, -2.00100183e+00],\n",
       "          ...,\n",
       "          [-2.43384147e+00, -3.56767344e+00,  5.25486946e+00, ...,\n",
       "           -2.75102949e+00,  1.46749811e+01,  2.36808968e+00],\n",
       "          [-5.43049812e+00, -3.34607387e+00,  6.19986391e+00, ...,\n",
       "           -1.95498526e+00,  1.38997192e+01,  2.55536366e+00],\n",
       "          [-5.67296696e+00, -3.20009851e+00,  9.60417461e+00, ...,\n",
       "           -1.97199315e-01,  1.46240997e+01, -1.65598071e+00]]]],\n",
       "\n",
       "\n",
       "\n",
       "       [[[[-9.84494342e-04, -5.72722256e-02,  1.49643328e-02, ...,\n",
       "            5.10142744e-02,  2.41251513e-02,  6.18281960e-02],\n",
       "          [ 8.18555295e-01,  3.15226495e-01,  4.98397619e-01, ...,\n",
       "           -4.40638661e-01, -5.70206463e-01,  1.18688798e+00],\n",
       "          [ 9.65803489e-03, -1.22194372e-01,  9.30023938e-02, ...,\n",
       "           -8.47045720e-01,  1.88630968e-01, -2.34831944e-02],\n",
       "          ...,\n",
       "          [-8.32304880e-02, -1.74781337e-01,  8.30116212e-01, ...,\n",
       "            4.05118942e-01, -5.29057860e-01, -1.20794284e+00],\n",
       "          [ 3.93627584e-01,  4.93000671e-02,  1.76238626e-01, ...,\n",
       "            1.76456302e-01,  3.24748278e-01, -6.98214889e-01],\n",
       "          [-4.12607640e-01,  1.03064656e-01,  1.90714486e-02, ...,\n",
       "            6.63277730e-02, -2.00277373e-01, -4.99873161e-02]],\n",
       "\n",
       "         [[-5.80260865e-02, -2.35694647e-02, -1.36539549e-01, ...,\n",
       "           -3.69388238e-02,  4.61408272e-02, -3.14197969e-04],\n",
       "          [ 5.36480129e-01,  2.37885207e-01,  3.69323671e-01, ...,\n",
       "            3.09784144e-01, -7.57878900e-01,  6.99447691e-01],\n",
       "          [ 8.76909122e-02, -3.04010898e-01, -4.16828156e-01, ...,\n",
       "            4.69261885e-01, -5.75801373e-01,  6.29940331e-01],\n",
       "          ...,\n",
       "          [ 4.87628043e-01,  6.74353421e-01, -1.31607085e-01, ...,\n",
       "           -4.57320243e-01,  4.08309430e-01,  3.69843513e-01],\n",
       "          [ 1.34492368e-01,  3.27872857e-02, -1.74373806e-01, ...,\n",
       "            2.53477246e-01,  6.03420734e-01,  3.69610637e-01],\n",
       "          [-3.12239230e-01,  7.05870017e-02, -1.09013878e-01, ...,\n",
       "           -3.29698890e-01, -1.84809268e-01,  1.74005210e-01]],\n",
       "\n",
       "         [[ 5.98702207e-02,  9.41015780e-02,  8.97741839e-02, ...,\n",
       "            1.80193819e-02, -8.20329040e-02, -7.69518502e-03],\n",
       "          [ 3.88267031e-03, -1.35143533e-01,  5.57583272e-01, ...,\n",
       "           -1.09974194e+00, -1.03300825e-01, -4.83473152e-01],\n",
       "          [-5.10450661e-01, -3.01902801e-01, -7.63242960e-01, ...,\n",
       "           -5.71281835e-02, -4.88178194e-01,  6.24316670e-02],\n",
       "          ...,\n",
       "          [-5.63351989e-01, -3.31916809e-01,  5.25407970e-01, ...,\n",
       "            3.87530416e-01,  6.41697049e-01,  2.75471024e-02],\n",
       "          [-2.41530836e-01,  6.78731203e-01, -5.68722546e-01, ...,\n",
       "            5.11375189e-01,  8.95688295e-01, -3.20152551e-01],\n",
       "          [ 1.95865512e-01, -1.19470283e-01, -1.25778645e-01, ...,\n",
       "           -2.60719091e-01, -2.95373619e-01,  3.06112282e-02]],\n",
       "\n",
       "         ...,\n",
       "\n",
       "         [[-5.92324510e-03,  8.45673829e-02, -7.08189309e-02, ...,\n",
       "            4.79662567e-02,  4.02040482e-02, -1.39299870e-01],\n",
       "          [-6.61479905e-02, -1.87903702e-01, -5.09014189e-01, ...,\n",
       "            1.23890720e-01,  9.97680366e-01, -5.45440435e-01],\n",
       "          [ 2.73691714e-01,  5.99207878e-01, -8.32082391e-01, ...,\n",
       "            2.90612131e-01, -1.63675666e-01,  5.95227480e-01],\n",
       "          ...,\n",
       "          [ 1.19424987e+00,  3.10649604e-01, -2.88639575e-01, ...,\n",
       "            4.80965644e-01,  1.03577447e+00, -1.02275610e+00],\n",
       "          [ 5.31985402e-01, -1.28462017e+00, -4.27243292e-01, ...,\n",
       "            1.35395098e+00, -1.95730671e-01,  4.61556941e-01],\n",
       "          [-2.12791264e-01,  5.55303991e-01, -4.95707333e-01, ...,\n",
       "            1.89858377e-01, -1.31242380e-01, -9.22017932e-01]],\n",
       "\n",
       "         [[-1.47732839e-01, -5.47418855e-02,  1.03548363e-01, ...,\n",
       "           -6.45019263e-02,  5.02307527e-02, -4.72128205e-03],\n",
       "          [ 2.04077289e-01,  7.58747160e-01, -3.82444322e-01, ...,\n",
       "            7.91255176e-01,  3.37278157e-01,  3.11414987e-01],\n",
       "          [ 1.66737381e-02, -2.94500530e-01, -4.11531031e-01, ...,\n",
       "           -3.58537138e-02, -5.09018183e-01,  7.59115160e-01],\n",
       "          ...,\n",
       "          [ 4.59355533e-01,  1.37034607e+00,  4.52261358e-01, ...,\n",
       "           -6.22947633e-01,  2.14864388e-01,  1.13460886e+00],\n",
       "          [-4.88920733e-02,  1.87733360e-02, -2.25698695e-01, ...,\n",
       "            6.79045022e-02, -1.40281096e-01,  1.46801313e-02],\n",
       "          [ 3.68547022e-01, -4.39258307e-01,  3.28733414e-01, ...,\n",
       "            5.65514088e-01,  6.92095816e-01,  6.95389658e-02]],\n",
       "\n",
       "         [[-1.81882158e-02, -3.09536234e-03, -1.90920308e-02, ...,\n",
       "           -2.58092061e-02,  8.77413992e-03, -1.74864978e-02],\n",
       "          [-7.25297630e-01, -4.09748882e-01, -5.13467900e-02, ...,\n",
       "            7.95164526e-01, -4.26810265e-01, -3.89744490e-01],\n",
       "          [-2.37829387e-01,  1.83328927e-01, -1.18486792e-01, ...,\n",
       "            3.99206012e-01, -9.68082175e-02, -7.27616429e-01],\n",
       "          ...,\n",
       "          [-4.22060966e-01, -4.41020548e-01,  1.33028716e-01, ...,\n",
       "           -3.93063635e-01,  5.98979652e-01, -5.95665634e-01],\n",
       "          [-1.19127989e+00, -2.23898709e-01, -5.26487350e-01, ...,\n",
       "           -6.80385053e-01,  4.32114333e-01, -6.07642472e-01],\n",
       "          [ 5.71522355e-01, -2.15194672e-01, -2.08585076e-02, ...,\n",
       "           -2.66349763e-01,  4.37191516e-01,  9.20204744e-02]]]]],\n",
       "      dtype=float32)>, <tf.Tensor: shape=(2, 1, 12, 10, 64), dtype=float32, numpy=\n",
       "array([[[[[ 1.73801929e-02, -2.93686420e-01,  2.29289129e-01, ...,\n",
       "            1.69914472e+00, -2.19532758e-01, -6.96842447e-02],\n",
       "          [ 1.32519817e+00,  4.49040532e-03, -4.51735586e-01, ...,\n",
       "           -3.38692164e+00,  6.09343767e-01, -9.89449099e-02],\n",
       "          [-4.05121595e-03,  6.84449911e-01, -4.51902479e-01, ...,\n",
       "           -3.57851720e+00,  4.34209496e-01, -1.06952691e+00],\n",
       "          ...,\n",
       "          [ 1.09356892e+00, -1.32948697e-01, -8.50152135e-01, ...,\n",
       "           -4.49565983e+00, -8.88035774e-01, -7.09232569e-01],\n",
       "          [-4.05835509e-01,  1.81229562e-01,  7.09165037e-02, ...,\n",
       "           -3.99653983e+00,  5.30696392e-01, -8.96090329e-01],\n",
       "          [-2.81357944e-01,  2.45399266e-01, -9.55092311e-01, ...,\n",
       "           -3.14643931e+00,  5.94304562e-01, -6.95839643e-01]],\n",
       "\n",
       "         [[ 1.48584217e-01,  9.79312778e-01, -1.42285120e+00, ...,\n",
       "           -1.24282099e-01,  2.71851629e-01,  9.25052047e-01],\n",
       "          [-4.52730322e+00, -5.50219154e+00,  7.76851535e-01, ...,\n",
       "            3.79949734e-02,  2.00540972e+00, -6.70243382e-01],\n",
       "          [-1.84175289e+00, -5.46097231e+00, -1.50695157e+00, ...,\n",
       "           -1.36938989e-01, -1.67925239e+00, -1.69731128e+00],\n",
       "          ...,\n",
       "          [-1.01761663e+00, -4.19504881e+00,  9.13040817e-01, ...,\n",
       "           -6.76593423e-01,  8.58657479e-01, -2.99059844e+00],\n",
       "          [ 3.64922881e-01, -2.78393865e+00,  1.73022151e+00, ...,\n",
       "            8.41321588e-01,  1.89162886e+00, -1.87215865e+00],\n",
       "          [ 1.83097333e-01, -2.99641156e+00,  3.81078273e-01, ...,\n",
       "           -6.06521249e-01,  1.28301442e+00, -1.79448557e+00]],\n",
       "\n",
       "         [[-6.75638676e-01,  2.57871419e-01, -4.46030870e-02, ...,\n",
       "            1.81872308e-01,  3.54021490e-02, -2.79743850e-01],\n",
       "          [ 7.91708231e-01, -6.64397001e-01, -1.75966454e+00, ...,\n",
       "           -1.67499447e+00, -1.07570887e+00, -1.35803831e+00],\n",
       "          [ 2.16767359e+00, -7.10187703e-02,  4.34023052e-01, ...,\n",
       "            1.29979610e-01, -4.92937207e-01, -1.15024078e+00],\n",
       "          ...,\n",
       "          [ 1.81108367e+00, -2.69199073e-01,  1.95151865e-01, ...,\n",
       "           -7.64970183e-02, -1.89605236e+00,  9.10235494e-02],\n",
       "          [ 1.16933751e+00, -1.01335204e+00, -9.01796818e-01, ...,\n",
       "           -8.48942041e-01, -1.03228033e+00, -2.05973601e+00],\n",
       "          [ 6.74471021e-01,  3.84900987e-01, -3.89432281e-01, ...,\n",
       "           -8.65709931e-02, -3.79921675e-01,  9.45090950e-01]],\n",
       "\n",
       "         ...,\n",
       "\n",
       "         [[-2.67840475e-02,  1.13092430e-01,  1.44174144e-01, ...,\n",
       "           -9.53315422e-02,  2.87555512e-02,  1.79083154e-01],\n",
       "          [ 5.30398607e-01, -2.42931873e-01, -7.43332505e-03, ...,\n",
       "            1.79911637e+00, -1.26728034e+00,  6.60783768e-01],\n",
       "          [ 1.36675501e+00, -5.87525725e-01, -1.02608097e+00, ...,\n",
       "            6.17567301e-01, -1.25495899e+00,  1.84088707e-01],\n",
       "          ...,\n",
       "          [-4.02419746e-01, -4.02993679e-01,  9.03602123e-01, ...,\n",
       "           -8.54724124e-02,  2.98474073e-01,  1.30850410e+00],\n",
       "          [ 8.75948548e-01, -5.46279728e-01,  5.98543584e-01, ...,\n",
       "           -4.26776201e-01,  9.53776777e-01,  4.66122627e-02],\n",
       "          [ 6.69976950e-01, -2.46083289e-02,  6.45466208e-01, ...,\n",
       "            9.71415699e-01,  5.12061477e-01,  1.26027763e-01]],\n",
       "\n",
       "         [[-3.01747656e+00,  3.99297476e-01, -3.63735892e-02, ...,\n",
       "           -4.71274137e-01, -3.48073661e-01,  1.24373078e+00],\n",
       "          [ 5.15902233e+00, -6.39789939e-01, -1.21110940e+00, ...,\n",
       "           -5.43690205e-01, -6.34396195e-01, -2.71122313e+00],\n",
       "          [ 3.96380496e+00, -4.49055612e-01, -8.17655981e-01, ...,\n",
       "            1.32978761e+00,  1.02141917e+00, -3.65255415e-01],\n",
       "          ...,\n",
       "          [ 6.96974993e+00,  1.04673214e-01, -1.26772511e+00, ...,\n",
       "            1.47788429e+00, -3.95149291e-01, -1.32566857e+00],\n",
       "          [ 5.97223520e+00, -3.16664755e-01, -3.04884940e-01, ...,\n",
       "           -1.69631934e+00,  1.99953020e+00, -5.89785814e-01],\n",
       "          [ 4.39306068e+00,  3.91047120e-01, -6.17387950e-01, ...,\n",
       "           -1.77438211e+00,  3.81962925e-01,  9.99103040e-02]],\n",
       "\n",
       "         [[-1.40225515e-02, -2.38525614e-01,  2.52760500e-02, ...,\n",
       "           -1.60727561e-01,  3.36466551e-01,  8.66534337e-02],\n",
       "          [ 2.90857181e-02, -2.18555069e+00,  1.74749523e-01, ...,\n",
       "            3.26369405e-01,  3.87209117e-01, -1.71963322e+00],\n",
       "          [-2.27914676e-02, -1.93334436e+00, -1.17837876e-01, ...,\n",
       "           -5.00228405e-01,  1.50044787e+00, -2.06413195e-01],\n",
       "          ...,\n",
       "          [-1.66884109e-01, -7.20971942e-01,  6.84122682e-01, ...,\n",
       "            2.44002059e-01,  1.19392633e+00, -2.13612700e+00],\n",
       "          [-1.72371894e-01, -1.53553009e+00,  4.91760939e-01, ...,\n",
       "            1.15535542e-01,  1.81737185e+00, -1.01686573e+00],\n",
       "          [ 2.15814054e-01, -1.89351773e+00,  4.41862702e-01, ...,\n",
       "            4.27811265e-01,  1.49648324e-01, -2.09747985e-01]]]],\n",
       "\n",
       "\n",
       "\n",
       "       [[[[-2.82898806e-02, -2.36699656e-02, -6.45483518e-03, ...,\n",
       "           -3.23796272e-03, -2.48141252e-02,  3.51474345e-01],\n",
       "          [ 8.24615955e-01,  2.94597626e-01, -5.18292129e-01, ...,\n",
       "           -2.92370111e-01, -2.15280518e-01,  1.73952840e-02],\n",
       "          [ 1.92325437e+00, -7.09946156e-01,  3.98802519e-01, ...,\n",
       "            1.59322947e-01,  7.34958291e-01, -2.10329756e-01],\n",
       "          ...,\n",
       "          [ 3.20340216e-01, -6.62908077e-01,  5.41719608e-02, ...,\n",
       "           -3.48943353e-01, -3.93189609e-01, -1.53041756e+00],\n",
       "          [ 5.46544269e-02, -2.88672715e-01, -6.08829021e-01, ...,\n",
       "            1.21806049e+00,  5.90225518e-01, -1.29707170e+00],\n",
       "          [ 1.00872882e-01,  4.25791174e-01, -1.11919321e-01, ...,\n",
       "            1.06971651e-01,  3.79033774e-01, -1.02368557e+00]],\n",
       "\n",
       "         [[ 5.17066941e-03, -2.95628719e-02,  1.51309390e-02, ...,\n",
       "           -2.66565830e-02,  1.40435733e-02,  1.21904761e-02],\n",
       "          [-5.62662840e-01, -9.25014019e-01,  9.78845179e-01, ...,\n",
       "           -2.01096654e-01,  1.36038065e+00, -3.24963331e-01],\n",
       "          [ 7.99011946e-01,  5.13558626e-01, -2.94542789e-01, ...,\n",
       "           -7.69399107e-01,  4.49309260e-01, -8.42128575e-01],\n",
       "          ...,\n",
       "          [-9.10235867e-02,  4.75654274e-01,  1.49257684e+00, ...,\n",
       "           -6.12535417e-01,  6.34869456e-01, -4.84559894e-01],\n",
       "          [ 1.18351996e+00, -9.60265398e-01,  1.07689774e+00, ...,\n",
       "           -7.30122030e-01,  1.65817261e-01, -1.83263290e+00],\n",
       "          [-7.70072460e-01,  6.92509487e-03, -1.10982585e+00, ...,\n",
       "           -2.12410748e-01,  1.54669499e+00, -1.08345473e+00]],\n",
       "\n",
       "         [[-5.86678684e-02,  6.53229514e-03, -3.85227278e-02, ...,\n",
       "           -3.66994925e-02,  1.08482027e-02, -7.37623870e-02],\n",
       "          [-3.78829241e-01,  4.59987730e-01, -1.95862539e-02, ...,\n",
       "           -9.54395384e-02, -1.72277540e-01, -4.92037423e-02],\n",
       "          [-1.05033255e+00, -9.03006077e-01, -1.98562518e-01, ...,\n",
       "            7.03957319e-01,  1.02449782e-01,  6.46415412e-01],\n",
       "          ...,\n",
       "          [ 6.93667650e-01, -7.14830995e-01,  4.39407349e-01, ...,\n",
       "           -5.25674164e-01,  4.61236149e-01,  3.27409387e-01],\n",
       "          [-5.97146749e-01, -3.84500563e-01, -2.05558509e-01, ...,\n",
       "           -3.93286049e-01, -2.59767562e-01, -3.38266224e-01],\n",
       "          [-2.12197185e-01,  2.82720715e-01,  1.13132179e+00, ...,\n",
       "           -4.06822503e-01,  3.92689556e-01,  4.10033673e-01]],\n",
       "\n",
       "         ...,\n",
       "\n",
       "         [[-3.26759785e-01, -1.92560941e-01, -7.24981576e-02, ...,\n",
       "           -4.88418311e-01,  2.16427878e-01,  9.23673809e-02],\n",
       "          [ 2.40949869e+00, -2.11036205e+00,  8.04702789e-02, ...,\n",
       "            2.11705112e+00,  7.82478333e-01, -3.53018135e-01],\n",
       "          [ 7.91978359e-01, -2.00287724e+00, -1.27355933e+00, ...,\n",
       "            1.66226730e-01,  2.05060065e-01, -1.59691367e-02],\n",
       "          ...,\n",
       "          [ 1.62640855e-01,  6.56566098e-02,  3.32837909e-01, ...,\n",
       "            1.68774164e+00,  5.87744355e-01, -4.58485335e-01],\n",
       "          [ 3.70207787e-01, -2.17869186e+00, -6.35965347e-01, ...,\n",
       "            1.66894531e+00, -2.23973095e-02,  6.26212835e-01],\n",
       "          [ 1.18333781e+00, -1.26096892e+00, -3.17769736e-01, ...,\n",
       "            8.84800315e-01, -2.56290555e-01, -1.01236284e+00]],\n",
       "\n",
       "         [[-7.42920339e-02, -1.37611896e-01, -4.76690196e-02, ...,\n",
       "           -1.89220473e-01, -1.41102165e-01,  1.25886232e-01],\n",
       "          [-8.19896519e-01, -8.38493407e-01,  6.71945691e-01, ...,\n",
       "            6.32619202e-01,  2.02739406e-02, -7.62353003e-01],\n",
       "          [ 2.82785714e-01,  3.74814004e-01, -2.44614825e-01, ...,\n",
       "            1.83693707e-01, -3.37592155e-01,  5.15267015e-01],\n",
       "          ...,\n",
       "          [ 9.15169895e-01,  1.74398512e-01,  1.92173287e-01, ...,\n",
       "           -3.14666271e-01, -8.25274065e-02,  6.30599260e-01],\n",
       "          [-1.27279830e+00,  6.18560135e-01, -2.17634067e-01, ...,\n",
       "           -5.68275988e-01, -9.47857738e-01,  7.02170908e-01],\n",
       "          [-4.24259901e-01, -4.39510435e-01, -7.45995581e-01, ...,\n",
       "           -1.12460360e-01, -1.08943328e-01,  4.50462103e-02]],\n",
       "\n",
       "         [[-3.75935733e-02, -4.07090895e-02,  1.04079127e-01, ...,\n",
       "            8.07670057e-02, -4.25417498e-02,  1.37371253e-02],\n",
       "          [ 1.67676523e-01, -5.08430839e-01,  4.75411028e-01, ...,\n",
       "           -7.98512042e-01, -2.64740795e-01, -2.39745881e-02],\n",
       "          [ 8.52578819e-01, -4.26363871e-02,  2.08101779e-01, ...,\n",
       "           -4.61084545e-01, -3.53324533e-01, -4.41961408e-01],\n",
       "          ...,\n",
       "          [ 8.84183288e-01, -2.10992232e-01, -1.38330746e+00, ...,\n",
       "            3.17558385e-02,  3.75018537e-01,  3.69731903e-01],\n",
       "          [ 1.50360537e+00,  3.02474469e-01, -1.68164611e+00, ...,\n",
       "            2.75726646e-01, -4.30778950e-01,  1.27052736e+00],\n",
       "          [ 9.00474846e-01, -4.03503925e-01, -7.54413188e-01, ...,\n",
       "            2.06187159e-01,  5.64862847e-01,  3.77194881e-01]]]]],\n",
       "      dtype=float32)>, <tf.Tensor: shape=(2, 1, 12, 10, 64), dtype=float32, numpy=\n",
       "array([[[[[-3.42384398e-01,  8.85827839e-01, -1.58047885e-01, ...,\n",
       "            1.12606263e+00, -1.95209175e-01,  1.41789466e-01],\n",
       "          [-1.91856635e+00, -3.57642221e+00,  1.07442999e+00, ...,\n",
       "           -2.99761629e+00,  2.45244205e-01,  1.69510603e+00],\n",
       "          [ 2.07139492e-01, -4.55510759e+00, -3.93259585e-01, ...,\n",
       "           -2.36854553e+00,  7.52795756e-01,  1.96475899e+00],\n",
       "          ...,\n",
       "          [ 4.15534675e-02, -3.61805534e+00, -3.74464333e-01, ...,\n",
       "           -3.74136543e+00, -2.56171489e+00,  1.36135280e+00],\n",
       "          [ 9.78784800e-01, -4.30807972e+00, -8.18516493e-01, ...,\n",
       "           -3.93593717e+00, -3.57049882e-01,  6.41117573e-01],\n",
       "          [-1.12425661e+00, -4.28900766e+00,  9.76602614e-01, ...,\n",
       "           -3.92856264e+00,  3.23282003e-01,  1.04689002e+00]],\n",
       "\n",
       "         [[ 4.38240282e-02,  8.55283678e-01, -6.50213182e-01, ...,\n",
       "           -4.80857901e-02,  2.98452795e-01,  1.31271854e-02],\n",
       "          [ 1.85636449e+00, -8.66738141e-01,  1.17565155e-01, ...,\n",
       "            1.40846848e+00, -1.55223489e+00, -8.98918211e-01],\n",
       "          [ 3.94590139e-01, -7.43016779e-01, -8.71505141e-01, ...,\n",
       "            2.14412785e+00,  6.70479000e-01, -5.77187479e-01],\n",
       "          ...,\n",
       "          [-1.85335946e+00,  4.01089370e-01,  1.05214810e+00, ...,\n",
       "           -6.13108277e-01,  1.05465949e+00, -1.95924044e+00],\n",
       "          [-1.64849663e+00,  1.74355388e+00,  2.84421277e+00, ...,\n",
       "           -4.25346851e-01,  1.41999614e+00,  2.30055451e-02],\n",
       "          [ 3.91612798e-01,  5.74298680e-01,  6.03358150e-01, ...,\n",
       "            1.84722209e+00,  1.68533742e-01, -9.51910764e-03]],\n",
       "\n",
       "         [[-3.06950390e-01,  1.41872793e-01, -9.77088034e-01, ...,\n",
       "           -3.52364719e-01, -6.53052032e-02, -1.56886041e-01],\n",
       "          [ 5.44257045e-01,  2.60402471e-01,  3.36981320e+00, ...,\n",
       "            5.90347767e-01,  3.07741821e-01,  1.63691878e-01],\n",
       "          [ 1.81589991e-01, -4.29141462e-01,  3.66477108e+00, ...,\n",
       "            6.52527809e-01,  1.62424579e-01,  1.18120265e+00],\n",
       "          ...,\n",
       "          [ 6.01857424e-01, -2.83544809e-02,  4.04611015e+00, ...,\n",
       "            1.44635320e-01, -3.05009544e-01, -1.83266923e-02],\n",
       "          [ 8.44636083e-01, -6.50898218e-02,  3.82290840e+00, ...,\n",
       "            4.19268832e-02,  8.75840068e-01,  8.69293034e-01],\n",
       "          [-4.12095517e-01,  9.77935910e-01,  2.98088241e+00, ...,\n",
       "           -3.90865773e-01, -1.26129523e-01,  4.74081263e-02]],\n",
       "\n",
       "         ...,\n",
       "\n",
       "         [[ 3.76230925e-01,  8.84167776e-02, -6.95189834e-02, ...,\n",
       "           -4.77209128e-02,  2.28440791e-01,  1.90709904e-02],\n",
       "          [ 7.10955024e-01,  1.89090073e-01, -4.01269078e-01, ...,\n",
       "           -4.90950316e-01, -1.27692342e+00,  6.41421139e-01],\n",
       "          [-3.30283612e-01,  1.57374740e+00, -1.13975689e-01, ...,\n",
       "            1.22896659e+00, -3.27629447e-01,  1.34650564e+00],\n",
       "          ...,\n",
       "          [-1.22285223e+00,  1.01009464e+00,  1.58349729e+00, ...,\n",
       "            2.40280807e-01,  1.81461728e+00,  2.53200620e-01],\n",
       "          [-7.02494979e-01, -2.03432226e+00,  3.51185262e-01, ...,\n",
       "           -2.17332363e-01,  1.28917706e+00,  3.95504057e-01],\n",
       "          [-1.23625052e+00, -2.52189338e-01,  9.91240561e-01, ...,\n",
       "           -7.43911862e-02,  1.32779050e+00,  6.35639310e-01]],\n",
       "\n",
       "         [[ 1.90330207e-01,  5.94083816e-02,  3.35244745e-01, ...,\n",
       "            4.22752857e-01,  1.93623602e-02,  2.24076837e-01],\n",
       "          [ 5.95040441e-01,  2.90160686e-01, -1.40260547e-01, ...,\n",
       "           -1.50440466e+00, -2.33353734e-01,  3.16292584e-01],\n",
       "          [ 1.14805329e+00, -2.14725077e-01,  1.22001290e+00, ...,\n",
       "           -4.97576207e-01,  2.99053818e-01,  4.28033382e-01],\n",
       "          ...,\n",
       "          [ 1.23224044e+00,  1.90580964e-01,  9.78309691e-01, ...,\n",
       "           -3.98174524e-01, -8.64451349e-01,  1.61655888e-01],\n",
       "          [ 1.55456197e+00,  1.26486629e-01,  1.51012957e+00, ...,\n",
       "           -2.63384521e-01, -1.41853011e+00, -3.37886214e-01],\n",
       "          [ 2.50953150e+00, -4.18463379e-01,  9.73391175e-01, ...,\n",
       "            7.96978027e-02, -1.96278763e+00,  1.27646673e+00]],\n",
       "\n",
       "         [[-3.02682114e+00,  5.56268096e-01,  5.75609565e-01, ...,\n",
       "           -9.34989810e-01,  3.14344168e-01,  1.85387745e-01],\n",
       "          [ 6.39960003e+00, -2.64395297e-01, -1.78202486e+00, ...,\n",
       "            9.51526999e-01, -1.39545310e+00, -1.91679150e-02],\n",
       "          [ 6.56442547e+00, -5.87801218e-01, -3.00500321e+00, ...,\n",
       "            1.15063572e+00, -8.39948535e-01, -1.19853139e+00],\n",
       "          ...,\n",
       "          [ 8.74428177e+00,  4.89657968e-01, -8.18128943e-01, ...,\n",
       "            9.22892332e-01, -1.97656095e-01, -2.17588639e+00],\n",
       "          [ 8.82148361e+00,  7.76207328e-01, -9.93805826e-01, ...,\n",
       "            1.03704207e-01, -8.49701047e-01, -1.08199632e+00],\n",
       "          [ 9.43611908e+00, -1.18862557e+00, -5.34560859e-01, ...,\n",
       "            2.56795454e+00,  4.12698597e-01, -7.95871854e-01]]]],\n",
       "\n",
       "\n",
       "\n",
       "       [[[[ 4.25812751e-02, -5.03784977e-02,  8.10718723e-03, ...,\n",
       "           -7.25038946e-02,  9.62395500e-03, -9.21483040e-02],\n",
       "          [-4.32617247e-01,  1.34005159e-01, -4.78944108e-02, ...,\n",
       "            4.40467864e-01,  2.61792600e-01,  1.06184053e+00],\n",
       "          [ 3.10194552e-01, -1.23391010e-01, -8.25866580e-01, ...,\n",
       "           -5.10557115e-01, -7.09314108e-01,  9.24099505e-01],\n",
       "          ...,\n",
       "          [-8.38775516e-01,  2.37372667e-01,  2.74593592e-01, ...,\n",
       "            2.12364331e-01,  2.52239019e-01,  4.41310108e-01],\n",
       "          [-1.13689065e+00,  2.80304283e-01, -2.85879403e-01, ...,\n",
       "           -3.73623818e-02,  6.64924681e-01, -1.58584908e-01],\n",
       "          [ 2.54834801e-01, -1.81398481e-01,  3.24671149e-01, ...,\n",
       "           -7.47796148e-02,  1.21436104e-01, -5.72087824e-01]],\n",
       "\n",
       "         [[ 7.94997439e-02,  1.96375921e-02, -1.49557125e-02, ...,\n",
       "           -3.94605249e-02,  2.10642368e-02, -1.70437619e-02],\n",
       "          [ 4.62826103e-01, -1.46928146e-01,  8.22707117e-01, ...,\n",
       "            3.42779160e-01,  6.68329597e-02, -1.00494003e+00],\n",
       "          [ 4.03827250e-01, -8.71595144e-01, -1.17863905e+00, ...,\n",
       "            1.05813813e+00,  5.71832120e-01,  5.34760773e-01],\n",
       "          ...,\n",
       "          [-6.67559266e-01,  1.46560997e-01,  1.42739046e+00, ...,\n",
       "           -1.20269410e-01,  1.16118336e+00,  2.08010030e+00],\n",
       "          [-2.05182493e-01,  2.54272372e-01,  8.52050424e-01, ...,\n",
       "           -8.82123113e-01,  9.52575982e-01,  4.84589219e-01],\n",
       "          [ 8.24155867e-01,  1.24042705e-01, -1.93694085e-02, ...,\n",
       "           -2.75828183e-01,  3.86845887e-01,  7.91072309e-01]],\n",
       "\n",
       "         [[ 6.50313124e-02,  1.73643958e-02, -1.32143823e-02, ...,\n",
       "            1.96116176e-02, -6.21628165e-02, -6.37365729e-02],\n",
       "          [-1.16645806e-02,  6.82729781e-01, -8.85336637e-01, ...,\n",
       "           -8.81399989e-01, -9.25353467e-01,  1.10017180e+00],\n",
       "          [ 7.25984812e-01, -6.44829869e-01, -1.03129350e-01, ...,\n",
       "           -6.48987234e-01, -5.57756782e-01,  1.33144605e+00],\n",
       "          ...,\n",
       "          [-6.77758276e-01, -1.50410905e-01, -6.67231977e-01, ...,\n",
       "           -4.31807160e-01, -8.05232704e-01, -2.11117163e-01],\n",
       "          [-6.13815248e-01, -2.48954430e-01, -3.96050215e-01, ...,\n",
       "           -1.82660520e+00,  3.91536623e-01, -1.54225075e+00],\n",
       "          [-3.60122949e-01, -6.27477646e-01, -3.18266839e-01, ...,\n",
       "           -9.20948982e-02,  2.77664721e-01,  3.59969027e-02]],\n",
       "\n",
       "         ...,\n",
       "\n",
       "         [[-1.21601485e-03,  2.05530636e-02,  1.80684738e-02, ...,\n",
       "           -6.75212443e-02, -2.11339705e-02,  1.03322342e-02],\n",
       "          [-2.65214771e-01,  6.83520734e-02, -5.80437958e-01, ...,\n",
       "            2.09042668e+00, -2.05893159e-01, -6.20312430e-02],\n",
       "          [-1.10889184e+00, -4.00720775e-01,  6.50440097e-01, ...,\n",
       "            1.85268414e+00, -5.94936311e-01, -1.51937950e+00],\n",
       "          ...,\n",
       "          [-1.81944758e-01, -1.32065117e+00, -4.06474620e-01, ...,\n",
       "            5.02949357e-01, -6.47546589e-01,  2.04365686e-01],\n",
       "          [ 1.65233225e-01, -6.56582117e-02,  4.48582262e-01, ...,\n",
       "           -1.37688482e+00, -1.58728659e+00,  1.67389297e+00],\n",
       "          [-2.33852580e-01, -1.06947076e+00, -2.08983570e-01, ...,\n",
       "            4.28063452e-01,  1.34703577e-01,  4.91346836e-01]],\n",
       "\n",
       "         [[ 4.59051691e-02, -1.36512686e-02,  3.35537493e-02, ...,\n",
       "            4.23157997e-02, -1.06604230e-02,  1.36588756e-02],\n",
       "          [ 6.77090645e-01, -6.13168120e-01, -5.16045094e-01, ...,\n",
       "            3.96544188e-01, -6.33088708e-01, -7.41261244e-01],\n",
       "          [ 3.23023260e-01, -5.09587646e-01, -2.08349180e+00, ...,\n",
       "            1.24116397e+00,  3.09305578e-01,  7.68098235e-01],\n",
       "          ...,\n",
       "          [ 6.64005399e-01,  1.48682940e+00, -1.37693548e+00, ...,\n",
       "           -8.57904673e-01, -9.78862286e-01,  7.43471533e-02],\n",
       "          [-3.70317996e-01,  1.07686913e+00, -1.17425263e+00, ...,\n",
       "            1.47318365e-02, -8.24986696e-01, -8.60414982e-01],\n",
       "          [-1.05712444e-01, -2.95459777e-01, -1.06357491e+00, ...,\n",
       "            4.97733802e-01, -3.08092870e-02, -7.97306597e-02]],\n",
       "\n",
       "         [[ 7.68267214e-02, -2.01108411e-01, -8.19579512e-02, ...,\n",
       "           -2.37534642e-02,  2.04656303e-01, -5.68177141e-02],\n",
       "          [ 9.92612913e-02, -2.13524103e+00,  4.17356938e-02, ...,\n",
       "            4.38226312e-01, -7.93578267e-01,  4.16820407e-01],\n",
       "          [-1.03536598e-01, -8.45440865e-01, -1.00426778e-01, ...,\n",
       "            7.00335503e-01, -6.80307150e-02, -1.20308392e-01],\n",
       "          ...,\n",
       "          [ 8.75600055e-02,  2.01419830e+00, -7.81556845e-01, ...,\n",
       "            1.24502349e+00, -1.24551260e+00,  8.47535804e-02],\n",
       "          [ 2.17943981e-01,  1.70750391e+00, -7.74825633e-01, ...,\n",
       "            2.06940860e-01,  1.11139491e-02,  1.23632140e-01],\n",
       "          [-9.06546474e-01, -7.89769411e-01,  2.85815727e-02, ...,\n",
       "            1.59702718e-01, -3.98104846e-01,  8.65747392e-01]]]]],\n",
       "      dtype=float32)>, <tf.Tensor: shape=(2, 1, 12, 10, 64), dtype=float32, numpy=\n",
       "array([[[[[ 1.04464698e+00, -2.86089629e-01, -1.41750693e-01, ...,\n",
       "            6.16247833e-01,  7.39134371e-01, -3.20600271e-01],\n",
       "          [-3.90651703e+00, -2.30833578e+00,  2.28663111e+00, ...,\n",
       "           -1.04867160e+00, -3.98001003e+00,  3.16477388e-01],\n",
       "          [-4.86094713e+00, -9.51569378e-01,  2.60508323e+00, ...,\n",
       "           -2.99812350e-02, -3.98930430e+00, -5.39477885e-01],\n",
       "          ...,\n",
       "          [-3.55600381e+00, -2.61826181e+00,  7.84925938e-01, ...,\n",
       "            6.85904324e-01, -4.48862743e+00, -6.27324760e-01],\n",
       "          [-4.25709867e+00, -1.75331593e+00,  2.82670331e+00, ...,\n",
       "           -6.51718676e-01, -4.09127903e+00, -2.95001775e-01],\n",
       "          [-4.97550917e+00, -1.97180498e+00,  8.49084929e-03, ...,\n",
       "           -3.35340291e-01, -3.79025030e+00, -1.13185205e-01]],\n",
       "\n",
       "         [[-1.38684601e-01, -5.69638312e-02,  1.58239886e-01, ...,\n",
       "           -4.65067402e-02, -8.84662747e-01, -2.04220384e-01],\n",
       "          [-5.55077910e-01, -7.30238855e-02, -3.13231826e-01, ...,\n",
       "           -5.56439720e-02, -7.02278256e-01,  1.60731018e+00],\n",
       "          [-1.38245511e+00,  1.41778088e+00, -2.94093668e-01, ...,\n",
       "            1.33731496e+00, -1.04499567e+00,  1.94777524e+00],\n",
       "          ...,\n",
       "          [-1.88109636e+00,  3.80265057e-01, -1.22123659e+00, ...,\n",
       "            1.77922618e+00,  9.08032060e-01,  4.67717677e-01],\n",
       "          [-1.20257497e+00,  1.68747854e+00, -4.96582031e-01, ...,\n",
       "            5.54317236e-01, -4.57578063e-01,  1.06828868e+00],\n",
       "          [-2.22473693e+00,  3.48112285e-01, -1.51135755e+00, ...,\n",
       "            5.35840213e-01, -9.01754558e-01,  5.24893641e-01]],\n",
       "\n",
       "         [[ 1.92404389e-01,  3.07458490e-01,  1.13594067e+00, ...,\n",
       "           -4.68149215e-01,  4.28172648e-01, -5.04160702e-01],\n",
       "          [ 1.11589360e+00, -8.50057125e-01, -1.33693063e+00, ...,\n",
       "           -5.04911542e-01, -2.31739020e+00,  1.40752864e+00],\n",
       "          [-4.33523864e-01, -6.52256668e-01, -1.46649146e+00, ...,\n",
       "            3.73595059e-01, -3.24411225e+00,  2.45864105e+00],\n",
       "          ...,\n",
       "          [-1.25561726e+00, -1.41554248e+00, -1.61069119e+00, ...,\n",
       "           -2.26317954e+00, -1.62432206e+00, -6.02181733e-01],\n",
       "          [-4.39431101e-01, -2.40092278e+00, -8.96950424e-01, ...,\n",
       "           -1.17406571e+00, -1.31104600e+00,  8.93104672e-01],\n",
       "          [ 6.04891360e-01, -1.49222517e+00, -8.94083083e-01, ...,\n",
       "           -1.40591073e+00, -2.31687999e+00,  1.54566813e+00]],\n",
       "\n",
       "         ...,\n",
       "\n",
       "         [[-1.55203119e-01,  6.80391639e-02, -2.22912192e-01, ...,\n",
       "           -1.11676082e-02,  1.52343094e-01,  3.79182473e-02],\n",
       "          [-1.47044230e+00, -2.70386040e-01, -1.00118876e+00, ...,\n",
       "            9.80908930e-01, -1.42332837e-02, -5.94382226e-01],\n",
       "          [-2.80176759e+00, -7.57521987e-02, -5.73647320e-01, ...,\n",
       "            1.40246522e+00,  5.70498168e-01, -3.82795036e-01],\n",
       "          ...,\n",
       "          [-7.41474092e-01,  1.68766990e-01,  1.10996819e+00, ...,\n",
       "            2.66846538e-01, -1.09789085e+00, -1.75726795e+00],\n",
       "          [ 5.49871743e-01,  4.74425852e-01,  1.49774337e+00, ...,\n",
       "           -3.81815135e-01, -6.43079817e-01, -1.47425258e+00],\n",
       "          [-1.92967677e+00,  1.24231327e+00, -7.16279984e-01, ...,\n",
       "            8.96431744e-01, -3.29511136e-01, -2.89051384e-01]],\n",
       "\n",
       "         [[-3.51977944e-01, -2.18188667e+00,  1.30522296e-01, ...,\n",
       "           -7.80330598e-02, -4.51895520e-02,  9.12552059e-01],\n",
       "          [-1.66136503e-01,  7.42152393e-01,  8.47003043e-01, ...,\n",
       "           -4.26385701e-02, -6.90083206e-01,  9.95267570e-01],\n",
       "          [-1.06125021e+00,  3.23912668e+00,  2.58171606e+00, ...,\n",
       "            4.90867674e-01,  5.54321527e-01,  1.16422093e+00],\n",
       "          ...,\n",
       "          [ 1.91036731e-01,  4.76573181e+00, -9.62456584e-01, ...,\n",
       "            1.91410542e-01,  2.92609017e-02, -1.63439631e+00],\n",
       "          [-3.36519420e-01,  4.00401497e+00,  8.31792295e-01, ...,\n",
       "            1.97539020e+00,  4.85633403e-01,  2.86910146e-01],\n",
       "          [-4.07092690e-01,  1.66665876e+00, -1.29910743e+00, ...,\n",
       "            1.37904525e+00, -8.93897563e-02,  1.38215697e+00]],\n",
       "\n",
       "         [[ 3.70490760e-01,  8.03379864e-02, -1.42093018e-01, ...,\n",
       "            6.53847337e-01,  1.28567755e-01,  2.59988755e-01],\n",
       "          [ 2.77869672e-01, -1.82662845e-01, -7.76453257e-01, ...,\n",
       "           -6.42423034e-01,  7.16547608e-01, -1.33971119e+00],\n",
       "          [-4.36546393e-02, -1.28689790e+00, -2.07410097e-01, ...,\n",
       "            4.32244778e-01,  1.47241974e+00,  1.44319609e-01],\n",
       "          ...,\n",
       "          [-2.95724344e+00, -2.37292862e+00, -1.04613280e+00, ...,\n",
       "            5.86791396e-01, -2.44540811e-01, -1.99533165e-01],\n",
       "          [-2.06795311e+00, -1.96250522e+00,  6.30556822e-01, ...,\n",
       "           -1.21067941e+00, -6.37500525e-01,  2.28365159e+00],\n",
       "          [-1.51575983e+00, -1.96570456e-01,  1.01652086e+00, ...,\n",
       "            1.53966427e-01,  5.18744409e-01,  1.04200566e+00]]]],\n",
       "\n",
       "\n",
       "\n",
       "       [[[[-3.20987701e-02,  4.27754484e-02, -6.29907250e-02, ...,\n",
       "           -2.50299610e-02, -5.73990867e-04,  1.96635053e-02],\n",
       "          [ 5.39671421e-01,  1.60403512e-02, -8.61440897e-01, ...,\n",
       "           -6.37355745e-01,  3.34087498e-02,  2.00450316e-01],\n",
       "          [-2.17252895e-02,  1.74731761e-01, -1.91328108e-01, ...,\n",
       "           -6.85163140e-01, -7.34669030e-01,  5.62251151e-01],\n",
       "          ...,\n",
       "          [-5.36524713e-01, -6.82335258e-01, -2.73716539e-01, ...,\n",
       "           -8.98073018e-01,  6.77513838e-01, -7.75332674e-02],\n",
       "          [-6.55781105e-02, -2.19720691e-01,  7.29254246e-01, ...,\n",
       "            3.10596317e-01, -9.20961618e-01,  1.60524023e+00],\n",
       "          [-4.66959104e-02,  1.72731519e-01, -1.51480407e-01, ...,\n",
       "           -3.83620471e-01, -1.22693196e-01,  3.04970294e-01]],\n",
       "\n",
       "         [[ 8.21109861e-03, -2.17228830e-02,  3.58154550e-02, ...,\n",
       "            2.51168050e-02, -4.63723913e-02,  1.33990627e-02],\n",
       "          [-5.60735106e-01, -4.78979111e-01, -7.33393312e-01, ...,\n",
       "            2.50693411e-01, -2.23415643e-01,  1.75335072e-02],\n",
       "          [-2.67930001e-01, -5.71588874e-02, -1.09424460e+00, ...,\n",
       "            6.90155745e-01,  8.86841416e-01,  2.32017487e-01],\n",
       "          ...,\n",
       "          [ 1.45345783e+00,  6.27980828e-01,  3.42475832e-01, ...,\n",
       "           -2.61693954e-01, -1.81433931e-01,  2.00772524e-01],\n",
       "          [ 9.12375212e-01, -5.10302424e-01,  1.74423426e-01, ...,\n",
       "            4.10088114e-02, -8.18581879e-03, -6.12009823e-01],\n",
       "          [-3.79218698e-01, -1.35851115e-01,  9.03432742e-02, ...,\n",
       "            3.82836580e-01,  4.26729381e-01, -3.33004296e-01]],\n",
       "\n",
       "         [[ 5.11753485e-02, -3.51932198e-02,  2.75282394e-02, ...,\n",
       "            1.41786709e-02, -6.49140216e-03,  2.28178874e-02],\n",
       "          [ 5.14474392e-01, -1.31987286e+00, -1.04268003e+00, ...,\n",
       "            1.72897950e-02,  1.76420140e+00, -3.56582612e-01],\n",
       "          [-2.78652012e-01,  6.20229058e-02, -1.85331309e+00, ...,\n",
       "           -4.12145853e-01, -5.60930371e-01,  1.00804245e+00],\n",
       "          ...,\n",
       "          [ 4.16900635e-01, -5.30007072e-02, -3.45991850e-01, ...,\n",
       "           -1.29586339e+00, -5.42422652e-01, -1.46849439e-01],\n",
       "          [ 1.58253357e-01, -1.60208374e-01, -2.66772449e-01, ...,\n",
       "           -2.69236207e-01,  1.33210576e+00, -6.32852554e-01],\n",
       "          [ 4.69424009e-01, -2.53536999e-01, -6.35908127e-01, ...,\n",
       "           -2.60163403e+00,  3.51445973e-02, -2.58552402e-01]],\n",
       "\n",
       "         ...,\n",
       "\n",
       "         [[-1.88193262e-01,  7.55301118e-02,  5.14521487e-02, ...,\n",
       "            6.30176142e-02,  4.59788442e-02, -1.22649342e-01],\n",
       "          [-4.81158644e-01, -8.02659094e-01,  4.76705194e-01, ...,\n",
       "            9.21637058e-01,  1.48856652e+00, -4.90499467e-01],\n",
       "          [ 3.11613053e-01, -1.71774006e+00, -6.40634954e-01, ...,\n",
       "           -3.01414549e-01,  9.83491421e-01, -1.38973355e+00],\n",
       "          ...,\n",
       "          [ 2.62683153e-01,  1.76356331e-01, -2.29105219e-01, ...,\n",
       "           -5.67498207e-01, -4.26164895e-01,  1.82673424e-01],\n",
       "          [-1.22807598e+00, -8.79345894e-01, -4.97656286e-01, ...,\n",
       "            5.76544762e-01, -9.52171683e-02,  9.18358743e-01],\n",
       "          [-5.26942551e-01, -5.03628433e-01, -6.55189514e-01, ...,\n",
       "           -9.49598253e-02,  2.74823010e-01, -4.32928443e-01]],\n",
       "\n",
       "         [[-5.83708286e-01, -2.03023180e-02,  4.37926054e-02, ...,\n",
       "           -1.27205215e-02,  1.48376841e-02, -1.15069607e-02],\n",
       "          [ 2.11090922e-01,  6.33091390e-01, -8.52849722e-01, ...,\n",
       "            1.57258827e-02, -1.68363824e-01,  3.37992042e-01],\n",
       "          [-5.02616286e-01,  1.21583469e-01, -9.96202230e-01, ...,\n",
       "            1.04227555e+00,  5.12847960e-01,  8.68089736e-01],\n",
       "          ...,\n",
       "          [-1.40665841e+00,  4.54387248e-01, -1.84491128e-01, ...,\n",
       "            1.01705320e-01,  1.14943480e+00, -5.53335361e-02],\n",
       "          [-7.85433114e-01, -4.67688799e-01,  8.19816291e-02, ...,\n",
       "           -6.60537302e-01,  9.39431250e-01, -4.70576167e-01],\n",
       "          [-2.65201092e+00, -1.40185639e-01,  2.42658347e-01, ...,\n",
       "           -2.24266872e-01,  4.64634061e-01,  3.59637737e-01]],\n",
       "\n",
       "         [[ 1.89097114e-02,  8.38289186e-02, -5.07237278e-02, ...,\n",
       "            5.56052253e-02,  2.92983502e-02, -4.13886681e-02],\n",
       "          [-3.11823636e-01,  3.77195418e-01,  3.42359006e-01, ...,\n",
       "            7.15029836e-01,  7.51583338e-01, -1.13017879e-01],\n",
       "          [-1.01362622e+00,  3.34441990e-01, -1.27156854e+00, ...,\n",
       "           -8.83166790e-01, -2.33757615e+00, -2.29692698e-01],\n",
       "          ...,\n",
       "          [ 1.93842158e-01,  1.26421499e+00,  6.07964635e-01, ...,\n",
       "            1.01555705e+00, -1.38369828e-01, -3.88267726e-01],\n",
       "          [-1.68966329e+00,  1.05607116e+00,  6.26927197e-01, ...,\n",
       "           -7.90775001e-01, -1.28180349e+00,  2.57402360e-02],\n",
       "          [-6.89963758e-01,  3.81483942e-01,  1.11690354e+00, ...,\n",
       "           -3.22420955e-01, -9.43733335e-01,  8.15719485e-01]]]]],\n",
       "      dtype=float32)>, <tf.Tensor: shape=(2, 1, 12, 10, 64), dtype=float32, numpy=\n",
       "array([[[[[-3.06975022e-02, -2.33267403e+00,  1.64411098e-01, ...,\n",
       "           -2.48832822e-01, -2.19606608e-01,  6.78514242e-02],\n",
       "          [ 6.63598359e-01,  3.88957310e+00,  2.55274147e-01, ...,\n",
       "           -1.24418867e+00, -5.13343930e-01,  1.73939347e-01],\n",
       "          [ 2.36444563e-01,  4.31480980e+00,  1.51884294e+00, ...,\n",
       "           -1.02957392e+00, -2.74499506e-01, -2.96752691e-01],\n",
       "          ...,\n",
       "          [-7.47853994e-01,  6.03103018e+00,  1.44708741e+00, ...,\n",
       "           -1.72178888e+00,  1.51428074e-01,  3.59600224e-02],\n",
       "          [-1.19040632e+00,  6.08039141e+00,  7.56631911e-01, ...,\n",
       "            6.51346892e-03,  1.64639795e+00, -4.01805490e-01],\n",
       "          [-7.77792275e-01,  4.04288149e+00,  8.66516650e-01, ...,\n",
       "           -1.07147360e+00,  3.58441055e-01, -7.82115340e-01]],\n",
       "\n",
       "         [[-8.12268078e-01,  2.03062981e-01,  4.68181551e-01, ...,\n",
       "           -5.15163839e-01,  1.07084298e+00,  1.12532830e+00],\n",
       "          [ 1.99969709e-01,  7.43737146e-02,  1.81695151e+00, ...,\n",
       "           -3.09114724e-01,  1.31663120e+00,  6.87887520e-02],\n",
       "          [ 3.29546452e-01, -6.43356860e-01,  2.34872580e+00, ...,\n",
       "           -1.56421542e-01,  2.44191480e+00,  1.90086409e-01],\n",
       "          ...,\n",
       "          [ 6.95349932e-01,  1.32572412e+00, -4.78361309e-01, ...,\n",
       "           -1.13496625e+00,  6.53146923e-01, -2.03867412e+00],\n",
       "          [ 2.08289921e-01,  9.99460816e-01,  1.23736489e+00, ...,\n",
       "           -6.41887486e-01,  8.04134786e-01, -1.57408059e+00],\n",
       "          [ 3.10741872e-01,  2.84118205e-01,  2.92797595e-01, ...,\n",
       "           -1.58542109e+00,  3.17433214e+00, -7.46343553e-01]],\n",
       "\n",
       "         [[-8.30496430e-01,  4.91989762e-01,  1.56666823e-02, ...,\n",
       "            5.05361497e-01, -2.32214779e-01,  1.17598903e+00],\n",
       "          [ 1.82907534e+00, -1.12038231e+00, -6.01384342e-01, ...,\n",
       "            1.74278751e-01,  1.34639728e+00,  1.16863899e-01],\n",
       "          [ 1.64265037e+00, -2.17748928e+00,  1.72520590e+00, ...,\n",
       "            3.00733805e-01,  7.79658496e-01,  9.91698027e-01],\n",
       "          ...,\n",
       "          [ 9.99889016e-01, -1.73126554e+00,  1.90333259e+00, ...,\n",
       "            8.08105230e-01,  5.30485749e-01, -6.79265738e-01],\n",
       "          [ 1.59790695e+00, -2.79262972e+00,  1.08632874e+00, ...,\n",
       "            7.45861411e-01,  3.02548558e-02, -1.32229364e+00],\n",
       "          [ 1.64283788e+00, -9.91370976e-01,  9.23192739e-01, ...,\n",
       "            1.14080334e+00,  5.98246455e-01, -2.08949298e-03]],\n",
       "\n",
       "         ...,\n",
       "\n",
       "         [[-3.01018059e-01, -1.16530344e-01,  1.34404153e-01, ...,\n",
       "            1.89620048e-01,  1.73200011e+00, -2.86796379e+00],\n",
       "          [ 1.91519678e+00,  1.20907855e+00,  2.88131237e-01, ...,\n",
       "            1.38463572e-01, -3.86553741e+00,  3.98146844e+00],\n",
       "          [ 9.27440643e-01, -1.00449480e-01, -1.13292113e-02, ...,\n",
       "           -3.63101900e-01, -4.14490128e+00,  4.74236441e+00],\n",
       "          ...,\n",
       "          [ 5.79766095e-01, -5.68623006e-01, -9.79302227e-01, ...,\n",
       "           -1.56864226e+00, -5.41894960e+00,  5.75889635e+00],\n",
       "          [-1.96993217e-01, -5.55533648e-01, -3.99450183e-01, ...,\n",
       "           -1.35146189e+00, -5.39810562e+00,  5.72495937e+00],\n",
       "          [ 1.00072578e-01,  9.15176809e-01,  5.60694516e-01, ...,\n",
       "           -1.00970495e+00, -5.73700905e+00,  5.51151180e+00]],\n",
       "\n",
       "         [[ 1.83020920e-01,  3.58919263e-01,  2.18588859e-01, ...,\n",
       "           -2.19734535e-01,  3.23813409e-02, -1.36214867e-01],\n",
       "          [-1.18971705e+00,  2.60120749e-01,  1.37730980e+00, ...,\n",
       "            1.60776854e+00,  5.33058703e-01,  1.01044700e-01],\n",
       "          [-1.62045550e+00,  3.19331110e-01,  5.47202528e-01, ...,\n",
       "            7.92319179e-01,  4.11865890e-01, -9.26977813e-01],\n",
       "          ...,\n",
       "          [-1.71582103e+00,  2.93458104e-01, -6.57191932e-01, ...,\n",
       "            1.44116938e+00, -4.88038808e-02,  6.21778786e-01],\n",
       "          [-1.06664503e+00,  9.04371679e-01, -9.06447709e-01, ...,\n",
       "            1.44709778e+00, -3.01718533e-01, -8.24331105e-01],\n",
       "          [-6.15482509e-01,  4.02998388e-01, -2.71997720e-01, ...,\n",
       "            1.94621015e+00, -5.32999337e-01, -1.68828204e-01]],\n",
       "\n",
       "         [[ 3.85433912e-01,  1.15004517e-01,  6.38889134e-01, ...,\n",
       "            5.30993342e-01,  5.79342186e-01, -3.31895828e-01],\n",
       "          [ 4.06990707e-01, -9.36876297e-01, -1.03015900e+00, ...,\n",
       "           -6.50236368e-01, -3.12502933e+00, -3.68167758e-01],\n",
       "          [ 9.78736877e-01, -9.11379874e-01,  2.09318370e-01, ...,\n",
       "           -1.87732685e+00, -3.46875691e+00,  2.04817012e-01],\n",
       "          ...,\n",
       "          [-1.43417299e-01, -9.73474205e-01, -5.41805208e-01, ...,\n",
       "           -2.80333400e+00, -4.17713785e+00,  1.91914260e+00],\n",
       "          [-7.60430276e-01, -6.74807012e-01, -4.63729315e-02, ...,\n",
       "           -2.46473551e+00, -4.59600735e+00,  6.76609278e-01],\n",
       "          [-6.95561290e-01,  4.64164138e-01, -7.39272952e-01, ...,\n",
       "           -2.17820978e+00, -4.21619272e+00,  2.80409455e-01]]]],\n",
       "\n",
       "\n",
       "\n",
       "       [[[[ 5.36811613e-02, -1.42181367e-02, -3.57007235e-02, ...,\n",
       "            1.21721536e-01, -5.99113591e-02, -4.30424437e-02],\n",
       "          [-4.06805426e-01,  2.38045648e-01, -1.46305084e-01, ...,\n",
       "           -4.08320904e-01,  8.46433818e-01, -2.26779237e-01],\n",
       "          [-1.44709468e+00, -8.50372314e-01, -9.74900797e-02, ...,\n",
       "           -2.01574534e-01,  6.63064301e-01,  7.19261408e-01],\n",
       "          ...,\n",
       "          [-6.31140292e-01, -9.20012057e-01,  1.56180763e+00, ...,\n",
       "            6.50084496e-01,  2.69172525e+00,  8.40734243e-01],\n",
       "          [-5.24957478e-01, -1.36447430e+00,  1.84149277e+00, ...,\n",
       "            3.82746547e-01,  1.44905663e+00,  1.26678916e-03],\n",
       "          [-2.99436040e-02,  1.69229701e-01, -7.62748122e-01, ...,\n",
       "           -3.93963367e-01,  4.47595745e-01, -9.96577263e-01]],\n",
       "\n",
       "         [[ 1.72790419e-02,  2.38182954e-02,  4.79471385e-02, ...,\n",
       "           -4.76797111e-03, -6.84013776e-03,  3.29271145e-03],\n",
       "          [ 5.40312827e-01,  1.33799541e+00,  1.07692575e+00, ...,\n",
       "           -4.11565065e-01, -7.22408518e-02,  7.30608225e-01],\n",
       "          [ 1.65962255e+00, -1.04127812e+00, -4.64408100e-02, ...,\n",
       "           -1.54563934e-01,  4.90063518e-01,  2.67395854e-01],\n",
       "          ...,\n",
       "          [-2.71214712e-02,  1.44362342e+00, -9.63160694e-02, ...,\n",
       "            1.40334022e+00, -2.13005930e-01,  6.25308394e-01],\n",
       "          [ 1.78945267e+00, -7.97457099e-01,  3.41028035e-01, ...,\n",
       "           -1.02050960e+00,  5.19988537e-01, -7.55247593e-01],\n",
       "          [-6.61572158e-01,  7.79975176e-01,  8.10324132e-01, ...,\n",
       "           -6.76779866e-01, -5.39423406e-01, -7.72406220e-01]],\n",
       "\n",
       "         [[ 5.17149568e-02, -3.27481776e-02,  6.26912713e-02, ...,\n",
       "            3.57879773e-02, -7.16263130e-02, -5.93660027e-02],\n",
       "          [-3.55103910e-01,  7.58444011e-01, -4.08726260e-02, ...,\n",
       "            2.45370761e-01, -6.98106766e-01, -5.50495565e-01],\n",
       "          [ 7.76405856e-02, -4.09403712e-01,  5.35139382e-01, ...,\n",
       "           -8.21309566e-01,  8.75947997e-04, -5.05406320e-01],\n",
       "          ...,\n",
       "          [-7.42761075e-01,  2.16576695e-01,  5.47892988e-01, ...,\n",
       "           -7.33899355e-01,  5.17593741e-01,  4.15892676e-02],\n",
       "          [-3.86453837e-01,  1.18977213e+00, -2.03884095e-01, ...,\n",
       "           -1.35332242e-01, -2.32036680e-01, -1.58897057e-01],\n",
       "          [-6.50603652e-01,  1.64777011e-01, -2.72055387e-01, ...,\n",
       "           -5.87004051e-02,  3.03115010e-01,  6.75143972e-02]],\n",
       "\n",
       "         ...,\n",
       "\n",
       "         [[-9.56766158e-02, -3.37615050e-02,  3.58594880e-02, ...,\n",
       "           -9.81015265e-02,  3.30939293e-02,  2.12794654e-02],\n",
       "          [-1.05627251e+00,  1.00719547e+00,  3.53055328e-01, ...,\n",
       "            1.41412452e-01,  1.15220201e+00, -5.76670527e-01],\n",
       "          [ 3.05942327e-01,  3.86512905e-01,  1.45871258e+00, ...,\n",
       "           -1.57451332e+00,  6.60015821e-01, -2.47698593e+00],\n",
       "          ...,\n",
       "          [ 2.14151978e-01,  3.08269769e-01, -1.56163931e-01, ...,\n",
       "           -1.43607795e+00,  3.12922627e-01, -1.58313647e-01],\n",
       "          [ 9.20938700e-02,  1.38396049e+00, -3.56539637e-01, ...,\n",
       "           -2.02481198e+00,  1.74770606e+00,  1.50965726e+00],\n",
       "          [ 1.05863786e+00,  4.88747694e-02,  1.94264855e-02, ...,\n",
       "           -3.38720500e-01,  6.83629394e-01,  6.59003183e-02]],\n",
       "\n",
       "         [[ 1.50831014e-01, -6.41826466e-02,  1.34852201e-01, ...,\n",
       "            7.31429681e-02,  4.86733764e-03, -1.28895089e-01],\n",
       "          [ 6.86434329e-01,  5.94696365e-02, -1.78983554e-01, ...,\n",
       "           -1.11446607e+00, -1.23137701e+00,  1.60380248e-02],\n",
       "          [ 4.68008041e-01,  6.79832518e-01,  4.60015923e-01, ...,\n",
       "           -3.45016241e-01, -8.22319865e-01,  7.92794764e-01],\n",
       "          ...,\n",
       "          [-6.82643056e-01, -4.15008396e-01, -3.15092713e-01, ...,\n",
       "           -1.01148438e+00, -1.26399004e+00,  4.13573802e-01],\n",
       "          [ 3.40016969e-02, -5.26817858e-01, -1.68683815e+00, ...,\n",
       "           -9.11021590e-01, -2.28581876e-01,  1.46019149e+00],\n",
       "          [ 2.10234985e-01, -2.22752631e-01,  1.08253896e+00, ...,\n",
       "           -6.07048392e-01,  6.29993618e-01,  8.65806639e-02]],\n",
       "\n",
       "         [[ 2.17208758e-01, -6.22513331e-02, -5.57085313e-02, ...,\n",
       "            2.14505401e-02,  4.30677459e-02,  3.74519601e-02],\n",
       "          [ 1.31219101e+00, -4.50142354e-01, -7.55690038e-01, ...,\n",
       "            3.28608364e-01, -9.84282121e-02, -8.05398747e-02],\n",
       "          [-1.61415532e-01, -7.79605567e-01, -1.62092626e-01, ...,\n",
       "           -4.83681709e-01,  8.71823430e-01, -2.60315418e-01],\n",
       "          ...,\n",
       "          [-3.69756937e-01,  5.06121278e-01,  2.90718079e-01, ...,\n",
       "            2.59380162e-01, -1.93439567e+00,  7.56545246e-01],\n",
       "          [ 4.86337505e-02, -4.96560663e-01,  8.46116364e-01, ...,\n",
       "           -3.32890272e-01,  6.40313923e-01, -3.52771580e-01],\n",
       "          [ 1.19212046e-01, -1.49821624e-01,  9.73207772e-01, ...,\n",
       "            4.75164264e-01, -8.40056658e-01,  6.52417719e-01]]]]],\n",
       "      dtype=float32)>, <tf.Tensor: shape=(2, 1, 12, 10, 64), dtype=float32, numpy=\n",
       "array([[[[[ 3.30153406e-02, -2.44307339e-01, -4.45074975e-01, ...,\n",
       "            3.00847203e-01,  3.26860458e-01,  3.65892470e-01],\n",
       "          [-3.17740470e-01,  1.10303235e+00, -8.15904677e-01, ...,\n",
       "           -1.01294410e+00, -1.03956133e-01, -3.47063959e-01],\n",
       "          [ 1.22335941e-01,  8.55021477e-01, -4.77624446e-01, ...,\n",
       "            2.55620778e-01, -7.21437991e-01,  7.06831098e-01],\n",
       "          ...,\n",
       "          [-3.02197039e-01,  3.96105647e-03,  4.09104645e-01, ...,\n",
       "            2.31074214e+00, -8.19939852e-01, -3.79201531e-01],\n",
       "          [-4.85524535e-03,  2.96738565e-01, -1.18333101e-01, ...,\n",
       "            3.11689258e+00,  4.88002688e-01,  1.00037658e+00],\n",
       "          [ 4.64488536e-01, -8.97676051e-02, -9.62433219e-01, ...,\n",
       "            6.14778876e-01, -6.06186986e-01,  9.68822241e-01]],\n",
       "\n",
       "         [[-2.79409915e-01,  1.52571291e-01,  1.22614466e-01, ...,\n",
       "            6.38420135e-02, -1.14047682e+00, -1.37930870e-01],\n",
       "          [ 7.56921172e-01,  7.34076440e-01,  2.42231607e+00, ...,\n",
       "           -1.72061816e-01, -1.28690732e+00,  6.49472058e-01],\n",
       "          [ 5.91098964e-01, -2.52395213e-01,  9.17238057e-01, ...,\n",
       "            1.40689623e+00, -9.93598878e-01,  1.32936358e+00],\n",
       "          ...,\n",
       "          [ 2.93075800e-01, -3.56601208e-01,  1.80741107e+00, ...,\n",
       "            5.22954047e-01, -1.90234864e+00, -1.54861438e+00],\n",
       "          [-3.22348438e-02,  1.40825093e-01,  1.48527634e+00, ...,\n",
       "            4.62885261e-01, -1.14069211e+00, -3.69556695e-01],\n",
       "          [-1.51014403e-01,  1.69987881e+00,  1.04952705e+00, ...,\n",
       "            4.50636864e-01,  9.01813805e-01,  2.76645988e-01]],\n",
       "\n",
       "         [[-1.23628867e+00, -1.08604282e-01,  5.76097250e-01, ...,\n",
       "           -6.57080710e-01,  4.64479625e-01, -2.91515678e-01],\n",
       "          [ 5.42252779e-01,  4.59801495e-01, -1.32321119e-01, ...,\n",
       "            6.88302398e-01,  3.76826942e-01,  7.01519310e-01],\n",
       "          [ 1.05642235e+00,  3.80439222e-01,  1.01774544e-01, ...,\n",
       "            1.01459706e+00, -7.95680881e-02,  3.11960399e-01],\n",
       "          ...,\n",
       "          [ 2.76068592e+00,  9.19802308e-01,  2.55665302e+00, ...,\n",
       "           -2.70309478e-01, -2.64623314e-01,  4.26717728e-01],\n",
       "          [ 3.25295544e+00,  2.64562726e+00,  1.06192362e+00, ...,\n",
       "            4.35573936e-01, -1.47596329e-01,  5.35106063e-01],\n",
       "          [ 1.20633733e+00,  2.93259335e+00,  8.79138336e-03, ...,\n",
       "            6.14103258e-01, -1.24472427e+00,  4.35240120e-01]],\n",
       "\n",
       "         ...,\n",
       "\n",
       "         [[ 7.89544463e-01, -9.08796191e-01, -3.93823504e-01, ...,\n",
       "           -1.05137646e+00, -4.38445061e-01,  4.83885765e-01],\n",
       "          [ 1.06087625e+00, -1.14476967e+00, -7.74172008e-01, ...,\n",
       "           -4.11443561e-01, -8.28612804e-01, -6.04609609e-01],\n",
       "          [ 5.01331747e-01, -6.57926738e-01, -5.94631992e-02, ...,\n",
       "           -1.23336375e+00, -6.15497053e-01, -5.37125409e-01],\n",
       "          ...,\n",
       "          [ 2.85343468e-01,  9.00531173e-01, -4.65550423e-01, ...,\n",
       "           -1.07716441e+00,  5.93134105e-01, -1.43950832e+00],\n",
       "          [-1.44125891e+00,  1.81544518e+00, -1.40563771e-01, ...,\n",
       "           -1.12798321e+00,  1.14749551e+00, -1.14617312e+00],\n",
       "          [ 9.05623615e-01,  2.45522544e-01, -1.16122556e+00, ...,\n",
       "            3.78646910e-01, -1.26218081e+00, -4.54610944e-01]],\n",
       "\n",
       "         [[-9.26488280e-01,  2.54580760e+00,  3.06048542e-01, ...,\n",
       "            3.44853908e-01,  1.95519340e+00, -5.48932076e-01],\n",
       "          [ 4.57324803e-01, -2.19376564e+00,  1.73795491e-01, ...,\n",
       "            1.74316299e+00, -2.58430338e+00,  2.25720167e+00],\n",
       "          [ 1.67520940e-02, -2.73231769e+00,  2.14098006e-01, ...,\n",
       "            6.84427977e-01, -4.19100952e+00,  1.61526775e+00],\n",
       "          ...,\n",
       "          [ 2.35780969e-01, -6.87975788e+00,  2.43692899e+00, ...,\n",
       "            1.06949544e+00, -3.73639703e+00,  2.11540723e+00],\n",
       "          [-5.65400720e-01, -5.26073647e+00,  1.90534675e+00, ...,\n",
       "            6.54640794e-01, -4.07408762e+00,  7.21773624e-01],\n",
       "          [-4.14545387e-02, -3.64873433e+00,  1.71723604e-01, ...,\n",
       "           -7.58127630e-01, -4.02217865e+00,  1.62483215e+00]],\n",
       "\n",
       "         [[-2.02504444e+00, -3.50475490e-01, -1.11527145e+00, ...,\n",
       "           -3.97850037e-01,  6.08765334e-02,  2.53129065e-01],\n",
       "          [ 2.06888819e+00, -4.94307995e-01,  1.05942369e+00, ...,\n",
       "            7.40259886e-01,  4.91883039e-01,  5.73903322e-01],\n",
       "          [ 2.56441712e+00,  1.11532414e+00, -5.54264486e-01, ...,\n",
       "            1.20618761e-01,  3.65377277e-01, -1.71748281e-01],\n",
       "          ...,\n",
       "          [ 4.74656105e+00, -1.13195050e+00,  3.41415405e+00, ...,\n",
       "            1.08828008e+00,  5.45959473e-01, -2.38681793e-01],\n",
       "          [ 3.73168278e+00, -7.38785326e-01,  2.60558748e+00, ...,\n",
       "            3.89042825e-01, -4.07058656e-01, -8.30298543e-01],\n",
       "          [ 2.07401419e+00,  1.01803517e+00,  2.00287533e+00, ...,\n",
       "            5.95851064e-01, -1.27622232e-01, -3.36451083e-01]]]],\n",
       "\n",
       "\n",
       "\n",
       "       [[[[-5.93954548e-02, -8.56789201e-02,  1.69888660e-02, ...,\n",
       "            1.06974386e-01, -2.72299424e-02,  1.27393026e-02],\n",
       "          [-1.10959001e-01, -2.65572816e-01, -2.80284554e-01, ...,\n",
       "            7.39077404e-02,  8.27038884e-02,  9.97799158e-01],\n",
       "          [ 2.20568448e-01,  5.53673983e-01, -1.48832667e+00, ...,\n",
       "           -2.85970092e-01,  3.18106204e-01,  8.95743608e-01],\n",
       "          ...,\n",
       "          [-2.26081848e+00,  3.99885535e-01,  3.53695035e-01, ...,\n",
       "           -3.10111910e-01, -6.22374177e-01,  6.20016269e-02],\n",
       "          [-4.02637511e-01,  4.43949848e-01, -5.38736701e-01, ...,\n",
       "            3.86292547e-01,  7.69524336e-01, -8.89383703e-02],\n",
       "          [-6.80992752e-02,  9.59256411e-01, -1.95450351e-01, ...,\n",
       "            1.22481394e+00, -4.57947284e-01, -4.40435231e-01]],\n",
       "\n",
       "         [[ 2.00158879e-02,  9.91435163e-03, -1.85449477e-02, ...,\n",
       "            2.82045901e-02,  3.03341225e-02,  5.33039011e-02],\n",
       "          [ 5.94576776e-01,  5.20804346e-01, -1.24196184e+00, ...,\n",
       "           -7.35630319e-02,  1.11246920e+00,  4.71909314e-01],\n",
       "          [ 9.78129923e-01, -1.10734987e+00, -1.61147773e-01, ...,\n",
       "            1.12479389e+00, -1.92391977e-01,  2.43925914e-01],\n",
       "          ...,\n",
       "          [-2.46551728e+00,  2.18572474e+00,  1.56739450e+00, ...,\n",
       "           -4.35433358e-01, -1.24883577e-01, -6.98057890e-01],\n",
       "          [ 2.01887175e-01,  7.41108835e-01, -9.93826628e-01, ...,\n",
       "           -1.51516140e+00, -4.09029990e-01, -5.73152483e-01],\n",
       "          [ 2.69537456e-02,  8.27610314e-01, -5.45646906e-01, ...,\n",
       "           -5.85213006e-01, -9.66617703e-01, -4.32763726e-01]],\n",
       "\n",
       "         [[ 3.07623036e-02,  3.38619240e-02, -9.51330364e-02, ...,\n",
       "            2.01057009e-02, -1.86432153e-03,  3.73573648e-03],\n",
       "          [-7.03088999e-01,  1.24224804e-01,  2.74398088e-01, ...,\n",
       "            2.50159055e-01, -1.04365587e+00,  2.51742125e+00],\n",
       "          [-3.47385406e-01, -8.21470618e-01, -4.08256173e-01, ...,\n",
       "           -7.76764572e-01, -7.30445087e-01, -2.86453575e-01],\n",
       "          ...,\n",
       "          [-6.42805338e-01,  2.94913679e-01, -1.62404048e+00, ...,\n",
       "            1.00252628e+00, -4.72225696e-01,  3.84652138e-01],\n",
       "          [ 1.06724396e-01,  5.61645508e-01, -1.14613974e+00, ...,\n",
       "            4.91505235e-01,  4.40011352e-01,  4.72746491e-01],\n",
       "          [-5.26565313e-01,  6.24477923e-01, -7.36854255e-01, ...,\n",
       "           -9.41360146e-02, -3.11470777e-01, -9.43883806e-02]],\n",
       "\n",
       "         ...,\n",
       "\n",
       "         [[ 3.29955667e-02,  1.89973339e-02, -2.99156457e-03, ...,\n",
       "           -2.36009597e-03, -7.86256976e-04,  3.65254171e-02],\n",
       "          [ 1.08711922e+00, -5.79045475e-01,  2.78414041e-01, ...,\n",
       "            5.97949088e-01,  2.04211926e+00, -1.88903049e-01],\n",
       "          [ 1.19531882e+00, -2.42917314e-01,  9.70471025e-01, ...,\n",
       "            7.49088585e-01, -1.64892480e-01, -7.14460254e-01],\n",
       "          ...,\n",
       "          [-1.23310518e+00,  2.24094343e+00,  1.49587047e+00, ...,\n",
       "            3.90959144e-01, -3.10352653e-01, -1.07010269e+00],\n",
       "          [-9.00625587e-01,  2.11579487e-01, -2.40820557e-01, ...,\n",
       "           -2.86032468e-01, -2.48832107e-01, -2.83570379e-01],\n",
       "          [ 1.76730350e-01,  9.94670868e-01, -1.27710670e-01, ...,\n",
       "            3.14751536e-01,  1.02035308e+00, -2.81587422e-01]],\n",
       "\n",
       "         [[-6.68616965e-02, -4.67736311e-02,  1.40435090e-02, ...,\n",
       "            1.38116358e-02, -6.04316443e-02, -1.01504013e-01],\n",
       "          [-1.32871211e-01, -3.95901978e-01,  9.21662077e-02, ...,\n",
       "            2.89402783e-01,  1.88578576e-01, -2.53399350e-02],\n",
       "          [ 1.45384502e+00, -1.39235109e-01,  1.13683321e-01, ...,\n",
       "            2.83030301e-01, -3.23128432e-01, -1.26096666e-01],\n",
       "          ...,\n",
       "          [ 7.14172542e-01, -1.72120273e+00,  6.32918254e-02, ...,\n",
       "           -6.01241946e-01,  3.32754791e-01, -1.32909298e+00],\n",
       "          [ 8.22170079e-02, -8.44743624e-02, -1.61540258e+00, ...,\n",
       "           -2.11533532e-01, -1.43258020e-01,  1.06249905e+00],\n",
       "          [ 6.71709716e-01, -6.20704532e-01, -2.56332844e-01, ...,\n",
       "            3.99419934e-01,  4.50914919e-01,  4.98440772e-01]],\n",
       "\n",
       "         [[-1.53552797e-02,  3.55101712e-02, -6.09804764e-02, ...,\n",
       "           -2.26926580e-02,  4.09408659e-03,  3.29577923e-03],\n",
       "          [-4.96689707e-01, -9.38029647e-01, -6.38042092e-02, ...,\n",
       "            6.62089169e-01,  4.09309328e-01, -7.38242865e-02],\n",
       "          [-4.43291590e-02, -6.62895262e-01, -9.28093672e-01, ...,\n",
       "            6.00128114e-01,  2.31219471e-01, -2.11573422e-01],\n",
       "          ...,\n",
       "          [ 9.34854984e-01,  2.71611720e-01,  1.11693895e+00, ...,\n",
       "           -6.21030271e-01,  2.92813420e-01,  1.33067596e+00],\n",
       "          [ 7.47046649e-01,  1.02205515e+00, -3.18227820e-02, ...,\n",
       "            1.36509076e-01,  1.19638073e+00,  1.48429424e-02],\n",
       "          [-1.17369831e+00, -6.01956666e-01,  1.85922161e-01, ...,\n",
       "            4.89748716e-01, -8.29995945e-02,  3.58189046e-01]]]]],\n",
       "      dtype=float32)>, <tf.Tensor: shape=(2, 1, 12, 10, 64), dtype=float32, numpy=\n",
       "array([[[[[-5.16757131e-01,  5.00279963e-01, -8.52537632e-01, ...,\n",
       "           -1.01796865e+00, -1.31414020e+00,  2.03521609e-01],\n",
       "          [ 5.82500696e-01,  4.71588016e-01, -5.47303110e-02, ...,\n",
       "            7.80413568e-01, -5.33485413e-01, -4.83849794e-01],\n",
       "          [ 6.19821489e-01, -1.86097994e-01,  5.77761352e-01, ...,\n",
       "            1.49953449e+00, -3.98880452e-01, -1.01059723e+00],\n",
       "          ...,\n",
       "          [ 1.34823573e+00,  3.71714830e-01, -5.40491939e-01, ...,\n",
       "            1.69023609e+00, -3.27140480e-01, -6.06643140e-01],\n",
       "          [ 1.63290274e+00, -9.29934859e-01,  1.40806183e-01, ...,\n",
       "            1.69954538e+00,  9.46614921e-01, -1.13872778e+00],\n",
       "          [ 1.02698767e+00, -3.10294628e-02,  4.80442524e-01, ...,\n",
       "            1.99462295e+00, -4.93281811e-01, -1.03601313e+00]],\n",
       "\n",
       "         [[ 8.59985888e-01, -2.07063508e+00,  1.51351437e-01, ...,\n",
       "            2.45296523e-01, -2.47841144e+00, -4.22794223e-01],\n",
       "          [ 1.39346099e+00, -5.89225352e-01,  1.31087732e+00, ...,\n",
       "            1.78286028e+00, -9.20034289e-01,  4.57221270e-02],\n",
       "          [ 1.26422191e+00,  1.60977197e+00,  4.35765445e-01, ...,\n",
       "            8.51539075e-01,  5.75056314e-01, -4.30639476e-01],\n",
       "          ...,\n",
       "          [-2.51036525e-01,  3.14985490e+00, -9.35304165e-03, ...,\n",
       "            1.85017630e-01,  3.65777373e+00, -8.09593320e-01],\n",
       "          [ 7.92392492e-01,  1.42115319e+00,  2.03801483e-01, ...,\n",
       "            5.61503232e-01,  2.35434127e+00, -1.31144357e+00],\n",
       "          [ 5.80794811e-01,  1.19598234e+00, -4.13532376e-01, ...,\n",
       "           -2.34355479e-02,  2.95627570e+00, -1.56362891e+00]],\n",
       "\n",
       "         [[ 1.00323296e+00,  3.81750077e-01, -1.76940650e-01, ...,\n",
       "           -8.11179698e-01, -1.40394318e+00, -3.64648461e-01],\n",
       "          [-8.06701422e-01, -2.14108348e-01, -1.70492685e+00, ...,\n",
       "            1.35732567e+00, -9.09626782e-02,  3.44920486e-01],\n",
       "          [-1.11081421e-01, -4.19448316e-01, -1.34831083e+00, ...,\n",
       "            1.21743751e+00,  6.62702322e-03,  5.36641553e-02],\n",
       "          ...,\n",
       "          [-3.34772635e+00, -2.65214622e-01,  2.14268386e-01, ...,\n",
       "            1.43396330e+00,  1.30929559e-01,  1.47945106e+00],\n",
       "          [-1.07128954e+00, -9.37958360e-01, -2.23911095e+00, ...,\n",
       "            1.88432217e+00, -8.58452559e-01,  6.33714914e-01],\n",
       "          [ 1.76132455e-01, -5.45158565e-01, -7.18810022e-01, ...,\n",
       "            1.35386896e+00, -2.39156723e-01, -2.93082446e-01]],\n",
       "\n",
       "         ...,\n",
       "\n",
       "         [[ 2.20907897e-01, -5.81751227e-01,  4.83099431e-01, ...,\n",
       "           -6.50010705e-01,  1.08454740e+00,  2.83986390e-01],\n",
       "          [-4.16989297e-01, -2.43925899e-01, -1.04843393e-01, ...,\n",
       "           -1.91569698e+00, -1.58093190e+00,  6.69835746e-01],\n",
       "          [-1.13888049e+00,  1.72707736e+00, -2.54892159e+00, ...,\n",
       "           -2.38326240e+00, -1.32344615e+00,  6.90873742e-01],\n",
       "          ...,\n",
       "          [-1.52524626e+00,  1.45838213e+00, -2.77638054e+00, ...,\n",
       "           -1.03103578e+00, -2.35433650e+00,  1.29164350e+00],\n",
       "          [-4.06367332e-01,  2.50411081e+00, -2.39983034e+00, ...,\n",
       "           -1.35541213e+00, -1.84091926e+00,  1.69364893e+00],\n",
       "          [-3.22267830e-01,  4.24498022e-01, -1.27130127e+00, ...,\n",
       "           -3.81858945e+00, -4.97701794e-01,  1.64342463e+00]],\n",
       "\n",
       "         [[ 2.55633265e-01,  5.51479042e-01,  5.42258203e-01, ...,\n",
       "            7.24286973e-01,  7.57640004e-02,  8.38467896e-01],\n",
       "          [ 3.66230831e-02,  1.12912250e+00, -8.80305588e-01, ...,\n",
       "            1.30515730e+00,  1.99591681e-01,  1.06720078e+00],\n",
       "          [ 1.95018128e-01,  1.59228802e+00, -9.00340319e-01, ...,\n",
       "            8.96156728e-01, -3.02923560e-01, -3.75393867e-01],\n",
       "          ...,\n",
       "          [-8.82138833e-02,  2.24293303e+00, -5.92102885e-01, ...,\n",
       "            3.58681023e-01, -1.38010752e+00, -2.63167471e-02],\n",
       "          [ 1.01696754e+00,  2.09132433e+00, -1.51340604e-01, ...,\n",
       "            1.33691359e+00, -1.09686112e+00, -1.98558792e-01],\n",
       "          [ 1.63843477e+00,  1.93299234e+00,  1.20509946e+00, ...,\n",
       "           -5.34036934e-01, -1.08482325e+00,  4.04089093e-01]],\n",
       "\n",
       "         [[-7.10167646e-01,  3.01080614e-01, -1.58218896e+00, ...,\n",
       "           -4.24150229e-01,  2.36006320e-01, -1.31560707e+00],\n",
       "          [ 4.80113178e-03,  1.07227647e+00,  1.26141608e+00, ...,\n",
       "            6.01537585e-01, -2.90532529e-01,  4.99399096e-01],\n",
       "          [-3.95241141e-01,  6.10894918e-01, -1.69801220e-01, ...,\n",
       "            1.11540842e+00, -9.72163260e-01,  1.43306053e+00],\n",
       "          ...,\n",
       "          [ 1.75027025e+00,  9.72474754e-01,  1.36798191e+00, ...,\n",
       "            1.54398751e+00,  3.04095089e-01,  1.97421157e+00],\n",
       "          [-9.89691854e-01,  5.38755119e-01,  1.54233825e+00, ...,\n",
       "            9.22097564e-01,  1.57686993e-02,  3.20726347e+00],\n",
       "          [-3.32189053e-01,  1.24845855e-01,  2.02682829e+00, ...,\n",
       "            2.38700891e+00,  8.85078967e-01, -5.94162941e-01]]]],\n",
       "\n",
       "\n",
       "\n",
       "       [[[[-6.04897365e-03,  4.16328050e-02, -6.00411780e-02, ...,\n",
       "            5.86933233e-02, -5.05245402e-02, -7.40392432e-02],\n",
       "          [-1.34657681e+00,  1.30214095e-01,  1.07992804e+00, ...,\n",
       "           -3.78008842e-01, -3.33601058e-01, -2.19694406e-01],\n",
       "          [-5.60449183e-01,  5.10369182e-01,  1.27203655e+00, ...,\n",
       "           -3.03070992e-01,  1.17729962e-01,  8.06195796e-01],\n",
       "          ...,\n",
       "          [ 4.04292166e-01, -1.37701178e+00, -1.70338169e-01, ...,\n",
       "           -7.11201668e-01, -1.53717434e+00,  4.97416556e-01],\n",
       "          [-1.02378801e-01,  6.38279378e-01,  1.17578471e+00, ...,\n",
       "            3.19064081e-01, -1.47274578e+00,  2.97772467e-01],\n",
       "          [ 4.89398628e-01, -3.72477286e-02,  1.08813000e+00, ...,\n",
       "            3.51304412e-01, -1.55363691e+00, -7.83968329e-01]],\n",
       "\n",
       "         [[ 5.03568910e-02, -3.18473624e-03,  2.32520960e-02, ...,\n",
       "           -2.59478502e-02, -1.54457577e-02, -2.32534781e-02],\n",
       "          [-1.00974584e+00,  5.76338232e-01,  4.96593773e-01, ...,\n",
       "           -3.27683926e-01,  1.85931876e-01,  8.21370482e-01],\n",
       "          [ 1.48250267e-01,  7.74376333e-01, -1.01647174e+00, ...,\n",
       "            3.16679746e-01, -1.84890911e-01,  4.84191388e-01],\n",
       "          ...,\n",
       "          [-1.28563881e-01, -5.10572016e-01,  1.09385622e+00, ...,\n",
       "            3.65649247e+00,  2.73590609e-02, -6.04175150e-01],\n",
       "          [ 5.04360735e-01, -1.61384439e+00, -1.81952849e-01, ...,\n",
       "           -5.00745848e-02,  9.78047550e-01, -1.77716866e-01],\n",
       "          [-5.75605214e-01,  2.35094368e-01, -5.77371046e-02, ...,\n",
       "            1.74160883e-01,  5.70348427e-02,  1.54990292e+00]],\n",
       "\n",
       "         [[-2.12261863e-02,  3.33486609e-02, -8.75253230e-02, ...,\n",
       "           -8.91038775e-03,  3.08589227e-02,  3.88147384e-02],\n",
       "          [-5.24483204e-01, -2.63205677e-01, -2.32094049e-01, ...,\n",
       "            3.50566000e-01,  1.70596495e-01,  9.94474627e-04],\n",
       "          [-4.93827671e-01,  4.89020944e-01, -4.31642443e-01, ...,\n",
       "            7.61143625e-01, -3.09625119e-02,  1.85660392e-01],\n",
       "          ...,\n",
       "          [-1.53000563e-01,  3.10879731e+00, -7.42591143e-01, ...,\n",
       "           -2.06354946e-01, -7.81801224e-01,  9.44347322e-01],\n",
       "          [-7.93598950e-01,  1.37322617e+00, -4.35587674e-01, ...,\n",
       "           -4.47821140e-01,  1.80180505e-01,  6.84277117e-02],\n",
       "          [-7.13488340e-01,  5.98122656e-01,  1.06091475e+00, ...,\n",
       "            5.34550548e-01, -7.68864751e-01, -2.00461447e-02]],\n",
       "\n",
       "         ...,\n",
       "\n",
       "         [[-1.04817927e-01,  3.74010950e-02, -1.18772127e-03, ...,\n",
       "           -4.45918441e-02, -8.95216316e-03,  1.78675484e-02],\n",
       "          [ 8.64299774e-01, -1.47939965e-01,  3.67069483e-01, ...,\n",
       "            3.16766649e-01,  3.61201875e-02, -3.04830372e-01],\n",
       "          [ 5.16562879e-01,  2.50624418e-01,  1.57078609e-01, ...,\n",
       "            1.48930168e+00, -5.08780539e-01,  2.01665378e+00],\n",
       "          ...,\n",
       "          [-8.46153557e-01, -4.30601954e-01,  5.19421756e-01, ...,\n",
       "           -9.12521631e-02,  2.36281201e-01, -1.01110868e-01],\n",
       "          [-6.57678664e-01, -7.28030920e-01, -3.65903750e-02, ...,\n",
       "            1.02317142e+00, -7.19471872e-01,  9.44415867e-01],\n",
       "          [-8.08353007e-01, -7.07263231e-01,  7.08307505e-01, ...,\n",
       "            9.40269828e-02, -8.58822763e-01,  1.35240242e-01]],\n",
       "\n",
       "         [[ 9.26703960e-02,  1.34908184e-02,  5.32180220e-02, ...,\n",
       "            3.15885991e-03,  4.31566983e-02,  1.19403070e-02],\n",
       "          [-1.57219648e-01,  1.91326872e-01,  7.66232550e-01, ...,\n",
       "           -1.34715438e-01,  2.67422587e-01, -5.00781894e-01],\n",
       "          [ 6.16569877e-01,  8.37492585e-01,  9.99663770e-01, ...,\n",
       "            1.29039854e-01,  1.41970217e+00, -4.26577777e-01],\n",
       "          ...,\n",
       "          [-3.21443044e-02,  1.54207790e+00,  6.41372144e-01, ...,\n",
       "           -7.08724260e-01,  2.73634696e+00,  1.43621635e+00],\n",
       "          [ 1.89489454e-01,  2.79889965e+00, -1.02341115e+00, ...,\n",
       "           -9.47285593e-02,  6.70845509e-01,  5.85957468e-02],\n",
       "          [-2.23037958e-01,  9.73131537e-01,  2.78916407e+00, ...,\n",
       "           -2.60798872e-01,  6.68624878e-01, -1.83665848e+00]],\n",
       "\n",
       "         [[-1.07735597e-01,  2.83144843e-02, -5.58160506e-02, ...,\n",
       "           -8.40411037e-02,  6.11121468e-02, -6.39283098e-03],\n",
       "          [ 2.93956012e-01, -4.60739344e-01, -5.00979006e-01, ...,\n",
       "           -4.25534248e-01,  1.40593362e+00,  3.59996334e-02],\n",
       "          [-7.12843299e-01, -6.34105146e-01, -6.34236872e-01, ...,\n",
       "           -1.05218148e+00,  4.55061734e-01, -1.22274041e+00],\n",
       "          ...,\n",
       "          [-3.10834646e-01, -1.30372256e-01,  6.20827913e-01, ...,\n",
       "           -1.12894738e+00,  9.68644500e-01,  1.20482989e-01],\n",
       "          [-9.25938606e-01,  1.14939675e-01,  1.45604774e-01, ...,\n",
       "            2.48353675e-01, -2.84222364e-01,  3.14504206e-01],\n",
       "          [-4.70606893e-01, -2.13344872e-01,  1.80455089e-01, ...,\n",
       "           -6.65178955e-01, -9.30587351e-01,  8.78072307e-02]]]]],\n",
       "      dtype=float32)>, <tf.Tensor: shape=(2, 1, 12, 10, 64), dtype=float32, numpy=\n",
       "array([[[[[-1.7150062 , -0.33509246, -0.29369262, ...,  0.17792314,\n",
       "            0.3182524 , -0.48444575],\n",
       "          [-0.0575435 , -0.29669636, -0.27893713, ...,  1.8097177 ,\n",
       "           -0.9941038 , -0.04825923],\n",
       "          [ 0.45557973,  0.23581344, -0.5202032 , ...,  1.408625  ,\n",
       "           -1.1560464 , -0.503423  ],\n",
       "          ...,\n",
       "          [ 0.44085982,  0.2895971 , -1.3295122 , ...,  1.0793442 ,\n",
       "           -0.506451  , -0.6916411 ],\n",
       "          [ 1.4291677 ,  0.80060947, -0.5959128 , ...,  0.2981673 ,\n",
       "           -0.79741323, -0.07253596],\n",
       "          [ 1.4779028 ,  0.01192416, -0.47291374, ...,  0.5183988 ,\n",
       "           -2.1047654 , -0.59185696]],\n",
       "\n",
       "         [[ 0.11820133, -0.06410566,  2.303976  , ...,  0.24340306,\n",
       "            0.09331523, -0.19850105],\n",
       "          [ 0.30861682, -0.70814615, -0.02348855, ..., -0.16785477,\n",
       "            0.3256991 ,  0.49899918],\n",
       "          [-0.00649416, -1.4351017 , -0.326421  , ..., -0.01144828,\n",
       "           -0.423693  , -1.0237181 ],\n",
       "          ...,\n",
       "          [ 0.08050564,  1.0288321 , -0.19701755, ..., -0.3316607 ,\n",
       "           -0.01168234,  0.15720971],\n",
       "          [-0.12214325, -0.40980905, -0.25177822, ..., -0.16453193,\n",
       "            0.41747773, -1.1039654 ],\n",
       "          [ 0.32515526, -0.01665483, -1.2673366 , ...,  0.35790825,\n",
       "            0.74121445, -0.02177144]],\n",
       "\n",
       "         [[-0.18968695,  1.0559388 ,  0.46847704, ..., -0.5601631 ,\n",
       "            0.32167724, -0.10953478],\n",
       "          [-1.2899419 ,  0.19706269,  0.38510555, ...,  0.06174936,\n",
       "           -0.4461413 , -0.44975713],\n",
       "          [-1.241826  , -0.5376055 , -0.35542056, ...,  1.1177573 ,\n",
       "            0.22904156, -0.6770985 ],\n",
       "          ...,\n",
       "          [-1.7304344 , -1.8659981 , -0.23856011, ...,  0.858453  ,\n",
       "            0.18319257,  0.12666628],\n",
       "          [-1.461025  , -1.1555585 ,  0.14161485, ...,  1.1047161 ,\n",
       "           -0.72780186, -0.9338139 ],\n",
       "          [-0.59179527,  0.20450757, -0.43050885, ...,  1.1711713 ,\n",
       "            0.59599173, -0.7553954 ]],\n",
       "\n",
       "         ...,\n",
       "\n",
       "         [[ 0.5701611 ,  0.9628863 , -0.88211775, ..., -0.74075973,\n",
       "            0.6915677 ,  0.8576436 ],\n",
       "          [ 1.1006702 ,  1.7058139 , -1.6264203 , ..., -0.97961247,\n",
       "           -0.5513243 ,  0.21770301],\n",
       "          [ 0.68394566,  1.8474569 , -0.7953604 , ..., -0.5547707 ,\n",
       "           -0.5928292 ,  0.30390882],\n",
       "          ...,\n",
       "          [-1.6890079 ,  0.14571014,  0.23404029, ..., -0.81447846,\n",
       "           -1.4679652 , -0.26189974],\n",
       "          [ 0.28450948,  1.1504557 , -0.47398657, ..., -0.8163909 ,\n",
       "           -0.81575125,  0.3611473 ],\n",
       "          [ 0.08887827, -0.21902773, -0.08499589, ..., -0.74010897,\n",
       "           -1.2063568 ,  0.17309788]],\n",
       "\n",
       "         [[-0.42074582,  0.38024014,  0.31730017, ...,  0.7071669 ,\n",
       "            0.06224953, -0.07541735],\n",
       "          [-0.98832214,  1.0626774 , -0.95684147, ..., -0.09553492,\n",
       "           -0.53389055, -1.2539189 ],\n",
       "          [-0.81485844,  1.0420114 , -0.3388877 , ...,  0.7580636 ,\n",
       "           -0.7881664 , -0.3040127 ],\n",
       "          ...,\n",
       "          [ 0.71654356,  0.5375563 ,  0.57915056, ...,  1.2531826 ,\n",
       "           -0.39339343,  0.57370204],\n",
       "          [-0.49446037,  0.35990122, -0.46686453, ...,  0.7417811 ,\n",
       "           -0.15553403,  0.4732354 ],\n",
       "          [-1.198174  ,  0.5759749 , -1.4245257 , ..., -0.16454242,\n",
       "           -0.24262482, -1.2207317 ]],\n",
       "\n",
       "         [[-0.73546827, -0.0249736 ,  0.44520155, ..., -0.09411858,\n",
       "            0.03298759, -0.05708834],\n",
       "          [ 0.10373206, -0.45273533,  1.6468781 , ...,  0.03958805,\n",
       "           -0.31259033,  0.29884097],\n",
       "          [ 0.09705638, -1.1741899 ,  1.5156393 , ...,  0.25664914,\n",
       "           -0.7522284 , -0.1589972 ],\n",
       "          ...,\n",
       "          [ 0.3690497 ,  0.05104947,  0.33071607, ..., -0.19973965,\n",
       "           -1.8889878 ,  0.6771889 ],\n",
       "          [ 0.11422846, -0.8587756 ,  1.3426834 , ..., -0.96668684,\n",
       "           -0.01024897,  0.6116488 ],\n",
       "          [ 0.37091383, -1.1896917 ,  2.9851189 , ...,  1.5570345 ,\n",
       "            1.0557392 ,  0.9998471 ]]]],\n",
       "\n",
       "\n",
       "\n",
       "       [[[[ 0.06276397, -0.10417299, -0.18619807, ..., -0.297126  ,\n",
       "            0.26173854, -0.13000274],\n",
       "          [ 0.9192725 , -0.4090443 ,  0.972423  , ...,  0.70727366,\n",
       "           -1.3203706 ,  1.6085262 ],\n",
       "          [-0.33088523,  0.7093849 ,  0.81442416, ...,  1.2469656 ,\n",
       "           -1.002773  ,  1.6807195 ],\n",
       "          ...,\n",
       "          [ 0.3052107 , -0.17996186,  2.0185056 , ...,  3.8587472 ,\n",
       "           -1.2372193 ,  0.9534557 ],\n",
       "          [-1.0283629 ,  0.08155248,  1.8496816 , ...,  2.128561  ,\n",
       "           -0.6247727 ,  0.2584513 ],\n",
       "          [-2.1289523 ,  0.18549147,  0.6399473 , ...,  0.85228616,\n",
       "           -2.1877646 ,  2.4378378 ]],\n",
       "\n",
       "         [[ 0.07017653, -0.03671129,  0.04332549, ..., -0.02050789,\n",
       "           -0.12247434,  0.18809892],\n",
       "          [-0.48308837,  0.04050129,  0.11356196, ...,  0.6637497 ,\n",
       "           -0.4115317 , -0.49716446],\n",
       "          [-0.05619829,  0.5179974 , -0.37900332, ..., -0.03675986,\n",
       "           -1.7301418 , -0.59810376],\n",
       "          ...,\n",
       "          [ 0.3635376 , -1.0779086 ,  0.83809274, ..., -1.0851692 ,\n",
       "           -1.4634453 ,  1.3164496 ],\n",
       "          [-0.4169564 , -0.1847029 , -0.22176503, ...,  0.6680793 ,\n",
       "            0.2648956 , -0.7313939 ],\n",
       "          [ 0.9326646 ,  0.12272573, -0.25915495, ...,  0.02097629,\n",
       "           -0.56268215, -0.03576267]],\n",
       "\n",
       "         [[ 0.01033106,  0.04066651, -0.04275092, ...,  0.01755798,\n",
       "            0.03243651,  0.05444864],\n",
       "          [-0.84658384, -0.13470264,  0.61999565, ..., -1.1316793 ,\n",
       "           -0.1028969 ,  0.0249981 ],\n",
       "          [-0.31784937,  0.26178053, -0.22904173, ..., -0.31003585,\n",
       "           -0.21091658,  0.91651565],\n",
       "          ...,\n",
       "          [-1.1450524 ,  0.62563765, -0.46618038, ...,  0.47225007,\n",
       "            0.22629426,  1.9554608 ],\n",
       "          [ 0.31872484, -0.49687287,  0.39553377, ...,  0.05762187,\n",
       "            0.3310153 ,  2.048624  ],\n",
       "          [ 0.5973406 , -0.24433346, -0.16076413, ...,  0.08582241,\n",
       "            0.62394977,  0.0650202 ]],\n",
       "\n",
       "         ...,\n",
       "\n",
       "         [[-0.01946693, -0.02754781,  0.08867131, ...,  0.07960343,\n",
       "           -0.02096952,  0.02480982],\n",
       "          [-0.72308844,  0.9756544 ,  0.78690237, ..., -0.13891937,\n",
       "           -0.32501853, -1.0518535 ],\n",
       "          [ 0.0105351 ,  0.01210145,  0.19313085, ...,  1.004938  ,\n",
       "            0.9486678 , -0.45930937],\n",
       "          ...,\n",
       "          [-1.2683281 ,  1.1976384 ,  1.823053  , ...,  1.2821567 ,\n",
       "            1.1508001 , -0.26119274],\n",
       "          [-0.90466076, -0.18608032, -0.2124379 , ...,  0.10033271,\n",
       "            0.5179076 , -0.75622106],\n",
       "          [-0.24844202,  0.04221713, -0.7921816 , ...,  0.26566014,\n",
       "           -0.6102873 , -0.36389893]],\n",
       "\n",
       "         [[-0.15133092, -0.09206267,  0.04918151, ..., -0.06154479,\n",
       "            0.03367711, -0.0912341 ],\n",
       "          [ 0.19401386,  0.35703322,  0.48772094, ..., -0.08244035,\n",
       "           -0.06910212,  0.10274227],\n",
       "          [ 0.06189808, -0.46965116,  0.14182816, ..., -0.59105176,\n",
       "           -0.31464046,  0.77774996],\n",
       "          ...,\n",
       "          [-0.47895715,  1.0203539 , -0.07231145, ...,  0.27402472,\n",
       "           -0.4962003 ,  1.3693668 ],\n",
       "          [-0.833591  ,  0.69004864,  0.12360941, ..., -0.57048124,\n",
       "            0.6681681 ,  0.83824265],\n",
       "          [-1.0555358 , -0.08102145,  0.9780357 , ...,  0.35388362,\n",
       "            0.607112  ,  0.7992529 ]],\n",
       "\n",
       "         [[ 0.11259632, -0.14132957,  0.09956844, ..., -0.1078644 ,\n",
       "            0.02487571, -0.19472148],\n",
       "          [ 0.344704  , -0.7533363 ,  0.9188009 , ...,  0.11536592,\n",
       "           -0.03980267,  0.5834819 ],\n",
       "          [-0.6148465 , -0.7783264 ,  1.2487129 , ..., -1.0770116 ,\n",
       "            0.01379865, -0.64510286],\n",
       "          ...,\n",
       "          [-1.0809772 ,  0.22040561,  0.6812096 , ..., -1.4704225 ,\n",
       "           -0.58246017,  0.5118573 ],\n",
       "          [-0.5662263 , -0.79578996, -0.18247443, ...,  0.2835503 ,\n",
       "            0.3031688 ,  0.05381477],\n",
       "          [-0.96890944,  0.6684947 , -0.15922089, ...,  0.8678858 ,\n",
       "           -0.32339832,  1.001853  ]]]]], dtype=float32)>), hidden_states=None, attentions=None)"
      ]
     },
     "execution_count": 8,
     "metadata": {},
     "output_type": "execute_result"
    }
   ],
   "source": [
    "(output)"
   ]
  },
  {
   "cell_type": "code",
   "execution_count": 64,
   "metadata": {},
   "outputs": [
    {
     "data": {
      "text/plain": [
       "transformers.modeling_tf_outputs.TFBaseModelOutputWithPast"
      ]
     },
     "execution_count": 64,
     "metadata": {},
     "output_type": "execute_result"
    }
   ],
   "source": [
    "type(output)"
   ]
  },
  {
   "cell_type": "markdown",
   "metadata": {},
   "source": [
    "#### Description-in-Isolation (DII) and Story-in-Sequence sample (SIS)\n",
    "\n",
    "dii: firecrackers and a chicken shaped firecracker sit on bricks .\\\n",
    "sis: we gathered up some fire works to set off at dark .\n",
    "\n",
    "dii: four meat patties sit on a grill and cook .\\\n",
    "sis: we grilled some burgers that were oddly shaped .\n",
    "\n",
    "dii: young woman standing near a shed while holding two pitch forks\\\n",
    "sis: our friends trickled in one by one !\n",
    "\n",
    "dii: a man grills food outside in front of his garage .\\\n",
    "sis: we got all the food on the grill to cook and ready to eat .\n",
    "\n",
    "dii: a view of the sunrise over a backdrop of mountains .\\\n",
    "sis: the sunset was amazing that night !\n",
    "\n",
    "dii: these fireworks are ready for someone to have lots of fun .\\\n",
    "sis: i took some pictures from my family 's bbq last weekend .\n",
    "\n",
    "dii: strangely shaped hamburgers are being cooked on a barbeque grill .\\\n",
    "sis: we made hamburgers into little star shapes .\n",
    "\n",
    "dii: one girl is holding two skewers with five hot dogs and one smile .\\\n",
    "sis: my wife is ready for the attack !\n",
    "\n",
    "dii: a man with a hat standing next to a grill cooking some food with a spatula in his hand .\\\n",
    "sis: my dad is trying to touch my food . do n't touch ! !\n",
    "\n",
    "dii: a shadowy figure of a person observing the sunset\\\n",
    "sis: the sunset afterwards was so beautiful .\n"
   ]
  },
  {
   "cell_type": "code",
   "execution_count": 127,
   "metadata": {},
   "outputs": [
    {
     "name": "stderr",
     "output_type": "stream",
     "text": [
      "Setting `pad_token_id` to `eos_token_id`:50256 for open-end generation.\n"
     ]
    },
    {
     "data": {
      "text/plain": [
       "[{'generated_text': 'firecrackers and a chicken shaped firecracker sit on bricks as the bricks disintegrate around them.\\n\\nImage copyright PA Image caption The Fire'},\n",
       " {'generated_text': 'firecrackers and a chicken shaped firecracker sit on bricks and mortar in a storage unit at the National Post offices of The Post in Washington.'},\n",
       " {'generated_text': 'firecrackers and a chicken shaped firecracker sit on bricks, which is a perfect way to create a mini-battle.\\n\\nPuzzle'},\n",
       " {'generated_text': 'firecrackers and a chicken shaped firecracker sit on bricks and paper before each other – they were the only people there.\\n\\nThe house'},\n",
       " {'generated_text': 'firecrackers and a chicken shaped firecracker sit on bricks and roll out of the ground in front of the station. \"If you don\\'t'}]"
      ]
     },
     "execution_count": 127,
     "metadata": {},
     "output_type": "execute_result"
    }
   ],
   "source": [
    "#text = \"Once upon a time\"\n",
    "text = 'firecrackers and a chicken shaped firecracker sit on bricks' \n",
    "# four meat patties sit on a grill and cook. young woman standing near a shed while holding two pitch forks. a man grills food outside in front of his garage. '\n",
    "    \n",
    "generator(text, \n",
    "         max_length=30, num_return_sequences=5)"
   ]
  },
  {
   "cell_type": "code",
   "execution_count": 63,
   "metadata": {},
   "outputs": [
    {
     "name": "stderr",
     "output_type": "stream",
     "text": [
      "Setting `pad_token_id` to `eos_token_id`:50256 for open-end generation.\n"
     ]
    },
    {
     "data": {
      "text/plain": [
       "[{'generated_text': \"ROI of good user experience in a company where we're just as capable as they are, it's a real treat. It makes it so much\"},\n",
       " {'generated_text': \"ROI of good user experience. You'll be able to keep up with all the latest Windows updates, performance tweaks.\"},\n",
       " {'generated_text': \"ROI of good user experience at R&D, I've been playing along with all of your games, so I figured out what I was looking\"},\n",
       " {'generated_text': 'ROI of good user experience - we understand the demand. The idea is to ensure that apps on Windows 10 are compatible without being an annoying user experience'},\n",
       " {'generated_text': 'ROI of good user experience will lead to better apps with better security.\\n\\nThese are some of the problems that the developers of CCL will'}]"
      ]
     },
     "execution_count": 63,
     "metadata": {},
     "output_type": "execute_result"
    }
   ],
   "source": [
    "text = \"ROI of good user experience\"\n",
    "generator(text, \n",
    "         max_length=30, num_return_sequences=5)"
   ]
  },
  {
   "cell_type": "markdown",
   "metadata": {},
   "source": [
    "### BLEU Score"
   ]
  },
  {
   "cell_type": "code",
   "execution_count": 48,
   "metadata": {},
   "outputs": [
    {
     "name": "stdout",
     "output_type": "stream",
     "text": [
      "BLEU score Fine Tuned -> 0.02678571428571428\n",
      "BLEU score Pre-Trained -> 0.025\n"
     ]
    }
   ],
   "source": [
    "from nltk.translate.bleu_score import sentence_bleu\n",
    "\n",
    "reference = [\"we gathered up some fire works to set off at dark\".split()]\n",
    "\n",
    "#BLEU Score: 0.011485304754407722\n",
    "candidate_finetuned = \"firecrackers and a chicken shaped firecracker sit on bricks .a giant chicken fires up the firecracker .the chicken is glowing with fire .the chicken is slowly burning off the brick .the firecrackers are making a loud noise .finally the chicken bursts into smoke .today my son and his friends showed up to my house to celebrate my birthday .we had a lot of fun decorations and things to eat .afterward we all got together to celebrate .we had a great time .the family gathered together for a party .they had a very nice house with lots of stuffed toys .they all had a great time .after dinner they all had fireworks and the fireworks were spectacular .the fireworks show started off with a bang .we saw the fireworks and their effects .we saw the fireworks and the fireworks were amazing .i went to a fireworks festival .there were beautiful fireworks .they were bright red and purple .it even had fireworks of all colors .they were very long and colorful .i had a great time there .the fireworks started off with a bang .they continued and the sound of them grew .the fireworks really got into the air .it was so loud we could barely hear them .the fireworks show was amazing .it was a beautiful time to be with friends .the fireworks were very\".split()\n",
    "#candidate_pretrained = \"firecrackers and a chicken shaped firecracker sit on bricks and a bag of bricks. The brick cracker is a very strong firecracker, very powerful. He can also be used to blow on wooden walls: you can smash it through a wall or in pieces of a building.\\n\\nFirecracker's weakness is his weak spot on bricks, not the bricks behind him.\\n\\nThe player can only use the Brick Cracker. The bricks that the player must hit must fit inside him, but the player may hit other bricks even if he is near one of the pillars. If the player hits bricks which could be broken, the player may try and reattach the bricks, like from a crane.\\n\\nThe brick cracker can still be struck like a heavy tool. It can be pushed to blow on the floor, or thrown by the player with a ball.\\n\\nThe brick cracker attacks with a big, high impact fist.\\n\\nEven when not playing as a Brick Cracker, the player can use it to knock the floor or break the ceiling in a short period of time. You can then easily knock over the bricks which are not there. The brick cracker will not explode, but the player\".split()\n",
    "#candidate_pretrained = \"firecrackers and a chicken shaped firecracker sit on bricks and debris and firecrackers are seen on the grass of\".split()\n",
    "candidate_pretrained = 'firecrackers and a chicken shaped firecracker sit on bricks at the base of the block where the \"crackmaster\" is held on the ledge above the stone wall, his face hidden behind his shirt, in an area that bears no resemblance'.split()\n",
    "#candidate_pretrained = \"we gathered up some fire works to set off at dark\".split()\n",
    "\n",
    "#BLEU Score: 0.010275364504118513\n",
    "#candidate = \"firecrackers and a chicken shaped firecracker sit on bricks and block .the crowd gathers to watch the firecrackers .the firecrackers are held in a vase and were the tallest of all the firecrackers .the firecrackers are held by a fire truck .the fire truck is in the middle of the street .this year it was a very warm day .people were enjoying the day .the fire trucks were getting ready to go .they were very picky when they arrived .the firemen chased after the people around them .they did not want to get in the way of the fire .the firemen are getting ready for the night .the firemen are trying to keep the fire alive .the firefighters are getting ready for the night .firefighters are starting the night with the firecrackers .crowds of people are gathered in the street .the firemen are on the lookout for the fire .the fire truck is coming down the road .the fire truck is going up the road .the fire truck is coming in for the fire .the fire truck is taking the fire away .the fire truck is lit up and ready to go .it was a rainy day in the city .the police were still out .there were few fires on the ground .a few people\"\n",
    "print('BLEU score Fine Tuned -> {}'.format(sentence_bleu(reference, candidate_finetuned, weights=(1, 0, 0, 0))))\n",
    "print('BLEU score Pre-Trained -> {}'.format(sentence_bleu(reference, candidate_pretrained, weights=(1, 0, 0, 0))))"
   ]
  },
  {
   "cell_type": "code",
   "execution_count": 23,
   "metadata": {},
   "outputs": [
    {
     "name": "stdout",
     "output_type": "stream",
     "text": [
      "['we', 'gathered', 'up', 'some', 'fire', 'works', 'to', 'set', 'off', 'at', 'dark']\n",
      "['we', 'gathered', 'up', 'some', 'fire', 'works', 'to', 'set', 'off', 'at', 'dark']\n"
     ]
    }
   ],
   "source": [
    "print(reference)\n",
    "print(candidate_pretrained)"
   ]
  },
  {
   "cell_type": "code",
   "execution_count": 24,
   "metadata": {},
   "outputs": [
    {
     "name": "stdout",
     "output_type": "stream",
     "text": [
      "[['this', 'is', 'a', 'dog'], ['it', 'is', 'dog'], ['dog', 'it', 'is'], ['a', 'dog,', 'it', 'is']]\n"
     ]
    }
   ],
   "source": [
    "reference = [\n",
    "    'this is a dog'.split(),\n",
    "    'it is dog'.split(),\n",
    "    'dog it is'.split(),\n",
    "    'a dog, it is'.split()\n",
    "]\n",
    "print(reference)"
   ]
  },
  {
   "cell_type": "code",
   "execution_count": 26,
   "metadata": {},
   "outputs": [
    {
     "name": "stdout",
     "output_type": "stream",
     "text": [
      "BLEU score -> 1.0\n"
     ]
    }
   ],
   "source": [
    "candidate = 'it is dog'.split()\n",
    "print('BLEU score -> {}'.format(sentence_bleu(reference, candidate, weights=(1, 0, 0, 0))))"
   ]
  },
  {
   "cell_type": "code",
   "execution_count": 42,
   "metadata": {},
   "outputs": [
    {
     "name": "stdout",
     "output_type": "stream",
     "text": [
      "1.0\n"
     ]
    }
   ],
   "source": [
    "reference = [\"we gathered up some fire works to set off at dark\".split()]\n",
    "candidate = \"we gathered up some fire works to set off at dark\".split()\n",
    "\n",
    "print(sentence_bleu(reference, candidate, weights=(1, 0, 0, 0)))"
   ]
  },
  {
   "cell_type": "code",
   "execution_count": 69,
   "metadata": {},
   "outputs": [
    {
     "name": "stdout",
     "output_type": "stream",
     "text": [
      "9.269981669466712e-232\n"
     ]
    }
   ],
   "source": [
    "#More tests from papers/articles\n",
    "reference = [\"James Cook was a very good man and a loving husband.\".split()]\n",
    "candidate = \"The sky is blue today and learning history is important.\".split()\n",
    "\n",
    "print(sentence_bleu(reference, candidate)) #, weights=(1, 0, 0, 0)))"
   ]
  },
  {
   "cell_type": "markdown",
   "metadata": {},
   "source": [
    "### ROUGE Score"
   ]
  },
  {
   "cell_type": "code",
   "execution_count": 51,
   "metadata": {},
   "outputs": [
    {
     "name": "stderr",
     "output_type": "stream",
     "text": [
      "ERROR: Invalid requirement: 'rouge/requirements.txt'\n"
     ]
    },
    {
     "name": "stdout",
     "output_type": "stream",
     "text": [
      "Collecting rouge-score\n",
      "  Downloading rouge_score-0.0.4-py2.py3-none-any.whl (22 kB)\n",
      "Requirement already satisfied: six>=1.14.0 in c:\\users\\sundeepm\\anaconda3\\envs\\w203\\lib\\site-packages (from rouge-score) (1.15.0)\n",
      "Requirement already satisfied: absl-py in c:\\users\\sundeepm\\anaconda3\\envs\\w203\\lib\\site-packages (from rouge-score) (0.11.0)\n",
      "Requirement already satisfied: numpy in c:\\users\\sundeepm\\anaconda3\\envs\\w203\\lib\\site-packages (from rouge-score) (1.19.5)\n",
      "Requirement already satisfied: nltk in c:\\users\\sundeepm\\anaconda3\\envs\\w203\\lib\\site-packages (from rouge-score) (3.5)\n",
      "Requirement already satisfied: click in c:\\users\\sundeepm\\anaconda3\\envs\\w203\\lib\\site-packages (from nltk->rouge-score) (7.1.2)\n",
      "Requirement already satisfied: tqdm in c:\\users\\sundeepm\\anaconda3\\envs\\w203\\lib\\site-packages (from nltk->rouge-score) (4.51.0)\n",
      "Requirement already satisfied: regex in c:\\users\\sundeepm\\anaconda3\\envs\\w203\\lib\\site-packages (from nltk->rouge-score) (2020.10.15)\n",
      "Requirement already satisfied: joblib in c:\\users\\sundeepm\\anaconda3\\envs\\w203\\lib\\site-packages (from nltk->rouge-score) (0.16.0)\n",
      "Installing collected packages: rouge-score\n",
      "Successfully installed rouge-score-0.0.4\n"
     ]
    }
   ],
   "source": [
    "!pip install rouge/requirements.txt\n",
    "!pip install rouge-score"
   ]
  },
  {
   "cell_type": "code",
   "execution_count": 52,
   "metadata": {},
   "outputs": [],
   "source": [
    "from rouge_score import rouge_scorer\n",
    "\n",
    "scorer = rouge_scorer.RougeScorer(['rouge1', 'rougeL'], use_stemmer=True)\n",
    "scores = scorer.score('The quick brown fox jumps over the lazy dog',\n",
    "                      'The quick brown dog jumps on the log.')"
   ]
  },
  {
   "cell_type": "code",
   "execution_count": 56,
   "metadata": {},
   "outputs": [
    {
     "name": "stdout",
     "output_type": "stream",
     "text": [
      "{'rouge1': Score(precision=0.75, recall=0.6666666666666666, fmeasure=0.7058823529411765), 'rougeL': Score(precision=0.625, recall=0.5555555555555556, fmeasure=0.5882352941176471)}\n"
     ]
    }
   ],
   "source": [
    "print(scores)"
   ]
  },
  {
   "cell_type": "code",
   "execution_count": 55,
   "metadata": {},
   "outputs": [
    {
     "name": "stdout",
     "output_type": "stream",
     "text": [
      "ROUGE Finetuned: {'rouge1': Score(precision=0.026785714285714284, recall=0.5454545454545454, fmeasure=0.05106382978723404), 'rougeL': Score(precision=0.017857142857142856, recall=0.36363636363636365, fmeasure=0.03404255319148936)}\n",
      "ROUGE PreTrained: {'rouge1': Score(precision=0.025, recall=0.09090909090909091, fmeasure=0.03921568627450981), 'rougeL': Score(precision=0.025, recall=0.09090909090909091, fmeasure=0.03921568627450981)}\n"
     ]
    }
   ],
   "source": [
    "reference = \"we gathered up some fire works to set off at dark\"\n",
    "\n",
    "#BLEU Score: 0.011485304754407722\n",
    "candidate_finetuned = \"firecrackers and a chicken shaped firecracker sit on bricks .a giant chicken fires up the firecracker .the chicken is glowing with fire .the chicken is slowly burning off the brick .the firecrackers are making a loud noise .finally the chicken bursts into smoke .today my son and his friends showed up to my house to celebrate my birthday .we had a lot of fun decorations and things to eat .afterward we all got together to celebrate .we had a great time .the family gathered together for a party .they had a very nice house with lots of stuffed toys .they all had a great time .after dinner they all had fireworks and the fireworks were spectacular .the fireworks show started off with a bang .we saw the fireworks and their effects .we saw the fireworks and the fireworks were amazing .i went to a fireworks festival .there were beautiful fireworks .they were bright red and purple .it even had fireworks of all colors .they were very long and colorful .i had a great time there .the fireworks started off with a bang .they continued and the sound of them grew .the fireworks really got into the air .it was so loud we could barely hear them .the fireworks show was amazing .it was a beautiful time to be with friends .the fireworks were very\"\n",
    "#candidate_pretrained = \"firecrackers and a chicken shaped firecracker sit on bricks and a bag of bricks. The brick cracker is a very strong firecracker, very powerful. He can also be used to blow on wooden walls: you can smash it through a wall or in pieces of a building.\\n\\nFirecracker's weakness is his weak spot on bricks, not the bricks behind him.\\n\\nThe player can only use the Brick Cracker. The bricks that the player must hit must fit inside him, but the player may hit other bricks even if he is near one of the pillars. If the player hits bricks which could be broken, the player may try and reattach the bricks, like from a crane.\\n\\nThe brick cracker can still be struck like a heavy tool. It can be pushed to blow on the floor, or thrown by the player with a ball.\\n\\nThe brick cracker attacks with a big, high impact fist.\\n\\nEven when not playing as a Brick Cracker, the player can use it to knock the floor or break the ceiling in a short period of time. You can then easily knock over the bricks which are not there. The brick cracker will not explode, but the player\".split()\n",
    "#candidate_pretrained = \"firecrackers and a chicken shaped firecracker sit on bricks and debris and firecrackers are seen on the grass of\".split()\n",
    "candidate_pretrained = 'firecrackers and a chicken shaped firecracker sit on bricks at the base of the block where the \"crackmaster\" is held on the ledge above the stone wall, his face hidden behind his shirt, in an area that bears no resemblance'\n",
    "#candidate_pretrained = \"we gathered up some fire works to set off at dark\".split()\n",
    "\n",
    "\n",
    "scores_finetuned = scorer.score(reference,\n",
    "                      candidate_finetuned)\n",
    "\n",
    "scores_pretuned = scorer.score(reference,\n",
    "                      candidate_pretrained)\n",
    "\n",
    "print(\"ROUGE Finetuned:\", scores_finetuned)\n",
    "\n",
    "print(\"ROUGE PreTrained:\", scores_pretuned)\n"
   ]
  },
  {
   "cell_type": "markdown",
   "metadata": {},
   "source": [
    "### Samples"
   ]
  },
  {
   "cell_type": "code",
   "execution_count": null,
   "metadata": {},
   "outputs": [],
   "source": [
    "candidate = \"firecrackers and a chicken shaped firecracker sit on bricks and a bag of bricks. The brick cracker is a very strong firecracker, very powerful. He can also be used to blow on wooden walls: you can smash it through a wall or in pieces of a building.\\n\\nFirecracker's weakness is his weak spot on bricks, not the bricks behind him.\\n\\nThe player can only use the Brick Cracker. The bricks that the player must hit must fit inside him, but the player may hit other bricks even if he is near one of the pillars. If the player hits bricks which could be broken, the player may try and reattach the bricks, like from a crane.\\n\\nThe brick cracker can still be struck like a heavy tool. It can be pushed to blow on the floor, or thrown by the player with a ball.\\n\\nThe brick cracker attacks with a big, high impact fist.\\n\\nEven when not playing as a Brick Cracker, the player can use it to knock the floor or break the ceiling in a short period of time. You can then easily knock over the bricks which are not there. The brick cracker will not explode, but the player\""
   ]
  },
  {
   "cell_type": "code",
   "execution_count": null,
   "metadata": {},
   "outputs": [],
   "source": [
    "generator(\"a group of kids playing soccer on the field catching a catchers mitt in a field\", \n",
    "         max_length=50, num_return_sequences=2)"
   ]
  },
  {
   "cell_type": "code",
   "execution_count": null,
   "metadata": {},
   "outputs": [],
   "source": [
    "generator(\"a group of kids playing soccer on the field catching a catchers mitt in a field. a large metal stop lights stand displays a red sidewalk.\", \n",
    "         max_length=100, num_return_sequences=3)"
   ]
  },
  {
   "cell_type": "code",
   "execution_count": null,
   "metadata": {},
   "outputs": [],
   "source": [
    "generator(\"Group of kids. Man buying grocery.\", \n",
    "         max_length=100, num_return_sequences=2)"
   ]
  },
  {
   "cell_type": "code",
   "execution_count": null,
   "metadata": {},
   "outputs": [],
   "source": [
    "generator(\"A train carriage containing controlled nuclear materials was stolen in Cincinnati today. Its whereabouts are unknown.\",\n",
    "          max_length = 100, num_return_sequences = 3)"
   ]
  },
  {
   "cell_type": "code",
   "execution_count": null,
   "metadata": {},
   "outputs": [],
   "source": [
    "generator(\"girls playing soccer field pose in the grass playing on the field; ; a man standing next to pet station; a truck driving across an empty street\",\n",
    "          max_length = 100, num_return_sequences = 3)"
   ]
  },
  {
   "cell_type": "code",
   "execution_count": null,
   "metadata": {},
   "outputs": [],
   "source": [
    "generator(\"fragmented user experiences due to disconnected data\",\n",
    "          max_length = 100, num_return_sequences = 3)"
   ]
  },
  {
   "cell_type": "code",
   "execution_count": null,
   "metadata": {},
   "outputs": [],
   "source": []
  },
  {
   "cell_type": "code",
   "execution_count": null,
   "metadata": {},
   "outputs": [],
   "source": [
    "conda env create --file environment.yml\n",
    "activate storytelling\n",
    "import generate"
   ]
  },
  {
   "cell_type": "code",
   "execution_count": null,
   "metadata": {},
   "outputs": [],
   "source": []
  },
  {
   "cell_type": "markdown",
   "metadata": {},
   "source": [
    "### Generate text for each DII image caption."
   ]
  },
  {
   "cell_type": "code",
   "execution_count": 43,
   "metadata": {},
   "outputs": [
    {
     "name": "stderr",
     "output_type": "stream",
     "text": [
      "Setting `pad_token_id` to `eos_token_id`:50256 for open-end generation.\n",
      "Setting `pad_token_id` to `eos_token_id`:50256 for open-end generation.\n",
      "Setting `pad_token_id` to `eos_token_id`:50256 for open-end generation.\n",
      "Setting `pad_token_id` to `eos_token_id`:50256 for open-end generation.\n",
      "Setting `pad_token_id` to `eos_token_id`:50256 for open-end generation.\n"
     ]
    },
    {
     "name": "stdout",
     "output_type": "stream",
     "text": [
      "[{'generated_text': 'Six or seven bottle rockets next to a specialty firework. No one would be able to take out that firework without a full blown bomb attack. This means that all in total the number of people that the IDF would have to kill would increase over four times compared to the time it would take to destroy one-tenth of a second. It will be a real challenge to find a reliable source for them as they are being overwhelmed by so many weapons.\\n\\nKeep updated: Sign up to'}]\n",
      "[{'generated_text': \"the burgers are being grilled on the grill. I was happy because these burgers are delicious because of the onion slices, tomatoes and lettuce. The only thing that the lettuce slices kept from cracking was the fresh cut of chicken breast. I'm not sure if they even bother to check to see if they've made a mistake or not. I've also heard that this place is extremely busy. My wife loves watching the fireworks happen. However, these sandwiches are a definite top five.\\n\\nTotally worth\"}]\n",
      "[{'generated_text': \"A woman has big forks with meat on them. How do you think the city has changed after a big fat burger revolution so quickly?\\n\\nI think it's good because they are making more people take the risks for food and you don't get them. You're saying: 'Hey, man, can we go buy some bacon?' and you're trying to feed people who don't do that. Those who have been eating burgers for a long time are not doing well and that's good.\"}]\n",
      "[{'generated_text': ' An older man stands in the entry of a garage, manning his station at the grill. He\\'s wearing black apron and gray shorts and dark gray sneakers. He tells me how his car was stolen after the break-up, the smell of marijuana and his uncle\\'s presence. \"It is unbelievable,\" he says. He points toward a sign near the rear window that reads: \"LATEST WE HAVE IN AMERICA NO PUBLIC HEARING.\"\\n\\nIn a white van, the driver'}]\n",
      "[{'generated_text': ' A man is standing in front of some saw horses at dusk. The men take out their guns and turn towards him to attack him. They are at the beginning of the fire and must stand with their guns pointed. The men go through the air, firing a number of shots at the man at the front of the fire. A second burst occurs a second later; the man is lying on the ground and the two bullets penetrate a couple of his ribs in the back. A first burst appears next at'}]\n"
     ]
    }
   ],
   "source": [
    "prefix_dii_1 = \"Six or seven bottle rockets next to a specialty firework.\"\n",
    "prefix_dii_2 = \"the burgers are being grilled on the grill.\"\n",
    "prefix_dii_3 = \"A woman has big forks with meat on them.\"\n",
    "prefix_dii_4 = \" An older man stands in the entry of a garage, manning his station at the grill.\"\n",
    "prefix_dii_5 = \" A man is standing in front of some saw horses at dusk.\"\n",
    "\n",
    "sis_1 = generator(prefix_dii_1,\n",
    "          max_length = 100, num_return_sequences = 1)\n",
    "\n",
    "sis_2 = generator(prefix_dii_2,\n",
    "          max_length = 100, num_return_sequences = 1)\n",
    "\n",
    "sis_3 = generator(prefix_dii_3,\n",
    "          max_length = 100, num_return_sequences = 1)\n",
    "\n",
    "sis_4 = generator(prefix_dii_4,\n",
    "          max_length = 100, num_return_sequences = 1)\n",
    "\n",
    "sis_5 = generator(prefix_dii_5,\n",
    "          max_length = 100, num_return_sequences = 1)\n",
    "\n",
    "print(sis_1)\n",
    "print(sis_2)\n",
    "print(sis_3)\n",
    "print(sis_4)\n",
    "print(sis_5)"
   ]
  },
  {
   "cell_type": "code",
   "execution_count": 46,
   "metadata": {},
   "outputs": [
    {
     "data": {
      "text/plain": [
       "482"
      ]
     },
     "execution_count": 46,
     "metadata": {},
     "output_type": "execute_result"
    }
   ],
   "source": [
    "len( \"the burgers are being grilled on the grill. I was happy because these burgers are delicious because of the onion slices, tomatoes and lettuce. The only thing that the lettuce slices kept from cracking was the fresh cut of chicken breast. I'm not sure if they even bother to check to see if they've made a mistake or not. I've also heard that this place is extremely busy. My wife loves watching the fireworks happen. However, these sandwiches are a definite top five.\\n\\nTotally worth\")"
   ]
  },
  {
   "cell_type": "code",
   "execution_count": 52,
   "metadata": {},
   "outputs": [
    {
     "name": "stderr",
     "output_type": "stream",
     "text": [
      "Setting `pad_token_id` to `eos_token_id`:50256 for open-end generation.\n"
     ]
    }
   ],
   "source": [
    "prefix_dii_1 = \"Six or seven bottle rockets next to a specialty firework.\"\n",
    "prefix_dii_2 = \"the burgers are being grilled on the grill.\"\n",
    "prefix_dii_3 = \"A woman has big forks with meat on them.\"\n",
    "prefix_dii_4 = \" An older man stands in the entry of a garage, manning his station at the grill.\"\n",
    "prefix_dii_5 = \" A man is standing in front of some saw horses at dusk.\"\n",
    "\n",
    "sis = generator(prefix_dii_1,\n",
    "          max_length = 100, num_return_sequences = 1)"
   ]
  },
  {
   "cell_type": "code",
   "execution_count": 47,
   "metadata": {},
   "outputs": [
    {
     "data": {
      "text/plain": [
       "89"
      ]
     },
     "execution_count": 47,
     "metadata": {},
     "output_type": "execute_result"
    }
   ],
   "source": [
    "len(\"Hello, I'm a language model, a language for thinking, a language for expressing thoughts.\")\n",
    "\n",
    "# {'generated_text': \"Hello, I'm a language model, a compiler, a compiler library, I just want to know how I build this kind of stuff. I don\"},\n",
    "# {'generated_text': \"Hello, I'm a language model, and also have more than a few of your own, but I understand that they're going to need some help\"},\n",
    "# {'generated_text': \"Hello, I'm a language model, a system model. I want to know my language so that it might be more interesting, more user-friendly\"},\n",
    "# {'generated_text': 'Hello, I\\'m a language model, not a language model\"\\n\\nThe concept of \"no-tricks\" comes in handy later with new'}]"
   ]
  },
  {
   "cell_type": "code",
   "execution_count": 48,
   "metadata": {},
   "outputs": [
    {
     "name": "stderr",
     "output_type": "stream",
     "text": [
      "Setting `pad_token_id` to `eos_token_id`:50256 for open-end generation.\n"
     ]
    },
    {
     "data": {
      "text/plain": [
       "[{'generated_text': 'You will always succeed in Life.\" The story concludes with an exciting, inspiring encounter with Harry Potter fans.\\n\\nAbout the author: R. Lee Kelleher was born and raised in Los Angeles County, N.Y. with a B and'}]"
      ]
     },
     "execution_count": 48,
     "metadata": {},
     "output_type": "execute_result"
    }
   ],
   "source": [
    "sentence = 'You will always succeed in Life' #input sentence\n",
    "\n",
    "generator(sentence,\n",
    "          max_length = 50, num_return_sequences = 1)"
   ]
  },
  {
   "cell_type": "code",
   "execution_count": 54,
   "metadata": {},
   "outputs": [
    {
     "name": "stderr",
     "output_type": "stream",
     "text": [
      "Setting `pad_token_id` to `eos_token_id`:50256 for open-end generation.\n"
     ]
    },
    {
     "data": {
      "text/plain": [
       "[{'generated_text': \"Six or seven bottle rockets next to a specialty firework.A woman has big forks with meat on them. A man is standing in front of some saw horses at dusk. There is a guy standing in the street and two big, pointed sticks are sticking out of holes in the rock wall. He also owns a small firework shop and also sells wood-cut iron knives in his backyard.In these parts, the first thing you notice about the whole thing, at least to me, is this small shop. The doors are covered in huge holes in the rocks, because the firemen could have easily cleaned the holes out after they put them in. This shop is more than just a business-like operation. It is also a location that was once open to all visitors (for a few weeks per month), offering a whole different way of seeing the place. The other thing is that you definitely feel a sense of unease from taking this place.I've never been to any public parking area on I-30, so that makes me feel a little odd. As I walked down the road to the street where I waited for news about the spot I stopped at, the firemen were everywhere. And I didn't even realize they were on\"}]"
      ]
     },
     "execution_count": 54,
     "metadata": {},
     "output_type": "execute_result"
    }
   ],
   "source": [
    "text = prefix_dii_1 + prefix_dii_3 + prefix_dii_5\n",
    "generator(text,\n",
    "          max_length = 250, num_return_sequences = 1)"
   ]
  },
  {
   "cell_type": "markdown",
   "metadata": {},
   "source": [
    "### Fine-tuned models"
   ]
  },
  {
   "cell_type": "markdown",
   "metadata": {},
   "source": [
    "#### https://huggingface.co/pranavpsv/gpt2-genre-story-generator"
   ]
  },
  {
   "cell_type": "code",
   "execution_count": 65,
   "metadata": {},
   "outputs": [
    {
     "data": {
      "application/vnd.jupyter.widget-view+json": {
       "model_id": "311cb64e4b38497bbf9d746264f5dc57",
       "version_major": 2,
       "version_minor": 0
      },
      "text/plain": [
       "HBox(children=(HTML(value='Downloading'), FloatProgress(value=0.0, max=666.0), HTML(value='')))"
      ]
     },
     "metadata": {},
     "output_type": "display_data"
    },
    {
     "name": "stdout",
     "output_type": "stream",
     "text": [
      "\n"
     ]
    },
    {
     "data": {
      "application/vnd.jupyter.widget-view+json": {
       "model_id": "18bbdc46550040c9909ff1eb78deb49d",
       "version_major": 2,
       "version_minor": 0
      },
      "text/plain": [
       "HBox(children=(HTML(value='Downloading'), FloatProgress(value=0.0, max=510404559.0), HTML(value='')))"
      ]
     },
     "metadata": {},
     "output_type": "display_data"
    },
    {
     "name": "stdout",
     "output_type": "stream",
     "text": [
      "\n"
     ]
    },
    {
     "data": {
      "application/vnd.jupyter.widget-view+json": {
       "model_id": "fcc466c98163427597b9844b16d31f46",
       "version_major": 2,
       "version_minor": 0
      },
      "text/plain": [
       "HBox(children=(HTML(value='Downloading'), FloatProgress(value=0.0, max=898669.0), HTML(value='')))"
      ]
     },
     "metadata": {},
     "output_type": "display_data"
    },
    {
     "name": "stdout",
     "output_type": "stream",
     "text": [
      "\n"
     ]
    },
    {
     "data": {
      "application/vnd.jupyter.widget-view+json": {
       "model_id": "0f804203e3bd455e80cdab34177e85c5",
       "version_major": 2,
       "version_minor": 0
      },
      "text/plain": [
       "HBox(children=(HTML(value='Downloading'), FloatProgress(value=0.0, max=456318.0), HTML(value='')))"
      ]
     },
     "metadata": {},
     "output_type": "display_data"
    },
    {
     "name": "stdout",
     "output_type": "stream",
     "text": [
      "\n"
     ]
    },
    {
     "data": {
      "application/vnd.jupyter.widget-view+json": {
       "model_id": "825d9664f5cc4b05a6f475eeb3f24575",
       "version_major": 2,
       "version_minor": 0
      },
      "text/plain": [
       "HBox(children=(HTML(value='Downloading'), FloatProgress(value=0.0, max=166.0), HTML(value='')))"
      ]
     },
     "metadata": {},
     "output_type": "display_data"
    },
    {
     "name": "stdout",
     "output_type": "stream",
     "text": [
      "\n"
     ]
    },
    {
     "data": {
      "application/vnd.jupyter.widget-view+json": {
       "model_id": "d4831b9943934c1e886ab579e0bca2df",
       "version_major": 2,
       "version_minor": 0
      },
      "text/plain": [
       "HBox(children=(HTML(value='Downloading'), FloatProgress(value=0.0, max=203.0), HTML(value='')))"
      ]
     },
     "metadata": {},
     "output_type": "display_data"
    },
    {
     "name": "stdout",
     "output_type": "stream",
     "text": [
      "\n"
     ]
    },
    {
     "data": {
      "application/vnd.jupyter.widget-view+json": {
       "model_id": "5f39e7f8de3b42b4b7eee12a9d42b6f8",
       "version_major": 2,
       "version_minor": 0
      },
      "text/plain": [
       "HBox(children=(HTML(value='Downloading'), FloatProgress(value=0.0, max=26.0), HTML(value='')))"
      ]
     },
     "metadata": {},
     "output_type": "display_data"
    },
    {
     "name": "stdout",
     "output_type": "stream",
     "text": [
      "\n"
     ]
    },
    {
     "name": "stderr",
     "output_type": "stream",
     "text": [
      "Setting `pad_token_id` to `eos_token_id`:50256 for open-end generation.\n"
     ]
    },
    {
     "name": "stdout",
     "output_type": "stream",
     "text": [
      "[{'generated_text': '<BOS> <superhero> Batman, Commissioner of Crime, Detective Comics #250: \"Dark Knight\" — \"Batman Lives\", \"A Night of Crime\" — \"Night of Retribution\" — \"Death of Black Mask\", \"Night of the Robinsons'}]\n"
     ]
    }
   ],
   "source": [
    "# Example of usage\n",
    "from transformers import pipeline\n",
    "\n",
    "story_gen = pipeline(\"text-generation\", \"pranavpsv/gpt2-genre-story-generator\")\n",
    "print(story_gen(\"<BOS> <superhero> Batman\"))"
   ]
  },
  {
   "cell_type": "code",
   "execution_count": 66,
   "metadata": {},
   "outputs": [
    {
     "data": {
      "application/vnd.jupyter.widget-view+json": {
       "model_id": "716fdc9c8ba34365805117c3fe6101f8",
       "version_major": 2,
       "version_minor": 0
      },
      "text/plain": [
       "HBox(children=(HTML(value='Downloading'), FloatProgress(value=0.0, max=908.0), HTML(value='')))"
      ]
     },
     "metadata": {},
     "output_type": "display_data"
    },
    {
     "name": "stdout",
     "output_type": "stream",
     "text": [
      "\n"
     ]
    },
    {
     "data": {
      "application/vnd.jupyter.widget-view+json": {
       "model_id": "974cdbc3a8064317af4794d581ecae25",
       "version_major": 2,
       "version_minor": 0
      },
      "text/plain": [
       "HBox(children=(HTML(value='Downloading'), FloatProgress(value=0.0, max=510408315.0), HTML(value='')))"
      ]
     },
     "metadata": {},
     "output_type": "display_data"
    },
    {
     "name": "stdout",
     "output_type": "stream",
     "text": [
      "\n"
     ]
    },
    {
     "data": {
      "application/vnd.jupyter.widget-view+json": {
       "model_id": "d2e38513576a4f2e99567b798926a65e",
       "version_major": 2,
       "version_minor": 0
      },
      "text/plain": [
       "HBox(children=(HTML(value='Downloading'), FloatProgress(value=0.0, max=798156.0), HTML(value='')))"
      ]
     },
     "metadata": {},
     "output_type": "display_data"
    },
    {
     "name": "stdout",
     "output_type": "stream",
     "text": [
      "\n"
     ]
    },
    {
     "data": {
      "application/vnd.jupyter.widget-view+json": {
       "model_id": "d094bd4e6c3e4f31b31a6ea118574f1d",
       "version_major": 2,
       "version_minor": 0
      },
      "text/plain": [
       "HBox(children=(HTML(value='Downloading'), FloatProgress(value=0.0, max=456356.0), HTML(value='')))"
      ]
     },
     "metadata": {},
     "output_type": "display_data"
    },
    {
     "name": "stdout",
     "output_type": "stream",
     "text": [
      "\n"
     ]
    },
    {
     "data": {
      "application/vnd.jupyter.widget-view+json": {
       "model_id": "ef147361f513437b93a0259b0c527c75",
       "version_major": 2,
       "version_minor": 0
      },
      "text/plain": [
       "HBox(children=(HTML(value='Downloading'), FloatProgress(value=0.0, max=90.0), HTML(value='')))"
      ]
     },
     "metadata": {},
     "output_type": "display_data"
    },
    {
     "name": "stdout",
     "output_type": "stream",
     "text": [
      "\n"
     ]
    },
    {
     "data": {
      "application/vnd.jupyter.widget-view+json": {
       "model_id": "c6ddec92cc9a475c8b7bf12b9c520a1e",
       "version_major": 2,
       "version_minor": 0
      },
      "text/plain": [
       "HBox(children=(HTML(value='Downloading'), FloatProgress(value=0.0, max=200.0), HTML(value='')))"
      ]
     },
     "metadata": {},
     "output_type": "display_data"
    },
    {
     "name": "stdout",
     "output_type": "stream",
     "text": [
      "\n"
     ]
    },
    {
     "name": "stderr",
     "output_type": "stream",
     "text": [
      "Setting `pad_token_id` to `eos_token_id`:50256 for open-end generation.\n"
     ]
    },
    {
     "data": {
      "text/plain": [
       "[{'generated_text': \"My dream is complete. If the robots don't kill me now, I want you to know I love you.\"},\n",
       " {'generated_text': \"My dream is to get married, but my heartbreak when you gave me a vasectomy didn't go away.\"},\n",
       " {'generated_text': 'My dream is to become the last man standing in space. Now, I will be the last man standing in space, and they will worship me.'},\n",
       " {'generated_text': \"My dream is to become an artist. It's my profession. You can see my passion for illustration through my work on this blog.\\n”Yes.“ ”I want to do something about it.“ ”I mean writing.“ ”I like it!“ ”OK.“ ”Do you want to do that?“ ”Umm...no....no....no...no....no....no....no.........no.........no.........no.........no.........no...............no..no.......no............... no.......no.....no...............\"},\n",
       " {'generated_text': 'My dream is getting married to a millionaire, but my life as a hotel maid is over. Why stay here when you can get away with murder?'}]"
      ]
     },
     "execution_count": 66,
     "metadata": {},
     "output_type": "execute_result"
    }
   ],
   "source": [
    "from transformers import pipeline\n",
    "generator = pipeline('text-generation',\n",
    "                     model='huggingtweets/veryshortstory')\n",
    "generator(\"My dream is\", num_return_sequences=5)"
   ]
  },
  {
   "cell_type": "markdown",
   "metadata": {},
   "source": [
    "### Bert Score\n",
    "\n",
    "Source: https://github.com/Tiiiger/bert_score"
   ]
  },
  {
   "cell_type": "code",
   "execution_count": 70,
   "metadata": {},
   "outputs": [
    {
     "name": "stdout",
     "output_type": "stream",
     "text": [
      "Collecting bert_score\n",
      "  Downloading bert_score-0.3.9-py3-none-any.whl (59 kB)\n",
      "Requirement already satisfied: torch>=1.0.0 in c:\\users\\sundeepm\\anaconda3\\envs\\w203\\lib\\site-packages (from bert_score) (1.7.0+cpu)\n",
      "Requirement already satisfied: pandas>=1.0.1 in c:\\users\\sundeepm\\anaconda3\\envs\\w203\\lib\\site-packages (from bert_score) (1.1.3)\n",
      "Requirement already satisfied: tqdm>=4.31.1 in c:\\users\\sundeepm\\anaconda3\\envs\\w203\\lib\\site-packages (from bert_score) (4.51.0)\n",
      "Requirement already satisfied: numpy in c:\\users\\sundeepm\\anaconda3\\envs\\w203\\lib\\site-packages (from bert_score) (1.19.5)\n",
      "Requirement already satisfied: transformers>=3.0.0 in c:\\users\\sundeepm\\anaconda3\\envs\\w203\\lib\\site-packages (from bert_score) (4.5.1)\n",
      "Requirement already satisfied: requests in c:\\users\\sundeepm\\anaconda3\\envs\\w203\\lib\\site-packages (from bert_score) (2.24.0)\n",
      "Requirement already satisfied: matplotlib in c:\\users\\sundeepm\\anaconda3\\envs\\w203\\lib\\site-packages (from bert_score) (3.2.2)\n",
      "Requirement already satisfied: future in c:\\users\\sundeepm\\anaconda3\\envs\\w203\\lib\\site-packages (from torch>=1.0.0->bert_score) (0.18.2)\n",
      "Requirement already satisfied: typing-extensions in c:\\users\\sundeepm\\anaconda3\\envs\\w203\\lib\\site-packages (from torch>=1.0.0->bert_score) (3.7.4.3)\n",
      "Requirement already satisfied: dataclasses in c:\\users\\sundeepm\\anaconda3\\envs\\w203\\lib\\site-packages (from torch>=1.0.0->bert_score) (0.8)\n",
      "Requirement already satisfied: pytz>=2017.2 in c:\\users\\sundeepm\\anaconda3\\envs\\w203\\lib\\site-packages (from pandas>=1.0.1->bert_score) (2020.1)\n",
      "Requirement already satisfied: python-dateutil>=2.7.3 in c:\\users\\sundeepm\\anaconda3\\envs\\w203\\lib\\site-packages (from pandas>=1.0.1->bert_score) (2.8.1)\n",
      "Requirement already satisfied: importlib-metadata; python_version < \"3.8\" in c:\\users\\sundeepm\\anaconda3\\envs\\w203\\lib\\site-packages (from transformers>=3.0.0->bert_score) (2.0.0)\n",
      "Requirement already satisfied: packaging in c:\\users\\sundeepm\\anaconda3\\envs\\w203\\lib\\site-packages (from transformers>=3.0.0->bert_score) (20.9)\n",
      "Requirement already satisfied: sacremoses in c:\\users\\sundeepm\\anaconda3\\envs\\w203\\lib\\site-packages (from transformers>=3.0.0->bert_score) (0.0.45)\n",
      "Requirement already satisfied: regex!=2019.12.17 in c:\\users\\sundeepm\\anaconda3\\envs\\w203\\lib\\site-packages (from transformers>=3.0.0->bert_score) (2020.10.15)\n",
      "Requirement already satisfied: tokenizers<0.11,>=0.10.1 in c:\\users\\sundeepm\\anaconda3\\envs\\w203\\lib\\site-packages (from transformers>=3.0.0->bert_score) (0.10.2)\n",
      "Requirement already satisfied: filelock in c:\\users\\sundeepm\\anaconda3\\envs\\w203\\lib\\site-packages (from transformers>=3.0.0->bert_score) (3.0.12)\n",
      "Requirement already satisfied: certifi>=2017.4.17 in c:\\users\\sundeepm\\anaconda3\\envs\\w203\\lib\\site-packages (from requests->bert_score) (2020.12.5)\n",
      "Requirement already satisfied: urllib3!=1.25.0,!=1.25.1,<1.26,>=1.21.1 in c:\\users\\sundeepm\\anaconda3\\envs\\w203\\lib\\site-packages (from requests->bert_score) (1.25.11)\n",
      "Requirement already satisfied: chardet<4,>=3.0.2 in c:\\users\\sundeepm\\anaconda3\\envs\\w203\\lib\\site-packages (from requests->bert_score) (3.0.4)\n",
      "Requirement already satisfied: idna<3,>=2.5 in c:\\users\\sundeepm\\anaconda3\\envs\\w203\\lib\\site-packages (from requests->bert_score) (2.10)\n",
      "Requirement already satisfied: kiwisolver>=1.0.1 in c:\\users\\sundeepm\\anaconda3\\envs\\w203\\lib\\site-packages (from matplotlib->bert_score) (1.3.0)\n",
      "Requirement already satisfied: cycler>=0.10 in c:\\users\\sundeepm\\anaconda3\\envs\\w203\\lib\\site-packages (from matplotlib->bert_score) (0.10.0)\n",
      "Requirement already satisfied: pyparsing!=2.0.4,!=2.1.2,!=2.1.6,>=2.0.1 in c:\\users\\sundeepm\\anaconda3\\envs\\w203\\lib\\site-packages (from matplotlib->bert_score) (2.4.7)\n",
      "Requirement already satisfied: six>=1.5 in c:\\users\\sundeepm\\anaconda3\\envs\\w203\\lib\\site-packages (from python-dateutil>=2.7.3->pandas>=1.0.1->bert_score) (1.15.0)\n",
      "Requirement already satisfied: zipp>=0.5 in c:\\users\\sundeepm\\anaconda3\\envs\\w203\\lib\\site-packages (from importlib-metadata; python_version < \"3.8\"->transformers>=3.0.0->bert_score) (2.2.0)\n",
      "Requirement already satisfied: click in c:\\users\\sundeepm\\anaconda3\\envs\\w203\\lib\\site-packages (from sacremoses->transformers>=3.0.0->bert_score) (7.1.2)\n",
      "Requirement already satisfied: joblib in c:\\users\\sundeepm\\anaconda3\\envs\\w203\\lib\\site-packages (from sacremoses->transformers>=3.0.0->bert_score) (0.16.0)\n",
      "Installing collected packages: bert-score\n",
      "Successfully installed bert-score-0.3.9\n"
     ]
    }
   ],
   "source": [
    "!pip install bert_score"
   ]
  },
  {
   "cell_type": "code",
   "execution_count": 67,
   "metadata": {},
   "outputs": [
    {
     "data": {
      "text/plain": [
       "'0.3.9'"
      ]
     },
     "execution_count": 67,
     "metadata": {},
     "output_type": "execute_result"
    }
   ],
   "source": [
    "# check your installation\n",
    "import bert_score\n",
    "bert_score.__version__"
   ]
  },
  {
   "cell_type": "markdown",
   "metadata": {},
   "source": [
    "### preparation"
   ]
  },
  {
   "cell_type": "code",
   "execution_count": 68,
   "metadata": {},
   "outputs": [],
   "source": [
    "# hide the loading messages\n",
    "import logging\n",
    "import transformers\n",
    "transformers.tokenization_utils.logger.setLevel(logging.ERROR)\n",
    "transformers.configuration_utils.logger.setLevel(logging.ERROR)\n",
    "transformers.modeling_utils.logger.setLevel(logging.ERROR)"
   ]
  },
  {
   "cell_type": "code",
   "execution_count": 69,
   "metadata": {},
   "outputs": [],
   "source": [
    "%matplotlib inline\n",
    "import matplotlib.pyplot as plt\n",
    "from matplotlib import rcParams\n",
    "\n",
    "rcParams[\"xtick.major.size\"] = 0\n",
    "rcParams[\"xtick.minor.size\"] = 0\n",
    "rcParams[\"ytick.major.size\"] = 0\n",
    "rcParams[\"ytick.minor.size\"] = 0\n",
    "\n",
    "rcParams[\"axes.labelsize\"] = \"large\"\n",
    "rcParams[\"axes.axisbelow\"] = True\n",
    "rcParams[\"axes.grid\"] = True"
   ]
  },
  {
   "cell_type": "markdown",
   "metadata": {},
   "source": [
    "### Function API"
   ]
  },
  {
   "cell_type": "code",
   "execution_count": null,
   "metadata": {},
   "outputs": [],
   "source": []
  },
  {
   "cell_type": "markdown",
   "metadata": {},
   "source": [
    "### Object-oriented API"
   ]
  },
  {
   "cell_type": "code",
   "execution_count": 70,
   "metadata": {},
   "outputs": [],
   "source": [
    "from bert_score import BERTScorer"
   ]
  },
  {
   "cell_type": "code",
   "execution_count": 71,
   "metadata": {},
   "outputs": [],
   "source": [
    "scorer = BERTScorer(lang=\"en\", rescale_with_baseline=True)"
   ]
  },
  {
   "cell_type": "markdown",
   "metadata": {},
   "source": [
    "#### Read the reference and candidate texts"
   ]
  },
  {
   "cell_type": "code",
   "execution_count": null,
   "metadata": {},
   "outputs": [],
   "source": [
    "#with open(\"hyps.txt\") as f:\n",
    "#    cands = [line.strip() for line in f]\n",
    "\n",
    "#with open(\"refs.txt\") as f:\n",
    "#    refs = [line.strip() for line in f]"
   ]
  },
  {
   "cell_type": "code",
   "execution_count": 94,
   "metadata": {},
   "outputs": [],
   "source": [
    "#refs = [\"we gathered up some fire works to set off at dark\"]\n",
    "\n",
    "refs_dii = [\"Six or seven bottle rockets next to a specialty firework. the burgers are being grilled on the grill. A woman has big forks with meat on them. An older man stands in the entry of a garage, manning his station at the grill. A man is standing in front of some saw horses at dusk.\"]\n",
    "\n",
    "#refs_sis= [\"my sister arrived early to help me with the family bar bq . every one else arrived soon after . dad manned the grill . there was so much food and it was all delicious . we ended the day shooting off some fireworks .\"]\n",
    "ref_sis = [\"we gathered up some fire works to set off at dark . we grilled some burgers that were oddly shaped . our friends trickled in one by one ! we got all the food on the grill to cook and ready to eat . the sunset was amazing that night !\"]\n",
    "            \n",
    "cands_finetuned = [\"firecrackers and a chicken shaped firecracker sit on bricks.a giant chicken fires up the firecracker . the chicken is glowing with fire .the chicken is slowly burning off the brick .the firecrackers are making a loud noise .finally the chicken bursts into smoke .today my son and his friends showed up to my house to celebrate my birthday .we had a lot of fun decorations and things to eat .afterward we all got together to celebrate .we had a great time .the family gathered together for a party .they had a very nice house with lots of stuffed toys .they all had a great time .after dinner they all had fireworks and the fireworks were spectacular .the fireworks show started off with a bang .we saw the fireworks and their effects .we saw the fireworks and the fireworks were amazing .i went to a fireworks festival .there were beautiful fireworks .they were bright red and purple .it even had fireworks of all colors .they were very long and colorful .i had a great time there .the fireworks started off with a bang .they continued and the sound of them grew .the fireworks really got into the air .it was so loud we could barely hear them .the fireworks show was amazing .it was a beautiful time to be with friends .the fireworks were very\"]\n",
    "cands_pretrained = ['firecrackers and a chicken shaped firecracker sit on bricks at the base of the block where the \"crackmaster\" is held on the ledge above the stone wall, his face hidden behind his shirt, in an area that bears no resemblance']\n"
   ]
  },
  {
   "cell_type": "code",
   "execution_count": 73,
   "metadata": {
    "scrolled": true
   },
   "outputs": [
    {
     "name": "stdout",
     "output_type": "stream",
     "text": [
      "firecrackers and a chicken shaped firecracker sit on bricks.a giant chicken fires up the firecracker . the chicken is glowing with fire .the chicken is slowly burning off the brick .the firecrackers are making a loud noise .finally the chicken bursts into smoke .today my son and his friends showed up to my house to celebrate my birthday .we had a lot of fun decorations and things to eat .afterward we all got together to celebrate .we had a great time .the family gathered together for a party .they had a very nice house with lots of stuffed toys .they all had a great time .after dinner they all had fireworks and the fireworks were spectacular .the fireworks show started off with a bang .we saw the fireworks and their effects .we saw the fireworks and the fireworks were amazing .i went to a fireworks festival .there were beautiful fireworks .they were bright red and purple .it even had fireworks of all colors .they were very long and colorful .i had a great time there .the fireworks started off with a bang .they continued and the sound of them grew .the fireworks really got into the air .it was so loud we could barely hear them .the fireworks show was amazing .it was a beautiful time to be with friends .the fireworks were very\n",
      "we gathered up some fire works to set off at dark . we grilled some burgers that were oddly shaped . our friends trickled in one by one ! we got all the food on the grill to cook and ready to eat . the sunset was amazing that night !\n"
     ]
    }
   ],
   "source": [
    "type(cands_finetuned)\n",
    "print(cands_finetuned[0])\n",
    "\n",
    "print(ref_sis[0])"
   ]
  },
  {
   "cell_type": "code",
   "execution_count": 74,
   "metadata": {},
   "outputs": [],
   "source": [
    "P, R, F1 = scorer.score(cands_finetuned, ref_sis)"
   ]
  },
  {
   "cell_type": "code",
   "execution_count": 75,
   "metadata": {},
   "outputs": [
    {
     "name": "stdout",
     "output_type": "stream",
     "text": [
      "tensor([-0.0803])\n",
      "tensor([0.0609])\n",
      "tensor([-0.0090])\n"
     ]
    }
   ],
   "source": [
    "print(P)\n",
    "print(R)\n",
    "print(F1)"
   ]
  },
  {
   "cell_type": "code",
   "execution_count": 77,
   "metadata": {},
   "outputs": [],
   "source": [
    "P, R, F1 = scorer.score(cands_pretrained, ref_sis)"
   ]
  },
  {
   "cell_type": "code",
   "execution_count": 78,
   "metadata": {},
   "outputs": [
    {
     "name": "stdout",
     "output_type": "stream",
     "text": [
      "tensor([-0.0555])\n",
      "tensor([-0.1086])\n",
      "tensor([-0.0805])\n"
     ]
    }
   ],
   "source": [
    "print(P)\n",
    "print(R)\n",
    "print(F1)"
   ]
  },
  {
   "cell_type": "code",
   "execution_count": 79,
   "metadata": {},
   "outputs": [
    {
     "name": "stdout",
     "output_type": "stream",
     "text": [
      "Ref sis: 233\n",
      "3-sent: 1085\n",
      "5-sent: 1170\n"
     ]
    }
   ],
   "source": [
    "print(\"Ref sis:\", len(ref_sis[0]))\n",
    "\n",
    "# 3 sentences\n",
    "print(\"3-sent:\", len(\"a woman is relaxing in the sun while playing in the sun .the fireworks started with the big red one .the next one looked very different .the last one looked like a giant truck .all of the fireworks were spectacular .i was able to see all of them in the sky .we had a great time viewing the fireworks .the grand finale was the most amazing .it was the view from our hotel balcony that made it all worthwhile .we had a lot of fun playing in the fireworks .the night ended with a grand finale .it is always nice to go to the park to watch my favorite bands play .the bottom of the big red truck is always one of the highlights of the show .the fireworks that were set up around the park were spectacular .the fireworks went off in the sky , creating a giant firework .we had a great time watching the fireworks .they were so huge .i could see all of it .the fireworks were so beautiful .there were so many colors .the fireworks made the town so vibrant .we kept to our hotel balcony when the show started .we looked out over the town and saw the fireworks .the show was simply gorgeous .i\"))\n",
    "s_3_sent_pretrained = [\"a woman is relaxing in the sun while playing in the sun .the fireworks started with the big red one .the next one looked very different .the last one looked like a giant truck .all of the fireworks were spectacular .i was able to see all of them in the sky .we had a great time viewing the fireworks .the grand finale was the most amazing .it was the view from our hotel balcony that made it all worthwhile .we had a lot of fun playing in the fireworks .the night ended with a grand finale .it is always nice to go to the park to watch my favorite bands play .the bottom of the big red truck is always one of the highlights of the show .the fireworks that were set up around the park were spectacular .the fireworks went off in the sky , creating a giant firework .we had a great time watching the fireworks .they were so huge .i could see all of it .the fireworks were so beautiful .there were so many colors .the fireworks made the town so vibrant .we kept to our hotel balcony when the show started .we looked out over the town and saw the fireworks .the show was simply gorgeous .i\"]\n",
    "\n",
    "#5 sentences\n",
    "print(\"5-sent:\", len(\"a woman and her two children are watching a big firework .the three men are holding up the sign .the two boys are waiting for their lunch .this couple decided they would watch a fireworks display in the park .the fireworks were very colorful and bright .the people in the park were having a good time .a woman was enjoying the day .the family was enjoying the fireworks .the family was watching the fireworks .this is a picture of a small firework .this is a picture of a man holding a sign .this is a picture of a man holding a pumpkin .this is a picture of a man and his dog .the fireworks started on the porch .the children were excited .they played together in the field .they enjoyed their day .everyone gathered outside for a fun day .the family had a picnic for the family .the children played outside .they played in the grass .the family had some food too .the fireworks were a big hit .the family enjoyed it .a crowd gathered to watch fireworks .the kids had a great day playing in the field .the family watched the fireworks from the porch .the kids played on the grass .the fireworks went off to the car as the family watched .the fireworks started at noon .\"))\n",
    "s_5_sent_pretrained = [\"a woman and her two children are watching a big firework .the three men are holding up the sign .the two boys are waiting for their lunch .this couple decided they would watch a fireworks display in the park .the fireworks were very colorful and bright .the people in the park were having a good time .a woman was enjoying the day .the family was enjoying the fireworks .the family was watching the fireworks .this is a picture of a small firework .this is a picture of a man holding a sign .this is a picture of a man holding a pumpkin .this is a picture of a man and his dog .the fireworks started on the porch .the children were excited .they played together in the field .they enjoyed their day .everyone gathered outside for a fun day .the family had a picnic for the family .the children played outside .they played in the grass .the family had some food too .the fireworks were a big hit .the family enjoyed it .a crowd gathered to watch fireworks .the kids had a great day playing in the field .the family watched the fireworks from the porch .the kids played on the grass .the fireworks went off to the car as the family watched .the fireworks started at noon .\"]"
   ]
  },
  {
   "cell_type": "code",
   "execution_count": 82,
   "metadata": {},
   "outputs": [],
   "source": [
    "P, R, F1 = scorer.score(s_3_sent_pretrained, ref_sis)"
   ]
  },
  {
   "cell_type": "code",
   "execution_count": 83,
   "metadata": {},
   "outputs": [
    {
     "name": "stdout",
     "output_type": "stream",
     "text": [
      "tensor([-0.0187])\n",
      "tensor([0.0502])\n",
      "tensor([0.0171])\n"
     ]
    }
   ],
   "source": [
    "print(P)\n",
    "print(R)\n",
    "print(F1)"
   ]
  },
  {
   "cell_type": "code",
   "execution_count": 84,
   "metadata": {},
   "outputs": [],
   "source": [
    "P, R, F1 = scorer.score(s_5_sent_pretrained, ref_sis)"
   ]
  },
  {
   "cell_type": "code",
   "execution_count": 85,
   "metadata": {},
   "outputs": [
    {
     "name": "stdout",
     "output_type": "stream",
     "text": [
      "tensor([-0.1128])\n",
      "tensor([0.0468])\n",
      "tensor([-0.0326])\n"
     ]
    }
   ],
   "source": [
    "print(P)\n",
    "print(R)\n",
    "print(F1)"
   ]
  },
  {
   "cell_type": "markdown",
   "metadata": {},
   "source": [
    "### METEOR Score"
   ]
  },
  {
   "cell_type": "code",
   "execution_count": 89,
   "metadata": {},
   "outputs": [
    {
     "name": "stdout",
     "output_type": "stream",
     "text": [
      "0.6233062330623306\n",
      "0.0\n"
     ]
    }
   ],
   "source": [
    "#sample\n",
    "import nltk\n",
    "\n",
    "print (nltk.translate.meteor_score.meteor_score(\n",
    "    [\"this is an apple\", \"that is an apple\"], \"an apple on this tree\"))\n",
    "print (nltk.translate.meteor_score.meteor_score(\n",
    "    [\"this is an apple\", \"that is an apple\"], \"a red color fruit\"))"
   ]
  },
  {
   "cell_type": "code",
   "execution_count": 114,
   "metadata": {},
   "outputs": [
    {
     "name": "stdout",
     "output_type": "stream",
     "text": [
      "233\n",
      "1244\n",
      "firecrackers and a chicken shaped firecracker sit on bricks.a giant chicken fires up the firecracker . the chicken is glowing with fire .the chicken is slowly burning off the brick .the firecrackers are making a loud noise .finally t\n"
     ]
    }
   ],
   "source": [
    "print(len(\"we gathered up some fire works to set off at dark . we grilled some burgers that were oddly shaped . our friends trickled in one by one ! we got all the food on the grill to cook and ready to eat . the sunset was amazing that night !\")) #ref_sis[0]))\n",
    "print(len('firecrackers and a chicken shaped firecracker sit on bricks.a giant chicken fires up the firecracker . the chicken is glowing with fire .the chicken is slowly burning off the brick .the firecrackers are making a loud noise .finally the chicken bursts into smoke .today my son and his friends showed up to my house to celebrate my birthday .we had a lot of fun decorations and things to eat .afterward we all got together to celebrate .we had a great time .the family gathered together for a party .they had a very nice house with lots of stuffed toys .they all had a great time .after dinner they all had fireworks and the fireworks were spectacular .the fireworks show started off with a bang .we saw the fireworks and their effects .we saw the fireworks and the fireworks were amazing .i went to a fireworks festival .there were beautiful fireworks .they were bright red and purple .it even had fireworks of all colors .they were very long and colorful .i had a great time there .the fireworks started off with a bang .they continued and the sound of them grew .the fireworks really got into the air .it was so loud we could barely hear them .the fireworks show was amazing .it was a beautiful time to be with friends .the fireworks were very'))\n",
    "    \n",
    "print(cands_finetuned[0][:233])"
   ]
  },
  {
   "cell_type": "code",
   "execution_count": 122,
   "metadata": {},
   "outputs": [
    {
     "name": "stdout",
     "output_type": "stream",
     "text": [
      "ref_sis: we gathered up some fire works to set off at dark . we grilled some burgers that were oddly shaped . our friends trickled in one by one ! we got all the food on the grill to cook and ready to eat . the sunset was amazing that night !\n",
      "=======================================================\n",
      "cands_finetuned: firecrackers and a chicken shaped firecracker sit on bricks.a giant chicken fires up the firecracker . the chicken is glowing with fire .the chicken is slowly burning off the brick .the firecrackers are making a loud noise .finally the chicken bursts\n",
      "=======================================================\n",
      "cands_pretrained: firecrackers and a chicken shaped firecracker sit on bricks at the base of the block where the \"crackmaster\" is held on the ledge above the stone wall, his face hidden behind his shirt, in an area that bears no resemblance\n",
      "=======================================================\n",
      "s_3_sent_pretrained: a woman is relaxing in the sun while playing in the sun .the fireworks started with the big red one .the next one looked very different .the last one looked like a giant truck .all of the fireworks were spectacular .i was able to see all of them in t\n",
      "=======================================================\n",
      "s_5_sent_pretrained: a woman and her two children are watching a big firework .the three men are holding up the sign .the two boys are waiting for their lunch .this couple decided they would watch a fireworks display in the park .the fireworks were very colorful and brig\n",
      "=======================================================\n"
     ]
    }
   ],
   "source": [
    "print(\"ref_sis:\", ref_sis[0])\n",
    "print(\"=======================================================\")\n",
    "\n",
    "print(\"cands_finetuned:\", cands_finetuned[0][:250])\n",
    "print(\"=======================================================\")\n",
    "\n",
    "print(\"cands_pretrained:\", cands_pretrained[0][:250])\n",
    "print(\"=======================================================\")\n",
    "\n",
    "print(\"s_3_sent_pretrained:\", s_3_sent_pretrained[0][:250])\n",
    "print(\"=======================================================\")\n",
    "\n",
    "print(\"s_5_sent_pretrained:\", s_5_sent_pretrained[0][:250])\n",
    "print(\"=======================================================\")\n"
   ]
  },
  {
   "cell_type": "code",
   "execution_count": 126,
   "metadata": {},
   "outputs": [
    {
     "name": "stdout",
     "output_type": "stream",
     "text": [
      "1-sent Finetuned: 0.08333333333333336\n",
      "Vanilla Pre-trained: 0.1420804421615452\n",
      "3-sent Finetuned: 0.08333333333333336\n",
      "5-sent Finetuned: 0.08333333333333336\n"
     ]
    }
   ],
   "source": [
    "#actual example\n",
    "\n",
    "print(\"1-sent Finetuned:\", nltk.translate.meteor_score.meteor_score(cands_finetuned[0][:250], ref_sis[0], 4))\n",
    "print(\"Vanilla Pre-trained:\", nltk.translate.meteor_score.meteor_score(cands_pretrained, ref_sis[0], 4))\n",
    "\n",
    "print(\"3-sent Finetuned:\", nltk.translate.meteor_score.meteor_score(s_3_sent_pretrained[0][:250], ref_sis[0], 4))\n",
    "print(\"5-sent Finetuned:\", nltk.translate.meteor_score.meteor_score(s_5_sent_pretrained[0][:250], ref_sis[0], 4))"
   ]
  },
  {
   "cell_type": "code",
   "execution_count": 139,
   "metadata": {},
   "outputs": [
    {
     "name": "stdout",
     "output_type": "stream",
     "text": [
      "the burgers are being grilled on the grill.i think they are making a mess .the grilled burgers were good .chugging hot dogs and hot dogs for the big bbq .yes , they are really hot !my favorite burger was the hamburger bun .the food was prepared by\n",
      "the burgers are being grilled on the grill.everyone is enjoying the food .today we decided to go to a restaurant .we sat in the restaurant for a while .afterward we went to the bar .we were treated to a great meal .we decided to go out to eat after the restaurant\n",
      "the burgers are being grilled on the grill.they served burger toppings on the grill too .everyone had a great time .the food was amazing !the night started out with a local restaurant .they were very good .the food was very good .they were great with the drinks .the night\n",
      "the burgers are being grilled on the grill.the fries are being fried in the grill .we went to the local carnival and the mannequins were the first to arrive .they invited some of the locals .while they waited , we played in the carnival .the mannequ\n",
      "the burgers are being grilled on the grill.the burgers are being grilled on the grill .the burgers are being grilled on the grill .treats for the family are always in preparation .they serve food for the celebration .the family is able to enjoy their meal together .it was a great\n"
     ]
    }
   ],
   "source": [
    "references = []\n",
    "references.append(\"the burgers are being grilled on the grill.i think they are making a mess .the grilled burgers were good .chugging hot dogs and hot dogs for the big bbq .yes , they are really hot !my favorite burger was the hamburger bun .the food was prepared by\")\n",
    "\n",
    "references.append(\"the burgers are being grilled on the grill.everyone is enjoying the food .today we decided to go to a restaurant .we sat in the restaurant for a while .afterward we went to the bar .we were treated to a great meal .we decided to go out to eat after the restaurant\")\n",
    "\n",
    "references.append(\"the burgers are being grilled on the grill.they served burger toppings on the grill too .everyone had a great time .the food was amazing !the night started out with a local restaurant .they were very good .the food was very good .they were great with the drinks .the night\")\n",
    "\n",
    "references.append(\"the burgers are being grilled on the grill.the fries are being fried in the grill .we went to the local carnival and the mannequins were the first to arrive .they invited some of the locals .while they waited , we played in the carnival .the mannequ\")\n",
    "\n",
    "references.append(\"the burgers are being grilled on the grill.the burgers are being grilled on the grill .the burgers are being grilled on the grill .treats for the family are always in preparation .they serve food for the celebration .the family is able to enjoy their meal together .it was a great\")\n",
    "\n",
    "for r in references:\n",
    "    print(r)"
   ]
  },
  {
   "cell_type": "code",
   "execution_count": 135,
   "metadata": {},
   "outputs": [
    {
     "name": "stdout",
     "output_type": "stream",
     "text": [
      "1-sent Finetuned: 0.05910165484633569\n"
     ]
    }
   ],
   "source": [
    "#this should be reference since it is gold standard\n",
    "hypothesis = [\"we grilled some burgers that were oddly shaped .\"]\n",
    "\n",
    "print(\"1-sent Finetuned:\", nltk.translate.meteor_score.meteor_score(references, hypothesis[0], 4))"
   ]
  },
  {
   "cell_type": "code",
   "execution_count": 162,
   "metadata": {},
   "outputs": [
    {
     "name": "stdout",
     "output_type": "stream",
     "text": [
      "['the burgers are being grilled on the grill.i think they are making a mess .the grilled burgers were good .chugging hot dogs and hot dogs for the big bbq .yes , they are really hot !my favorite burger was the hamburger bun .the food was prepared by']\n",
      "-------------------------------------------\n",
      "Bert Score - P: tensor([0.0740]) R: tensor([0.2768]) F1: tensor([0.1748])\n",
      "METEOR: 0.27777777777777785\n",
      "ROUGE: {'rouge1': Score(precision=0.375, recall=0.06382978723404255, fmeasure=0.1090909090909091), 'rougeL': Score(precision=0.375, recall=0.06382978723404255, fmeasure=0.1090909090909091)}\n",
      "BLEU: 0.3958333333333333\n",
      "===========================================\n",
      "['the burgers are being grilled on the grill.everyone is enjoying the food .today we decided to go to a restaurant .we sat in the restaurant for a while .afterward we went to the bar .we were treated to a great meal .we decided to go out to eat after the restaurant']\n",
      "-------------------------------------------\n",
      "Bert Score - P: tensor([0.0455]) R: tensor([0.2618]) F1: tensor([0.1527])\n",
      "METEOR: 0.27777777777777785\n",
      "ROUGE: {'rouge1': Score(precision=0.5, recall=0.07692307692307693, fmeasure=0.13333333333333336), 'rougeL': Score(precision=0.25, recall=0.038461538461538464, fmeasure=0.06666666666666668)}\n",
      "BLEU: 0.375\n",
      "===========================================\n",
      "['the burgers are being grilled on the grill.they served burger toppings on the grill too .everyone had a great time .the food was amazing !the night started out with a local restaurant .they were very good .the food was very good .they were great with the drinks .the night']\n",
      "-------------------------------------------\n",
      "Bert Score - P: tensor([0.0581]) R: tensor([0.2794]) F1: tensor([0.1677])\n",
      "METEOR: 0.27777777777777785\n",
      "ROUGE: {'rouge1': Score(precision=0.375, recall=0.06, fmeasure=0.10344827586206896), 'rougeL': Score(precision=0.375, recall=0.06, fmeasure=0.10344827586206896)}\n",
      "BLEU: 0.3958333333333333\n",
      "===========================================\n",
      "['the burgers are being grilled on the grill.the fries are being fried in the grill .we went to the local carnival and the mannequins were the first to arrive .they invited some of the locals .while they waited , we played in the carnival .the mannequ']\n",
      "-------------------------------------------\n",
      "Bert Score - P: tensor([-0.0624]) R: tensor([0.2128]) F1: tensor([0.0729])\n",
      "METEOR: 0.27777777777777785\n",
      "ROUGE: {'rouge1': Score(precision=0.625, recall=0.10869565217391304, fmeasure=0.18518518518518517), 'rougeL': Score(precision=0.25, recall=0.043478260869565216, fmeasure=0.07407407407407408)}\n",
      "BLEU: 0.3958333333333333\n",
      "===========================================\n",
      "['the burgers are being grilled on the grill.the burgers are being grilled on the grill .the burgers are being grilled on the grill .treats for the family are always in preparation .they serve food for the celebration .the family is able to enjoy their meal together .it was a great']\n",
      "-------------------------------------------\n",
      "Bert Score - P: tensor([0.0376]) R: tensor([0.2242]) F1: tensor([0.1306])\n",
      "METEOR: 0.27777777777777785\n",
      "ROUGE: {'rouge1': Score(precision=0.25, recall=0.0392156862745098, fmeasure=0.06779661016949153), 'rougeL': Score(precision=0.25, recall=0.0392156862745098, fmeasure=0.06779661016949153)}\n",
      "BLEU: 0.3958333333333333\n",
      "===========================================\n"
     ]
    }
   ],
   "source": [
    "from rouge_score import rouge_scorer\n",
    "from nltk.translate.bleu_score import sentence_bleu\n",
    "\n",
    "Rouge_scorer = rouge_scorer.RougeScorer(['rouge1', 'rougeL'], use_stemmer=True)\n",
    "#scores = Rouge_scorer.score('The quick brown fox jumps over the lazy dog',\n",
    "#                      'The quick brown dog jumps on the log.')\n",
    "\n",
    "#Print different scores (Bert Score, METEOR, ROUGE, BLEU)\n",
    "#print(type(references))\n",
    "for r in references:\n",
    "    print([r])\n",
    "    print(\"-------------------------------------------\")\n",
    "    P, R, F1 = scorer.score([r], hypothesis)\n",
    "    print('Bert Score - P:', P, 'R:', R, 'F1:', F1)\n",
    "    print(\"METEOR:\", nltk.translate.meteor_score.meteor_score(r, hypothesis[0], 4))\n",
    "    print(\"ROUGE:\", Rouge_scorer.score(r, hypothesis[0]))\n",
    "    print('BLEU: {}'.format(sentence_bleu(r, hypothesis[0], weights=(1, 0, 0, 0))))\n",
    "    print(\"===========================================\")"
   ]
  },
  {
   "cell_type": "code",
   "execution_count": 163,
   "metadata": {},
   "outputs": [],
   "source": [
    "#Sentence 1\n",
    "\n",
    "references = []\n",
    "references.append(\"Six or seven bottle rockets next to a specialty firework.i like the organization organization organization .the organization organization is a great firework .we had to buy a new pair of sparklers to light up the house .the sparklers are very expensive .i had to buy an old pair to put in the\")\n",
    "\n",
    "references.append(\"Six or seven bottle rockets next to a specialty firework.a bunch of rockets that go off in different directions .a huge rocket going off in a wide angle .a huge explosion going off .a mosaic of the same color .the fireworks are very different and are bright .one of the fireworks is a red\")\n",
    "\n",
    "references.append(\"Six or seven bottle rockets next to a specialty firework.i 'm not sure if the paint is red or blue but it looks like it 's going to take that color to get it .the red one is the most interesting .i think the final one is going to be more of an orange .\")\n",
    "\n",
    "references.append(\"Six or seven bottle rockets next to a specialty firework.the bird was reaching for a snack after his nap .the bird 's buddy and friends posing for a picture .the owner of the shop was happy to show his support for the project .the little bird was holding a tray of food and snacks .\")\n",
    "\n",
    "references.append(\"Six or seven bottle rockets next to a specialty firework.the night sky was lit with gold and orange lights .the fireworks began with a bang .the best part was the finale .the first firework of the night was spectacular .finally , the finale started .the crowd waited to watch all the fireworks\")\n",
    "\n",
    "hypothesis = [\"we gathered up some fire works to set off at dark .\"]"
   ]
  },
  {
   "cell_type": "code",
   "execution_count": 165,
   "metadata": {},
   "outputs": [
    {
     "name": "stdout",
     "output_type": "stream",
     "text": [
      "['Six or seven bottle rockets next to a specialty firework.i like the organization organization organization .the organization organization is a great firework .we had to buy a new pair of sparklers to light up the house .the sparklers are very expensive .i had to buy an old pair to put in the']\n",
      "-------------------------------------------\n",
      "Bert Score - P: tensor([0.0085]) R: tensor([0.2861]) F1: tensor([0.1449])\n",
      "METEOR: 0.2380952380952381\n",
      "ROUGE: {'rouge1': Score(precision=0.2727272727272727, recall=0.05660377358490566, fmeasure=0.09375), 'rougeL': Score(precision=0.2727272727272727, recall=0.05660377358490566, fmeasure=0.09375)}\n",
      "BLEU: 0.3333333333333333\n",
      "===========================================\n",
      "['Six or seven bottle rockets next to a specialty firework.a bunch of rockets that go off in different directions .a huge rocket going off in a wide angle .a huge explosion going off .a mosaic of the same color .the fireworks are very different and are bright .one of the fireworks is a red']\n",
      "-------------------------------------------\n",
      "Bert Score - P: tensor([-0.0892]) R: tensor([0.2439]) F1: tensor([0.0733])\n",
      "METEOR: 0.2380952380952381\n",
      "ROUGE: {'rouge1': Score(precision=0.18181818181818182, recall=0.03636363636363636, fmeasure=0.0606060606060606), 'rougeL': Score(precision=0.18181818181818182, recall=0.03636363636363636, fmeasure=0.0606060606060606)}\n",
      "BLEU: 0.35294117647058826\n",
      "===========================================\n",
      "[\"Six or seven bottle rockets next to a specialty firework.i 'm not sure if the paint is red or blue but it looks like it 's going to take that color to get it .the red one is the most interesting .i think the final one is going to be more of an orange .\"]\n",
      "-------------------------------------------\n",
      "Bert Score - P: tensor([-0.1469]) R: tensor([0.2599]) F1: tensor([0.0497])\n",
      "METEOR: 0.2380952380952381\n",
      "ROUGE: {'rouge1': Score(precision=0.09090909090909091, recall=0.01818181818181818, fmeasure=0.0303030303030303), 'rougeL': Score(precision=0.09090909090909091, recall=0.01818181818181818, fmeasure=0.0303030303030303)}\n",
      "BLEU: 0.35294117647058826\n",
      "===========================================\n",
      "[\"Six or seven bottle rockets next to a specialty firework.the bird was reaching for a snack after his nap .the bird 's buddy and friends posing for a picture .the owner of the shop was happy to show his support for the project .the little bird was holding a tray of food and snacks .\"]\n",
      "-------------------------------------------\n",
      "Bert Score - P: tensor([-0.0481]) R: tensor([0.2756]) F1: tensor([0.1100])\n",
      "METEOR: 0.2380952380952381\n",
      "ROUGE: {'rouge1': Score(precision=0.09090909090909091, recall=0.01818181818181818, fmeasure=0.0303030303030303), 'rougeL': Score(precision=0.09090909090909091, recall=0.01818181818181818, fmeasure=0.0303030303030303)}\n",
      "BLEU: 0.3333333333333333\n",
      "===========================================\n",
      "['Six or seven bottle rockets next to a specialty firework.the night sky was lit with gold and orange lights .the fireworks began with a bang .the best part was the finale .the first firework of the night was spectacular .finally , the finale started .the crowd waited to watch all the fireworks']\n",
      "-------------------------------------------\n",
      "Bert Score - P: tensor([-0.0383]) R: tensor([0.2673]) F1: tensor([0.1113])\n",
      "METEOR: 0.2380952380952381\n",
      "ROUGE: {'rouge1': Score(precision=0.09090909090909091, recall=0.019230769230769232, fmeasure=0.03174603174603175), 'rougeL': Score(precision=0.09090909090909091, recall=0.019230769230769232, fmeasure=0.03174603174603175)}\n",
      "BLEU: 0.3333333333333333\n",
      "===========================================\n"
     ]
    }
   ],
   "source": [
    "for r in references:\n",
    "    print([r])\n",
    "    print(\"-------------------------------------------\")\n",
    "    P, R, F1 = scorer.score([r], hypothesis)\n",
    "    print('Bert Score - P:', P, 'R:', R, 'F1:', F1)\n",
    "    print(\"METEOR:\", nltk.translate.meteor_score.meteor_score(r, hypothesis[0], 4))\n",
    "    print(\"ROUGE:\", Rouge_scorer.score(r, hypothesis[0]))\n",
    "    print('BLEU: {}'.format(sentence_bleu(r, hypothesis[0], weights=(1, 0, 0, 0))))\n",
    "    print(\"===========================================\")"
   ]
  },
  {
   "cell_type": "markdown",
   "metadata": {},
   "source": [
    "### Compare scores for complete story vs 5 individual story segements"
   ]
  },
  {
   "cell_type": "markdown",
   "metadata": {},
   "source": [
    "### load libraries"
   ]
  },
  {
   "cell_type": "code",
   "execution_count": 10,
   "metadata": {},
   "outputs": [],
   "source": [
    "#GPT-2\n",
    "from transformers import pipeline, set_seed\n",
    "generator = pipeline('text-generation', model='gpt2')\n",
    "set_seed(42)\n",
    "\n",
    "#BLEU\n",
    "from nltk.translate.bleu_score import sentence_bleu\n",
    "\n",
    "#ROUGE\n",
    "from rouge_score import rouge_scorer\n",
    "Rouge_scorer = rouge_scorer.RougeScorer(['rouge1', 'rougeL'], use_stemmer=True)\n",
    "\n",
    "#BERT SCORE\n",
    "from bert_score import BERTScorer\n",
    "scorer = BERTScorer(lang=\"en\", rescale_with_baseline=True)\n",
    "\n",
    "#METEOR\n",
    "import nltk\n",
    "\n"
   ]
  },
  {
   "cell_type": "code",
   "execution_count": 7,
   "metadata": {},
   "outputs": [],
   "source": [
    "#Complete Story\n",
    "\n",
    "references = []\n",
    "references.append(\"Six or seven bottle rockets next to a specialty firework.the burgers are being grilled on the grill.A woman has big forks with meat on them. An older man stands in the entry of a garage, manning his station at the grill. A man is standing in front of some saw horses at dusk.[male] [male] was excited to go to the carnival .he started off with a ride on a couple of rides .afterwards he took a picture of a truck .he was really excited to go .he was so excited to see all the animals .he had a great time .there were so many rides and games at the carnival , i had to take a picture .i was excited to see all the animals .the food was really good , i got to ride in one .we took a picture with the trucks on the way home .the park is a great place to go .the kids need to have fun .the carnival is great for everyone .the kids all love to play .the food is really good .the carnival is a great place to enjoy the night .the kids are having a great time at the carnival .the children are having fun at the carnival .the kids are having fun with their friends .the kids are having fun at the rodeo .the kids are having fun at the rodeo .a group of friends gets together for a party .a man gets in a car and drives away .a woman is seen walking around with a man in a blue dress .a man is\")\n",
    "\n",
    "references.append(\"Six or seven bottle rockets next to a specialty firework.the burgers are being grilled on the grill.A woman has big forks with meat on them. An older man stands in the entry of a garage, manning his station at the grill. A man is standing in front of some saw horses at dusk.a man is eating a burger at a restaurant .a man is in a garage at the garage .a sign is posted outside of the garage .it was a night out on the town .they were always having fun .they drove the hot 4x4 in the dirt .they played in the mud .as they drove off to the next destination , they were glad they had done it .the family was getting ready to go out for a night out .they drove through a long dirt road .it was very bumpy , but they had fun .the day was a good start to a good vacation .the weather was nice , but they had to stop for a moment .they enjoyed a good dinner .the family got together to take pictures .they got some snacks before heading out .the family got ready to go out for the night .the kids had fun playing in the mud .a couple of men were talking .the couple took the kids to the beach .they had fun at the beach .we went to a fireworks show .we had a great time .there were a lot of participants .some people had huge buckets .we had a great time watching them .we had a great time at the fireworks show .the people started in late afternoon\")\n",
    "\n",
    "references.append(\"Six or seven bottle rockets next to a specialty firework.the burgers are being grilled on the grill.A woman has big forks with meat on them. An older man stands in the entry of a garage, manning his station at the grill. A man is standing in front of some saw horses at dusk.a young couple is sitting in the garage waiting for the burgers to be done .the couple are finished eating and ready to go .the burgers are to be served .the husband and wife were having their first dinner .they were starting the burgers .they had a great time .everyone had a great time .they had a great time .the wedding was very peaceful .the family was looking forward to the reception .the girls had along with her brother .the priest was very happy for them .the bride and groom got along very well .the couple enjoyed a good meal together .the wedding was beautiful .the groom looked amazing .the bride looked so happy to be with her family .the wedding party was ready for the wedding .even the bride 's brother was in attendance .they were very happy to be there .they were so happy that they were able to celebrate with each other .the wedding reception had fun and lots of laughter .the guests were happy to be there .the bride and groom looked great together .they were so happy together .the bridesmaid looked beautiful .the guests were happy to see each other .the bride and groom had a great time .the bride and groom were happy to be together .we had a wonderful wedding .\")\n",
    "\n",
    "references.append(\"Six or seven bottle rockets next to a specialty firework.the burgers are being grilled on the grill.A woman has big forks with meat on them. An older man stands in the entry of a garage, manning his station at the grill. A man is standing in front of some saw horses at dusk.a firework is seen in the background .the neighborhood had an indoor firework show .they highlighted the area with a giant yellow firework .they waited until dusk to light the firework .the firework was spectacular .once it started , it was spectacular .the sky was lit up , the firework lit up the night sky .the sky was full of light and colorful light .the bright firework lit up the night sky .once it was dark , it was time to light more .sadly , the night sky was lit up again .the family was in the city for a christmas party .the family was standing outside during the christmas party .the family was ready to light the christmas tree .the family was very excited to be outside of the building .the entire family had such a great time .they set the christmas tree on the table .the family then drove out to the city .there was a christmas party at the house .the family was still going to the party because it was so hot .they had such a nice christmas tree there .everyone got in the car to get a nice christmas treat .everyone arrived in the car and headed to see the decorations .there was a christmas\")\n",
    "\n",
    "references.append(\"Six or seven bottle rockets next to a specialty firework.the burgers are being grilled on the grill.A woman has big forks with meat on them. An older man stands in the entry of a garage, manning his station at the grill. A man is standing in front of some saw horses at dusk.it 's time for a picture to remember this one .this one was the first one i saw of the rocket .the other ones were really big .i wonder if this one will just be eaten with a spoon .the man looks tired but smiling on the side of the truck .the man stands in front of the car with his big chain .the man is ready to go in the rocket .the wings are all set for the big rocket .the rocket is waiting for the crew to arrive .the rocket is ready and about to go .the man is ready to go in the rocket .we went on a trip to the location location location location .there were a lot of unique things to see .we saw different types of buildings and we saw some interesting looking vehicles .we saw many different kinds of cars .we also took several pictures of the city .the trip was a success , the city was very vibrant .we enjoyed the city , many interesting buildings .the city had a ton of different uses .we took many photos in the city .we saw many different vehicles .the city was very vibrant and was very long .we had a great time and were able to see a lot in the city .the city was surrounded by fences and other\")\n",
    "\n",
    "hypothesis = [\"we gathered up some fire works to set off at dark . we grilled some burgers that were oddly shaped . our friends trickled in one by one ! we got all the food on the grill to cook and ready to eat . the sunset was amazing that night !\"]"
   ]
  },
  {
   "cell_type": "code",
   "execution_count": 188,
   "metadata": {},
   "outputs": [
    {
     "name": "stdout",
     "output_type": "stream",
     "text": [
      "['Six or seven bottle rockets next to a specialty firework.the burgers are being grilled on the grill.A woman has big forks with meat on them. An older man stands in the entry of a garage, manning his station at the grill. A man is standing in front of some saw horses at dusk.[male] [male] was excited to go to the carnival .he started off with a ride on a couple of rides .afterwards he took a picture of a truck .he was really excited to go .he was so excited to see all the animals .he had a great time .there were so many rides and games at the carnival , i had to take a picture .i was excited to see all the animals .the food was really good , i got to ride in one .we took a picture with the trucks on the way home .the park is a great place to go .the kids need to have fun .the carnival is great for everyone .the kids all love to play .the food is really good .the carnival is a great place to enjoy the night .the kids are having a great time at the carnival .the children are having fun at the carnival .the kids are having fun with their friends .the kids are having fun at the rodeo .the kids are having fun at the rodeo .a group of friends gets together for a party .a man gets in a car and drives away .a woman is seen walking around with a man in a blue dress .a man is']\n",
      "-------------------------------------------\n",
      "Bert Score - P: tensor([0.0720]) R: tensor([-0.1853]) F1: tensor([-0.0583])\n",
      "METEOR: 0.018248175182481757\n",
      "ROUGE: {'rouge1': Score(precision=0.09022556390977443, recall=0.5217391304347826, fmeasure=0.15384615384615383), 'rougeL': Score(precision=0.05639097744360902, recall=0.32608695652173914, fmeasure=0.09615384615384616)}\n",
      "BLEU: 0.017898832684824895\n",
      "===========================================\n",
      "['Six or seven bottle rockets next to a specialty firework.the burgers are being grilled on the grill.A woman has big forks with meat on them. An older man stands in the entry of a garage, manning his station at the grill. A man is standing in front of some saw horses at dusk.a man is eating a burger at a restaurant .a man is in a garage at the garage .a sign is posted outside of the garage .it was a night out on the town .they were always having fun .they drove the hot 4x4 in the dirt .they played in the mud .as they drove off to the next destination , they were glad they had done it .the family was getting ready to go out for a night out .they drove through a long dirt road .it was very bumpy , but they had fun .the day was a good start to a good vacation .the weather was nice , but they had to stop for a moment .they enjoyed a good dinner .the family got together to take pictures .they got some snacks before heading out .the family got ready to go out for the night .the kids had fun playing in the mud .a couple of men were talking .the couple took the kids to the beach .they had fun at the beach .we went to a fireworks show .we had a great time .there were a lot of participants .some people had huge buckets .we had a great time watching them .we had a great time at the fireworks show .the people started in late afternoon']\n",
      "-------------------------------------------\n",
      "Bert Score - P: tensor([0.0595]) R: tensor([-0.1745]) F1: tensor([-0.0586])\n",
      "METEOR: 0.017793594306049824\n",
      "ROUGE: {'rouge1': Score(precision=0.08823529411764706, recall=0.5217391304347826, fmeasure=0.1509433962264151), 'rougeL': Score(precision=0.05514705882352941, recall=0.32608695652173914, fmeasure=0.09433962264150943)}\n",
      "BLEU: 0.01712583767684289\n",
      "===========================================\n",
      "[\"Six or seven bottle rockets next to a specialty firework.the burgers are being grilled on the grill.A woman has big forks with meat on them. An older man stands in the entry of a garage, manning his station at the grill. A man is standing in front of some saw horses at dusk.a young couple is sitting in the garage waiting for the burgers to be done .the couple are finished eating and ready to go .the burgers are to be served .the husband and wife were having their first dinner .they were starting the burgers .they had a great time .everyone had a great time .they had a great time .the wedding was very peaceful .the family was looking forward to the reception .the girls had along with her brother .the priest was very happy for them .the bride and groom got along very well .the couple enjoyed a good meal together .the wedding was beautiful .the groom looked amazing .the bride looked so happy to be with her family .the wedding party was ready for the wedding .even the bride 's brother was in attendance .they were very happy to be there .they were so happy that they were able to celebrate with each other .the wedding reception had fun and lots of laughter .the guests were happy to be there .the bride and groom looked great together .they were so happy together .the bridesmaid looked beautiful .the guests were happy to see each other .the bride and groom had a great time .the bride and groom were happy to be together .we had a wonderful wedding .\"]\n",
      "-------------------------------------------\n",
      "Bert Score - P: tensor([0.1093]) R: tensor([-0.1812]) F1: tensor([-0.0386])\n",
      "METEOR: 0.017921146953405024\n",
      "ROUGE: {'rouge1': Score(precision=0.08088235294117647, recall=0.4782608695652174, fmeasure=0.13836477987421383), 'rougeL': Score(precision=0.05514705882352941, recall=0.32608695652173914, fmeasure=0.09433962264150943)}\n",
      "BLEU: 0.016393442622950817\n",
      "===========================================\n",
      "['Six or seven bottle rockets next to a specialty firework.the burgers are being grilled on the grill.A woman has big forks with meat on them. An older man stands in the entry of a garage, manning his station at the grill. A man is standing in front of some saw horses at dusk.a firework is seen in the background .the neighborhood had an indoor firework show .they highlighted the area with a giant yellow firework .they waited until dusk to light the firework .the firework was spectacular .once it started , it was spectacular .the sky was lit up , the firework lit up the night sky .the sky was full of light and colorful light .the bright firework lit up the night sky .once it was dark , it was time to light more .sadly , the night sky was lit up again .the family was in the city for a christmas party .the family was standing outside during the christmas party .the family was ready to light the christmas tree .the family was very excited to be outside of the building .the entire family had such a great time .they set the christmas tree on the table .the family then drove out to the city .there was a christmas party at the house .the family was still going to the party because it was so hot .they had such a nice christmas tree there .everyone got in the car to get a nice christmas treat .everyone arrived in the car and headed to see the decorations .there was a christmas']\n",
      "-------------------------------------------\n",
      "Bert Score - P: tensor([0.1053]) R: tensor([-0.1401]) F1: tensor([-0.0188])\n",
      "METEOR: 0.018450184501845022\n",
      "ROUGE: {'rouge1': Score(precision=0.08045977011494253, recall=0.45652173913043476, fmeasure=0.13680781758957655), 'rougeL': Score(precision=0.04980842911877394, recall=0.2826086956521739, fmeasure=0.08469055374592835)}\n",
      "BLEU: 0.016582552271088687\n",
      "===========================================\n",
      "[\"Six or seven bottle rockets next to a specialty firework.the burgers are being grilled on the grill.A woman has big forks with meat on them. An older man stands in the entry of a garage, manning his station at the grill. A man is standing in front of some saw horses at dusk.it 's time for a picture to remember this one .this one was the first one i saw of the rocket .the other ones were really big .i wonder if this one will just be eaten with a spoon .the man looks tired but smiling on the side of the truck .the man stands in front of the car with his big chain .the man is ready to go in the rocket .the wings are all set for the big rocket .the rocket is waiting for the crew to arrive .the rocket is ready and about to go .the man is ready to go in the rocket .we went on a trip to the location location location location .there were a lot of unique things to see .we saw different types of buildings and we saw some interesting looking vehicles .we saw many different kinds of cars .we also took several pictures of the city .the trip was a success , the city was very vibrant .we enjoyed the city , many interesting buildings .the city had a ton of different uses .we took many photos in the city .we saw many different vehicles .the city was very vibrant and was very long .we had a great time and were able to see a lot in the city .the city was surrounded by fences and other\"]\n",
      "-------------------------------------------\n"
     ]
    },
    {
     "name": "stdout",
     "output_type": "stream",
     "text": [
      "Bert Score - P: tensor([0.1073]) R: tensor([-0.1466]) F1: tensor([-0.0213])\n",
      "METEOR: 0.01742160278745645\n",
      "ROUGE: {'rouge1': Score(precision=0.0931899641577061, recall=0.5652173913043478, fmeasure=0.16), 'rougeL': Score(precision=0.053763440860215055, recall=0.32608695652173914, fmeasure=0.0923076923076923)}\n",
      "BLEU: 0.016558675305975518\n",
      "===========================================\n"
     ]
    }
   ],
   "source": [
    "for r in references:\n",
    "    print([r])\n",
    "    print(\"-------------------------------------------\")\n",
    "    P, R, F1 = scorer.score(hypothesis, [r])\n",
    "    print('Bert Score - P:', P, 'R:', R, 'F1:', F1)\n",
    "    print(\"METEOR:\", nltk.translate.meteor_score.meteor_score(hypothesis[0], r, 4))\n",
    "    print(\"ROUGE:\", Rouge_scorer.score(hypothesis[0], r))\n",
    "    print('BLEU: {}'.format(sentence_bleu(hypothesis[0], r, weights=(1, 0, 0, 0))))\n",
    "    print(\"===========================================\")"
   ]
  },
  {
   "cell_type": "code",
   "execution_count": 189,
   "metadata": {},
   "outputs": [],
   "source": [
    "#Image Caption 1\n",
    "\n",
    "hypothesis = []\n",
    "hypothesis.append(\"Six or seven bottle rockets next to a specialty firework.[male] and [female] are having a great time and are having fun .the fireworks started just before sunset .the yellow blast did n't stop the sun from setting .on the other side of the fireworks the red blast did .the fireworks\")\n",
    "\n",
    "hypothesis.append(\"Six or seven bottle rockets next to a specialty firework. ''the old-fashioned rocket in the sky was a great rocket for the kids .the old rocket in the sky was the star that laid the foundation for the school .the little ones had to take off the rocket and ride it .the little ones\")\n",
    "\n",
    "hypothesis.append(\"Six or seven bottle rockets next to a specialty firework.i love new rockets .they look like the sparklers on a christmas tree .the ones from the holidays are amazing .the red ones are awesome too .the ones from the past have been so much better .the big red ones are my favorite\")\n",
    "\n",
    "hypothesis.append(\"Six or seven bottle rockets next to a specialty firework. [male] ?the next rocket was a cool one . it was a rocket that exploded in the sky .the next one was a little more complex . it had a red firework on top .it was a great day for fireworks .they had\")\n",
    "\n",
    "hypothesis.append(\"Six or seven bottle rockets next to a specialty firework.i love this car .my family and i bought it from a bbq truck .the engine was from a different company .the new car was tucked away in the trunk .the new car was beautiful .the company is taking a picture of the\")\n",
    "\n",
    "reference = [\"we gathered up some fire works to set off at dark .\"]"
   ]
  },
  {
   "cell_type": "code",
   "execution_count": 190,
   "metadata": {},
   "outputs": [
    {
     "name": "stdout",
     "output_type": "stream",
     "text": [
      "[\"Six or seven bottle rockets next to a specialty firework.[male] and [female] are having a great time and are having fun .the fireworks started just before sunset .the yellow blast did n't stop the sun from setting .on the other side of the fireworks the red blast did .the fireworks\"]\n",
      "-------------------------------------------\n",
      "Bert Score - P: tensor([0.2718]) R: tensor([-0.0491]) F1: tensor([0.1077])\n",
      "METEOR: 0.08474576271186442\n",
      "ROUGE: {'rouge1': Score(precision=0.038461538461538464, recall=0.18181818181818182, fmeasure=0.0634920634920635), 'rougeL': Score(precision=0.038461538461538464, recall=0.18181818181818182, fmeasure=0.0634920634920635)}\n",
      "BLEU: 0.06382978723404255\n",
      "===========================================\n",
      "[\"Six or seven bottle rockets next to a specialty firework. ''the old-fashioned rocket in the sky was a great rocket for the kids .the old rocket in the sky was the star that laid the foundation for the school .the little ones had to take off the rocket and ride it .the little ones\"]\n",
      "-------------------------------------------\n",
      "Bert Score - P: tensor([0.2869]) R: tensor([-0.0238]) F1: tensor([0.1282])\n",
      "METEOR: 0.07936507936507937\n",
      "ROUGE: {'rouge1': Score(precision=0.03636363636363636, recall=0.18181818181818182, fmeasure=0.0606060606060606), 'rougeL': Score(precision=0.03636363636363636, recall=0.18181818181818182, fmeasure=0.0606060606060606)}\n",
      "BLEU: 0.060714285714285714\n",
      "===========================================\n",
      "['Six or seven bottle rockets next to a specialty firework.i love new rockets .they look like the sparklers on a christmas tree .the ones from the holidays are amazing .the red ones are awesome too .the ones from the past have been so much better .the big red ones are my favorite']\n",
      "-------------------------------------------\n",
      "Bert Score - P: tensor([0.2615]) R: tensor([-0.1089]) F1: tensor([0.0710])\n",
      "METEOR: 0.08196721311475412\n",
      "ROUGE: {'rouge1': Score(precision=0.018867924528301886, recall=0.09090909090909091, fmeasure=0.03125), 'rougeL': Score(precision=0.018867924528301886, recall=0.09090909090909091, fmeasure=0.03125)}\n",
      "BLEU: 0.06474820143884892\n",
      "===========================================\n",
      "['Six or seven bottle rockets next to a specialty firework. [male] ?the next rocket was a cool one . it was a rocket that exploded in the sky .the next one was a little more complex . it had a red firework on top .it was a great day for fireworks .they had']\n",
      "-------------------------------------------\n",
      "Bert Score - P: tensor([0.2154]) R: tensor([-0.0507]) F1: tensor([0.0804])\n",
      "METEOR: 0.08064516129032259\n",
      "ROUGE: {'rouge1': Score(precision=0.0196078431372549, recall=0.09090909090909091, fmeasure=0.03225806451612903), 'rougeL': Score(precision=0.0196078431372549, recall=0.09090909090909091, fmeasure=0.03225806451612903)}\n",
      "BLEU: 0.06692913385826772\n",
      "===========================================\n",
      "['Six or seven bottle rockets next to a specialty firework.i love this car .my family and i bought it from a bbq truck .the engine was from a different company .the new car was tucked away in the trunk .the new car was beautiful .the company is taking a picture of the']\n",
      "-------------------------------------------\n",
      "Bert Score - P: tensor([0.2981]) R: tensor([-0.0581]) F1: tensor([0.1152])\n",
      "METEOR: 0.08196721311475412\n",
      "ROUGE: {'rouge1': Score(precision=0.018867924528301886, recall=0.09090909090909091, fmeasure=0.03125), 'rougeL': Score(precision=0.018867924528301886, recall=0.09090909090909091, fmeasure=0.03125)}\n",
      "BLEU: 0.06766917293233081\n",
      "===========================================\n"
     ]
    }
   ],
   "source": [
    "for h in hypothesis:\n",
    "    print([h])\n",
    "    print(\"-------------------------------------------\")\n",
    "    P, R, F1 = scorer.score(reference, [h])\n",
    "    print('Bert Score - P:', P, 'R:', R, 'F1:', F1)\n",
    "    print(\"METEOR:\", nltk.translate.meteor_score.meteor_score(reference[0], h, 4))\n",
    "    print(\"ROUGE:\", Rouge_scorer.score(reference[0], h))\n",
    "    print('BLEU: {}'.format(sentence_bleu(reference[0], h, weights=(1, 0, 0, 0))))\n",
    "    print(\"===========================================\")"
   ]
  },
  {
   "cell_type": "code",
   "execution_count": 11,
   "metadata": {},
   "outputs": [],
   "source": [
    "#Image Caption 1-B\n",
    "\n",
    "hypothesis = []\n",
    "hypothesis.append(\"i got a lot of cool rockets for the party .they were all different\")\n",
    "\n",
    "hypothesis.append(\"a cool picture of the props we used to show off .the nice red\")\n",
    "\n",
    "hypothesis.append(\"i had a great time at the party last weekend .the food was very\")\n",
    "\n",
    "hypothesis.append(\"a cool ceramics set for the firework show .our first fire\")\n",
    "\n",
    "hypothesis.append(\"the firework was labeled `` jenga '' .i never get tired\")\n",
    "\n",
    "reference = [\"we gathered up some fire works to set off at dark .\"]"
   ]
  },
  {
   "cell_type": "code",
   "execution_count": 12,
   "metadata": {},
   "outputs": [
    {
     "name": "stdout",
     "output_type": "stream",
     "text": [
      "['i got a lot of cool rockets for the party .they were all different']\n",
      "-------------------------------------------\n",
      "Bert Score - P: tensor([0.3178]) R: tensor([0.1910]) F1: tensor([0.2548])\n",
      "METEOR: 0.2173913043478261\n",
      "ROUGE: {'rouge1': Score(precision=0.0, recall=0.0, fmeasure=0.0), 'rougeL': Score(precision=0.0, recall=0.0, fmeasure=0.0)}\n"
     ]
    },
    {
     "name": "stderr",
     "output_type": "stream",
     "text": [
      "C:\\Users\\sundeepm\\Anaconda3\\envs\\W203\\lib\\site-packages\\nltk\\translate\\bleu_score.py:516: UserWarning: \n",
      "The hypothesis contains 0 counts of 2-gram overlaps.\n",
      "Therefore the BLEU score evaluates to 0, independently of\n",
      "how many N-gram overlaps of lower order it contains.\n",
      "Consider using lower n-gram order or use SmoothingFunction()\n",
      "  warnings.warn(_msg)\n",
      "C:\\Users\\sundeepm\\Anaconda3\\envs\\W203\\lib\\site-packages\\nltk\\translate\\bleu_score.py:516: UserWarning: \n",
      "The hypothesis contains 0 counts of 3-gram overlaps.\n",
      "Therefore the BLEU score evaluates to 0, independently of\n",
      "how many N-gram overlaps of lower order it contains.\n",
      "Consider using lower n-gram order or use SmoothingFunction()\n",
      "  warnings.warn(_msg)\n",
      "C:\\Users\\sundeepm\\Anaconda3\\envs\\W203\\lib\\site-packages\\nltk\\translate\\bleu_score.py:516: UserWarning: \n",
      "The hypothesis contains 0 counts of 4-gram overlaps.\n",
      "Therefore the BLEU score evaluates to 0, independently of\n",
      "how many N-gram overlaps of lower order it contains.\n",
      "Consider using lower n-gram order or use SmoothingFunction()\n",
      "  warnings.warn(_msg)\n"
     ]
    },
    {
     "name": "stdout",
     "output_type": "stream",
     "text": [
      "BLEU: 0.24242424242424243\n",
      "===========================================\n",
      "['a cool picture of the props we used to show off .the nice red']\n",
      "-------------------------------------------\n",
      "Bert Score - P: tensor([0.2249]) R: tensor([0.1217]) F1: tensor([0.1741])\n",
      "METEOR: 0.2173913043478261\n",
      "ROUGE: {'rouge1': Score(precision=0.21428571428571427, recall=0.2727272727272727, fmeasure=0.23999999999999996), 'rougeL': Score(precision=0.21428571428571427, recall=0.2727272727272727, fmeasure=0.23999999999999996)}\n",
      "BLEU: 0.24590163934426226\n",
      "===========================================\n",
      "['i had a great time at the party last weekend .the food was very']\n",
      "-------------------------------------------\n",
      "Bert Score - P: tensor([0.1456]) R: tensor([0.1131]) F1: tensor([0.1307])\n",
      "METEOR: 0.2173913043478261\n",
      "ROUGE: {'rouge1': Score(precision=0.07142857142857142, recall=0.09090909090909091, fmeasure=0.08), 'rougeL': Score(precision=0.07142857142857142, recall=0.09090909090909091, fmeasure=0.08)}\n",
      "BLEU: 0.2698412698412698\n",
      "===========================================\n",
      "['a cool ceramics set for the firework show .our first fire']\n",
      "-------------------------------------------\n",
      "Bert Score - P: tensor([0.3202]) R: tensor([0.2320]) F1: tensor([0.2769])\n",
      "METEOR: 0.25000000000000006\n",
      "ROUGE: {'rouge1': Score(precision=0.18181818181818182, recall=0.18181818181818182, fmeasure=0.18181818181818182), 'rougeL': Score(precision=0.09090909090909091, recall=0.09090909090909091, fmeasure=0.09090909090909091)}\n",
      "BLEU: 0.2631578947368421\n",
      "===========================================\n",
      "[\"the firework was labeled `` jenga '' .i never get tired\"]\n",
      "-------------------------------------------\n",
      "Bert Score - P: tensor([0.2777]) R: tensor([0.0176]) F1: tensor([0.1457])\n",
      "METEOR: 0.0\n",
      "ROUGE: {'rouge1': Score(precision=0.0, recall=0.0, fmeasure=0.0), 'rougeL': Score(precision=0.0, recall=0.0, fmeasure=0.0)}\n",
      "BLEU: 0.2727272727272727\n",
      "===========================================\n"
     ]
    }
   ],
   "source": [
    "for h in hypothesis:\n",
    "    print([h])\n",
    "    print(\"-------------------------------------------\")\n",
    "    P, R, F1 = scorer.score(reference, [h])\n",
    "    print('Bert Score - P:', P, 'R:', R, 'F1:', F1)\n",
    "    print(\"METEOR:\", nltk.translate.meteor_score.meteor_score(reference[0], h, 4))\n",
    "    print(\"ROUGE:\", Rouge_scorer.score(reference[0], h))\n",
    "    print('BLEU: {}'.format(sentence_bleu(reference[0], h, weights=(1, 0, 0, 0))))\n",
    "    print(\"===========================================\")"
   ]
  },
  {
   "cell_type": "code",
   "execution_count": 191,
   "metadata": {},
   "outputs": [],
   "source": [
    "#Image Caption 2\n",
    "\n",
    "references = []\n",
    "references.append(\"the burgers are being grilled on the grill.this is the grill where we were asked to sit .we had to wait in line to get our food .me and my girlfriend were sitting around a restaurant going over the menu .we had a great time and got to chat with some of the staff\")\n",
    "\n",
    "references.append(\"the burgers are being grilled on the grill.we are going to be eating some of the best burgers in the city .the fish is being grilled on the grill .a guy is eating the fish .a man is eating the fish on the grill .a couple is watching the fish .it was\")\n",
    "\n",
    "references.append(\"the burgers are being grilled on the grill.the meat is being grilled on the grill .the burgers are being grilled on the grill .the food is being prepared to go on the grill .the burgers are being grilled on the grill .the food is being prepared to go on the grill .the\")\n",
    "\n",
    "references.append(\"the burgers are being grilled on the grill.the man is going over the latest technology .the man is preaching the new religion .the man is getting ready to eat .the man is eating his food and enjoying his meal .today we had a meeting about what we were going to be doing in\")\n",
    "\n",
    "references.append(\"the burgers are being grilled on the grill.the inside is a good place for any meal .the food is prepared by the chefs .everyone has a great time .the chef has prepared the food .the chef is happy to eat .the chefs are all smiles .the food is prepared to meet\")\n",
    "\n",
    "hypothesis = [\"we grilled some burgers that were oddly shaped .\"]"
   ]
  },
  {
   "cell_type": "code",
   "execution_count": 192,
   "metadata": {},
   "outputs": [
    {
     "name": "stdout",
     "output_type": "stream",
     "text": [
      "['the burgers are being grilled on the grill.this is the grill where we were asked to sit .we had to wait in line to get our food .me and my girlfriend were sitting around a restaurant going over the menu .we had a great time and got to chat with some of the staff']\n",
      "-------------------------------------------\n",
      "Bert Score - P: tensor([0.2782]) R: tensor([0.0810]) F1: tensor([0.1790])\n",
      "METEOR: 0.07936507936507937\n",
      "ROUGE: {'rouge1': Score(precision=0.09090909090909091, recall=0.625, fmeasure=0.15873015873015875), 'rougeL': Score(precision=0.03636363636363636, recall=0.25, fmeasure=0.06349206349206349)}\n",
      "BLEU: 0.06870229007633588\n",
      "===========================================\n",
      "['the burgers are being grilled on the grill.we are going to be eating some of the best burgers in the city .the fish is being grilled on the grill .a guy is eating the fish .a man is eating the fish on the grill .a couple is watching the fish .it was']\n",
      "-------------------------------------------\n",
      "Bert Score - P: tensor([0.2835]) R: tensor([0.0095]) F1: tensor([0.1442])\n",
      "METEOR: 0.0\n",
      "ROUGE: {'rouge1': Score(precision=0.07547169811320754, recall=0.5, fmeasure=0.13114754098360656), 'rougeL': Score(precision=0.05660377358490566, recall=0.375, fmeasure=0.09836065573770493)}\n",
      "BLEU: 0.07630522088353414\n",
      "===========================================\n",
      "['the burgers are being grilled on the grill.the meat is being grilled on the grill .the burgers are being grilled on the grill .the food is being prepared to go on the grill .the burgers are being grilled on the grill .the food is being prepared to go on the grill .the']\n",
      "-------------------------------------------\n",
      "Bert Score - P: tensor([0.2193]) R: tensor([-0.0867]) F1: tensor([0.0632])\n",
      "METEOR: 0.0\n",
      "ROUGE: {'rouge1': Score(precision=0.03773584905660377, recall=0.25, fmeasure=0.06557377049180328), 'rougeL': Score(precision=0.03773584905660377, recall=0.25, fmeasure=0.06557377049180328)}\n",
      "BLEU: 0.06343283582089554\n",
      "===========================================\n",
      "['the burgers are being grilled on the grill.the man is going over the latest technology .the man is preaching the new religion .the man is getting ready to eat .the man is eating his food and enjoying his meal .today we had a meeting about what we were going to be doing in']\n",
      "-------------------------------------------\n",
      "Bert Score - P: tensor([0.2129]) R: tensor([-0.0887]) F1: tensor([0.0591])\n",
      "METEOR: 0.08064516129032259\n",
      "ROUGE: {'rouge1': Score(precision=0.07407407407407407, recall=0.5, fmeasure=0.12903225806451613), 'rougeL': Score(precision=0.037037037037037035, recall=0.25, fmeasure=0.06451612903225806)}\n",
      "BLEU: 0.06985294117647058\n",
      "===========================================\n",
      "['the burgers are being grilled on the grill.the inside is a good place for any meal .the food is prepared by the chefs .everyone has a great time .the chef has prepared the food .the chef is happy to eat .the chefs are all smiles .the food is prepared to meet']\n",
      "-------------------------------------------\n",
      "Bert Score - P: tensor([0.2571]) R: tensor([0.0021]) F1: tensor([0.1278])\n",
      "METEOR: 0.08333333333333336\n",
      "ROUGE: {'rouge1': Score(precision=0.038461538461538464, recall=0.25, fmeasure=0.06666666666666668), 'rougeL': Score(precision=0.019230769230769232, recall=0.125, fmeasure=0.03333333333333334)}\n",
      "BLEU: 0.06976744186046512\n",
      "===========================================\n"
     ]
    }
   ],
   "source": [
    "for r in references:\n",
    "    print([r])\n",
    "    print(\"-------------------------------------------\")\n",
    "    P, R, F1 = scorer.score(hypothesis, [r])\n",
    "    print('Bert Score - P:', P, 'R:', R, 'F1:', F1)\n",
    "    print(\"METEOR:\", nltk.translate.meteor_score.meteor_score(hypothesis[0], r, 4))\n",
    "    print(\"ROUGE:\", Rouge_scorer.score(hypothesis[0], r))\n",
    "    print('BLEU: {}'.format(sentence_bleu(hypothesis[0], r, weights=(1, 0, 0, 0))))\n",
    "    print(\"===========================================\")"
   ]
  },
  {
   "cell_type": "code",
   "execution_count": 19,
   "metadata": {},
   "outputs": [],
   "source": [
    "#Image Caption 2-B\n",
    "\n",
    "hypothesis = []\n",
    "hypothesis.append(\"the food is being served and will be eaten .the food is served and\")\n",
    "\n",
    "hypothesis.append(\"the burgers are being grilled on the grill rack .the burgers are being grilled\")\n",
    "\n",
    "hypothesis.append(\"the burger is done for the kids .the kids are having fun playing in\")\n",
    "\n",
    "hypothesis.append(\"the burgers are lined up nicely .the burgers are ready to go .we\")\n",
    "\n",
    "hypothesis.append(\"look at the enthusiasm on their faces .a great family meal and a fun\")\n",
    "\n",
    "reference = [\"we grilled some burgers that were oddly shaped .\"]"
   ]
  },
  {
   "cell_type": "code",
   "execution_count": 20,
   "metadata": {},
   "outputs": [
    {
     "name": "stdout",
     "output_type": "stream",
     "text": [
      "['the food is being served and will be eaten .the food is served and']\n",
      "-------------------------------------------\n",
      "Bert Score - P: tensor([0.1302]) R: tensor([0.0070]) F1: tensor([0.0694])\n",
      "METEOR: 0.0\n",
      "ROUGE: {'rouge1': Score(precision=0.0, recall=0.0, fmeasure=0.0), 'rougeL': Score(precision=0.0, recall=0.0, fmeasure=0.0)}\n",
      "BLEU: 0.22727272727272727\n",
      "===========================================\n",
      "['the burgers are being grilled on the grill rack .the burgers are being grilled']\n",
      "-------------------------------------------\n",
      "Bert Score - P: tensor([0.2955]) R: tensor([0.2657]) F1: tensor([0.2817])\n",
      "METEOR: 0.0\n",
      "ROUGE: {'rouge1': Score(precision=0.14285714285714285, recall=0.25, fmeasure=0.18181818181818182), 'rougeL': Score(precision=0.14285714285714285, recall=0.25, fmeasure=0.18181818181818182)}\n",
      "BLEU: 0.19230769230769232\n",
      "===========================================\n",
      "['the burger is done for the kids .the kids are having fun playing in']\n",
      "-------------------------------------------\n",
      "Bert Score - P: tensor([0.2655]) R: tensor([0.1773]) F1: tensor([0.2223])\n",
      "METEOR: 0.0\n",
      "ROUGE: {'rouge1': Score(precision=0.07142857142857142, recall=0.125, fmeasure=0.09090909090909091), 'rougeL': Score(precision=0.07142857142857142, recall=0.125, fmeasure=0.09090909090909091)}\n",
      "BLEU: 0.2537313432835821\n",
      "===========================================\n",
      "['the burgers are lined up nicely .the burgers are ready to go .we']\n",
      "-------------------------------------------\n",
      "Bert Score - P: tensor([0.2760]) R: tensor([0.2336]) F1: tensor([0.2559])\n",
      "METEOR: 0.0\n",
      "ROUGE: {'rouge1': Score(precision=0.15384615384615385, recall=0.25, fmeasure=0.1904761904761905), 'rougeL': Score(precision=0.07692307692307693, recall=0.125, fmeasure=0.09523809523809525)}\n",
      "BLEU: 0.28125\n",
      "===========================================\n",
      "['look at the enthusiasm on their faces .a great family meal and a fun']\n",
      "-------------------------------------------\n",
      "Bert Score - P: tensor([0.1827]) R: tensor([0.0844]) F1: tensor([0.1345])\n",
      "METEOR: 0.2173913043478261\n",
      "ROUGE: {'rouge1': Score(precision=0.0, recall=0.0, fmeasure=0.0), 'rougeL': Score(precision=0.0, recall=0.0, fmeasure=0.0)}\n",
      "BLEU: 0.23529411764705885\n",
      "===========================================\n"
     ]
    }
   ],
   "source": [
    "for h in hypothesis:\n",
    "    print([h])\n",
    "    print(\"-------------------------------------------\")\n",
    "    P, R, F1 = scorer.score(reference, [h])\n",
    "    print('Bert Score - P:', P, 'R:', R, 'F1:', F1)\n",
    "    print(\"METEOR:\", nltk.translate.meteor_score.meteor_score(reference[0], h, 4))\n",
    "    print(\"ROUGE:\", Rouge_scorer.score(reference[0], h))\n",
    "    print('BLEU: {}'.format(sentence_bleu(reference[0], h, weights=(1, 0, 0, 0))))\n",
    "    print(\"===========================================\")"
   ]
  },
  {
   "cell_type": "code",
   "execution_count": 194,
   "metadata": {},
   "outputs": [],
   "source": [
    "#Image Caption 3\n",
    "\n",
    "references = []\n",
    "references.append(\"A woman has big forks with meat on them. she 's not a bad eater .she also likes to eat her vegetables .a man and a couple eat dinner together .they are drunk and have a good time .they all have a big dinner with wine .the couple really enjoyed their night together\")\n",
    "\n",
    "references.append(\"A woman has big forks with meat on them.a woman is hanging out with her friends .a woman is hanging out with her family .a man is hanging with a man .the friends are hanging out .the man is hanging with a man .the woman is hanging with a woman .the woman\")\n",
    "\n",
    "references.append(\"A woman has big forks with meat on them.one of the forks is huge .the man wished he had a bike .he drove it home and took a picture with his wife .this is a picture of a person .this is a picture of a tree .this is a picture of a man\")\n",
    "\n",
    "references.append(\"A woman has big forks with meat on them.she has a small cake with their names on it.they all sit in a circle and look at the food they have prepared .she is eating her cake and holding it in her hands .to celebrate the event , they take a picture with her sister\")\n",
    "\n",
    "references.append(\"A woman has big forks with meat on them. she already knows what she likes best .this woman is eating her food . the woman is very happy with her meal .a woman is in a conversation with her friend . this is the first time they have met .this is a photo of a man\")\n",
    "\n",
    "hypothesis = [\"our friends trickled in one by one !\"]"
   ]
  },
  {
   "cell_type": "code",
   "execution_count": 195,
   "metadata": {},
   "outputs": [
    {
     "name": "stdout",
     "output_type": "stream",
     "text": [
      "[\"A woman has big forks with meat on them. she 's not a bad eater .she also likes to eat her vegetables .a man and a couple eat dinner together .they are drunk and have a good time .they all have a big dinner with wine .the couple really enjoyed their night together\"]\n",
      "-------------------------------------------\n",
      "Bert Score - P: tensor([0.0356]) R: tensor([-0.1527]) F1: tensor([-0.0587])\n",
      "METEOR: 0.0\n",
      "ROUGE: {'rouge1': Score(precision=0.0, recall=0.0, fmeasure=0.0), 'rougeL': Score(precision=0.0, recall=0.0, fmeasure=0.0)}\n",
      "BLEU: 0.060606060606060615\n",
      "===========================================\n",
      "['A woman has big forks with meat on them.a woman is hanging out with her friends .a woman is hanging out with her family .a man is hanging with a man .the friends are hanging out .the man is hanging with a man .the woman is hanging with a woman .the woman']\n",
      "-------------------------------------------\n",
      "Bert Score - P: tensor([0.0732]) R: tensor([-0.2494]) F1: tensor([-0.0917])\n",
      "METEOR: 0.0\n",
      "ROUGE: {'rouge1': Score(precision=0.018867924528301886, recall=0.14285714285714285, fmeasure=0.03333333333333333), 'rougeL': Score(precision=0.018867924528301886, recall=0.14285714285714285, fmeasure=0.03333333333333333)}\n",
      "BLEU: 0.05905511811023622\n",
      "===========================================\n",
      "['A woman has big forks with meat on them.one of the forks is huge .the man wished he had a bike .he drove it home and took a picture with his wife .this is a picture of a person .this is a picture of a tree .this is a picture of a man']\n",
      "-------------------------------------------\n",
      "Bert Score - P: tensor([0.0384]) R: tensor([-0.1758]) F1: tensor([-0.0693])\n",
      "METEOR: 0.0\n",
      "ROUGE: {'rouge1': Score(precision=0.018518518518518517, recall=0.14285714285714285, fmeasure=0.03278688524590164), 'rougeL': Score(precision=0.018518518518518517, recall=0.14285714285714285, fmeasure=0.03278688524590164)}\n",
      "BLEU: 0.06008583690987126\n",
      "===========================================\n",
      "['A woman has big forks with meat on them.she has a small cake with their names on it.they all sit in a circle and look at the food they have prepared .she is eating her cake and holding it in her hands .to celebrate the event , they take a picture with her sister']\n",
      "-------------------------------------------\n",
      "Bert Score - P: tensor([0.0497]) R: tensor([-0.1223]) F1: tensor([-0.0361])\n",
      "METEOR: 0.0\n",
      "ROUGE: {'rouge1': Score(precision=0.01818181818181818, recall=0.14285714285714285, fmeasure=0.032258064516129024), 'rougeL': Score(precision=0.01818181818181818, recall=0.14285714285714285, fmeasure=0.032258064516129024)}\n",
      "BLEU: 0.06106870229007632\n",
      "===========================================\n",
      "['A woman has big forks with meat on them. she already knows what she likes best .this woman is eating her food . the woman is very happy with her meal .a woman is in a conversation with her friend . this is the first time they have met .this is a photo of a man']\n",
      "-------------------------------------------\n",
      "Bert Score - P: tensor([0.0803]) R: tensor([-0.1242]) F1: tensor([-0.0224])\n",
      "METEOR: 0.0\n",
      "ROUGE: {'rouge1': Score(precision=0.037037037037037035, recall=0.2857142857142857, fmeasure=0.06557377049180328), 'rougeL': Score(precision=0.018518518518518517, recall=0.14285714285714285, fmeasure=0.03278688524590164)}\n",
      "BLEU: 0.0576923076923077\n",
      "===========================================\n"
     ]
    }
   ],
   "source": [
    "for r in references:\n",
    "    print([r])\n",
    "    print(\"-------------------------------------------\")\n",
    "    P, R, F1 = scorer.score(hypothesis, [r])\n",
    "    print('Bert Score - P:', P, 'R:', R, 'F1:', F1)\n",
    "    print(\"METEOR:\", nltk.translate.meteor_score.meteor_score(hypothesis[0], r, 4))\n",
    "    print(\"ROUGE:\", Rouge_scorer.score(hypothesis[0], r))\n",
    "    print('BLEU: {}'.format(sentence_bleu(hypothesis[0], r, weights=(1, 0, 0, 0))))\n",
    "    print(\"===========================================\")"
   ]
  },
  {
   "cell_type": "code",
   "execution_count": 13,
   "metadata": {},
   "outputs": [],
   "source": [
    "#Image Caption 3-B\n",
    "\n",
    "hypothesis = []\n",
    "hypothesis.append(\"her husband is taking a picture .the woman is eating the meat .they\")\n",
    "\n",
    "hypothesis.append(\"she just has to get a hula hoop .she is so expensive .\")\n",
    "\n",
    "hypothesis.append(\"next , she has a large wheelbarrow .the bellies of the\")\n",
    "\n",
    "hypothesis.append(\"this is a picture of a fork .this is a picture of a man\")\n",
    "\n",
    "hypothesis.append(\"she is very busy .her family is very happy .someone is helping her\")\n",
    "\n",
    "reference = [\"our friends trickled in one by one !\"]"
   ]
  },
  {
   "cell_type": "code",
   "execution_count": 14,
   "metadata": {},
   "outputs": [
    {
     "name": "stdout",
     "output_type": "stream",
     "text": [
      "['her husband is taking a picture .the woman is eating the meat .they']\n",
      "-------------------------------------------\n",
      "Bert Score - P: tensor([0.1031]) R: tensor([0.0352]) F1: tensor([0.0704])\n",
      "METEOR: 0.0\n",
      "ROUGE: {'rouge1': Score(precision=0.0, recall=0.0, fmeasure=0.0), 'rougeL': Score(precision=0.0, recall=0.0, fmeasure=0.0)}\n",
      "BLEU: 0.208955223880597\n",
      "===========================================\n",
      "['she just has to get a hula hoop .she is so expensive .']\n",
      "-------------------------------------------\n",
      "Bert Score - P: tensor([0.1740]) R: tensor([0.0232]) F1: tensor([0.0989])\n",
      "METEOR: 0.0\n",
      "ROUGE: {'rouge1': Score(precision=0.0, recall=0.0, fmeasure=0.0), 'rougeL': Score(precision=0.0, recall=0.0, fmeasure=0.0)}\n",
      "BLEU: 0.16666666666666669\n",
      "===========================================\n",
      "['next , she has a large wheelbarrow .the bellies of the']\n",
      "-------------------------------------------\n",
      "Bert Score - P: tensor([0.0472]) R: tensor([0.0293]) F1: tensor([0.0398])\n",
      "METEOR: 0.0\n",
      "ROUGE: {'rouge1': Score(precision=0.0, recall=0.0, fmeasure=0.0), 'rougeL': Score(precision=0.0, recall=0.0, fmeasure=0.0)}\n",
      "BLEU: 0.2037037037037037\n",
      "===========================================\n",
      "['this is a picture of a fork .this is a picture of a man']\n",
      "-------------------------------------------\n",
      "Bert Score - P: tensor([0.0677]) R: tensor([-0.0502]) F1: tensor([0.0096])\n",
      "METEOR: 0.0\n",
      "ROUGE: {'rouge1': Score(precision=0.0, recall=0.0, fmeasure=0.0), 'rougeL': Score(precision=0.0, recall=0.0, fmeasure=0.0)}\n",
      "BLEU: 0.21818181818181817\n",
      "===========================================\n",
      "['she is very busy .her family is very happy .someone is helping her']\n",
      "-------------------------------------------\n",
      "Bert Score - P: tensor([0.0629]) R: tensor([-0.0012]) F1: tensor([0.0322])\n",
      "METEOR: 0.0\n",
      "ROUGE: {'rouge1': Score(precision=0.0, recall=0.0, fmeasure=0.0), 'rougeL': Score(precision=0.0, recall=0.0, fmeasure=0.0)}\n",
      "BLEU: 0.18181818181818182\n",
      "===========================================\n"
     ]
    }
   ],
   "source": [
    "for h in hypothesis:\n",
    "    print([h])\n",
    "    print(\"-------------------------------------------\")\n",
    "    P, R, F1 = scorer.score(reference, [h])\n",
    "    print('Bert Score - P:', P, 'R:', R, 'F1:', F1)\n",
    "    print(\"METEOR:\", nltk.translate.meteor_score.meteor_score(reference[0], h, 4))\n",
    "    print(\"ROUGE:\", Rouge_scorer.score(reference[0], h))\n",
    "    print('BLEU: {}'.format(sentence_bleu(reference[0], h, weights=(1, 0, 0, 0))))\n",
    "    print(\"===========================================\")"
   ]
  },
  {
   "cell_type": "code",
   "execution_count": 177,
   "metadata": {},
   "outputs": [],
   "source": [
    "#Image Caption 4\n",
    "\n",
    "references = []\n",
    "references.append(\"An older man stands in the entry of a garage, manning his station at the grill.another man is preparing the food for the grill .a group of people are listening to music .a man is sitting in the back of a truck .a boy is playing football on his cell phone .a man is having fun in an outdoor game .\")\n",
    "\n",
    "references.append(\"An older man stands in the entry of a garage, manning his station at the grill.this man is very proud of his grill .the cook gets up and greets the guest .the man is listening intently .the chef is getting ready to grill the food .the restaurant was very well done .the food was very good .the chef\")\n",
    "\n",
    "references.append(\"An older man stands in the entry of a garage, manning his station at the grill.the grill is about to be opened and the food is ready to be eaten .the chef is preparing a big meal .after eating the chef prepares a wide range of other items .the chef has finished preparing the food and is ready to eat .the\")\n",
    "\n",
    "references.append(\"An older man stands in the entry of a garage, manning his station at the grill.the man prepares the grill with fresh meat .the man is ready to eat when he arrives at the grill .the man is very happy to be at the grill .the man is having fun in the grill .the man is eating his lunch .he\")\n",
    "\n",
    "references.append(\"An older man stands in the entry of a garage, manning his station at the grill.a blonde girl is enjoying the heat of the grill as she sits down .a man is checking the vehicle out .a man is checking out the vehicle .a car is parked in front of a house .the owner has a grill in the garage .\")\n",
    "\n",
    "hypothesis = [\"we got all the food on the grill to cook and ready to eat .\"]"
   ]
  },
  {
   "cell_type": "code",
   "execution_count": 196,
   "metadata": {},
   "outputs": [
    {
     "name": "stdout",
     "output_type": "stream",
     "text": [
      "[\"A woman has big forks with meat on them. she 's not a bad eater .she also likes to eat her vegetables .a man and a couple eat dinner together .they are drunk and have a good time .they all have a big dinner with wine .the couple really enjoyed their night together\"]\n",
      "-------------------------------------------\n",
      "Bert Score - P: tensor([0.0356]) R: tensor([-0.1527]) F1: tensor([-0.0587])\n",
      "METEOR: 0.0\n",
      "ROUGE: {'rouge1': Score(precision=0.0, recall=0.0, fmeasure=0.0), 'rougeL': Score(precision=0.0, recall=0.0, fmeasure=0.0)}\n",
      "BLEU: 0.060606060606060615\n",
      "===========================================\n",
      "['A woman has big forks with meat on them.a woman is hanging out with her friends .a woman is hanging out with her family .a man is hanging with a man .the friends are hanging out .the man is hanging with a man .the woman is hanging with a woman .the woman']\n",
      "-------------------------------------------\n",
      "Bert Score - P: tensor([0.0732]) R: tensor([-0.2494]) F1: tensor([-0.0917])\n",
      "METEOR: 0.0\n",
      "ROUGE: {'rouge1': Score(precision=0.018867924528301886, recall=0.14285714285714285, fmeasure=0.03333333333333333), 'rougeL': Score(precision=0.018867924528301886, recall=0.14285714285714285, fmeasure=0.03333333333333333)}\n",
      "BLEU: 0.05905511811023622\n",
      "===========================================\n",
      "['A woman has big forks with meat on them.one of the forks is huge .the man wished he had a bike .he drove it home and took a picture with his wife .this is a picture of a person .this is a picture of a tree .this is a picture of a man']\n",
      "-------------------------------------------\n",
      "Bert Score - P: tensor([0.0384]) R: tensor([-0.1758]) F1: tensor([-0.0693])\n",
      "METEOR: 0.0\n",
      "ROUGE: {'rouge1': Score(precision=0.018518518518518517, recall=0.14285714285714285, fmeasure=0.03278688524590164), 'rougeL': Score(precision=0.018518518518518517, recall=0.14285714285714285, fmeasure=0.03278688524590164)}\n",
      "BLEU: 0.06008583690987126\n",
      "===========================================\n",
      "['A woman has big forks with meat on them.she has a small cake with their names on it.they all sit in a circle and look at the food they have prepared .she is eating her cake and holding it in her hands .to celebrate the event , they take a picture with her sister']\n",
      "-------------------------------------------\n",
      "Bert Score - P: tensor([0.0497]) R: tensor([-0.1223]) F1: tensor([-0.0361])\n",
      "METEOR: 0.0\n",
      "ROUGE: {'rouge1': Score(precision=0.01818181818181818, recall=0.14285714285714285, fmeasure=0.032258064516129024), 'rougeL': Score(precision=0.01818181818181818, recall=0.14285714285714285, fmeasure=0.032258064516129024)}\n",
      "BLEU: 0.06106870229007632\n",
      "===========================================\n",
      "['A woman has big forks with meat on them. she already knows what she likes best .this woman is eating her food . the woman is very happy with her meal .a woman is in a conversation with her friend . this is the first time they have met .this is a photo of a man']\n",
      "-------------------------------------------\n",
      "Bert Score - P: tensor([0.0803]) R: tensor([-0.1242]) F1: tensor([-0.0224])\n",
      "METEOR: 0.0\n",
      "ROUGE: {'rouge1': Score(precision=0.037037037037037035, recall=0.2857142857142857, fmeasure=0.06557377049180328), 'rougeL': Score(precision=0.018518518518518517, recall=0.14285714285714285, fmeasure=0.03278688524590164)}\n",
      "BLEU: 0.0576923076923077\n",
      "===========================================\n"
     ]
    }
   ],
   "source": [
    "for r in references:\n",
    "    print([r])\n",
    "    print(\"-------------------------------------------\")\n",
    "    P, R, F1 = scorer.score(hypothesis, [r])\n",
    "    print('Bert Score - P:', P, 'R:', R, 'F1:', F1)\n",
    "    print(\"METEOR:\", nltk.translate.meteor_score.meteor_score(hypothesis[0], r, 4))\n",
    "    print(\"ROUGE:\", Rouge_scorer.score(hypothesis[0], r))\n",
    "    print('BLEU: {}'.format(sentence_bleu(hypothesis[0], r, weights=(1, 0, 0, 0))))\n",
    "    print(\"===========================================\")"
   ]
  },
  {
   "cell_type": "code",
   "execution_count": 17,
   "metadata": {},
   "outputs": [],
   "source": [
    "#Image Caption 4-B\n",
    "\n",
    "hypothesis = []\n",
    "hypothesis.append(\"the man is working on his grill and is checking his workstation .the\")\n",
    "\n",
    "hypothesis.append(\"tourists are at the grill at the time of the show/i\")\n",
    "\n",
    "hypothesis.append(\"there was a long line for food at the restaurant .as the sun set\")\n",
    "\n",
    "hypothesis.append(\"next to the grill , a man stands in the entryway , making sure\")\n",
    "\n",
    "hypothesis.append(\"the people were really enjoying the evening .we got some new cathedrals\")\n",
    "\n",
    "reference = [\"we got all the food on the grill to cook and ready to eat .\"]"
   ]
  },
  {
   "cell_type": "code",
   "execution_count": 18,
   "metadata": {
    "scrolled": true
   },
   "outputs": [
    {
     "name": "stdout",
     "output_type": "stream",
     "text": [
      "['the man is working on his grill and is checking his workstation .the']\n",
      "-------------------------------------------\n",
      "Bert Score - P: tensor([0.2358]) R: tensor([0.1864]) F1: tensor([0.2123])\n",
      "METEOR: 0.0\n",
      "ROUGE: {'rouge1': Score(precision=0.38461538461538464, recall=0.35714285714285715, fmeasure=0.3703703703703704), 'rougeL': Score(precision=0.3076923076923077, recall=0.2857142857142857, fmeasure=0.29629629629629634)}\n",
      "BLEU: 0.23529411764705885\n",
      "===========================================\n",
      "['tourists are at the grill at the time of the show/i']\n",
      "-------------------------------------------\n",
      "Bert Score - P: tensor([0.2354]) R: tensor([0.2529]) F1: tensor([0.2454])\n",
      "METEOR: 0.0\n",
      "ROUGE: {'rouge1': Score(precision=0.25, recall=0.21428571428571427, fmeasure=0.23076923076923075), 'rougeL': Score(precision=0.16666666666666666, recall=0.14285714285714285, fmeasure=0.15384615384615383)}\n",
      "BLEU: 0.23529411764705885\n",
      "===========================================\n",
      "['there was a long line for food at the restaurant .as the sun set']\n",
      "-------------------------------------------\n",
      "Bert Score - P: tensor([0.2642]) R: tensor([0.2781]) F1: tensor([0.2723])\n",
      "METEOR: 0.2173913043478261\n",
      "ROUGE: {'rouge1': Score(precision=0.21428571428571427, recall=0.21428571428571427, fmeasure=0.21428571428571427), 'rougeL': Score(precision=0.14285714285714285, recall=0.14285714285714285, fmeasure=0.14285714285714285)}\n",
      "BLEU: 0.23437499999999997\n",
      "===========================================\n",
      "['next to the grill , a man stands in the entryway , making sure']\n",
      "-------------------------------------------\n",
      "Bert Score - P: tensor([0.1775]) R: tensor([0.2050]) F1: tensor([0.1925])\n",
      "METEOR: 0.2173913043478261\n",
      "ROUGE: {'rouge1': Score(precision=0.3333333333333333, recall=0.2857142857142857, fmeasure=0.30769230769230765), 'rougeL': Score(precision=0.16666666666666666, recall=0.14285714285714285, fmeasure=0.15384615384615383)}\n",
      "BLEU: 0.24193548387096778\n",
      "===========================================\n",
      "['the people were really enjoying the evening .we got some new cathedrals']\n",
      "-------------------------------------------\n",
      "Bert Score - P: tensor([0.0986]) R: tensor([0.1735]) F1: tensor([0.1372])\n",
      "METEOR: 0.0\n",
      "ROUGE: {'rouge1': Score(precision=0.3333333333333333, recall=0.2857142857142857, fmeasure=0.30769230769230765), 'rougeL': Score(precision=0.16666666666666666, recall=0.14285714285714285, fmeasure=0.15384615384615383)}\n",
      "BLEU: 0.22535211267605637\n",
      "===========================================\n"
     ]
    }
   ],
   "source": [
    "for h in hypothesis:\n",
    "    print([h])\n",
    "    print(\"-------------------------------------------\")\n",
    "    P, R, F1 = scorer.score(reference, [h])\n",
    "    print('Bert Score - P:', P, 'R:', R, 'F1:', F1)\n",
    "    print(\"METEOR:\", nltk.translate.meteor_score.meteor_score(reference[0], h, 4))\n",
    "    print(\"ROUGE:\", Rouge_scorer.score(reference[0], h))\n",
    "    print('BLEU: {}'.format(sentence_bleu(reference[0], h, weights=(1, 0, 0, 0))))\n",
    "    print(\"===========================================\")"
   ]
  },
  {
   "cell_type": "code",
   "execution_count": 197,
   "metadata": {},
   "outputs": [],
   "source": [
    "#Image Caption 5\n",
    "\n",
    "references = []\n",
    "references.append(\"A man is standing in front of some saw horses at dusk.the stallion is wearing a purple hat and holding a small umbrella while walking down the streets .the man is wearing a purple jacket with a blue-and-white striped shirt .the man is walking down the street with a large umbrella .the man\")\n",
    "\n",
    "references.append(\"A man is standing in front of some saw horses at dusk.a woman is watching the people on the horse .a man is looking for a new horse to take home .[male] is not happy about the carousel .the castle is waiting for [female] to arrive .she loves it ![male\")\n",
    "\n",
    "references.append(\"A man is standing in front of some saw horses at dusk.the horseman is walking in the field and waiting for the sun to set .the man is in front of a large field .the man is in the field with the horse .they both look at the horseman .the man is walking on a\")\n",
    "\n",
    "references.append(\"A man is standing in front of some saw horses at dusk.two women are sitting together in front of a view of a football field .a man and woman celebrate their success at the end of the night .today was the day of the parade .many people were taking part .some people were wearing funny hats .\")\n",
    "\n",
    "references.append(\"A man is standing in front of some saw horses at dusk.a man is wearing sunglasses in front of a horse .a woman is wearing a hat in front of a horse .a man is wearing a hat in front of a horse .there was a road crash this morning .the driver of the vehicle was not\")\n",
    "\n",
    "hypothesis = [\"the sunset was amazing that night !\"]"
   ]
  },
  {
   "cell_type": "code",
   "execution_count": 198,
   "metadata": {},
   "outputs": [
    {
     "name": "stdout",
     "output_type": "stream",
     "text": [
      "['A man is standing in front of some saw horses at dusk.the stallion is wearing a purple hat and holding a small umbrella while walking down the streets .the man is wearing a purple jacket with a blue-and-white striped shirt .the man is walking down the street with a large umbrella .the man']\n",
      "-------------------------------------------\n",
      "Bert Score - P: tensor([0.1692]) R: tensor([-0.1966]) F1: tensor([-0.0188])\n",
      "METEOR: 0.08064516129032259\n",
      "ROUGE: {'rouge1': Score(precision=0.017857142857142856, recall=0.16666666666666666, fmeasure=0.03225806451612903), 'rougeL': Score(precision=0.017857142857142856, recall=0.16666666666666666, fmeasure=0.03225806451612903)}\n",
      "BLEU: 0.04152249134948097\n",
      "===========================================\n",
      "['A man is standing in front of some saw horses at dusk.a woman is watching the people on the horse .a man is looking for a new horse to take home .[male] is not happy about the carousel .the castle is waiting for [female] to arrive .she loves it ![male']\n",
      "-------------------------------------------\n",
      "Bert Score - P: tensor([0.1917]) R: tensor([-0.1437]) F1: tensor([0.0199])\n",
      "METEOR: 0.08474576271186442\n",
      "ROUGE: {'rouge1': Score(precision=0.0196078431372549, recall=0.16666666666666666, fmeasure=0.03508771929824561), 'rougeL': Score(precision=0.0196078431372549, recall=0.16666666666666666, fmeasure=0.03508771929824561)}\n",
      "BLEU: 0.05179282868525896\n",
      "===========================================\n",
      "['A man is standing in front of some saw horses at dusk.the horseman is walking in the field and waiting for the sun to set .the man is in front of a large field .the man is in the field with the horse .they both look at the horseman .the man is walking on a']\n",
      "-------------------------------------------\n",
      "Bert Score - P: tensor([0.1380]) R: tensor([-0.1660]) F1: tensor([-0.0170])\n",
      "METEOR: 0.07812500000000001\n",
      "ROUGE: {'rouge1': Score(precision=0.017857142857142856, recall=0.16666666666666666, fmeasure=0.03225806451612903), 'rougeL': Score(precision=0.017857142857142856, recall=0.16666666666666666, fmeasure=0.03225806451612903)}\n",
      "BLEU: 0.04687499999999999\n",
      "===========================================\n",
      "['A man is standing in front of some saw horses at dusk.two women are sitting together in front of a view of a football field .a man and woman celebrate their success at the end of the night .today was the day of the parade .many people were taking part .some people were wearing funny hats .']\n",
      "-------------------------------------------\n",
      "Bert Score - P: tensor([0.2677]) R: tensor([-0.0904]) F1: tensor([0.0837])\n",
      "METEOR: 0.07575757575757577\n",
      "ROUGE: {'rouge1': Score(precision=0.05263157894736842, recall=0.5, fmeasure=0.09523809523809525), 'rougeL': Score(precision=0.03508771929824561, recall=0.3333333333333333, fmeasure=0.06349206349206349)}\n",
      "BLEU: 0.04137931034482759\n",
      "===========================================\n",
      "['A man is standing in front of some saw horses at dusk.a man is wearing sunglasses in front of a horse .a woman is wearing a hat in front of a horse .a man is wearing a hat in front of a horse .there was a road crash this morning .the driver of the vehicle was not']\n",
      "-------------------------------------------\n",
      "Bert Score - P: tensor([0.1617]) R: tensor([-0.1699]) F1: tensor([-0.0080])\n",
      "METEOR: 0.07575757575757577\n",
      "ROUGE: {'rouge1': Score(precision=0.034482758620689655, recall=0.3333333333333333, fmeasure=0.0625), 'rougeL': Score(precision=0.034482758620689655, recall=0.3333333333333333, fmeasure=0.0625)}\n",
      "BLEU: 0.04562737642585551\n",
      "===========================================\n"
     ]
    }
   ],
   "source": [
    "for r in references:\n",
    "    print([r])\n",
    "    print(\"-------------------------------------------\")\n",
    "    P, R, F1 = scorer.score(hypothesis, [r])\n",
    "    print('Bert Score - P:', P, 'R:', R, 'F1:', F1)\n",
    "    print(\"METEOR:\", nltk.translate.meteor_score.meteor_score(hypothesis[0], r, 4))\n",
    "    print(\"ROUGE:\", Rouge_scorer.score(hypothesis[0], r))\n",
    "    print('BLEU: {}'.format(sentence_bleu(hypothesis[0], r, weights=(1, 0, 0, 0))))\n",
    "    print(\"===========================================\")"
   ]
  },
  {
   "cell_type": "code",
   "execution_count": 21,
   "metadata": {},
   "outputs": [],
   "source": [
    "#Image Caption 5-B\n",
    "\n",
    "hypothesis = []\n",
    "hypothesis.append(\"the man has seen a lot of horses .the man looks around .the\")\n",
    "\n",
    "hypothesis.append(\"they are all looking at the sun .this horse is quite large .this\")\n",
    "\n",
    "hypothesis.append(\"the view from the side is amazing .the horses are lined up to go\")\n",
    "\n",
    "hypothesis.append(\"he is looking at the buildings in the distance .this is a view of\")\n",
    "\n",
    "hypothesis.append(\"a horse is riding down the street .a man is standing in front of\")\n",
    "\n",
    "reference = [\"the sunset was amazing that night !\"]"
   ]
  },
  {
   "cell_type": "code",
   "execution_count": 22,
   "metadata": {},
   "outputs": [
    {
     "name": "stdout",
     "output_type": "stream",
     "text": [
      "['the man has seen a lot of horses .the man looks around .the']\n",
      "-------------------------------------------\n",
      "Bert Score - P: tensor([0.1098]) R: tensor([0.0492]) F1: tensor([0.0808])\n",
      "METEOR: 0.22727272727272732\n",
      "ROUGE: {'rouge1': Score(precision=0.07692307692307693, recall=0.16666666666666666, fmeasure=0.10526315789473684), 'rougeL': Score(precision=0.07692307692307693, recall=0.16666666666666666, fmeasure=0.10526315789473684)}\n",
      "BLEU: 0.15254237288135594\n",
      "===========================================\n",
      "['they are all looking at the sun .this horse is quite large .this']\n",
      "-------------------------------------------\n",
      "Bert Score - P: tensor([0.2132]) R: tensor([0.1031]) F1: tensor([0.1589])\n",
      "METEOR: 0.0\n",
      "ROUGE: {'rouge1': Score(precision=0.07692307692307693, recall=0.16666666666666666, fmeasure=0.10526315789473684), 'rougeL': Score(precision=0.07692307692307693, recall=0.16666666666666666, fmeasure=0.10526315789473684)}\n",
      "BLEU: 0.15625\n",
      "===========================================\n",
      "['the view from the side is amazing .the horses are lined up to go']\n",
      "-------------------------------------------\n",
      "Bert Score - P: tensor([0.4046]) R: tensor([0.2218]) F1: tensor([0.3127])\n",
      "METEOR: 0.0\n",
      "ROUGE: {'rouge1': Score(precision=0.14285714285714285, recall=0.3333333333333333, fmeasure=0.2), 'rougeL': Score(precision=0.14285714285714285, recall=0.3333333333333333, fmeasure=0.2)}\n",
      "BLEU: 0.20312499999999997\n",
      "===========================================\n",
      "['he is looking at the buildings in the distance .this is a view of']\n",
      "-------------------------------------------\n",
      "Bert Score - P: tensor([0.1193]) R: tensor([0.0746]) F1: tensor([0.0984])\n",
      "METEOR: 0.2173913043478261\n",
      "ROUGE: {'rouge1': Score(precision=0.07142857142857142, recall=0.16666666666666666, fmeasure=0.1), 'rougeL': Score(precision=0.07142857142857142, recall=0.16666666666666666, fmeasure=0.1)}\n",
      "BLEU: 0.16923076923076924\n",
      "===========================================\n",
      "['a horse is riding down the street .a man is standing in front of']\n",
      "-------------------------------------------\n",
      "Bert Score - P: tensor([0.0753]) R: tensor([-0.0528]) F1: tensor([0.0120])\n",
      "METEOR: 0.2173913043478261\n",
      "ROUGE: {'rouge1': Score(precision=0.07142857142857142, recall=0.16666666666666666, fmeasure=0.1), 'rougeL': Score(precision=0.07142857142857142, recall=0.16666666666666666, fmeasure=0.1)}\n",
      "BLEU: 0.171875\n",
      "===========================================\n"
     ]
    }
   ],
   "source": [
    "for h in hypothesis:\n",
    "    print([h])\n",
    "    print(\"-------------------------------------------\")\n",
    "    P, R, F1 = scorer.score(reference, [h])\n",
    "    print('Bert Score - P:', P, 'R:', R, 'F1:', F1)\n",
    "    print(\"METEOR:\", nltk.translate.meteor_score.meteor_score(reference[0], h, 4))\n",
    "    print(\"ROUGE:\", Rouge_scorer.score(reference[0], h))\n",
    "    print('BLEU: {}'.format(sentence_bleu(reference[0], h, weights=(1, 0, 0, 0))))\n",
    "    print(\"===========================================\")"
   ]
  },
  {
   "cell_type": "markdown",
   "metadata": {},
   "source": [
    "#### Concatenate captions with highest METEOR scores (if all METEOR scores are zero, we pick the first generated text)"
   ]
  },
  {
   "cell_type": "code",
   "execution_count": 203,
   "metadata": {},
   "outputs": [],
   "source": [
    "references = [\"Six or seven bottle rockets next to a specialty firework.[male] and [female] are having a great time and are having fun .the fireworks started just before sunset .the yellow blast did n't stop the sun from setting .on the other side of the fireworks the red blast did .the fireworks. the burgers are being grilled on the grill.the inside is a good place for any meal .the food is prepared by the chefs .everyone has a great time .the chef has prepared the food .the chef is happy to eat .the chefs are all smiles .the food is prepared to meet. A woman has big forks with meat on them. she 's not a bad eater .she also likes to eat her vegetables .a man and a couple eat dinner together .they are drunk and have a good time .they all have a big dinner with wine .the couple really enjoyed their night together. An older man stands in the entry of a garage, manning his station at the grill.another man is preparing the food for the grill .a group of people are listening to music .a man is sitting in the back of a truck .a boy is playing football on his cell phone .a man is having fun in an outdoor game . A man is standing in front of some saw horses at dusk.a woman is watching the people on the horse .a man is looking for a new horse to take home .[male] is not happy about the carousel .the castle is waiting for [female] to arrive .she loves it ![male\"]\n",
    "hypothesis = [\"we gathered up some fire works to set off at dark . we grilled some burgers that were oddly shaped . our friends trickled in one by one ! we got all the food on the grill to cook and ready to eat . the sunset was amazing that night !\"]"
   ]
  },
  {
   "cell_type": "code",
   "execution_count": 204,
   "metadata": {},
   "outputs": [
    {
     "name": "stdout",
     "output_type": "stream",
     "text": [
      "[\"Six or seven bottle rockets next to a specialty firework.[male] and [female] are having a great time and are having fun .the fireworks started just before sunset .the yellow blast did n't stop the sun from setting .on the other side of the fireworks the red blast did .the fireworks. the burgers are being grilled on the grill.the inside is a good place for any meal .the food is prepared by the chefs .everyone has a great time .the chef has prepared the food .the chef is happy to eat .the chefs are all smiles .the food is prepared to meet. A woman has big forks with meat on them. she 's not a bad eater .she also likes to eat her vegetables .a man and a couple eat dinner together .they are drunk and have a good time .they all have a big dinner with wine .the couple really enjoyed their night together. An older man stands in the entry of a garage, manning his station at the grill.another man is preparing the food for the grill .a group of people are listening to music .a man is sitting in the back of a truck .a boy is playing football on his cell phone .a man is having fun in an outdoor game . A man is standing in front of some saw horses at dusk.a woman is watching the people on the horse .a man is looking for a new horse to take home .[male] is not happy about the carousel .the castle is waiting for [female] to arrive .she loves it ![male\"]\n",
      "-------------------------------------------\n",
      "Bert Score - P: tensor([0.0853]) R: tensor([-0.1721]) F1: tensor([-0.0451])\n",
      "METEOR: 0.018248175182481757\n",
      "ROUGE: {'rouge1': Score(precision=0.07806691449814127, recall=0.45652173913043476, fmeasure=0.13333333333333333), 'rougeL': Score(precision=0.048327137546468404, recall=0.2826086956521739, fmeasure=0.08253968253968255)}\n",
      "BLEU: 0.01767304860088366\n",
      "===========================================\n"
     ]
    }
   ],
   "source": [
    "for r in references:\n",
    "    print([r])\n",
    "    print(\"-------------------------------------------\")\n",
    "    P, R, F1 = scorer.score(hypothesis, [r])\n",
    "    print('Bert Score - P:', P, 'R:', R, 'F1:', F1)\n",
    "    print(\"METEOR:\", nltk.translate.meteor_score.meteor_score(hypothesis[0], r, 4))\n",
    "    print(\"ROUGE:\", Rouge_scorer.score(hypothesis[0], r))\n",
    "    print('BLEU: {}'.format(sentence_bleu(hypothesis[0], r, weights=(1, 0, 0, 0))))\n",
    "    print(\"===========================================\")"
   ]
  },
  {
   "cell_type": "code",
   "execution_count": 23,
   "metadata": {},
   "outputs": [],
   "source": [
    "reference = [\"we gathered up some fire works to set off at dark . we grilled some burgers that were oddly shaped . our friends trickled in one by one ! we got all the food on the grill to cook and ready to eat . the sunset was amazing that night !\"]\n",
    "hypothesis = [\"a cool ceramics set for the firework show .our first fire. look at the enthusiasm on their faces .a great family meal and a fun. her husband is taking a picture .the woman is eating the meat .they. next to the grill , a man stands in the entryway , making sure. the man has seen a lot of horses .the man looks around .the\"]\n"
   ]
  },
  {
   "cell_type": "code",
   "execution_count": 24,
   "metadata": {},
   "outputs": [
    {
     "name": "stdout",
     "output_type": "stream",
     "text": [
      "['a cool ceramics set for the firework show .our first fire. look at the enthusiasm on their faces .a great family meal and a fun. her husband is taking a picture .the woman is eating the meat .they. next to the grill , a man stands in the entryway , making sure. the man has seen a lot of horses .the man looks around .the']\n",
      "-------------------------------------------\n",
      "Bert Score - P: tensor([0.1038]) R: tensor([0.0858]) F1: tensor([0.0963])\n",
      "METEOR: 0.06756756756756759\n",
      "ROUGE: {'rouge1': Score(precision=0.20634920634920634, recall=0.2826086956521739, fmeasure=0.2385321100917431), 'rougeL': Score(precision=0.1111111111111111, recall=0.15217391304347827, fmeasure=0.12844036697247704)}\n",
      "BLEU: 0.07165109034267914\n",
      "===========================================\n"
     ]
    }
   ],
   "source": [
    "for h in hypothesis:\n",
    "    print([h])\n",
    "    print(\"-------------------------------------------\")\n",
    "    P, R, F1 = scorer.score(reference, [h])\n",
    "    print('Bert Score - P:', P, 'R:', R, 'F1:', F1)\n",
    "    print(\"METEOR:\", nltk.translate.meteor_score.meteor_score(reference[0], h, 4))\n",
    "    print(\"ROUGE:\", Rouge_scorer.score(reference[0], h))\n",
    "    print('BLEU: {}'.format(sentence_bleu(reference[0], h, weights=(1, 0, 0, 0))))\n",
    "    print(\"===========================================\")"
   ]
  }
 ],
 "metadata": {
  "kernelspec": {
   "display_name": "Python 3",
   "language": "python",
   "name": "python3"
  },
  "language_info": {
   "codemirror_mode": {
    "name": "ipython",
    "version": 3
   },
   "file_extension": ".py",
   "mimetype": "text/x-python",
   "name": "python",
   "nbconvert_exporter": "python",
   "pygments_lexer": "ipython3",
   "version": "3.6.12"
  }
 },
 "nbformat": 4,
 "nbformat_minor": 4
}
