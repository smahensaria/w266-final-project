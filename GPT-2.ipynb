{
 "cells": [
  {
   "cell_type": "markdown",
   "metadata": {},
   "source": [
    "### GPT2 [https://huggingface.co/gpt2]"
   ]
  },
  {
   "cell_type": "markdown",
   "metadata": {},
   "source": [
    "### Read from json file"
   ]
  },
  {
   "cell_type": "code",
   "execution_count": 60,
   "metadata": {},
   "outputs": [
    {
     "data": {
      "text/plain": [
       "'C:\\\\Users\\\\sundeepm\\\\source\\\\MIDS\\\\w266\\\\w266-final-project'"
      ]
     },
     "execution_count": 60,
     "metadata": {},
     "output_type": "execute_result"
    }
   ],
   "source": [
    "import os\n",
    "\n",
    "os.getcwd()"
   ]
  },
  {
   "cell_type": "code",
   "execution_count": 61,
   "metadata": {},
   "outputs": [],
   "source": [
    "# Python program to read\n",
    "# json file\n",
    "\n",
    "\n",
    "import json\n",
    "\n",
    "# Opening JSON file\n",
    "#f_dii_train = open('.\\\\VIST\\\\dii\\\\train.description-in-isolation.json',)\n",
    "f_dii_val = open('.\\\\VIST\\\\dii\\\\val.description-in-isolation.json',)\n",
    "#f_dii_test = open('.\\\\VIST\\\\dii\\\\test.description-in-isolation.json',)\n",
    "\n",
    "#f_sis_train = open('.\\\\VIST\\\\sis\\\\train.story-in-sequence.json',)\n",
    "f_sis_val = open('.\\\\VIST\\\\sis\\\\val.story-in-sequence.json',)\n",
    "#f_sis_test = open('.\\\\VIST\\\\sis\\\\test.story-in-sequence.json',)\n",
    "\n",
    "\n",
    "# returns JSON object as\n",
    "# a dictionary\n",
    "#data_dii_train = json.load(f_dii_train)\n",
    "data_dii_val = json.load(f_dii_val)\n",
    "#data_dii_test = json.load(f_dii_test)\n",
    "\n",
    "#data_sis_train = json.load(f_sis_train)\n",
    "data_sis_val = json.load(f_sis_val)\n",
    "#data_sis_test = json.load(f_sis_test)\n",
    "\n",
    "# Iterating through the json\n",
    "# list\n",
    "#for i in data_dii['images']:\n",
    "#    print(i)\n",
    "\n",
    "# Closing file\n",
    "#f_dii_train.close()\n",
    "f_dii_val.close()\n",
    "#f_dii_test.close()\n",
    "\n",
    "#f_sis_train.close()\n",
    "f_sis_val.close()\n",
    "#f_sis_test.close()\n"
   ]
  },
  {
   "cell_type": "code",
   "execution_count": 62,
   "metadata": {},
   "outputs": [
    {
     "name": "stdout",
     "output_type": "stream",
     "text": [
      "dii keys: dict_keys(['images', 'info', 'albums', 'type', 'annotations'])\n",
      "sis keys: dict_keys(['images', 'info', 'albums', 'type', 'annotations'])\n",
      "SIND v1.0\n"
     ]
    }
   ],
   "source": [
    "print('dii keys:', data_dii_val.keys())\n",
    "print('sis keys:', data_sis_val.keys())\n",
    "\n",
    "print(data_dii_val['info'])\n"
   ]
  },
  {
   "cell_type": "code",
   "execution_count": null,
   "metadata": {},
   "outputs": [],
   "source": [
    "print(data_dii_val['albums'])"
   ]
  },
  {
   "cell_type": "code",
   "execution_count": 63,
   "metadata": {},
   "outputs": [
    {
     "name": "stdout",
     "output_type": "stream",
     "text": [
      "description-in-isolation\n"
     ]
    }
   ],
   "source": [
    "print(data_dii_val['type'])"
   ]
  },
  {
   "cell_type": "code",
   "execution_count": 64,
   "metadata": {},
   "outputs": [
    {
     "name": "stdout",
     "output_type": "stream",
     "text": [
      "[{'original_text': 'Six or seven bottle rockets next to a specialty firework.', 'album_id': '72157600601428727', 'photo_flickr_id': '694227468', 'photo_order_in_story': 0, 'worker_id': 'WFCAHLMWB3LKKAX', 'text': 'six or seven bottle rockets next to a specialty firework .', 'tier': 'descriptions-in-isolation'}]\n",
      "[{'original_text': 'My sister arrived early to help me with the family Bar BQ.', 'album_id': '72157600601428727', 'photo_flickr_id': '693397887', 'setting': 'first-2-pick-and-tell', 'worker_id': 'AS2MDFCRUS236TU', 'story_id': '40470', 'tier': 'story-in-sequence', 'worker_arranged_photo_order': 0, 'text': 'my sister arrived early to help me with the family bar bq .', 'storylet_id': '202350'}]\n",
      "[{'original_text': 'the burgers are being grilled on the grill', 'album_id': '72157600601428727', 'photo_flickr_id': '694227412', 'photo_order_in_story': 1, 'worker_id': 'POC1IIAC4P24QW2', 'text': 'the burgers are being grilled on the grill', 'tier': 'descriptions-in-isolation'}]\n",
      "[{'original_text': 'Every one else arrived soon after.', 'album_id': '72157600601428727', 'photo_flickr_id': '695160730', 'setting': 'first-2-pick-and-tell', 'worker_id': 'AS2MDFCRUS236TU', 'story_id': '40470', 'tier': 'story-in-sequence', 'worker_arranged_photo_order': 1, 'text': 'every one else arrived soon after .', 'storylet_id': '202351'}]\n"
     ]
    }
   ],
   "source": [
    "print(data_dii_val['annotations'][0])\n",
    "print(data_sis_val['annotations'][0])\n",
    "print(data_dii_val['annotations'][1])\n",
    "print(data_sis_val['annotations'][1])\n",
    "\n",
    "#print(type(data_sis_val['annotations']), type(data_sis_val['annotations'][0]))\n",
    "#print(type(data_sis_val['annotations'][0][0]))\n",
    "\n",
    "#print(data_sis_val['annotations'][0][0])\n",
    "#print(data_sis_val['annotations'][0][0]['photo_flickr_id'])"
   ]
  },
  {
   "cell_type": "code",
   "execution_count": null,
   "metadata": {},
   "outputs": [],
   "source": [
    "count = 0\n",
    "for i, s in zip(data_dii_val['annotations'], data_sis_val['annotations']):\n",
    "    count += 1\n",
    "    for ii, ss in zip (i, s):\n",
    "        #print(ii['album_id'])\n",
    "        if ii['photo_flickr_id'] == ss['photo_flickr_id']:    #'72157600654289032': # s['tags']:\n",
    "            \n",
    "            print('dii:', ii['text'])\n",
    "            print('sis:', ss['text'])\n",
    "            \n",
    "print(count)"
   ]
  },
  {
   "cell_type": "code",
   "execution_count": 65,
   "metadata": {},
   "outputs": [
    {
     "name": "stdout",
     "output_type": "stream",
     "text": [
      "dii: six or seven bottle rockets next to a specialty firework .\n",
      "sis: we ended the day shooting off some fireworks .\n",
      "dii: six or seven bottle rockets next to a specialty firework .\n",
      "sis: we gathered up some fire works to set off at dark .\n",
      "dii: six or seven bottle rockets next to a specialty firework .\n",
      "sis: i took some pictures from my family 's bbq last weekend .\n",
      "dii: six or seven bottle rockets next to a specialty firework .\n",
      "sis: but of course , everyone was most looking forward to setting off the fireworks when the sun went down .\n",
      "dii: six or seven bottle rockets next to a specialty firework .\n",
      "sis: the fireworks are a great addition ,\n",
      "dii: the burgers are being grilled on the grill\n",
      "sis: we grilled some burgers that were oddly shaped .\n",
      "dii: the burgers are being grilled on the grill\n",
      "sis: we made hamburgers into little star shapes .\n",
      "dii: the burgers are being grilled on the grill\n",
      "sis: to the annual celebration .\n",
      "dii: a woman has big forks with meat on them .\n",
      "sis: our friends trickled in one by one !\n",
      "dii: a woman has big forks with meat on them .\n",
      "sis: my wife is ready for the attack !\n",
      "dii: a woman has big forks with meat on them .\n",
      "sis: [female] is holding up her meat on sticks ,\n",
      "dii: an older man stands in the entry of a garage , manning his station at the grill .\n",
      "sis: dad manned the grill .\n",
      "dii: an older man stands in the entry of a garage , manning his station at the grill .\n",
      "sis: we got all the food on the grill to cook and ready to eat .\n",
      "dii: an older man stands in the entry of a garage , manning his station at the grill .\n",
      "sis: my dad is trying to touch my food . do n't touch ! !\n",
      "dii: an older man stands in the entry of a garage , manning his station at the grill .\n",
      "sis: dad enjoyed a glass of wine while he manned the grill .\n",
      "dii: an older man stands in the entry of a garage , manning his station at the grill .\n",
      "sis: while her uncle cooks on the grill .\n",
      "dii: a man is standing in front of some saw horses at dusk .\n",
      "sis: the sunset was amazing that night !\n",
      "dii: a man is standing in front of some saw horses at dusk .\n",
      "sis: the sunset afterwards was so beautiful .\n",
      "dii: a man is standing in front of some saw horses at dusk .\n",
      "sis: the view was breathtaking .\n",
      "dii: firecrackers and a chicken shaped firecracker sit on bricks .\n",
      "sis: we ended the day shooting off some fireworks .\n",
      "dii: firecrackers and a chicken shaped firecracker sit on bricks .\n",
      "sis: we gathered up some fire works to set off at dark .\n",
      "dii: firecrackers and a chicken shaped firecracker sit on bricks .\n",
      "sis: i took some pictures from my family 's bbq last weekend .\n",
      "dii: firecrackers and a chicken shaped firecracker sit on bricks .\n",
      "sis: but of course , everyone was most looking forward to setting off the fireworks when the sun went down .\n",
      "dii: firecrackers and a chicken shaped firecracker sit on bricks .\n",
      "sis: the fireworks are a great addition ,\n",
      "dii: four meat patties sit on a grill and cook .\n",
      "sis: we grilled some burgers that were oddly shaped .\n",
      "dii: four meat patties sit on a grill and cook .\n",
      "sis: we made hamburgers into little star shapes .\n",
      "dii: four meat patties sit on a grill and cook .\n",
      "sis: to the annual celebration .\n",
      "dii: young woman standing near a shed while holding two pitch forks\n",
      "sis: our friends trickled in one by one !\n",
      "dii: young woman standing near a shed while holding two pitch forks\n",
      "sis: my wife is ready for the attack !\n",
      "dii: young woman standing near a shed while holding two pitch forks\n",
      "sis: [female] is holding up her meat on sticks ,\n",
      "dii: a man grills food outside in front of his garage .\n",
      "sis: dad manned the grill .\n",
      "dii: a man grills food outside in front of his garage .\n",
      "sis: we got all the food on the grill to cook and ready to eat .\n",
      "dii: a man grills food outside in front of his garage .\n",
      "sis: my dad is trying to touch my food . do n't touch ! !\n",
      "dii: a man grills food outside in front of his garage .\n",
      "sis: dad enjoyed a glass of wine while he manned the grill .\n",
      "dii: a man grills food outside in front of his garage .\n",
      "sis: while her uncle cooks on the grill .\n",
      "dii: a view of the sunrise over a backdrop of mountains .\n",
      "sis: the sunset was amazing that night !\n",
      "dii: a view of the sunrise over a backdrop of mountains .\n",
      "sis: the sunset afterwards was so beautiful .\n",
      "dii: a view of the sunrise over a backdrop of mountains .\n",
      "sis: the view was breathtaking .\n",
      "10\n"
     ]
    }
   ],
   "source": [
    "count = 0\n",
    "for i in data_dii_val['annotations']:\n",
    "    #print(i)\n",
    "    count += 1\n",
    "    for s in data_sis_val['annotations']:\n",
    "        if i[0]['photo_flickr_id'] == s[0]['photo_flickr_id']:\n",
    "        #for ii, ss in zip (i, s):\n",
    "            #print(ii['album_id'])\n",
    "        #if ii['photo_flickr_id'] == ss['photo_flickr_id']:    #'72157600654289032': # s['tags']:\n",
    "            print('dii:', i[0]['text'])\n",
    "            print('sis:', s[0]['text'])\n",
    "    if count == 10:       \n",
    "        print(count)\n",
    "        break"
   ]
  },
  {
   "cell_type": "code",
   "execution_count": null,
   "metadata": {},
   "outputs": [],
   "source": [
    "print(len(data_dii_val['images']))\n",
    "print(data_dii_val['images'][0])\n",
    "\n",
    "print(len(data_sis_val['images']))\n",
    "print(data_sis_val['images'][0])"
   ]
  },
  {
   "cell_type": "code",
   "execution_count": null,
   "metadata": {},
   "outputs": [],
   "source": [
    "print(len(data_dii_val['annotation']))\n",
    "print(data_dii_val[0][0])\n",
    "\n",
    "print(len(data_sis_val['images']))\n",
    "print(data_sis_val['images'][0])"
   ]
  },
  {
   "cell_type": "code",
   "execution_count": null,
   "metadata": {},
   "outputs": [],
   "source": [
    "print(len(data_dii_train['images']))\n",
    "print(data_dii_train['images'][0])\n",
    "\n",
    "print(len(data_sis_train['images']))\n",
    "print(data_sis_train['images'][0])"
   ]
  },
  {
   "cell_type": "code",
   "execution_count": null,
   "metadata": {},
   "outputs": [],
   "source": [
    "type(data_dii_train['images'][0])\n",
    "#print(data_dii_train['images']['id' == '72225123'])"
   ]
  },
  {
   "cell_type": "code",
   "execution_count": null,
   "metadata": {},
   "outputs": [],
   "source": [
    "print(len(data_sis_train['images']))\n",
    "print(len(data_sis_val['images']))\n",
    "print(len(data_sis_test['images']))\n",
    "#data_sis['images']"
   ]
  },
  {
   "cell_type": "code",
   "execution_count": null,
   "metadata": {},
   "outputs": [],
   "source": [
    "data_dii_val == data_sis_val"
   ]
  },
  {
   "cell_type": "code",
   "execution_count": null,
   "metadata": {},
   "outputs": [],
   "source": [
    "print(type(data_dii_val))\n",
    "print(type(data_dii_val['images']))"
   ]
  },
  {
   "cell_type": "code",
   "execution_count": null,
   "metadata": {},
   "outputs": [],
   "source": [
    "#print(type(data_dii['images'][0]))\n",
    "#print(data_dii['images'][0])\n",
    "\n",
    "count = 0\n",
    "for i, s in zip(data_dii_train['images'], data_sis_train['images']):\n",
    "    if i['album_id'] == '72157600654289032': # s['tags']:\n",
    "        count += 1\n",
    "        print('dii:', i['title'], \":\", i['text'], ':', i['tags'])\n",
    "        print('sis:', s['title'], \":\", s['text'], ':', s['tags'])\n",
    "\n",
    "print(count)"
   ]
  },
  {
   "cell_type": "code",
   "execution_count": null,
   "metadata": {},
   "outputs": [],
   "source": [
    "count = 0\n",
    "for i, s in zip(data_dii_val['images'], data_sis_val['images']):\n",
    "    if i != s:\n",
    "        count += 1\n",
    "        print('dii:', i['title'], \":\", i['text'], ':', i['tags'])\n",
    "        print('sis:', s['title'], \":\", s['text'], ':', s['tags'])"
   ]
  },
  {
   "cell_type": "code",
   "execution_count": null,
   "metadata": {},
   "outputs": [],
   "source": []
  },
  {
   "cell_type": "markdown",
   "metadata": {},
   "source": [
    "## GPT-2 Model"
   ]
  },
  {
   "cell_type": "code",
   "execution_count": 66,
   "metadata": {
    "scrolled": true
   },
   "outputs": [],
   "source": [
    "from transformers import pipeline, set_seed\n",
    "generator = pipeline('text-generation', model='gpt2')\n",
    "set_seed(42)\n",
    "#generator(\"Hello, I'm a language model,\", max_length=30, num_return_sequences=5)"
   ]
  },
  {
   "cell_type": "code",
   "execution_count": null,
   "metadata": {},
   "outputs": [],
   "source": [
    "dii: firecrackers and a chicken shaped firecracker sit on bricks .\n",
    "sis: we gathered up some fire works to set off at dark .\n",
    "dii: four meat patties sit on a grill and cook .\n",
    "sis: we grilled some burgers that were oddly shaped .\n",
    "dii: young woman standing near a shed while holding two pitch forks\n",
    "sis: our friends trickled in one by one !\n",
    "dii: a man grills food outside in front of his garage .\n",
    "sis: we got all the food on the grill to cook and ready to eat .\n",
    "dii: a view of the sunrise over a backdrop of mountains .\n",
    "sis: the sunset was amazing that night !\n",
    "dii: these fireworks are ready for someone to have lots of fun .\n",
    "sis: i took some pictures from my family 's bbq last weekend .\n",
    "dii: strangely shaped hamburgers are being cooked on a barbeque grill .\n",
    "sis: we made hamburgers into little star shapes .\n",
    "dii: one girl is holding two skewers with five hot dogs and one smile .\n",
    "sis: my wife is ready for the attack !\n",
    "dii: a man with a hat standing next to a grill cooking some food with a spatula in his hand .\n",
    "sis: my dad is trying to touch my food . do n't touch ! !\n",
    "dii: a shadowy figure of a person observing the sunset\n",
    "sis: the sunset afterwards was so beautiful .\n"
   ]
  },
  {
   "cell_type": "code",
   "execution_count": 67,
   "metadata": {},
   "outputs": [
    {
     "name": "stderr",
     "output_type": "stream",
     "text": [
      "Setting `pad_token_id` to `eos_token_id`:50256 for open-end generation.\n"
     ]
    },
    {
     "data": {
      "text/plain": [
       "[{'generated_text': 'firecrackers and a chicken shaped firecracker sit on bricks. four meat patties sit on a grill and cook. five pigs hang. the man stands at the table to grab the firecracker. the man takes a stick from one'}]"
      ]
     },
     "execution_count": 67,
     "metadata": {},
     "output_type": "execute_result"
    }
   ],
   "source": [
    "text = 'firecrackers and a chicken shaped firecracker sit on bricks. four meat patties sit on a grill and cook.'\n",
    "    \n",
    "generator(text, \n",
    "         max_length=50, num_return_sequences=1)"
   ]
  },
  {
   "cell_type": "code",
   "execution_count": null,
   "metadata": {},
   "outputs": [],
   "source": [
    "generator(\"a group of kids playing soccer on the field catching a catchers mitt in a field\", \n",
    "         max_length=50, num_return_sequences=2)"
   ]
  },
  {
   "cell_type": "code",
   "execution_count": null,
   "metadata": {},
   "outputs": [],
   "source": [
    "generator(\"a group of kids playing soccer on the field catching a catchers mitt in a field. a large metal stop lights stand displays a red sidewalk.\", \n",
    "         max_length=100, num_return_sequences=3)"
   ]
  },
  {
   "cell_type": "code",
   "execution_count": null,
   "metadata": {},
   "outputs": [],
   "source": [
    "generator(\"Group of kids. Man buying grocery.\", \n",
    "         max_length=100, num_return_sequences=2)"
   ]
  },
  {
   "cell_type": "code",
   "execution_count": null,
   "metadata": {},
   "outputs": [],
   "source": [
    "generator(\"A train carriage containing controlled nuclear materials was stolen in Cincinnati today. Its whereabouts are unknown.\",\n",
    "          max_length = 100, num_return_sequences = 3)"
   ]
  },
  {
   "cell_type": "code",
   "execution_count": null,
   "metadata": {},
   "outputs": [],
   "source": [
    "generator(\"girls playing soccer field pose in the grass playing on the field; ; a man standing next to pet station; a truck driving across an empty street\",\n",
    "          max_length = 100, num_return_sequences = 3)"
   ]
  },
  {
   "cell_type": "code",
   "execution_count": null,
   "metadata": {},
   "outputs": [],
   "source": [
    "generator(\"fragmented user experiences due to disconnected data\",\n",
    "          max_length = 100, num_return_sequences = 3)"
   ]
  },
  {
   "cell_type": "code",
   "execution_count": null,
   "metadata": {},
   "outputs": [],
   "source": [
    "conda env create --file environment.yml\n",
    "activate storytelling\n",
    "import generate"
   ]
  }
 ],
 "metadata": {
  "kernelspec": {
   "display_name": "Python 3",
   "language": "python",
   "name": "python3"
  },
  "language_info": {
   "codemirror_mode": {
    "name": "ipython",
    "version": 3
   },
   "file_extension": ".py",
   "mimetype": "text/x-python",
   "name": "python",
   "nbconvert_exporter": "python",
   "pygments_lexer": "ipython3",
   "version": "3.6.12"
  }
 },
 "nbformat": 4,
 "nbformat_minor": 4
}
