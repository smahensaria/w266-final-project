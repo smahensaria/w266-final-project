{
 "cells": [
  {
   "cell_type": "code",
   "execution_count": 219,
   "id": "a45c0a47",
   "metadata": {},
   "outputs": [],
   "source": [
    "import json\n",
    "import pandas as pd\n"
   ]
  },
  {
   "cell_type": "code",
   "execution_count": 220,
   "id": "d1148f82",
   "metadata": {},
   "outputs": [],
   "source": [
    "with open (\"train.story-in-sequence.json\") as f:\n",
    "    data = json.load(f)"
   ]
  },
  {
   "cell_type": "code",
   "execution_count": 221,
   "id": "85d2f1f0",
   "metadata": {},
   "outputs": [
    {
     "name": "stdout",
     "output_type": "stream",
     "text": [
      "Number of images: 167528\n"
     ]
    },
    {
     "data": {
      "text/plain": [
       "['2626977325', '2627795780', '2762593799', '2626979987', '2701863545']"
      ]
     },
     "execution_count": 221,
     "metadata": {},
     "output_type": "execute_result"
    }
   ],
   "source": [
    "# Build the image dictionary, which is querable by image id.\n",
    "\n",
    "image_by_id = {x[\"id\"]: x for x in data[\"images\"]}\n",
    "print(f\"Number of images: {len(image_by_id.keys())}\")\n",
    "list(image_by_id.keys())[:5]\n"
   ]
  },
  {
   "cell_type": "code",
   "execution_count": 222,
   "id": "7bdf5331",
   "metadata": {},
   "outputs": [
    {
     "name": "stdout",
     "output_type": "stream",
     "text": [
      "Number of stories: 40155\n"
     ]
    },
    {
     "data": {
      "text/plain": [
       "['0', '1', '10', '100', '1000']"
      ]
     },
     "execution_count": 222,
     "metadata": {},
     "output_type": "execute_result"
    }
   ],
   "source": [
    "# Builds the story dictionary, which is querable by story id.\n",
    "\n",
    "df = pd.DataFrame([d[0] for d in data[\"annotations\"]])\n",
    "stories = df.groupby([\"story_id\"])\n",
    "story_by_id = {k: stories.get_group(k).to_dict(orient='records') for k in stories.groups.keys()}\n",
    "print(f\"Number of stories: {len(story_by_id.keys())}\")\n",
    "list(story_by_id.keys())[:5]\n"
   ]
  },
  {
   "cell_type": "code",
   "execution_count": null,
   "id": "ca4ace9d",
   "metadata": {},
   "outputs": [],
   "source": []
  },
  {
   "cell_type": "code",
   "execution_count": null,
   "id": "0cc58356",
   "metadata": {},
   "outputs": [],
   "source": []
  }
 ],
 "metadata": {
  "kernelspec": {
   "display_name": "Python 3",
   "language": "python",
   "name": "python3"
  },
  "language_info": {
   "codemirror_mode": {
    "name": "ipython",
    "version": 3
   },
   "file_extension": ".py",
   "mimetype": "text/x-python",
   "name": "python",
   "nbconvert_exporter": "python",
   "pygments_lexer": "ipython3",
   "version": "3.8.8"
  }
 },
 "nbformat": 4,
 "nbformat_minor": 5
}
